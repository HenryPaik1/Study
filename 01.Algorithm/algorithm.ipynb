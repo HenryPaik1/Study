{
 "cells": [
  {
   "cell_type": "markdown",
   "metadata": {},
   "source": [
    "# Sorting\n",
    "### 1. Bubble: $O(n^2)$\n",
    "repeatedly swapping the adjacent elements if they are in wrong order\n",
    "### 2. Selection: $O(n^2)$\n",
    "find largest number and place it in the correct order\n",
    "### 3. Insertion: $O(n^2)$\n",
    "### 4. Shell: $O(n^2)$\n",
    "### 5. Merge: $O(n \\log n)$\n",
    "### 6. Quick: $O(n \\log n)$\n",
    "it is important to select proper pivot\n",
    "### 7. Counting: $O(n)$\n",
    "### 8. Radix: $O(n)$\n",
    "### 9. Bucket: $O(n)$"
   ]
  },
  {
   "cell_type": "markdown",
   "metadata": {},
   "source": [
    "---"
   ]
  },
  {
   "cell_type": "markdown",
   "metadata": {},
   "source": [
    "# Bubble"
   ]
  },
  {
   "cell_type": "code",
   "execution_count": 11,
   "metadata": {},
   "outputs": [],
   "source": [
    "def bubble(arr):\n",
    "    n = len(arr)\n",
    "    for i in range(n):\n",
    "        # (n-1)-(i): 뒤에서부터 i+1 번째 idx\n",
    "        # 0번째 -> 커서가 n-1까지 움직임\n",
    "        # 1번째 -> 커서가 n-1-1\n",
    "        for j in range(0, (n-1)-i):\n",
    "            print(j)\n",
    "            if arr[j] > arr[j+1]:\n",
    "                arr[j], arr[j+1] = arr[j+1], arr[j]"
   ]
  },
  {
   "cell_type": "code",
   "execution_count": null,
   "metadata": {},
   "outputs": [],
   "source": [
    "def bubble(arr):\n",
    "    n = len(arr)\n",
    "    for i in range(n):\n",
    "        for j in range(0, n-1-(i+1))"
   ]
  },
  {
   "cell_type": "code",
   "execution_count": 10,
   "metadata": {},
   "outputs": [
    {
     "name": "stdout",
     "output_type": "stream",
     "text": [
      "0\n",
      "1\n",
      "2\n",
      "3\n",
      "4\n",
      "5\n",
      "0\n",
      "1\n",
      "2\n",
      "3\n",
      "4\n",
      "0\n",
      "1\n",
      "2\n",
      "3\n",
      "0\n",
      "1\n",
      "2\n",
      "0\n",
      "1\n",
      "0\n"
     ]
    },
    {
     "data": {
      "text/plain": [
       "[11, 12, 22, 25, 34, 64, 90]"
      ]
     },
     "execution_count": 10,
     "metadata": {},
     "output_type": "execute_result"
    }
   ],
   "source": [
    "arr = [64, 34, 25, 12, 22, 11, 90]\n",
    "bubble(arr)\n",
    "arr"
   ]
  },
  {
   "cell_type": "code",
   "execution_count": null,
   "metadata": {},
   "outputs": [],
   "source": [
    "def bubble2(arr):\n",
    "    n = len(arr)\n",
    "    for i in range(n):\n",
    "        swapped = False\n",
    "        for j in range(0, n-1-i):\n",
    "            if arr[j] > arr[j+1]:\n",
    "                arr[j], arr[j+1] = arr[j+1], arr[j]\n",
    "                # 정렬 안된 부분이 있음\n",
    "                swapped = True            \n",
    "        if swapped == False:\n",
    "            break"
   ]
  },
  {
   "cell_type": "code",
   "execution_count": null,
   "metadata": {},
   "outputs": [],
   "source": [
    "def b(arr):\n",
    "    n = len(arr)\n",
    "    for i in range(n):\n",
    "        swapped = False\n",
    "        for j in range(0, n-1-i):\n",
    "            if arr[j] > arr[j+1]:\n",
    "                swapped = True\n",
    "                arr[j], arr[j+1] = arr[j+1], arr[j]\n",
    "        if swapped == False:\n",
    "            return\n",
    "                "
   ]
  },
  {
   "cell_type": "markdown",
   "metadata": {},
   "source": [
    "# Selection Sorting"
   ]
  },
  {
   "cell_type": "code",
   "execution_count": 7,
   "metadata": {},
   "outputs": [
    {
     "name": "stdout",
     "output_type": "stream",
     "text": [
      "[54, 26, 93, 17, 77, 31, 44, 55, 20]\n"
     ]
    }
   ],
   "source": [
    "def Selection(arr):\n",
    "    n = len(arr)\n",
    "    for i in range(n-1, 0, -1):\n",
    "        positionOfMax=0\n",
    "        for loc in range(1, i+1):\n",
    "            if arr[loc] > arr[positionOfMax]:\n",
    "                positionOfMax = loc\n",
    "        \n",
    "        arr[i], arr[loc] = arr[loc], arr[i]\n",
    "\n",
    "# test code\n",
    "arr = [54,26,93,17,77,31,44,55,20]\n",
    "Selection(arr)\n",
    "print(arr)\n",
    "            "
   ]
  },
  {
   "cell_type": "markdown",
   "metadata": {},
   "source": [
    "# Quick"
   ]
  },
  {
   "cell_type": "code",
   "execution_count": 14,
   "metadata": {
    "scrolled": true
   },
   "outputs": [
    {
     "name": "stdout",
     "output_type": "stream",
     "text": [
      "0 -1\n",
      "1 -1\n",
      "2 -1\n",
      "3 -1\n",
      "4 -1\n",
      "2 1\n",
      "3 1\n",
      "4 1\n",
      "3 2\n",
      "4 2\n",
      "4 3\n",
      "1\n",
      "5\n",
      "7\n",
      "8\n",
      "9\n",
      "10\n"
     ]
    }
   ],
   "source": [
    "# partition은 cur가 앞에서부터 high까지 순회하면서 \n",
    "def partition(arr, low, high):\n",
    "    i = low - 1\n",
    "    pivot = arr[high]\n",
    "    \n",
    "    for cur in range(low, high):\n",
    "        print(cur, i)\n",
    "        if arr[cur] <= pivot:\n",
    "            i += 1\n",
    "            arr[i], arr[cur] = arr[cur], arr[i]\n",
    "    \n",
    "    arr[i+1], arr[high] = arr[high], arr[i+1]\n",
    "    return i+1\n",
    "\n",
    "def QuickSort(arr, low, high):\n",
    "    if low < high:\n",
    "        pi = partition(arr, low, high)\n",
    "        # 절반 중 1\n",
    "        QuickSort(arr, low, pi-1)\n",
    "        # 절반 중 2\n",
    "        QuickSort(arr, pi+1, high)\n",
    "        \n",
    "# test code\n",
    "arr = [10, 7, 8, 9, 1, 5]\n",
    "n = len(arr)\n",
    "QuickSort(arr, 0, n-1)\n",
    "for i in range(n):\n",
    "    print(arr[i])"
   ]
  },
  {
   "cell_type": "markdown",
   "metadata": {},
   "source": [
    "# Quick2"
   ]
  },
  {
   "cell_type": "code",
   "execution_count": 1,
   "metadata": {},
   "outputs": [],
   "source": [
    "def partition(arr, start, end):\n",
    "    povot = arr[start]\n",
    "    i = start + 1\n",
    "    j = end -1\n",
    "    \n",
    "    while True:\n",
    "        # i: traverse from begin\n",
    "        # j: traverse from end\n",
    "        \n",
    "        # if arr[i](left side of pivot) smaller than pivot, then pass\n",
    "        while (i <= j and arr[i] <= pivot):\n",
    "            i += 1\n",
    "        # if arr[j](right side of pivot) larger than pivot, then pass\n",
    "        while (i <= j and arr[j] >= pivot):\n",
    "            j -= 1        \n",
    "        \n",
    "        if i <= j:\n",
    "            arr[i], arr[j] = arr[j], arr[i]\n",
    "            print(start)\n",
    "        # i, j가 엇갈리면 left side of pivot의 맨 오른쪽 값과 pivot(맨앞) 자리바꿈\n",
    "        else:\n",
    "            arr[start], arr[j] = arr[j], arr[start]\n",
    "            return j\n",
    "\n",
    "def quicksort(arr, start, end):\n",
    "    if end - start > 1:\n",
    "        # p: pivot location\n",
    "        p = partition(arr, start, end)\n",
    "        quicksort(arr, start=start, end=p)\n",
    "        quicksort(arr, start=p+1, end=end)"
   ]
  },
  {
   "cell_type": "markdown",
   "metadata": {},
   "source": [
    "# 계수정렬 Counting Sort\n",
    "- reference: https://www.geeksforgeeks.org/radix-sort/\n",
    "- count_arr: count how many each of 0,1,2,...,n is in arr\n",
    "- iter 0, 1, ..., n\n",
    "- fill ans with 0, 1, ..., n"
   ]
  },
  {
   "cell_type": "code",
   "execution_count": 28,
   "metadata": {},
   "outputs": [
    {
     "data": {
      "text/plain": [
       "[1, 1, 1, 2, 2, 3, 3, 4, 4, 5, 5]"
      ]
     },
     "execution_count": 28,
     "metadata": {},
     "output_type": "execute_result"
    }
   ],
   "source": [
    "# 핵심은 counting arr생성\n",
    "# 갯수만큼 itter\n",
    "def counting_sort(arr, max_val):\n",
    "    count_arr = [0 for _ in range(max_val)]\n",
    "    for num in arr:\n",
    "        count_arr[num] += 1\n",
    "    \n",
    "    i = 0\n",
    "    for num in range(max_val):\n",
    "        iter_n = count_arr[num]\n",
    "        for _ in range(iter_n):\n",
    "            arr[i] = num\n",
    "            i += 1\n",
    "    return arr\n",
    "\n",
    "# test code\n",
    "arr = [5,1,5,1,1,2,4,3,4,3,2]\n",
    "max_val = 6\n",
    "counting_sort(arr, max_val)"
   ]
  },
  {
   "cell_type": "markdown",
   "metadata": {},
   "source": [
    "# 기수정렬 Radix Sort"
   ]
  },
  {
   "cell_type": "markdown",
   "metadata": {},
   "source": [
    "## 핵심\n",
    "- `숫자 //` 원하는 `digit`(첫쨰 자리: 1, 둘째 자리: 10, ...) `% 10`\n",
    "- `// 10^(digit-1)`: 끝자리가 내가 원하는 digit의 숫자가 됨\n",
    "    - eg. 25948의 끝에서 셋째 자리 9를 끝자리로 만드려면, 25948 // 10^(3-1) = 259\n",
    "- `%10`: 마지막 끝자리만 남김"
   ]
  },
  {
   "cell_type": "code",
   "execution_count": 109,
   "metadata": {},
   "outputs": [
    {
     "data": {
      "text/plain": [
       "4"
      ]
     },
     "execution_count": 109,
     "metadata": {},
     "output_type": "execute_result"
    }
   ],
   "source": [
    "4378 // 10**(4-1) % 10"
   ]
  },
  {
   "cell_type": "code",
   "execution_count": 135,
   "metadata": {},
   "outputs": [
    {
     "name": "stdout",
     "output_type": "stream",
     "text": [
      "5145 1\n",
      "digit: 1.0\n",
      "[1, 1, 2, 2, 3, 6, 6, 6, 6, 6]\n",
      "[0, 1, 1, 2, 2, 3, 6, 6, 6, 6]\n",
      "[170, 802, 24, 5145, 3145, 2145]\n",
      "\n",
      "5145 10\n",
      "digit: 2.0\n",
      "[1, 1, 2, 2, 5, 5, 5, 6, 6, 6]\n",
      "[0, 1, 1, 2, 2, 5, 5, 5, 6, 6]\n",
      "[802, 24, 5145, 3145, 2145, 170]\n",
      "\n",
      "5145 100\n",
      "digit: 3.0\n",
      "[1, 5, 5, 5, 5, 5, 5, 5, 6, 6]\n",
      "[0, 1, 5, 5, 5, 5, 5, 5, 5, 6]\n",
      "[24, 5145, 3145, 2145, 170, 802]\n",
      "\n",
      "5145 1000\n",
      "digit: 4.0\n",
      "[3, 3, 4, 5, 5, 6, 6, 6, 6, 6]\n",
      "[0, 3, 3, 4, 5, 5, 6, 6, 6, 6]\n",
      "[24, 170, 802, 2145, 3145, 5145]\n",
      "\n"
     ]
    }
   ],
   "source": [
    "def SortingByDigit(arr, exp):\n",
    "    n = len(arr)\n",
    "    output = [0 for _ in range(n)]\n",
    "    count = [0 for _ in range(10)]\n",
    "\n",
    "    for num in arr:\n",
    "        last_digit = num // exp % 10\n",
    "        count[last_digit] += 1\n",
    "\n",
    "    i = 1\n",
    "    while i < max_:\n",
    "        count[i] += count[i-1]\n",
    "        i += 1\n",
    "    print('digit:', np.log10(exp)+1)\n",
    "    print(count)\n",
    "\n",
    "    # 왜 거꾸로 iter? 마지막 가장 큰 digit에 근거해 배열할 때 필요\n",
    "    i = n-1\n",
    "    while i >= 0: \n",
    "        last_digit = (arr[i] // exp) % 10\n",
    "        idx_by_cum = count[last_digit]\n",
    "        output[idx_by_cum - 1] = arr[i] \n",
    "        count[last_digit] -= 1\n",
    "        i -= 1\n",
    "    print(count)\n",
    "    # update arr\n",
    "    i = 0\n",
    "    for i in range(0,len(arr)): \n",
    "        arr[i] = output[i] \n",
    "#     arr = [i for i in output]\n",
    "    print(arr)\n",
    "    print()\n",
    "\n",
    "def radixSort(arr):\n",
    "    max_ = max(arr)\n",
    "    exp = 1\n",
    "    while (max_ // exp) > 0:\n",
    "        print(max_, exp)\n",
    "        SortingByDigit(arr, exp)\n",
    "        exp *= 10\n",
    "\n",
    "# test code\n",
    "arr = [170, 5145, 3145, 2145, 802, 24] \n",
    "radixSort(arr)"
   ]
  }
 ],
 "metadata": {
  "kernelspec": {
   "display_name": "Python 3",
   "language": "python",
   "name": "python3"
  },
  "language_info": {
   "codemirror_mode": {
    "name": "ipython",
    "version": 3
   },
   "file_extension": ".py",
   "mimetype": "text/x-python",
   "name": "python",
   "nbconvert_exporter": "python",
   "pygments_lexer": "ipython3",
   "version": "3.6.7"
  }
 },
 "nbformat": 4,
 "nbformat_minor": 2
}
