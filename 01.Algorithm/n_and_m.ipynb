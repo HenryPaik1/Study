{
 "cells": [
  {
   "cell_type": "markdown",
   "metadata": {},
   "source": [
    "# N과 M(1)\n",
    "- 예제: https://www.acmicpc.net/problem/15649\n",
    "- 1부터 N까지 자연수 중에서 중복없이 M개를 고른 수열을 모두 구하는 문제\n",
    "- 원리: 자리를 만들어 놓고 숫자 채우기\n",
    "~~~\n",
    "c: 사용여부\n",
    "a: 순열\n",
    "~~~"
   ]
  },
  {
   "cell_type": "markdown",
   "metadata": {},
   "source": [
    "내 풀이"
   ]
  },
  {
   "cell_type": "code",
   "execution_count": 65,
   "metadata": {},
   "outputs": [
    {
     "name": "stdout",
     "output_type": "stream",
     "text": [
      "1 2 3\n",
      "1 3 2\n",
      "2 1 3\n",
      "2 3 1\n",
      "3 1 2\n",
      "3 2 1\n"
     ]
    }
   ],
   "source": [
    "## array의 idx애 숫자를 채우는 함수\n",
    "# idx: array의 자릿수\n",
    "def sol(idx, n, m):\n",
    "    if idx == m:                            # idx는 idx번째 자리를 지칭\n",
    "        print(' '.join(map(str, array)))    # 마지막 자리까지 꽉 채워지면 print\n",
    "        return\n",
    "    for i in range(1, n+1):                 # i: 1,2.., n 선택할 수 있는 숫자들\n",
    "        if c[i]:\n",
    "            c[i] = False\n",
    "            array[idx] = i                  # 선택된 숫자를 array의 idx에 넣는다\n",
    "            sol(idx+1, n, m)                # 재귀: array에 넣는 작업\n",
    "            c[i] = True                     # print 완료되었으므로 사용가능\n",
    "        continue\n",
    "                \n",
    "\n",
    "n = 3; m = 3;\n",
    "array = [0] * m\n",
    "c = [True] * (n+1)\n",
    "idx = 0\n",
    "sol(idx, n, m)            "
   ]
  },
  {
   "cell_type": "code",
   "execution_count": 58,
   "metadata": {},
   "outputs": [
    {
     "name": "stdout",
     "output_type": "stream",
     "text": [
      "1 2 3\n",
      "1 3 2\n",
      "2 1 3\n",
      "2 3 1\n",
      "3 1 2\n",
      "3 2 1\n"
     ]
    }
   ],
   "source": [
    "# 원리\n",
    "n = [1, 2, 3]\n",
    "m = 3\n",
    "c = [True] * (m+1)\n",
    "for i in n:\n",
    "    c[i] = False\n",
    "    \n",
    "    for j in n:\n",
    "        if c[j]:\n",
    "            c[j] = False\n",
    "            \n",
    "            for k in n:\n",
    "                if c[k]:\n",
    "                    c[k] = False\n",
    "                    print(i, j, k)\n",
    "                    c[k] = True\n",
    "            c[j] = True\n",
    "    c[i] = True\n"
   ]
  },
  {
   "cell_type": "markdown",
   "metadata": {},
   "source": [
    "다른 사람 풀이"
   ]
  },
  {
   "cell_type": "code",
   "execution_count": 60,
   "metadata": {},
   "outputs": [
    {
     "name": "stdout",
     "output_type": "stream",
     "text": [
      "3 2\n",
      "1 2\n",
      "1 3\n",
      "2 1\n",
      "2 3\n",
      "3 1\n",
      "3 2\n"
     ]
    },
    {
     "data": {
      "text/plain": [
       "[None, None, None, None, None, None]"
      ]
     },
     "execution_count": 60,
     "metadata": {},
     "output_type": "execute_result"
    }
   ],
   "source": [
    "import itertools\n",
    "n,m = map(int,input().split())\n",
    "[print(' '.join(x))for x in list(itertools.permutations([str(i+1) for i in range(n)],m))]"
   ]
  },
  {
   "cell_type": "code",
   "execution_count": 56,
   "metadata": {
    "scrolled": true
   },
   "outputs": [
    {
     "data": {
      "text/plain": [
       "[(1, 2, 3), (1, 3, 2), (2, 1, 3), (2, 3, 1), (3, 1, 2), (3, 2, 1)]"
      ]
     },
     "execution_count": 56,
     "metadata": {},
     "output_type": "execute_result"
    }
   ],
   "source": [
    "import itertools\n",
    "list(itertools.permutations([1,2,3], 3))"
   ]
  },
  {
   "cell_type": "markdown",
   "metadata": {},
   "source": [
    "# N과 M(2)\n",
    "- 예제: https://www.acmicpc.net/problem/15650\n",
    "- 1 ~ n까지 m개 고르기\n",
    "- 오름차순만 반환 = 중복없음\n",
    "    - 풀이: 자리에 넣기\n",
    "    - 풀이2: 넣을지 말지 결정"
   ]
  },
  {
   "cell_type": "markdown",
   "metadata": {},
   "source": [
    "내 풀이"
   ]
  },
  {
   "cell_type": "code",
   "execution_count": 73,
   "metadata": {},
   "outputs": [
    {
     "name": "stdout",
     "output_type": "stream",
     "text": [
      "1 2 3 4\n"
     ]
    }
   ],
   "source": [
    "def sol(idx, n, m, s):\n",
    "    if idx == m:\n",
    "        print(' '.join(map(str, a)))\n",
    "        return\n",
    "    for i in range(s, n+1):\n",
    "        a[idx] = i\n",
    "        sol(idx+1, n, m, i+1)\n",
    "\n",
    "n = 4; m = 4; s = 1; idx = 0\n",
    "a = [0] * m\n",
    "sol(idx, n, m, s)"
   ]
  },
  {
   "cell_type": "markdown",
   "metadata": {},
   "source": [
    "내 풀이2"
   ]
  },
  {
   "cell_type": "code",
   "execution_count": 102,
   "metadata": {},
   "outputs": [
    {
     "name": "stdout",
     "output_type": "stream",
     "text": [
      "1 2 3\n",
      "1 2 4\n",
      "1 3 4\n",
      "2 3 4\n"
     ]
    }
   ],
   "source": [
    "def sol(selected, num):\n",
    "    if selected == m:\n",
    "        print(*a)\n",
    "        return\n",
    "    if num > n:\n",
    "        return\n",
    "    # num을 뽑는다\n",
    "    a[selected] = num\n",
    "    sol(selected+1, num+1)\n",
    "    # i를 안뽑는다\n",
    "    # a[selected] = 0 초기화해도 되고 덮어써도 되고, C는 초기화필요\n",
    "    sol(selected, num+1)\n",
    "\n",
    "n = 4;m = 3;\n",
    "num = 1; selected = 0;\n",
    "a = [0]*m\n",
    "sol(selected, num)"
   ]
  },
  {
   "cell_type": "markdown",
   "metadata": {},
   "source": [
    "다른 풀이"
   ]
  },
  {
   "cell_type": "code",
   "execution_count": 85,
   "metadata": {},
   "outputs": [
    {
     "data": {
      "text/plain": [
       "[(1, 2, 3), (1, 2, 4), (1, 3, 4), (2, 3, 4)]"
      ]
     },
     "execution_count": 85,
     "metadata": {},
     "output_type": "execute_result"
    }
   ],
   "source": [
    "import itertools\n",
    "list(itertools.combinations([1, 2, 3, 4], 3))"
   ]
  },
  {
   "cell_type": "code",
   "execution_count": 89,
   "metadata": {},
   "outputs": [
    {
     "name": "stdout",
     "output_type": "stream",
     "text": [
      "1 2 3\n",
      "1 2 4\n",
      "1 3 4\n",
      "2 3 4\n"
     ]
    }
   ],
   "source": [
    "from itertools import combinations as c\n",
    "n = 4; m = 3;\n",
    "for ls in c(list(range(1, n+1)), m):\n",
    "    print(*ls)\n",
    "#     print(' '.join(map(str, ls)))"
   ]
  },
  {
   "cell_type": "markdown",
   "metadata": {},
   "source": [
    "---\n",
    "# N과 M(3)\n",
    "- 예제: https://www.acmicpc.net/problem/15651\n",
    "- 중복 가능, 순열\n",
    "- point\n",
    "    - check array필요없음\n",
    "    - 들어갈 수 있는 수가 1부터 다시 생성"
   ]
  },
  {
   "cell_type": "code",
   "execution_count": 107,
   "metadata": {},
   "outputs": [
    {
     "name": "stdout",
     "output_type": "stream",
     "text": [
      "[1, 1]\n",
      "[1, 2]\n",
      "[1, 3]\n",
      "[1, 4]\n",
      "[2, 1]\n",
      "[2, 2]\n",
      "[2, 3]\n",
      "[2, 4]\n",
      "[3, 1]\n",
      "[3, 2]\n",
      "[3, 3]\n",
      "[3, 4]\n",
      "[4, 1]\n",
      "[4, 2]\n",
      "[4, 3]\n",
      "[4, 4]\n"
     ]
    }
   ],
   "source": [
    "def sol(idx, n, m):\n",
    "    if idx == m:\n",
    "        print(a)\n",
    "        return\n",
    "    for i in range(1, n+1):\n",
    "        a[idx] = i\n",
    "        sol(idx+1, n, m)\n",
    "\n",
    "n = 4; m = 2;\n",
    "a = [0] * m; idx = 0\n",
    "sol(idx, n, m)"
   ]
  },
  {
   "cell_type": "markdown",
   "metadata": {},
   "source": [
    "# N과 M(4)\n",
    "- 예제: https://www.acmicpc.net/problem/15652\n",
    "- 중복가능, 비내림차순\n",
    "- point\n",
    "    - 다음 자리에서는 n보다 큰 수만 들어갈 수 있음"
   ]
  },
  {
   "cell_type": "markdown",
   "metadata": {},
   "source": [
    "내 풀이"
   ]
  },
  {
   "cell_type": "code",
   "execution_count": 109,
   "metadata": {},
   "outputs": [
    {
     "name": "stdout",
     "output_type": "stream",
     "text": [
      "[1, 1]\n",
      "[1, 2]\n",
      "[1, 3]\n",
      "[1, 4]\n",
      "[2, 2]\n",
      "[2, 3]\n",
      "[2, 4]\n",
      "[3, 3]\n",
      "[3, 4]\n",
      "[4, 4]\n"
     ]
    }
   ],
   "source": [
    "# a\n",
    "def sol(s, idx, n, m):\n",
    "    if idx == m:\n",
    "        print(a)\n",
    "        return\n",
    "    for i in range(s, n+1):\n",
    "        a[idx] = i\n",
    "        sol(i, idx+1, n, m)\n",
    "\n",
    "n = 4; m = 2;\n",
    "a = [0] * m; idx = 0; s = 1\n",
    "sol(s, idx, n, m)"
   ]
  },
  {
   "cell_type": "markdown",
   "metadata": {},
   "source": [
    "내 풀이2"
   ]
  },
  {
   "cell_type": "code",
   "execution_count": 114,
   "metadata": {},
   "outputs": [
    {
     "name": "stdout",
     "output_type": "stream",
     "text": [
      "[1, 1]\n",
      "[1, 2]\n",
      "[1, 3]\n",
      "[1, 4]\n",
      "[2, 2]\n",
      "[2, 3]\n",
      "[2, 4]\n",
      "[3, 3]\n",
      "[3, 4]\n",
      "[4, 4]\n"
     ]
    }
   ],
   "source": [
    "def sol(sel, num, n, m):\n",
    "    if sel == m:\n",
    "        print(a)\n",
    "        return\n",
    "    if num > n:\n",
    "        return\n",
    "    # num 넣는 경우\n",
    "    a[sel] = num\n",
    "    sol(sel+1, num, n, m)\n",
    "    # num 넣지 않는 경우\n",
    "    sol(sel, num+1, n, m)\n",
    "\n",
    "n = 4; m = 2;\n",
    "a = [0] * m; sel = 0; num = 1\n",
    "sol(sel, num, n, m)"
   ]
  },
  {
   "cell_type": "markdown",
   "metadata": {},
   "source": [
    "# N과 M(5)\n",
    "- 예제: https://www.acmicpc.net/problem/15654\n",
    "- 중복불가\n",
    "- 오름차순"
   ]
  },
  {
   "cell_type": "markdown",
   "metadata": {},
   "source": [
    "내 풀이"
   ]
  },
  {
   "cell_type": "code",
   "execution_count": 126,
   "metadata": {
    "scrolled": true
   },
   "outputs": [
    {
     "name": "stdout",
     "output_type": "stream",
     "text": [
      "[1, 7]\n",
      "[1, 8]\n",
      "[1, 9]\n",
      "[7, 1]\n",
      "[7, 8]\n",
      "[7, 9]\n",
      "[8, 1]\n",
      "[8, 7]\n",
      "[8, 9]\n",
      "[9, 1]\n",
      "[9, 7]\n",
      "[9, 8]\n"
     ]
    }
   ],
   "source": [
    "# cur -> check cursor & array cursor\n",
    "def sol(m, n, selected):\n",
    "    if selected == m:\n",
    "        print(*result)\n",
    "        return\n",
    "    for i in range(n):\n",
    "        if c[i]:\n",
    "            c[i] = False\n",
    "            result[selected] = array[i]\n",
    "            sol(m, n, selected+1)\n",
    "            c[i] = True\n",
    "\n",
    "n,m = map(int,input().split())\n",
    "array = list(map(int,input().split()))\n",
    "selected = 0\n",
    "\n",
    "c = [True] * n\n",
    "result = [0] * m\n",
    "\n",
    "array.sort()\n",
    "sol(m, selected)"
   ]
  },
  {
   "cell_type": "code",
   "execution_count": null,
   "metadata": {},
   "outputs": [],
   "source": []
  },
  {
   "cell_type": "code",
   "execution_count": null,
   "metadata": {},
   "outputs": [],
   "source": []
  },
  {
   "cell_type": "markdown",
   "metadata": {},
   "source": [
    "# N과 M(9)\n",
    "- 중복제거가 관건\n",
    "- 또는 그냥 한방에(재귀)"
   ]
  }
 ],
 "metadata": {
  "kernelspec": {
   "display_name": "Python 3",
   "language": "python",
   "name": "python3"
  },
  "language_info": {
   "codemirror_mode": {
    "name": "ipython",
    "version": 3
   },
   "file_extension": ".py",
   "mimetype": "text/x-python",
   "name": "python",
   "nbconvert_exporter": "python",
   "pygments_lexer": "ipython3",
   "version": "3.6.7"
  }
 },
 "nbformat": 4,
 "nbformat_minor": 2
}
