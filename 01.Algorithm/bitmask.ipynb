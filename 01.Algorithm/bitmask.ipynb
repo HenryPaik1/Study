{
 "cells": [
  {
   "cell_type": "markdown",
   "metadata": {},
   "source": [
    "# 비트마스크\n",
    "- 비트연산으로 모든 부분집합 표현\n",
    "- not 연산: 자료형에 따라 결과 다름\n",
    "    - A = 1010011\n",
    "    - ~A = 10101100 (01010011의 반대)\n",
    "- shift left(<<) & shift right(>>)\n",
    "    - A<<B (A를 왼쪽으로 B만큼 밀다)\n",
    "    - 1 << 0 = 1\n",
    "    - 1 << 1 = 2 (10_2)\n",
    "    - 즉, A << B = A x 2^B\n",
    "    - 반대로, A >> B = (A+B)/2 >> 1\n",
    "- 활용: i를 추가/검사/제거/토글\n",
    "    - 정수로 집합을 나타낼 수 있음\n",
    "    - 정수 하나 vs 정수 열 개\n",
    "    - 배열 vs 정수\n",
    "~~~\n",
    "int([10])\n",
    "~~~\n",
    "    - 0 ~ (N-1)까지 정수로 이루어진 집합 나타낼 때 사용\n",
    "    - 1 ~ N 까지 정수는 공간이 2배 더 필요 -> 위와 같이 변환 필요\n",
    "---\n",
    "- 예제1\n",
    "~~~\n",
    "[1, 3, 4, 5, 9] = 570\n",
    "# and 연산: 포함여부\n",
    "0이 포함되어 있는지 검사\n",
    "    570 & 2^0 = 570 & (1<<0) = 0\n",
    "1이 포함되어 있는지 검사\n",
    "    570 & 2^1 = 570 & (1<<1) = 2\n",
    "~~~\n",
    "\n",
    "- 예제2\n",
    "~~~\n",
    "# or 연산: 추가 (0을 1로 만든다) \n",
    "2 추가(집합에 없는 수)\n",
    "    570 | 1*2^2 (1<<2) \n",
    "    -> 1000111010 | 0000001000 = 1000111010 = 574\n",
    "~~~\n",
    "\n",
    "- 예제 3\n",
    "~~~\n",
    "# ~& 1<<i(1을 0으로 만든다)\n",
    "~~~\n",
    "\n",
    "- 예제 4\n",
    "~~~\n",
    "# 토글하기(1과 0 switch)\n",
    "~~~\n",
    "---"
   ]
  },
  {
   "cell_type": "code",
   "execution_count": 2,
   "metadata": {},
   "outputs": [
    {
     "data": {
      "text/plain": [
       "170"
      ]
     },
     "execution_count": 2,
     "metadata": {},
     "output_type": "execute_result"
    }
   ],
   "source": [
    "a = 0b10101010\n",
    "a"
   ]
  }
 ],
 "metadata": {
  "kernelspec": {
   "display_name": "Python 3",
   "language": "python",
   "name": "python3"
  },
  "language_info": {
   "codemirror_mode": {
    "name": "ipython",
    "version": 3
   },
   "file_extension": ".py",
   "mimetype": "text/x-python",
   "name": "python",
   "nbconvert_exporter": "python",
   "pygments_lexer": "ipython3",
   "version": "3.6.7"
  }
 },
 "nbformat": 4,
 "nbformat_minor": 2
}
