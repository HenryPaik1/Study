{
 "cells": [
  {
   "cell_type": "markdown",
   "metadata": {},
   "source": [
    "# preorder traverse\n",
    "- 부모 - 좌 - 우"
   ]
  },
  {
   "cell_type": "code",
   "execution_count": null,
   "metadata": {},
   "outputs": [],
   "source": [
    "def preorder(cur):\n",
    "    if not cur:\n",
    "        return\n",
    "    print(cur.data, end=\" \")\n",
    "    preorder(cur.left)\n",
    "    preorder(cur.right)"
   ]
  },
  {
   "cell_type": "code",
   "execution_count": null,
   "metadata": {},
   "outputs": [],
   "source": [
    "def iter_preorder(cur):\n",
    "    s = Stack()\n",
    "    while True:\n",
    "        # 부모 방문\n",
    "        while cur:\n",
    "            print(cur.data)\n",
    "            s.push(cur)\n",
    "            cur = cur.left\n",
    "        # 좌 \n",
    "        cur = s.pop()\n",
    "        if not cur:\n",
    "            break\n",
    "        # 우로 이동\n",
    "        cur = cur.right"
   ]
  },
  {
   "cell_type": "markdown",
   "metadata": {},
   "source": [
    "# inorder traverse\n",
    "- 좌 - 부모 - 우"
   ]
  },
  {
   "cell_type": "code",
   "execution_count": null,
   "metadata": {},
   "outputs": [],
   "source": [
    "# 좌 우 확인, 그리고 부모로 점핑\n",
    "def inorder(cur):\n",
    "    if not cur:\n",
    "        return\n",
    "    \n",
    "    # 왼쪽 자식으로 쭉 내려감\n",
    "    inorder(cur.left)\n",
    "    \n",
    "    # 더이상 left 자식없으면(None)\n",
    "    # -> cur.data 자신 값 print\n",
    "    # -> cur.right 없으면 stack 없어지면서 퀀텀점프로 부모등판\n",
    "    print(cur.data, end=\" \")\n",
    "    \n",
    "    # cur.right 방향으로 순회\n",
    "    inorder(cur.right)\n",
    "    "
   ]
  },
  {
   "cell_type": "code",
   "execution_count": null,
   "metadata": {},
   "outputs": [],
   "source": [
    "def iter_inorder(cur):\n",
    "    s=Stack()\n",
    "    while True:\n",
    "        while cur:\n",
    "            s.push(cur)\n",
    "            cur = cur.left\n",
    "        # 맨 밑 left -> 부모\n",
    "        cur = s.pop()\n",
    "        if not cur:\n",
    "            break\n",
    "        print(cur.data)\n",
    "        # 우 자식 이동\n",
    "        cur = cur.right"
   ]
  },
  {
   "cell_type": "markdown",
   "metadata": {},
   "source": [
    "# postorder traverse\n",
    "- 좌 - 우 - 부모"
   ]
  },
  {
   "cell_type": "code",
   "execution_count": null,
   "metadata": {},
   "outputs": [],
   "source": [
    "def postorder(cur):\n",
    "    if not cur:\n",
    "        return\n",
    "    postorder(cur.left)\n",
    "    postorder(cur.right)\n",
    "    print(cur.data)"
   ]
  },
  {
   "cell_type": "code",
   "execution_count": null,
   "metadata": {},
   "outputs": [],
   "source": [
    "# s2에 부모-우-좌로 쌓는 게 핵심\n",
    "def iter_postorder(cur):\n",
    "    s1 = Stack()\n",
    "    s2 = Stack()\n",
    "    \n",
    "    s1.push(cur)\n",
    "    while not s1.empty():\n",
    "        cur = s1.pop()\n",
    "        s2.push(cur)\n",
    "        \n",
    "        if cur.left:\n",
    "            s1.push(cur.left)\n",
    "        \n",
    "        if cur.right:\n",
    "            s1.push(cur.right)\n",
    "        \n",
    "    while not s2.empty():\n",
    "        cur = s2.pop()\n",
    "        print(cur.data)"
   ]
  }
 ],
 "metadata": {
  "kernelspec": {
   "display_name": "Python 3",
   "language": "python",
   "name": "python3"
  },
  "language_info": {
   "codemirror_mode": {
    "name": "ipython",
    "version": 3
   },
   "file_extension": ".py",
   "mimetype": "text/x-python",
   "name": "python",
   "nbconvert_exporter": "python",
   "pygments_lexer": "ipython3",
   "version": "3.6.7"
  }
 },
 "nbformat": 4,
 "nbformat_minor": 2
}
