{
 "cells": [
  {
   "cell_type": "markdown",
   "metadata": {},
   "source": [
    "# 브루트 포스\n",
    "가능한 모든 경우 시행\n",
    "- 순서\n",
    "    - 가능한 모든 경우의 수 계산\n",
    "    - 모든 방법 다 만들어보고(경우의 수가 아니라) <- 코딩 필요\n",
    "        - 모든 경우 빠짐없이\n",
    "        - for/순열/재귀호출/비트마스크\n",
    "    - 각 방법 모두 사용해보자"
   ]
  },
  {
   "cell_type": "markdown",
   "metadata": {},
   "source": [
    "### 예제: 일곱난쟁이\n",
    "- https://www.acmicpc.net/problem/2309\n",
    "- 난쟁이 N -> 2명고르면 O(N^2) -> 나머지 합 O(N) -> 전체 복잡도: O(N^3)\n",
    "- 아래 실제는 O(N^2): 마지막 print 구문은 +N"
   ]
  },
  {
   "cell_type": "code",
   "execution_count": 42,
   "metadata": {},
   "outputs": [
    {
     "name": "stdout",
     "output_type": "stream",
     "text": [
      "100\n",
      "0\n",
      "0\n",
      "0\n",
      "0\n",
      "0\n",
      "0\n",
      "0\n",
      "0\n",
      "0\n",
      "0\n",
      "0\n",
      "0\n",
      "0\n",
      "0\n",
      "100\n"
     ]
    },
    {
     "ename": "SystemExit",
     "evalue": "0",
     "output_type": "error",
     "traceback": [
      "An exception has occurred, use %tb to see the full traceback.\n",
      "\u001b[0;31mSystemExit\u001b[0m\u001b[0;31m:\u001b[0m 0\n"
     ]
    },
    {
     "name": "stderr",
     "output_type": "stream",
     "text": [
      "/home/henry/.local/lib/python3.6/site-packages/IPython/core/interactiveshell.py:3275: UserWarning: To exit: use 'exit', 'quit', or Ctrl-D.\n",
      "  warn(\"To exit: use 'exit', 'quit', or Ctrl-D.\", stacklevel=1)\n"
     ]
    }
   ],
   "source": [
    "# 답\n",
    "import sys\n",
    "n = 9\n",
    "a = [int(input()) for _ in range(n)]\n",
    "a.sort()\n",
    "total = sum(a)\n",
    "for i in range(0, n):\n",
    "    for j in range(i+1, n):\n",
    "        if total - a[i] - a[j] == 100:\n",
    "            for k in range(0, n):\n",
    "                if i == k or j == k:\n",
    "                    continue\n",
    "                print(a[k])\n",
    "            sys.exit(0)"
   ]
  },
  {
   "cell_type": "code",
   "execution_count": 48,
   "metadata": {},
   "outputs": [
    {
     "data": {
      "text/plain": [
       "[1, 2, 2, 3, 6, 7, 8]"
      ]
     },
     "execution_count": 48,
     "metadata": {},
     "output_type": "execute_result"
    }
   ],
   "source": [
    "a = [1,2,3,6,7,8,2]\n",
    "sorted(a)\n",
    "a.sort()\n",
    "a"
   ]
  },
  {
   "cell_type": "code",
   "execution_count": 45,
   "metadata": {},
   "outputs": [
    {
     "name": "stdout",
     "output_type": "stream",
     "text": [
      "100\n",
      "1\n",
      "0\n",
      "0\n",
      "0\n",
      "0\n",
      "0\n",
      "0\n",
      "0\n",
      "100\n",
      "0\n",
      "0\n",
      "0\n",
      "0\n",
      "0\n",
      "0\n"
     ]
    }
   ],
   "source": [
    "## 답\n",
    "\n",
    "def sol():\n",
    "    n = 9; a = [int(input()) for _ in range(n)]\n",
    "    total = sum(a)\n",
    "    a.sort()\n",
    "    for i in range(n):\n",
    "        for j in range(i+1, n):\n",
    "            if total - a[i] - a[j] == 100:\n",
    "                # 아래는 한번만 반복됨\n",
    "                for k in range(n):\n",
    "                    if k != i and k != j:\n",
    "                        print(a[k])\n",
    "                return\n",
    "sol()"
   ]
  },
  {
   "cell_type": "markdown",
   "metadata": {},
   "source": [
    "### 예제: 날짜 계산(3가지 방식)\n",
    "- https://www.acmicpc.net/problem/1476\n",
    "- 총 경우의 수: 15 * 28 * 19\n",
    "- year mod (15, 28, 19) 검산\n",
    "- 중국인의 나머지 정리"
   ]
  },
  {
   "cell_type": "code",
   "execution_count": 21,
   "metadata": {},
   "outputs": [
    {
     "name": "stdout",
     "output_type": "stream",
     "text": [
      "1 16 16\n",
      "16\n"
     ]
    }
   ],
   "source": [
    "# 예시답안\n",
    "def sol():\n",
    "    E, S, M = map(int, input().split())\n",
    "    e, s, m = 1, 1, 1\n",
    "    year = 1\n",
    "    while True:\n",
    "        if e == E and s == S and m == M:\n",
    "            print(year)\n",
    "            return\n",
    "        \n",
    "        e += 1\n",
    "        s += 1\n",
    "        m += 1\n",
    "        if e == 16:\n",
    "            e = 1\n",
    "        if s == 29:\n",
    "            s = 1\n",
    "        if m == 20:\n",
    "            m = 1\n",
    "        year += 1\n",
    "sol()"
   ]
  },
  {
   "cell_type": "code",
   "execution_count": 87,
   "metadata": {},
   "outputs": [
    {
     "name": "stdout",
     "output_type": "stream",
     "text": [
      "1 16 16\n",
      "ans: 0\n",
      "ans: 15\n"
     ]
    },
    {
     "data": {
      "text/plain": [
       "16"
      ]
     },
     "execution_count": 87,
     "metadata": {},
     "output_type": "execute_result"
    }
   ],
   "source": [
    "# 내 풀이\n",
    "# 나머지 범위가 0 ~ 14 vs 1 ~ 15 이기 때문에 우선 (실제수-1)을 나누고, 그 나머지에 다시 +1\n",
    "## 원래 1, 2, 3, ..., 15 -> 0, 1, 2, ..., 14 -> +1 복원가능\n",
    "def sol():\n",
    "    e, s, m = list(map(int, input().split()))\n",
    "    ans = e - 1\n",
    "    \n",
    "    while True:\n",
    "        if ans % 28 + 1 == s and ans % 19 + 1 == m:\n",
    "            return ans + 1\n",
    "        ans += 15\n",
    "sol()\n"
   ]
  },
  {
   "cell_type": "markdown",
   "metadata": {},
   "source": [
    "### 예제: 테트로미노(pass)\n",
    "- (N * M)"
   ]
  },
  {
   "cell_type": "code",
   "execution_count": null,
   "metadata": {},
   "outputs": [],
   "source": [
    "[list(map(int. ))]"
   ]
  },
  {
   "cell_type": "code",
   "execution_count": 18,
   "metadata": {
    "scrolled": false
   },
   "outputs": [
    {
     "data": {
      "text/plain": [
       "3"
      ]
     },
     "execution_count": 18,
     "metadata": {},
     "output_type": "execute_result"
    }
   ],
   "source": [
    "a = [[1, 2],\n",
    "[2, 3],\n",
    "[4, 5]]\n",
    "a[1][1]"
   ]
  },
  {
   "cell_type": "code",
   "execution_count": null,
   "metadata": {},
   "outputs": [],
   "source": [
    "#일자\n",
    "def sol1(n, m):\n",
    "    MAX = 0\n",
    "    # case1: i start point\n",
    "    for i in range(0, n-4+1):\n",
    "        for j in range(0, m):\n",
    "            if sum(array[j, i:i+3]) > MAX:\n",
    "                MAX = sum(array[j, i:i+3])\n",
    "    \n",
    "    for i in range(0, n):\n",
    "        for j in range(0, m-4+1):\n",
    "            if sum(array[])\n",
    "    return Max"
   ]
  },
  {
   "cell_type": "code",
   "execution_count": null,
   "metadata": {},
   "outputs": [],
   "source": [
    "for i in range(n):\n",
    "    for j in range(m):\n",
    "        for block in blocks:\n",
    "            ok = True\n",
    "            s = a[i][j]\n",
    "            for dx, dy in block"
   ]
  }
 ],
 "metadata": {
  "kernelspec": {
   "display_name": "Python 3",
   "language": "python",
   "name": "python3"
  },
  "language_info": {
   "codemirror_mode": {
    "name": "ipython",
    "version": 3
   },
   "file_extension": ".py",
   "mimetype": "text/x-python",
   "name": "python",
   "nbconvert_exporter": "python",
   "pygments_lexer": "ipython3",
   "version": "3.6.7"
  }
 },
 "nbformat": 4,
 "nbformat_minor": 2
}
