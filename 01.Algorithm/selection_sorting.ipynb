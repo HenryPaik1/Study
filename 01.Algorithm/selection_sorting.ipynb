{
 "cells": [
  {
   "cell_type": "markdown",
   "metadata": {},
   "source": [
    "# selection sorting"
   ]
  },
  {
   "cell_type": "markdown",
   "metadata": {},
   "source": [
    "# 1. 제일 작은 것 앞으로 보내기"
   ]
  },
  {
   "cell_type": "code",
   "execution_count": 74,
   "metadata": {},
   "outputs": [
    {
     "data": {
      "text/plain": [
       "array([ 1,  2,  3,  4,  5,  6,  7,  8,  9, 10])"
      ]
     },
     "execution_count": 74,
     "metadata": {},
     "output_type": "execute_result"
    }
   ],
   "source": [
    "# 1~10 섞기\n",
    "arr = np.arange(1, 10+1)\n",
    "np.random.shuffle(arr)\n",
    "list(arr)\n",
    "\n",
    "# idx만 바꾸고, 값은 최종 갱신\n",
    "def selection_sort1(arr):\n",
    "    for idx1 in range(len(arr)):\n",
    "        min_idx = len(arr)-1\n",
    "        for idx2 in range(idx1, len(arr)):\n",
    "            if arr[min_idx] > arr[idx2]:\n",
    "                min_idx = idx2\n",
    "        arr[idx1], arr[min_idx] = arr[min_idx], arr[idx1]\n",
    "    return arr\n",
    "\n",
    "selection_sort(arr)"
   ]
  },
  {
   "cell_type": "markdown",
   "metadata": {},
   "source": [
    "# 2. 제일 큰 것 뒤로 보내기"
   ]
  },
  {
   "cell_type": "code",
   "execution_count": 76,
   "metadata": {},
   "outputs": [
    {
     "data": {
      "text/plain": [
       "array([ 1,  2,  3,  4,  5,  6,  7,  8,  9, 10])"
      ]
     },
     "execution_count": 76,
     "metadata": {},
     "output_type": "execute_result"
    }
   ],
   "source": [
    "def selection_sort2(arr):\n",
    "    for idx1 in range(len(arr)-1,0,-1):\n",
    "        max_idx = 0\n",
    "        for idx2 in range(0, idx1):\n",
    "            if arr[idx2] > arr[max_idx]:\n",
    "                max_idx = idx2\n",
    "        \n",
    "        arr[idx1], arr[max_idx] = arr[max_idx], arr[idx1]\n",
    "    \n",
    "    return arr  \n",
    "\n",
    "selection_sort2(arr)"
   ]
  }
 ],
 "metadata": {
  "kernelspec": {
   "display_name": "Python 3",
   "language": "python",
   "name": "python3"
  },
  "language_info": {
   "codemirror_mode": {
    "name": "ipython",
    "version": 3
   },
   "file_extension": ".py",
   "mimetype": "text/x-python",
   "name": "python",
   "nbconvert_exporter": "python",
   "pygments_lexer": "ipython3",
   "version": "3.6.7"
  }
 },
 "nbformat": 4,
 "nbformat_minor": 2
}
