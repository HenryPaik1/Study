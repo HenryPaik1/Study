{
 "cells": [
  {
   "cell_type": "markdown",
   "metadata": {},
   "source": [
    "# search"
   ]
  },
  {
   "cell_type": "code",
   "execution_count": null,
   "metadata": {},
   "outputs": [],
   "source": [
    "def search(self, target):\n",
    "    cur = self.root\n",
    "    while cur:\n",
    "        if cur.data == target:\n",
    "            return cur\n",
    "        elif cur.data > target:\n",
    "            cur = cur.left\n",
    "        elif cur.data < target:\n",
    "            cur = cur.right\n",
    "    \n",
    "    # target이 트리 내에 없을 때\n",
    "    return cur    \n",
    "    "
   ]
  },
  {
   "cell_type": "markdown",
   "metadata": {},
   "source": [
    "# insert"
   ]
  },
  {
   "cell_type": "code",
   "execution_count": null,
   "metadata": {},
   "outputs": [],
   "source": [
    "def insert(self, data):\n",
    "    new_node = TreeNode()\n",
    "    new_node.data = data\n",
    "    \n",
    "    cur = self.root\n",
    "    \n",
    "    # 시작점이 없을 때\n",
    "    if not cur:\n",
    "        self.root = new_node\n",
    "        return\n",
    "    \n",
    "    # insert시 parent사용\n",
    "    while True:\n",
    "        parent = cur\n",
    "        # 좌\n",
    "        if data < cur.data:\n",
    "            cur = cur.left\n",
    "            if not cur:\n",
    "                parent.left = new_node\n",
    "                return\n",
    "        # 우\n",
    "        else:\n",
    "            cur = cur.right\n",
    "            if not cur:\n",
    "                parent.right = new_node\n",
    "                return\n",
    "                "
   ]
  },
  {
   "cell_type": "markdown",
   "metadata": {},
   "source": [
    "# remove"
   ]
  },
  {
   "cell_type": "code",
   "execution_count": null,
   "metadata": {},
   "outputs": [],
   "source": [
    "# case 1: node to be del is leaf node\n",
    "# case 2: node to be del has one child\n",
    "# case 3: node to be del has two children\n",
    "\n",
    "def __remove_recursion(self, cur, target):\n",
    "    # 기저조건\n",
    "    if not cur:\n",
    "        return None, None\n",
    "    \n",
    "    # taret까지 내려감\n",
    "    # blacking 풀리면서 assingn되는 것은, cur과 cur.left, ritght 노드 연결\n",
    "    elif target < cur.data:\n",
    "        cur.left, rem_node = self.__remove_recursion(cur.left, target)\n",
    "    elif target > cur.data:\n",
    "        cur.right, rem_node = self.__remove_recursion(cur.right, target)\n",
    "    \n",
    "    # target 찾음\n",
    "    else:\n",
    "        # target자식 없음(case1)\n",
    "        if not cur.left and not cur.right:\n",
    "            rem_node = cur\n",
    "            cur = None\n",
    "            \n",
    "        # target 자식 하나 있음: tagert 자식과 node 연결\n",
    "        elif not cur.right:\n",
    "            rem_mode = cur\n",
    "            cur = cur.left\n",
    "        elif not cur.left:\n",
    "            rem_mode = cur\n",
    "            cur = cur.right\n",
    "        \n",
    "        # target 자식 둘\n",
    "        else:\n",
    "            # 좌측 가장 큰 값: 좌 -> 계속 우\n",
    "            replace = cur.left\n",
    "            while replace.right:\n",
    "                replace = replace.right\n",
    "            # 키 값 교환\n",
    "            cur.data, replace.data = replace.data, cur.data\n",
    "            # cur: root, replace.data: target\n",
    "            cur.left, rem_node = self.__remove_recursion(cur.left, replace.data)\n",
    "    \n",
    "    return cur, rem_node\n",
    "\n",
    "def remove(self, target):\n",
    "    # root를 remove하는 경우를 대비?\n",
    "    self.root, removed_node = self.__remove_recursion(self.root, target)\n",
    "    # 의미 잘 모르겠음\n",
    "    if removed_node:\n",
    "        removed_node.left = removed_node.right = None\n",
    "    return removed_node\n",
    "    "
   ]
  },
  {
   "cell_type": "code",
   "execution_count": null,
   "metadata": {},
   "outputs": [],
   "source": []
  }
 ],
 "metadata": {
  "kernelspec": {
   "display_name": "Python 3",
   "language": "python",
   "name": "python3"
  },
  "language_info": {
   "codemirror_mode": {
    "name": "ipython",
    "version": 3
   },
   "file_extension": ".py",
   "mimetype": "text/x-python",
   "name": "python",
   "nbconvert_exporter": "python",
   "pygments_lexer": "ipython3",
   "version": "3.6.7"
  }
 },
 "nbformat": 4,
 "nbformat_minor": 2
}
