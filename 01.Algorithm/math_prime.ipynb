{
 "cells": [
  {
   "cell_type": "markdown",
   "metadata": {},
   "source": [
    "# 수학\n",
    "## 1) 나머지 연산\n",
    "C++\n",
    "- int: 2^31-1\n",
    "- long long: 2^63-1\n",
    "- 10^18 정도, 따라서 정답을 나눈 값을 return하도록 함\n",
    "- **답을 M으로 나눈 나머지 출력**\n",
    "\n",
    "1) 덧셈 곱셈(https://www.acmicpc.net/problem/10430)\n",
    "~~~\n",
    "# mod = %\n",
    "(A + B) % M = {(A % C) + (B % C)} % C\n",
    "(A X B) % M = {(A % C) X (B % C)} % C\n",
    "~~~\n",
    "\n",
    "2) 뺄셈: 더해주고 나눔\n",
    "~~~\n",
    "0 <= A % C <= C \n",
    "0 <= B % C <= C\n",
    "-C < A % C - B % C < 2C\n",
    "\n",
    "0 < A % C - B % C + C < 3C\n",
    "~~~\n",
    "\n",
    "3) 나눗셈: 페르마의 소정리\n",
    "- A, B 서로소\n",
    "- C: 소수\n",
    "~~~\n",
    "(A / B) % C = {A X B^(C-2)} % C\n",
    "~~~"
   ]
  },
  {
   "cell_type": "code",
   "execution_count": 17,
   "metadata": {},
   "outputs": [
    {
     "name": "stdout",
     "output_type": "stream",
     "text": [
      "10 15 5\n",
      "0\n",
      "0\n",
      "0\n",
      "0\n"
     ]
    }
   ],
   "source": [
    "# 내풀이\n",
    "a = input()\n",
    "a = [int(x) for x in a.split()]\n",
    "A = a[0]; B = a[1]; C = a[2]\n",
    "print((A+B)%C)\n",
    "print((A%C + B%C)%C)\n",
    "print((A*B)%C)\n",
    "print((A%C * B%C)%C)"
   ]
  },
  {
   "cell_type": "code",
   "execution_count": 20,
   "metadata": {},
   "outputs": [
    {
     "name": "stdout",
     "output_type": "stream",
     "text": [
      "10 15 5\n",
      "0\n",
      "0\n",
      "0\n",
      "0\n"
     ]
    }
   ],
   "source": [
    "# 답\n",
    "A,B,C = map(int, input().split())\n",
    "print((A+B)%C)\n",
    "print((A%C + B%C)%C)\n",
    "print((A*B)%C)\n",
    "print((A%C * B%C)%C)"
   ]
  },
  {
   "cell_type": "markdown",
   "metadata": {},
   "source": [
    "---\n",
    "## 2) 최대공약수/공배수\n",
    "- 정답이 분수일 때, 기약분수로 만들 때 사용\n",
    "\n",
    "1) 최대공약수GCD: 유클리스 호제법사용\n",
    "- 재귀: log_n\n",
    "- 반복: log_n\n",
    "- 3개 수: gcd(gcd(a, b), c)"
   ]
  },
  {
   "cell_type": "code",
   "execution_count": 24,
   "metadata": {},
   "outputs": [
    {
     "data": {
      "text/plain": [
       "1"
      ]
     },
     "execution_count": 24,
     "metadata": {},
     "output_type": "execute_result"
    }
   ],
   "source": [
    "# 2.1 최대공약수\n",
    "def gcd(a, b):\n",
    "    if b == 0:\n",
    "        return a\n",
    "    else:\n",
    "        return gcd(b, a%b)\n",
    "gcd(9, 25)"
   ]
  },
  {
   "cell_type": "code",
   "execution_count": 29,
   "metadata": {},
   "outputs": [
    {
     "data": {
      "text/plain": [
       "1"
      ]
     },
     "execution_count": 29,
     "metadata": {},
     "output_type": "execute_result"
    }
   ],
   "source": [
    "def gcd(a, b):\n",
    "    while b != 0:\n",
    "        a, b = b, a % b\n",
    "    return a\n",
    "gcd(29, 20)"
   ]
  },
  {
   "cell_type": "code",
   "execution_count": 32,
   "metadata": {},
   "outputs": [
    {
     "data": {
      "text/plain": [
       "5"
      ]
     },
     "execution_count": 32,
     "metadata": {},
     "output_type": "execute_result"
    }
   ],
   "source": [
    "gcd(gcd(5, 25), 30)"
   ]
  },
  {
   "cell_type": "markdown",
   "metadata": {},
   "source": [
    "## 3) 소수\n",
    "- 알고리즘 두 가지\n",
    "    - 어떤 수 N이 소수인지 아닌지\n",
    "        - a. 2 ~ n-2 다 돌려보기\n",
    "        - b. (2보다 크거나 같고, **N/2 보다 작거나 같은 자연수**)로 나누어 떨어지면 안됨\n",
    "            - N = a*b -> 최소2(1 제외) -> 최대 2/N -> 소수 = 1*a\n",
    "        - c. **루트N 보다 작거나 같은 자연수**로 나누어 떨어지면 안됨\n",
    "    - N보다 작거나 같은 모든 소수 찾기\n",
    "        - **에라토스테네스의 체**: 소수 -> 배수 지우기 (N log(log(N)))\n",
    "            - 구현에서는 지우는 게 아니라, 검산방식\n",
    "            - generate가 아니라 delete: **남은 놈이 prime number**\n",
    "        - **골드바흐의 추측**: 2보다 큰 모든 **짝수**는 두 소수의 합으로 표현 가능\n",
    "            - 10^18 이하에서 증명됨"
   ]
  },
  {
   "cell_type": "markdown",
   "metadata": {},
   "source": [
    "## 3.1) num은 prime인가?\n",
    "- best: O($\\sqrt{N}$)\n",
    "### num보다 작은 모든 수로 num을 나눔"
   ]
  },
  {
   "cell_type": "code",
   "execution_count": 36,
   "metadata": {},
   "outputs": [
    {
     "data": {
      "text/plain": [
       "False"
      ]
     },
     "execution_count": 36,
     "metadata": {},
     "output_type": "execute_result"
    }
   ],
   "source": [
    "def is_prime(num):\n",
    "    if num < 2:\n",
    "        return False\n",
    "    \n",
    "    for i in range(2, num):\n",
    "        if num % i == 0:\n",
    "            return False\n",
    "        \n",
    "    return True\n",
    "is_prime(1)    "
   ]
  },
  {
   "cell_type": "code",
   "execution_count": 38,
   "metadata": {
    "scrolled": true
   },
   "outputs": [
    {
     "data": {
      "text/plain": [
       "1"
      ]
     },
     "execution_count": 38,
     "metadata": {},
     "output_type": "execute_result"
    }
   ],
   "source": [
    "int(3/2)"
   ]
  },
  {
   "cell_type": "markdown",
   "metadata": {},
   "source": [
    "### num/2까지의 수로 num을 나눔"
   ]
  },
  {
   "cell_type": "code",
   "execution_count": 44,
   "metadata": {
    "scrolled": true
   },
   "outputs": [
    {
     "data": {
      "text/plain": [
       "True"
      ]
     },
     "execution_count": 44,
     "metadata": {},
     "output_type": "execute_result"
    }
   ],
   "source": [
    "def is_prime(num):\n",
    "    if num < 2:\n",
    "        return False\n",
    "\n",
    "    for i in range(2, int(num/2)+1):\n",
    "        if num % i == 0:\n",
    "            return False\n",
    "        \n",
    "    return True\n",
    "is_prime(923123)    "
   ]
  },
  {
   "cell_type": "code",
   "execution_count": 62,
   "metadata": {},
   "outputs": [
    {
     "data": {
      "text/plain": [
       "False"
      ]
     },
     "execution_count": 62,
     "metadata": {},
     "output_type": "execute_result"
    }
   ],
   "source": [
    "from math import sqrt\n",
    "\n",
    "def is_prime(num):\n",
    "    if num < 2:\n",
    "        return False\n",
    "\n",
    "    for i in range(2, int(sqrt(num/2))+1):\n",
    "        if num % i == 0:\n",
    "            return False\n",
    "        \n",
    "    return True\n",
    "is_prime(924311233377731)    "
   ]
  },
  {
   "cell_type": "code",
   "execution_count": 63,
   "metadata": {},
   "outputs": [
    {
     "data": {
      "text/plain": [
       "True"
      ]
     },
     "execution_count": 63,
     "metadata": {},
     "output_type": "execute_result"
    }
   ],
   "source": [
    "def is_prime(num):\n",
    "    if num < 2:\n",
    "        return False\n",
    "    \n",
    "    i = 2\n",
    "    while i*i <= num:\n",
    "        if num % i == 0:\n",
    "            return False\n",
    "        i += 1\n",
    "    return True\n",
    "\n",
    "is_prime(923123)"
   ]
  },
  {
   "cell_type": "markdown",
   "metadata": {},
   "source": [
    "## 3.2) 소수 갯수 찾기\n",
    "- limit 보다 작은 수 중에 소수: 최초 소수의 배수를 삭제"
   ]
  },
  {
   "cell_type": "code",
   "execution_count": 6,
   "metadata": {},
   "outputs": [
    {
     "name": "stdout",
     "output_type": "stream",
     "text": [
      "65.45369505882263\n"
     ]
    }
   ],
   "source": [
    "# bad\n",
    "import time\n",
    "start = time.time()\n",
    "\n",
    "limit = 100000000\n",
    "a = [True]*(limit+1)\n",
    "a[0] = a[1] = False\n",
    "\n",
    "ans = 0\n",
    "for i in range(2, limit+1):\n",
    "    if a[i]:\n",
    "        ans += 1\n",
    "        for j in range(i+i, limit, i):\n",
    "            a[j] = False\n",
    "            \n",
    "end = time.time()\n",
    "print(end-start)"
   ]
  },
  {
   "cell_type": "code",
   "execution_count": 5,
   "metadata": {},
   "outputs": [
    {
     "name": "stdout",
     "output_type": "stream",
     "text": [
      "10.058541059494019\n"
     ]
    }
   ],
   "source": [
    "# good\n",
    "import time\n",
    "start = time.time()\n",
    "\n",
    "Max = 10000000\n",
    "check = [True] * (Max+1)\n",
    "check[0] = check[1] = False\n",
    "\n",
    "ans = 0\n",
    "for i in range(2, Max+1):\n",
    "    if check[i]:\n",
    "        ans += 1\n",
    "        j = i+i\n",
    "        while j <= Max:\n",
    "            check[j] = False\n",
    "            j += i\n",
    "            \n",
    "end = time.time()\n",
    "print(end-start)\n",
    "\n",
    "        "
   ]
  },
  {
   "cell_type": "markdown",
   "metadata": {},
   "source": [
    "---\n",
    "### 문제: https://www.acmicpc.net/problem/1978"
   ]
  },
  {
   "cell_type": "code",
   "execution_count": 11,
   "metadata": {},
   "outputs": [
    {
     "name": "stdout",
     "output_type": "stream",
     "text": [
      "2 3 5\n",
      "3\n"
     ]
    }
   ],
   "source": [
    "def is_prime(n):\n",
    "    if n < 2:\n",
    "        return False\n",
    "    i = 2\n",
    "    while i*i <= n:\n",
    "        if n % i == 0:\n",
    "            return False\n",
    "        i += 1\n",
    "    return True\n",
    "\n",
    "_ = input()\n",
    "num = list(map(int, input().split()))\n",
    "ans = list(filter(is_prime, num))\n",
    "print(len(ans))"
   ]
  },
  {
   "cell_type": "markdown",
   "metadata": {},
   "source": [
    "### 문제 https://www.acmicpc.net/problem/1929"
   ]
  },
  {
   "cell_type": "code",
   "execution_count": 68,
   "metadata": {},
   "outputs": [
    {
     "name": "stdout",
     "output_type": "stream",
     "text": [
      "1 10\n",
      "2\n",
      "3\n",
      "5\n",
      "7\n"
     ]
    }
   ],
   "source": [
    "# 답3\n",
    "MAX = 1000000\n",
    "check = [True]*(MAX+1)\n",
    "check[0] = check[1] = False\n",
    "\n",
    "for i in range(2, MAX+1):\n",
    "    if check[i]:\n",
    "        j = i*i\n",
    "        while j <= MAX:\n",
    "            check[j] = False\n",
    "            j += i\n",
    "\n",
    "m, n = map(int, input().split())\n",
    "for i in range(m, n+1):\n",
    "    if check[i]:\n",
    "        print(i)"
   ]
  },
  {
   "cell_type": "code",
   "execution_count": 70,
   "metadata": {},
   "outputs": [
    {
     "name": "stdout",
     "output_type": "stream",
     "text": [
      "1 10\n",
      "2\n",
      "3\n",
      "5\n",
      "7\n"
     ]
    }
   ],
   "source": [
    "# 답2\n",
    "MAX = 1000000\n",
    "check = [True]*(MAX+1)\n",
    "check[0] = check[1] = False\n",
    "\n",
    "for i in range(2, MAX+1):\n",
    "    if check[i]:\n",
    "        for j in range(i*i, MAX+1, i):\n",
    "            check[j] = False\n",
    "\n",
    "m, n = map(int, input().split())\n",
    "for i in range(m, n+1):\n",
    "    if check[i]:\n",
    "        print(i)"
   ]
  },
  {
   "cell_type": "code",
   "execution_count": 74,
   "metadata": {},
   "outputs": [
    {
     "name": "stdout",
     "output_type": "stream",
     "text": [
      "1 10\n",
      "2\n",
      "3\n",
      "5\n",
      "7\n"
     ]
    }
   ],
   "source": [
    "# 정답1\n",
    "m, n = map(int, input().split())\n",
    "check = [True] * (n+1)\n",
    "check[0] = check[1] = False\n",
    "\n",
    "for i in range(2, n+1):\n",
    "    if check[i]:\n",
    "        for j in range(i*i, n+1, i):\n",
    "            check[j] = False\n",
    "        if i >= m:\n",
    "            print(i)"
   ]
  },
  {
   "cell_type": "markdown",
   "metadata": {},
   "source": [
    "---\n",
    "## 4. 골드바흐 추측\n",
    "- 모든 짝수는 두 홀수 소수로 나타낼 수 있음\n",
    "- https://www.acmicpc.net/problem/6588"
   ]
  },
  {
   "cell_type": "code",
   "execution_count": null,
   "metadata": {},
   "outputs": [],
   "source": [
    "test = 5\n",
    "Max = 10\n",
    "\n",
    "def prime_list(Max):\n",
    "    ans = []\n",
    "    check = [True] * (Max+1)\n",
    "    check[0] = check[1] = False\n",
    "    \n",
    "    for i in range(2, Max+1):\n",
    "        if check[i]:\n",
    "            for j in range(i*i, Max+1, i):\n",
    "                check[j] = False\n",
    "            if i % 2:\n",
    "                ans.append(i)\n",
    "    return ans\n",
    "\n",
    "ans = prime_list(Max)\n",
    "\n",
    "def test(num):\n",
    "    for a in ans:\n",
    "         b = num - a\n",
    "        if b in ans:"
   ]
  }
 ],
 "metadata": {
  "kernelspec": {
   "display_name": "Python 3",
   "language": "python",
   "name": "python3"
  },
  "language_info": {
   "codemirror_mode": {
    "name": "ipython",
    "version": 3
   },
   "file_extension": ".py",
   "mimetype": "text/x-python",
   "name": "python",
   "nbconvert_exporter": "python",
   "pygments_lexer": "ipython3",
   "version": "3.6.7"
  }
 },
 "nbformat": 4,
 "nbformat_minor": 2
}
