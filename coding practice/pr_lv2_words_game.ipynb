{
 "cells": [
  {
   "cell_type": "markdown",
   "metadata": {},
   "source": [
    "문제\n",
    "\n",
    "\n",
    "1부터 n까지 번호가 붙어있는 n명의 사람이 영어 끝말잇기를 하고 있습니다. 영어 끝말잇기는 다음과 같은 규칙으로 진행됩니다.\n",
    "\n",
    "1번부터 번호 순서대로 한 사람씩 차례대로 단어를 말합니다.\n",
    "마지막 사람이 단어를 말한 다음에는 다시 1번부터 시작합니다.\n",
    "앞사람이 말한 단어의 마지막 문자로 시작하는 단어를 말해야 합니다.\n",
    "이전에 등장했던 단어는 사용할 수 없습니다.\n",
    "한 글자인 단어는 인정되지 않습니다.\n",
    "다음은 3명이 끝말잇기를 하는 상황을 나타냅니다.\n",
    "\n",
    "tank → kick → know → wheel → land → dream → mother → robot → tank\n",
    "\n",
    "위 끝말잇기는 다음과 같이 진행됩니다.\n",
    "\n",
    "1번 사람이 자신의 첫 번째 차례에 tank를 말합니다.\n",
    "2번 사람이 자신의 첫 번째 차례에 kick을 말합니다.\n",
    "3번 사람이 자신의 첫 번째 차례에 know를 말합니다.\n",
    "1번 사람이 자신의 두 번째 차례에 wheel을 말합니다.\n",
    "(계속 진행)\n",
    "끝말잇기를 계속 진행해 나가다 보면, 3번 사람이 자신의 세 번째 차례에 말한 tank 라는 단어는 이전에 등장했던 단어이므로 탈락하게 됩니다.\n",
    "\n",
    "사람의 수 n과 사람들이 순서대로 말한 단어 words 가 매개변수로 주어질 때, 가장 먼저 탈락하는 사람의 번호와 그 사람이 자신의 몇 번째 차례에 탈락하는지를 구해서 return 하도록 solution 함수를 완성해주세요.\n",
    "\n",
    "제한 사항\n",
    "끝말잇기에 참여하는 사람의 수 n은 2 이상 10 이하의 자연수입니다.\n",
    "words는 끝말잇기에 사용한 단어들이 순서대로 들어있는 배열이며, 길이는 n 이상 100 이하입니다.\n",
    "단어의 길이는 2 이상 50 이하입니다.\n",
    "모든 단어는 알파벳 소문자로만 이루어져 있습니다.\n",
    "끝말잇기에 사용되는 단어의 뜻(의미)은 신경 쓰지 않으셔도 됩니다.\n",
    "정답은 [ 번호, 차례 ] 형태로 return 해주세요.\n",
    "만약 주어진 단어들로 탈락자가 생기지 않는다면, [0, 0]을 return 해주세요.\n"
   ]
  },
  {
   "cell_type": "markdown",
   "metadata": {},
   "source": [
    "내 풀이"
   ]
  },
  {
   "cell_type": "code",
   "execution_count": 109,
   "metadata": {},
   "outputs": [
    {
     "data": {
      "text/plain": [
       "[3, 3]"
      ]
     },
     "execution_count": 109,
     "metadata": {},
     "output_type": "execute_result"
    }
   ],
   "source": [
    "def solution(n, words):\n",
    "    idx, w_dict = 1, {words[0]: 1}\n",
    "    while idx < len(words):\n",
    "        try: w_dict[words[idx]] += 1\n",
    "        except: w_dict[words[idx]] = 1\n",
    "        if words[idx-1][-1] != words[idx][0] or w_dict[words[idx]] > 1:\n",
    "            return [idx%n+1, idx//n+1]\n",
    "        idx += 1\n",
    "    return [0, 0]\n",
    "\n",
    "words = ['tank', 'kick', 'know', 'wheel', 'land', 'dream', 'mother', 'robot', 'tank']\n",
    "n =3\n",
    "solution(n, words)"
   ]
  },
  {
   "cell_type": "markdown",
   "metadata": {},
   "source": [
    "다른 사람 풀이"
   ]
  },
  {
   "cell_type": "code",
   "execution_count": 112,
   "metadata": {},
   "outputs": [
    {
     "data": {
      "text/plain": [
       "[3, 3]"
      ]
     },
     "execution_count": 112,
     "metadata": {},
     "output_type": "execute_result"
    }
   ],
   "source": [
    "def solution(n, words):\n",
    "    for p in range(1, len(words)):\n",
    "        if words[p][0] != words[p-1][-1] or words[p] in words[:p]: return [(p%n)+1, (p//n)+1]\n",
    "    else:\n",
    "        return [0,0]\n",
    "n =3\n",
    "solution(n, words)"
   ]
  },
  {
   "cell_type": "markdown",
   "metadata": {},
   "source": [
    "시행착오"
   ]
  },
  {
   "cell_type": "code",
   "execution_count": 49,
   "metadata": {},
   "outputs": [
    {
     "name": "stdout",
     "output_type": "stream",
     "text": [
      "1 3\n"
     ]
    }
   ],
   "source": [
    "# words 중복 확인\n",
    "w_count = {}\n",
    "for word in words:\n",
    "    try: w_count[word] += 1\n",
    "    except : w_count[word] = 1\n",
    "\n",
    "# 불일치  & 중복 확인\n",
    "idx = 1\n",
    "flag = 0\n",
    "while idx < len(words):\n",
    "    if words[idx-1][-1] != words[idx][0] or w_count[words[idx]] > 1:\n",
    "        flag = 1\n",
    "        break\n",
    "    idx += 1\n",
    "\n",
    "# 문제 있음\n",
    "if flag:\n",
    "    turn, out_idx = divmod(idx, n)\n",
    "    print(out_idx+1, turn+1)\n",
    "\n",
    "# 문제 없음    \n",
    "else: \n",
    "    print(0, 0)\n",
    "    "
   ]
  },
  {
   "cell_type": "markdown",
   "metadata": {},
   "source": [
    "최초 풀이"
   ]
  },
  {
   "cell_type": "code",
   "execution_count": 110,
   "metadata": {},
   "outputs": [
    {
     "name": "stdout",
     "output_type": "stream",
     "text": [
      "word:  kick {'tank': 1, 'kick': 1}\n",
      "word:  know {'tank': 1, 'kick': 1, 'know': 1}\n",
      "word:  wheel {'tank': 1, 'kick': 1, 'know': 1, 'wheel': 1}\n",
      "word:  land {'tank': 1, 'kick': 1, 'know': 1, 'wheel': 1, 'land': 1}\n",
      "word:  dream {'tank': 1, 'kick': 1, 'know': 1, 'wheel': 1, 'land': 1, 'dream': 1}\n",
      "word:  mother {'tank': 1, 'kick': 1, 'know': 1, 'wheel': 1, 'land': 1, 'dream': 1, 'mother': 1}\n",
      "word:  robot {'tank': 1, 'kick': 1, 'know': 1, 'wheel': 1, 'land': 1, 'dream': 1, 'mother': 1, 'robot': 1}\n",
      "word:  tank {'tank': 2, 'kick': 1, 'know': 1, 'wheel': 1, 'land': 1, 'dream': 1, 'mother': 1, 'robot': 1}\n",
      "got you!!!: tank {'tank': 2, 'kick': 1, 'know': 1, 'wheel': 1, 'land': 1, 'dream': 1, 'mother': 1, 'robot': 1} 8\n"
     ]
    },
    {
     "data": {
      "text/plain": [
       "[3, 3]"
      ]
     },
     "execution_count": 110,
     "metadata": {},
     "output_type": "execute_result"
    }
   ],
   "source": [
    "def solution(n, words):\n",
    "    idx, flag = 1, 0\n",
    "    w_dict = {words[0]: 1}\n",
    "    while idx < len(words):\n",
    "        # dict: count the occurence of each word \n",
    "        try: w_dict[words[idx]] += 1\n",
    "        except: w_dict[words[idx]] = 1\n",
    "        print('word: ', words[idx], w_dict)\n",
    "        \n",
    "        # 끝말이 아니거나, 두번째 단어 \n",
    "        if words[idx-1][-1] != words[idx][0] or w_dict[words[idx]] > 1:\n",
    "            flag = 1\n",
    "            print(\"got you!!!:\", words[idx], w_dict, idx)\n",
    "            break\n",
    "        idx += 1\n",
    "    \n",
    "    # idx+1 번째에서 걸림\n",
    "    if flag > 0:\n",
    "        turn, out_idx = divmod(idx, n)\n",
    "        return [out_idx+1, turn+1]\n",
    "    \n",
    "    else:\n",
    "        return [0, 0]\n",
    "\n",
    "words = ['tank', 'kick', 'know', 'wheel', 'land', 'dream', 'mother', 'robot', 'tank']\n",
    "n =3\n",
    "\n",
    "solution(n, words)"
   ]
  },
  {
   "cell_type": "code",
   "execution_count": null,
   "metadata": {},
   "outputs": [],
   "source": []
  }
 ],
 "metadata": {
  "kernelspec": {
   "display_name": "Python 3",
   "language": "python",
   "name": "python3"
  },
  "language_info": {
   "codemirror_mode": {
    "name": "ipython",
    "version": 3
   },
   "file_extension": ".py",
   "mimetype": "text/x-python",
   "name": "python",
   "nbconvert_exporter": "python",
   "pygments_lexer": "ipython3",
   "version": "3.6.7"
  }
 },
 "nbformat": 4,
 "nbformat_minor": 2
}
