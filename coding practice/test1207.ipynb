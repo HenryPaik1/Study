{
 "cells": [
  {
   "cell_type": "markdown",
   "metadata": {},
   "source": [
    "## 1.\n",
    "게임회사에 입사한 철수는 서버의 데이터를 분석하여 스테이지가 진행할 수록 난이도가 적절히 상승하여 흥미를 유발하고 있는지 분석을 위해 다음과 같은 헬퍼 함수를 만들고자 한다.\n",
    "\n",
    "현재 유저들이 머물고 있는 stage에 대한 정보를 얻어서, 각 stage에 실패율을 계산하여, 실패율이 높은 stage순으로 나열하고자 한다.\n",
    "\n",
    "실패율은 다음과 같이 정의한다.\n",
    "* 스테이지에 도달했으나, 아직 클리어하지 못한 플레이어 수 / 스테이지에 도달한 플레이어 수\n",
    "\n",
    "전체 스테이지의 갯수 N, 게임을 이용하는 사용자가 현재 멈춰 있는 스테이지의 번호가 담긴 리스트를 stages가 매개변수로 주어진다.\n",
    "\n",
    "\n",
    "    def solution(N, stages):\n",
    "\n",
    "    - 스테이지의 갯수 N은 1이상 500 이하\n",
    "    - 리스트 stages의 길이는 1이상 200000이하\n",
    "    - stages에 요소는 1이상 N+1이하의 자연수\n",
    "    - 각 자연수는 사용자가 현재 도전 중인 스테이지의 번호\n",
    "    - N+1은 현재 제공되는 모든 스테이지를 클리어한 사용자를 나타냄\n",
    "    - 만약 실패율이 같은 스테이지가 있다면, 작은 번호의 스테이지가 먼저 오도록 해야 한다.\n",
    "    - 스테이지에 도달한 유저가 없는 경우 해당 스테이지의 실패율은 0으로 정의한다."
   ]
  },
  {
   "cell_type": "markdown",
   "metadata": {},
   "source": [
    "# 모범답안"
   ]
  },
  {
   "cell_type": "code",
   "execution_count": 136,
   "metadata": {},
   "outputs": [],
   "source": [
    "# 시간복잡도\n",
    "# O(N * 유저의 수 M)\n",
    "# 스테이지 갯수만큼 N번 반복하고 다시 count로 M번 반복\n",
    "# method 잘 사용하기. 바퀴를 발명하지 말기\n",
    "# dict sort -> list\n",
    "# sequnce: string, list, ... 원래 sequence만 sort인데\n",
    "# 파이썬은 dict도 가능\n",
    "def solution(N, stages):\n",
    "    # hash화 되는 것만 key\n",
    "    # 기본값 0인 dict만들기\n",
    "    result = {x: 0 for x in range(1, N)}\n",
    "    denominator = len(stages)\n",
    "    for stage in range(1, N+1): # N 번 반복\n",
    "        # 남은 사람\n",
    "        # stages = [2,1,2,6,2,4,3,3]\n",
    "        if denominator == 0:\n",
    "            break\n",
    "        count = stages.count(stage) # M 번 반복 N*M\n",
    "        result[stage] = count / denominator\n",
    "        denominator -= count\n",
    "    # key가 tuple일 때, 앞의 값으로 먼저 정렬하고, 같으면 -x 키워드로 정렬\n",
    "    return sorted(result, key=lambda x: (result[x], -x), reverse=True)\n"
   ]
  },
  {
   "cell_type": "markdown",
   "metadata": {},
   "source": [
    "# 추가.\n",
    "정수 A, B사이 존재하는 정수들 중에 K로 나누어 떨어지는 숫자의 갯수를 계산하는 함수를 작성하세요.\n",
    "\n",
    "    def solution(A, B, K):\n",
    "        pass"
   ]
  },
  {
   "cell_type": "code",
   "execution_count": null,
   "metadata": {},
   "outputs": [],
   "source": [
    "# 2.1\n",
    "def solution(A, B, K):\n",
    "    count = 0\n",
    "    for number in range(A, B+1): # B-1만큼의 시간 복잡도\n",
    "        if number % K == 0:\n",
    "            count += 1\n",
    "    return count"
   ]
  },
  {
   "cell_type": "code",
   "execution_count": 141,
   "metadata": {},
   "outputs": [],
   "source": [
    "# 2.2\n",
    "from math import ceil\n",
    "def solution(A, B, K):\n",
    "    start_n = ceil(A/K) # 올림\n",
    "    end_n = B // k\n",
    "    return list(range(start_n, end_n+1))"
   ]
  },
  {
   "cell_type": "markdown",
   "metadata": {},
   "source": [
    "# 1번 개인 풀이"
   ]
  },
  {
   "cell_type": "code",
   "execution_count": 42,
   "metadata": {},
   "outputs": [],
   "source": [
    "    def solution(N, stages):\n",
    "        # temp = {stage: player}\n",
    "        temp = {}\n",
    "        for i in range(1, N+1):\n",
    "            temp[i] = stages.count(i)\n",
    "\n",
    "        # ratio = {stage: failure ratio}\n",
    "        ratio = {}\n",
    "        for key in temp.keys():\n",
    "            분자, 분모 = temp[key], stages.count(N+1)\n",
    "            # cursor: 현재 key(stage)부터 제일 큰 key(마지막 stage)까지 순회\n",
    "            for cursor in range(key, N+1):\n",
    "                분모 += temp[cursor]\n",
    "            # key의 ratio 계산    \n",
    "            try:\n",
    "                ratio[key] = round((분자/분모),2)\n",
    "            except: \n",
    "                ratio[key] = 0\n",
    "\n",
    "        return sorted(ratio, key=lambda x: (ratio[x], -x), reverse=True)"
   ]
  },
  {
   "cell_type": "code",
   "execution_count": 40,
   "metadata": {},
   "outputs": [],
   "source": [
    "def test(func):\n",
    "    cases = [\n",
    "        (5, [2, 1, 2, 6, 2, 4, 3, 3]),\n",
    "        (4, [4, 4, 4, 4, 4]),\n",
    "        (10, [3, 4, 5, 3, 4, 4]),\n",
    "        (10, [9])\n",
    "    ]\n",
    "    results = [\n",
    "        [3, 4, 2, 1, 5],\n",
    "        [4, 1, 2, 3],\n",
    "        [5, 4, 3, 1, 2, 6, 7, 8, 9, 10],\n",
    "        [9, 1, 2, 3, 4, 5, 6, 7, 8, 10]\n",
    "    ]\n",
    "    for i, case in enumerate(cases):\n",
    "        try:\n",
    "            assert func(*case) == results[i]\n",
    "        except AssertionError:\n",
    "            print(func(*case), case)\n",
    "            raise\n",
    "        print(\"success:\", i)\n",
    "    print(\"SUCCESS\")"
   ]
  },
  {
   "cell_type": "code",
   "execution_count": 46,
   "metadata": {},
   "outputs": [
    {
     "name": "stdout",
     "output_type": "stream",
     "text": [
      "success: 0\n",
      "success: 1\n",
      "success: 2\n",
      "success: 3\n",
      "SUCCESS\n"
     ]
    }
   ],
   "source": [
    "test(solution)"
   ]
  }
 ],
 "metadata": {
  "kernelspec": {
   "display_name": "Python 3",
   "language": "python",
   "name": "python3"
  }
 },
 "nbformat": 4,
 "nbformat_minor": 2
}
