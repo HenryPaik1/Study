{
 "cells": [
  {
   "cell_type": "markdown",
   "metadata": {},
   "source": [
    "문제 \n",
    "\n",
    "숫자 야구 게임이란 2명이 서로가 생각한 숫자를 맞추는 게임입니다.\n",
    "각자 서로 다른 1~9까지 3자리 임의의 숫자를 정한 뒤 서로에게 3자리의 숫자를 불러서 결과를 확인합니다. 그리고 그 결과를 토대로 상대가 정한 숫자를 예상한 뒤 맞힙니다.\n",
    "\n",
    "* 숫자는 맞지만, 위치가 틀렸을 때는 볼\n",
    "* 숫자와 위치가 모두 맞을 때는 스트라이크\n",
    "* 숫자와 위치가 모두 틀렸을 때는 아웃\n",
    "\n",
    "예)\n",
    "\n",
    "input: `[[123, 1, 1], [356, 1, 0], [327, 2, 0], [489, 0, 1]]`\n",
    "\n",
    "return: `2`('324', '328')\n"
   ]
  },
  {
   "cell_type": "markdown",
   "metadata": {},
   "source": [
    "내 풀이"
   ]
  },
  {
   "cell_type": "code",
   "execution_count": 280,
   "metadata": {},
   "outputs": [],
   "source": [
    "def solution(baseball):\n",
    "    from itertools import permutations\n",
    "    l = list(map(str, range(1, 10)))\n",
    "    후보군 = list(map(''.join ,permutations(l, 3)))\n",
    "    tmp = []\n",
    "    \n",
    "    for 후보 in 후보군:\n",
    "        flag = 0\n",
    "        \n",
    "        for 부른숫자 in baseball:\n",
    "            스트라이크, 볼 = 0, 0\n",
    "            for idx in range(3):\n",
    "                if str(부른숫자[0])[idx] == 후보[idx]:\n",
    "                    스트라이크 += 1\n",
    "                \n",
    "                if idx > 1 and 스트라이크 == 부른숫자[1]:\n",
    "                    볼 = 3 - len( set(list(str(부른숫자[0]))) - set(list(후보)) ) - 스트라이크\n",
    "                    \n",
    "                    if 볼 == 부른숫자[2]:\n",
    "                        flag += 1\n",
    "        \n",
    "        if flag == len(baseball):\n",
    "            tmp.append(후보)\n",
    "    \n",
    "    return len(tmp)"
   ]
  },
  {
   "cell_type": "markdown",
   "metadata": {},
   "source": [
    "풀이 개선"
   ]
  },
  {
   "cell_type": "code",
   "execution_count": 6,
   "metadata": {},
   "outputs": [],
   "source": [
    "def solution(baseball):\n",
    "    from itertools import permutations\n",
    "    l = list(map(str, range(1, 10)))\n",
    "    후보군 = list(map(''.join ,permutations(l, 3)))\n",
    "    ans = 0\n",
    "    \n",
    "    for 후보 in 후보군:\n",
    "        flag = 0\n",
    "        \n",
    "        for 부른숫자 in baseball:\n",
    "            스트라이크, 볼 = 0, 0\n",
    "            \n",
    "            # 부른숫자[0]: 숫자, 부른숫자[1]: 스트라이크, 부른숫자[2]: 볼\n",
    "            for idx in range(3):\n",
    "                if str(부른숫자[0])[idx] == 후보[idx]:\n",
    "                    스트라이크 += 1\n",
    "                elif str(부른숫자[0])[idx] in 후보:\n",
    "                    볼 += 1\n",
    "            \n",
    "            # 후보가 부른숫자와 하나라도 다르면, 부른숫자 더이상 소환X \n",
    "            # 바로 다음 후보로 넘어감\n",
    "            if 부른숫자[1] != 스트라이크 or 부른숫자[2] != 볼:\n",
    "                flag = 1\n",
    "                break\n",
    "        \n",
    "        if flag == 0:\n",
    "            ans += 1\n",
    "    \n",
    "    return ans"
   ]
  },
  {
   "cell_type": "code",
   "execution_count": 7,
   "metadata": {},
   "outputs": [
    {
     "data": {
      "text/plain": [
       "2"
      ]
     },
     "execution_count": 7,
     "metadata": {},
     "output_type": "execute_result"
    }
   ],
   "source": [
    "ls = [[123, 1, 1], [356, 1, 0], [327, 2, 0], [489, 0, 1]]\n",
    "solution(ls)"
   ]
  },
  {
   "cell_type": "markdown",
   "metadata": {},
   "source": [
    "배운 것1\n",
    "- list compression에 for 구문 3개 쓸 수 있음"
   ]
  },
  {
   "cell_type": "code",
   "execution_count": 279,
   "metadata": {},
   "outputs": [
    {
     "data": {
      "text/plain": [
       "['123', '132', '213', '231', '312', '321']"
      ]
     },
     "execution_count": 279,
     "metadata": {},
     "output_type": "execute_result"
    }
   ],
   "source": [
    "# 주어진 숫자로 조합만들기\n",
    "def gen(ls):\n",
    "    ls = list(str(ls))\n",
    "#     for a in ls:\n",
    "#         for b in ls:\n",
    "#             for c in ls:\n",
    "#                 print(a + b + c) \n",
    "    return [a + b + c for a in ls for b in ls if b != a for c in ls if (c != b and c != a)]\n",
    "\n",
    "gen(123)"
   ]
  },
  {
   "cell_type": "markdown",
   "metadata": {},
   "source": [
    "배운 것2\n",
    "- intertools 의 permutations\n",
    "- 순열(not repeated)"
   ]
  },
  {
   "cell_type": "code",
   "execution_count": 285,
   "metadata": {},
   "outputs": [
    {
     "name": "stdout",
     "output_type": "stream",
     "text": [
      "123\n",
      "132\n",
      "213\n"
     ]
    }
   ],
   "source": [
    "from itertools import permutations\n",
    "for i in range(3):\n",
    "    print(''.join(list(permutations(['1','2','3'],3))[i]))"
   ]
  },
  {
   "cell_type": "markdown",
   "metadata": {},
   "source": [
    "test code"
   ]
  },
  {
   "cell_type": "code",
   "execution_count": 275,
   "metadata": {},
   "outputs": [
    {
     "name": "stdout",
     "output_type": "stream",
     "text": [
      "새로 부른 숫자\n",
      "후보:  123\n",
      "부른숫자:  [123, 1, 1]\n",
      "\n",
      "새로 부른 숫자\n",
      "후보:  123\n",
      "부른숫자:  [356, 1, 0]\n",
      "\n",
      "새로 부른 숫자\n",
      "후보:  123\n",
      "부른숫자:  [327, 2, 0]\n",
      "\n",
      "새로 부른 숫자\n",
      "후보:  123\n",
      "부른숫자:  [489, 0, 1]\n",
      "strike:  0\n",
      "ball:  0\n",
      "\n",
      "***후보 123이/가 부른숫자 중 만족시킨 숫자갯수: 0\n",
      "\n",
      "새로 부른 숫자\n",
      "후보:  324\n",
      "부른숫자:  [123, 1, 1]\n",
      "strike:  1\n",
      "ball:  1\n",
      "flag1:  1\n",
      "\n",
      "새로 부른 숫자\n",
      "후보:  324\n",
      "부른숫자:  [356, 1, 0]\n",
      "strike:  1\n",
      "ball:  0\n",
      "flag1:  2\n",
      "\n",
      "새로 부른 숫자\n",
      "후보:  324\n",
      "부른숫자:  [327, 2, 0]\n",
      "strike:  2\n",
      "ball:  0\n",
      "flag1:  3\n",
      "\n",
      "새로 부른 숫자\n",
      "후보:  324\n",
      "부른숫자:  [489, 0, 1]\n",
      "strike:  0\n",
      "ball:  1\n",
      "flag1:  4\n",
      "\n",
      "***후보 324이/가 부른숫자 중 만족시킨 숫자갯수: 4\n",
      "\n",
      "새로 부른 숫자\n",
      "후보:  328\n",
      "부른숫자:  [123, 1, 1]\n",
      "strike:  1\n",
      "ball:  1\n",
      "flag1:  1\n",
      "\n",
      "새로 부른 숫자\n",
      "후보:  328\n",
      "부른숫자:  [356, 1, 0]\n",
      "strike:  1\n",
      "ball:  0\n",
      "flag1:  2\n",
      "\n",
      "새로 부른 숫자\n",
      "후보:  328\n",
      "부른숫자:  [327, 2, 0]\n",
      "strike:  2\n",
      "ball:  0\n",
      "flag1:  3\n",
      "\n",
      "새로 부른 숫자\n",
      "후보:  328\n",
      "부른숫자:  [489, 0, 1]\n",
      "strike:  0\n",
      "ball:  1\n",
      "flag1:  4\n",
      "\n",
      "***후보 328이/가 부른숫자 중 만족시킨 숫자갯수: 4\n",
      "\n"
     ]
    },
    {
     "data": {
      "text/plain": [
       "['324', '328']"
      ]
     },
     "execution_count": 275,
     "metadata": {},
     "output_type": "execute_result"
    }
   ],
   "source": [
    "from itertools import *\n",
    "ls = [[123, 1, 1], [356, 1, 0], [327, 2, 0], [489, 0, 1]]\n",
    "# l = list(map(str, range(1, 10)))\n",
    "# 후보군 = list(map(''.join ,permutations(l, 3)))\n",
    "\n",
    "# test\n",
    "후보군 = ['123', '324', '328']\n",
    "tmp = []\n",
    "\n",
    "for 후보 in 후보군:\n",
    "    flag = 0\n",
    "    for x in ls:\n",
    "        print('새로 부른 숫자')\n",
    "        print('후보: ', 후보)\n",
    "\n",
    "        s, b = 0, 0\n",
    "        print('부른숫자: ', x)\n",
    "\n",
    "        for idx in range(3):\n",
    "            # strike 확인\n",
    "            if str(x[0])[idx] == 후보[idx]:\n",
    "                s += 1\n",
    "                \n",
    "            # strike 충족시 ball 확인\n",
    "            if idx > 1 and x[1] == s:\n",
    "                b = 3 - len(set(list(str(x[0]))) - set(list(str(후보)))) - s\n",
    "                print('strike: ', s)\n",
    "                print('ball: ', b)\n",
    "                if b == x[2]:\n",
    "                    flag += 1\n",
    "                    print('flag1: ', flag)\n",
    "        print()\n",
    "                \n",
    "\n",
    "    print('***후보 {}이/가 부른숫자 중 만족시킨 숫자갯수: {}'.format(후보, flag) )\n",
    "    print()\n",
    "    \n",
    "    if flag == len(ls):\n",
    "        tmp.append(후보)\n",
    "tmp\n"
   ]
  }
 ],
 "metadata": {
  "kernelspec": {
   "display_name": "Python 3",
   "language": "python",
   "name": "python3"
  },
  "language_info": {
   "codemirror_mode": {
    "name": "ipython",
    "version": 3
   },
   "file_extension": ".py",
   "mimetype": "text/x-python",
   "name": "python",
   "nbconvert_exporter": "python",
   "pygments_lexer": "ipython3",
   "version": "3.6.7"
  }
 },
 "nbformat": 4,
 "nbformat_minor": 2
}
