{
 "cells": [
  {
   "cell_type": "markdown",
   "metadata": {},
   "source": [
    "# 처음 풀이"
   ]
  },
  {
   "cell_type": "code",
   "execution_count": 58,
   "metadata": {},
   "outputs": [
    {
     "data": {
      "text/plain": [
       "[60, 90, 120, 150, 40]"
      ]
     },
     "execution_count": 58,
     "metadata": {},
     "output_type": "execute_result"
    }
   ],
   "source": [
    "data = [10, 20, 30, 40, 50]\n",
    "queries = [[1, 3], [2, 4], [3, 5], [1, 5], [4, 4]]\n",
    "\n",
    "def solution(data, queries):\n",
    "    ans = []\n",
    "    for st, en in queries:\n",
    "        ans_n = 0\n",
    "        for i in data[st-1:en-1+1]:\n",
    "            ans_n += i\n",
    "        ans.append(ans_n)\n",
    "    return ans\n",
    "\n",
    "# test code\n",
    "solution(data, queries)"
   ]
  },
  {
   "cell_type": "code",
   "execution_count": 59,
   "metadata": {},
   "outputs": [
    {
     "name": "stdout",
     "output_type": "stream",
     "text": [
      "CPU times: user 10 µs, sys: 1 µs, total: 11 µs\n",
      "Wall time: 13.1 µs\n"
     ]
    },
    {
     "data": {
      "text/plain": [
       "[60, 90, 120, 150, 40]"
      ]
     },
     "execution_count": 59,
     "metadata": {},
     "output_type": "execute_result"
    }
   ],
   "source": [
    "%time solution(data, queries)"
   ]
  },
  {
   "cell_type": "code",
   "execution_count": 51,
   "metadata": {},
   "outputs": [
    {
     "data": {
      "text/plain": [
       "9"
      ]
     },
     "execution_count": 51,
     "metadata": {},
     "output_type": "execute_result"
    }
   ],
   "source": [
    "def solution(n):\n",
    "    \n",
    "    def inverse(int_):\n",
    "        return int(str(int_)[::-1])\n",
    "\n",
    "    ans = 0\n",
    "    min_ = 10**(n-1)\n",
    "    max_ = 10**n\n",
    "    for i in range(min_, max_+1):\n",
    "        if min_ <= inverse(i) <= max_ and i == inverse(i):\n",
    "            ans += 1\n",
    "    return ans\n",
    "\n",
    "#test code\n",
    "solution(2)"
   ]
  },
  {
   "cell_type": "markdown",
   "metadata": {},
   "source": [
    "---"
   ]
  },
  {
   "cell_type": "markdown",
   "metadata": {},
   "source": [
    "# 두번째 풀이"
   ]
  },
  {
   "cell_type": "code",
   "execution_count": 55,
   "metadata": {
    "scrolled": true
   },
   "outputs": [
    {
     "data": {
      "text/plain": [
       "{1: 10, 2: 20, 3: 30, 4: 40, 5: 50}"
      ]
     },
     "execution_count": 55,
     "metadata": {},
     "output_type": "execute_result"
    }
   ],
   "source": [
    "data = [10, 20, 30, 40, 50]\n",
    "dict_ = {idx: val for idx, val in enumerate(data)}\n",
    "queries = [[1, 3], [2, 4], [3, 5], [1, 5], [4, 4]]\n",
    "\n",
    "def cumsum(dict_, st, en):\n",
    "    ans = 0\n",
    "    for i in range(st, en+1):\n",
    "        ans += dict_[i-1]\n",
    "    return ans\n",
    "\n",
    " \n"
   ]
  },
  {
   "cell_type": "code",
   "execution_count": 95,
   "metadata": {},
   "outputs": [
    {
     "data": {
      "text/plain": [
       "10.9"
      ]
     },
     "execution_count": 95,
     "metadata": {},
     "output_type": "execute_result"
    }
   ],
   "source": [
    "def solution(n):\n",
    "    \n",
    "    def sum(n):\n",
    "        if n == 1:\n",
    "            return 10\n",
    "        elif n // 2:\n",
    "            return 9 * 10**((n - 1) // 2)\n",
    "        else:\n",
    "            return 9 * 10**(n // 2 - 1)\n",
    "    \n",
    "    ans = 0\n",
    "    for i in range(n+1):\n",
    "        print(sum(i))\n",
    "        ans += sum(i)\n",
    "    return ans\n",
    "        \n",
    "\n",
    "# test code\n",
    "solution(1)"
   ]
  },
  {
   "cell_type": "markdown",
   "metadata": {},
   "source": [
    "---"
   ]
  },
  {
   "cell_type": "markdown",
   "metadata": {},
   "source": [
    "# 예시 답안\n",
    "## 1."
   ]
  },
  {
   "cell_type": "markdown",
   "metadata": {},
   "source": [
    "bad"
   ]
  },
  {
   "cell_type": "code",
   "execution_count": 60,
   "metadata": {},
   "outputs": [],
   "source": [
    "def solution(d, q):\n",
    "    result = []\n",
    "    for s, e in q:\n",
    "        val = data[s-1:e]\n",
    "        result.append(sum(val))\n",
    "    return result"
   ]
  },
  {
   "cell_type": "code",
   "execution_count": 61,
   "metadata": {},
   "outputs": [
    {
     "data": {
      "text/plain": [
       "[60, 90, 120, 150, 40]"
      ]
     },
     "execution_count": 61,
     "metadata": {},
     "output_type": "execute_result"
    }
   ],
   "source": [
    "solution(data, queries)"
   ]
  },
  {
   "cell_type": "markdown",
   "metadata": {},
   "source": [
    "good \n",
    "- prefix algorithm\n",
    "- O(M+N)"
   ]
  },
  {
   "cell_type": "code",
   "execution_count": 169,
   "metadata": {},
   "outputs": [
    {
     "data": {
      "text/plain": [
       "[60, 90, 120, 150, 40]"
      ]
     },
     "execution_count": 169,
     "metadata": {},
     "output_type": "execute_result"
    }
   ],
   "source": [
    "data = [10, 20, 30, 40, 50]\n",
    "queries = [[1, 3], [2, 4], [3, 5], [1, 5], [4, 4]]\n",
    "\n",
    "def sol(data, queries):\n",
    "    \n",
    "    def cum(data):\n",
    "        cum, ans = [0], 0\n",
    "        for i in data:\n",
    "            ans += i\n",
    "            cum.append(ans)\n",
    "        return cum\n",
    "    \n",
    "    cum = cum(data)\n",
    "    result = []\n",
    "    for s, e in queries:\n",
    "        result.append(cum[e] - cum[s-1])\n",
    "    return result\n",
    "\n",
    "sol(data, queries)"
   ]
  },
  {
   "cell_type": "markdown",
   "metadata": {},
   "source": [
    "---\n",
    "- cumsum"
   ]
  },
  {
   "cell_type": "code",
   "execution_count": 84,
   "metadata": {},
   "outputs": [
    {
     "data": {
      "text/plain": [
       "[0, 10, 30, 60, 100, 150]"
      ]
     },
     "execution_count": 84,
     "metadata": {},
     "output_type": "execute_result"
    }
   ],
   "source": [
    "from itertools import accumulate\n",
    "acc = [0] + list(accumulate(data))\n",
    "acc"
   ]
  },
  {
   "cell_type": "markdown",
   "metadata": {},
   "source": [
    "- data에서 0~2번째 합"
   ]
  },
  {
   "cell_type": "code",
   "execution_count": 85,
   "metadata": {},
   "outputs": [
    {
     "data": {
      "text/plain": [
       "60"
      ]
     },
     "execution_count": 85,
     "metadata": {},
     "output_type": "execute_result"
    }
   ],
   "source": [
    "acc[2+1]"
   ]
  },
  {
   "cell_type": "markdown",
   "metadata": {},
   "source": [
    "- data에서 3~4 누적합"
   ]
  },
  {
   "cell_type": "code",
   "execution_count": 88,
   "metadata": {},
   "outputs": [
    {
     "data": {
      "text/plain": [
       "90"
      ]
     },
     "execution_count": 88,
     "metadata": {},
     "output_type": "execute_result"
    }
   ],
   "source": [
    "acc[4+1] - acc[3]"
   ]
  },
  {
   "cell_type": "code",
   "execution_count": 143,
   "metadata": {},
   "outputs": [],
   "source": [
    "from random import randint\n",
    "N = 1000000\n",
    "M = 10000\n",
    "\n",
    "data = [randint(1, N) for _ in range(N)]\n",
    "q = [ sorted( [ randint(1, N), randint(1, N-1) ] ) for _ in range(M)]"
   ]
  },
  {
   "cell_type": "markdown",
   "metadata": {},
   "source": [
    "---"
   ]
  },
  {
   "cell_type": "markdown",
   "metadata": {},
   "source": [
    "## 2.\n",
    "- 1자리: 10개\n",
    "- 2자리: 9개\n",
    "- 3자리: 9 * 10개\n",
    "\n",
    "\n",
    "- 점화식\n",
    "    - A0 = a\n",
    "    - A1 = a + d\n",
    "    - A2 = A1 + d\n",
    "    - An = A(n-1) + d"
   ]
  },
  {
   "cell_type": "code",
   "execution_count": null,
   "metadata": {},
   "outputs": [],
   "source": [
    "def a(n):\n",
    "    if n == 1:\n",
    "        return 3\n",
    "    return a(n-1) + 2"
   ]
  },
  {
   "cell_type": "markdown",
   "metadata": {},
   "source": [
    "bad"
   ]
  },
  {
   "cell_type": "code",
   "execution_count": 92,
   "metadata": {},
   "outputs": [],
   "source": [
    "def sol(n):\n",
    "    cnt = 0\n",
    "    for n in range(0, (10**n)+1):\n",
    "        st = str(n)\n",
    "        if st == st[::-1]:\n",
    "            cnt += 1\n",
    "    return cnt"
   ]
  },
  {
   "cell_type": "code",
   "execution_count": 124,
   "metadata": {},
   "outputs": [],
   "source": [
    "def sol(n):\n",
    "    ans = 10\n",
    "    if n == 1:\n",
    "        return ans]\n",
    "\n",
    "    for i in range(2, n+1):\n",
    "        ans += 9 * (10 ** ((n-1)//2))\n",
    "\n",
    "    return ans"
   ]
  },
  {
   "cell_type": "markdown",
   "metadata": {},
   "source": [
    "---"
   ]
  },
  {
   "cell_type": "markdown",
   "metadata": {},
   "source": [
    "# 추가공부\n",
    "- memoization\n",
    "- decorator\n",
    "- fib(400) = memo(400)"
   ]
  },
  {
   "cell_type": "code",
   "execution_count": 137,
   "metadata": {},
   "outputs": [],
   "source": [
    "def make_memo(func):\n",
    "    me = {}\n",
    "    def memo(n): #memo(400), func=fib\n",
    "        if me.get(n):\n",
    "            return me[n]\n",
    "        else:\n",
    "            result = func(n)\n",
    "            me[n] = result\n",
    "            return result\n",
    "    return memo"
   ]
  },
  {
   "cell_type": "code",
   "execution_count": 139,
   "metadata": {},
   "outputs": [
    {
     "data": {
      "text/plain": [
       "55"
      ]
     },
     "execution_count": 139,
     "metadata": {},
     "output_type": "execute_result"
    }
   ],
   "source": [
    "@make_memo\n",
    "def fib(n):\n",
    "    if n< 2:\n",
    "        return n\n",
    "    return fib(n-1) + fib(n-2)\n",
    "\n",
    "fib(10)"
   ]
  },
  {
   "cell_type": "code",
   "execution_count": null,
   "metadata": {},
   "outputs": [],
   "source": [
    "from functools import lru_cache\n",
    "@lru_cache(maxsize=512)\n",
    "def fib(n):\n",
    "    if n< 2:\n",
    "        return n\n",
    "    return fib(n-1) + fib(n-2)"
   ]
  },
  {
   "cell_type": "markdown",
   "metadata": {},
   "source": [
    "1."
   ]
  },
  {
   "cell_type": "code",
   "execution_count": 154,
   "metadata": {},
   "outputs": [
    {
     "data": {
      "text/plain": [
       "<function __main__.func()>"
      ]
     },
     "execution_count": 154,
     "metadata": {},
     "output_type": "execute_result"
    }
   ],
   "source": [
    "def deco(func):\n",
    "    def inner():\n",
    "        pass\n",
    "    return inner\n",
    "\n",
    "def func():\n",
    "    pass\n",
    "\n",
    "func"
   ]
  },
  {
   "cell_type": "markdown",
   "metadata": {},
   "source": [
    "2. "
   ]
  },
  {
   "cell_type": "code",
   "execution_count": 131,
   "metadata": {},
   "outputs": [
    {
     "data": {
      "text/plain": [
       "<function __main__.deco.<locals>.inner()>"
      ]
     },
     "execution_count": 131,
     "metadata": {},
     "output_type": "execute_result"
    }
   ],
   "source": [
    "# 상동\n",
    "deco(func)"
   ]
  },
  {
   "cell_type": "markdown",
   "metadata": {},
   "source": [
    "3."
   ]
  },
  {
   "cell_type": "code",
   "execution_count": 155,
   "metadata": {},
   "outputs": [
    {
     "data": {
      "text/plain": [
       "<function __main__.deco.<locals>.inner()>"
      ]
     },
     "execution_count": 155,
     "metadata": {},
     "output_type": "execute_result"
    }
   ],
   "source": [
    "# 상동\n",
    "@deco\n",
    "def func():\n",
    "    pass\n",
    "func"
   ]
  },
  {
   "cell_type": "markdown",
   "metadata": {},
   "source": [
    "4."
   ]
  },
  {
   "cell_type": "code",
   "execution_count": 197,
   "metadata": {},
   "outputs": [
    {
     "name": "stdout",
     "output_type": "stream",
     "text": [
      "p: inner\n"
     ]
    }
   ],
   "source": [
    "# func = inner\n",
    "def deco(func):\n",
    "    def inner():\n",
    "        print('p: inner')\n",
    "    return inner()\n",
    "\n",
    "@deco    \n",
    "def func():\n",
    "    print(\"func\")\n",
    "\n",
    "func"
   ]
  }
 ],
 "metadata": {
  "kernelspec": {
   "display_name": "Python 3",
   "language": "python",
   "name": "python3"
  },
  "language_info": {
   "codemirror_mode": {
    "name": "ipython",
    "version": 3
   },
   "file_extension": ".py",
   "mimetype": "text/x-python",
   "name": "python",
   "nbconvert_exporter": "python",
   "pygments_lexer": "ipython3",
   "version": "3.6.7"
  }
 },
 "nbformat": 4,
 "nbformat_minor": 2
}
