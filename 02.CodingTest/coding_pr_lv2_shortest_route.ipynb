{
 "cells": [
  {
   "cell_type": "markdown",
   "metadata": {},
   "source": [
    "# find shortest route"
   ]
  },
  {
   "cell_type": "code",
   "execution_count": 7,
   "metadata": {},
   "outputs": [],
   "source": [
    "def solution(route):\n",
    "    \n",
    "    for i in range(len(route)):\n",
    "        for j in range(len(route[i])):\n",
    "            if i == 0:\n",
    "                route[i][j] = 1\n",
    "            else:\n",
    "                if j == 0:\n",
    "                    route[i][j] =1\n",
    "                else:\n",
    "                    route[i][j] = route[i-1][j] + route[i][j-1]\n",
    "    \n",
    "    return route"
   ]
  },
  {
   "cell_type": "code",
   "execution_count": 9,
   "metadata": {},
   "outputs": [
    {
     "data": {
      "text/plain": [
       "[[1, 1, 1], [1, 2, 3], [1, 3, 6]]"
      ]
     },
     "execution_count": 9,
     "metadata": {},
     "output_type": "execute_result"
    }
   ],
   "source": [
    "route = [[0,0,0],[0,0,0],[0,0,0]]\n",
    "solution(route)"
   ]
  },
  {
   "cell_type": "code",
   "execution_count": 15,
   "metadata": {},
   "outputs": [
    {
     "data": {
      "text/plain": [
       "True"
      ]
     },
     "execution_count": 15,
     "metadata": {},
     "output_type": "execute_result"
    }
   ],
   "source": [
    "memo = {}\n",
    "memo[(1,2)]=1\n",
    "(1,2) in memo"
   ]
  },
  {
   "cell_type": "markdown",
   "metadata": {},
   "source": [
    "## Memoization"
   ]
  },
  {
   "cell_type": "code",
   "execution_count": 53,
   "metadata": {},
   "outputs": [],
   "source": [
    "memo = {}\n",
    "\n",
    "def path(i, j):\n",
    "\n",
    "    \n",
    "    if (i, j) in memo:\n",
    "        return memo[(i,j)]\n",
    "    \n",
    "    elif i == 0 or j == 0:\n",
    "        result = 1\n",
    "        memo[(i,j)]= result\n",
    "        return result\n",
    "        \n",
    "    else:\n",
    "        result = path(i-1, j) + path(i, j-1)\n",
    "        memo[(i,j)] = result\n",
    "        return result\n",
    "    "
   ]
  },
  {
   "cell_type": "code",
   "execution_count": 54,
   "metadata": {},
   "outputs": [
    {
     "data": {
      "text/plain": [
       "(35,\n",
       " {(0, 4): 1,\n",
       "  (0, 3): 1,\n",
       "  (0, 2): 1,\n",
       "  (0, 1): 1,\n",
       "  (1, 0): 1,\n",
       "  (1, 1): 2,\n",
       "  (1, 2): 3,\n",
       "  (1, 3): 4,\n",
       "  (1, 4): 5,\n",
       "  (2, 0): 1,\n",
       "  (2, 1): 3,\n",
       "  (2, 2): 6,\n",
       "  (2, 3): 10,\n",
       "  (2, 4): 15,\n",
       "  (3, 0): 1,\n",
       "  (3, 1): 4,\n",
       "  (3, 2): 10,\n",
       "  (3, 3): 20,\n",
       "  (3, 4): 35})"
      ]
     },
     "execution_count": 54,
     "metadata": {},
     "output_type": "execute_result"
    }
   ],
   "source": [
    "path(3,4), memo"
   ]
  }
 ],
 "metadata": {
  "kernelspec": {
   "display_name": "Python 3",
   "language": "python",
   "name": "python3"
  },
  "language_info": {
   "codemirror_mode": {
    "name": "ipython",
    "version": 3
   },
   "file_extension": ".py",
   "mimetype": "text/x-python",
   "name": "python",
   "nbconvert_exporter": "python",
   "pygments_lexer": "ipython3",
   "version": "3.6.6"
  }
 },
 "nbformat": 4,
 "nbformat_minor": 2
}
