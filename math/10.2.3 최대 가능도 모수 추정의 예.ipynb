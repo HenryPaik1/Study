{
 "cells": [
  {
   "cell_type": "markdown",
   "metadata": {},
   "source": [
    "# 1. 베르누이 분포의 모수 추정"
   ]
  },
  {
   "cell_type": "markdown",
   "metadata": {},
   "source": [
    "- Bern의 pmf\n",
    "### $$\n",
    "P(x;\\mu)=Bern(x;\\mu)=\\mu^x(1-\\mu)^{1-x}\\\\\n",
    "$$\n",
    "\n",
    "- 가능도함수: N번 반복하여 표본data $x_1, \\ldots, x_N$ 전체 pmf\n",
    "### $$\n",
    "\\mathcal{L}(\\mu;x_1, \\ldots, x_N)=P(x_1, \\ldots, x_N;\\mu) = \\prod_{i=1}^N \\mu^{x_i}(1-\\mu)^{1-x_i}\n",
    "$$\n",
    "\n",
    "- 로그 가능도\n",
    "### $$\n",
    "\\begin{eqnarray*}\n",
    "\\log L \n",
    "&=&  N_1 \\log\\mu  + (N-N_1) \\log(1 - \\mu) \\\\\n",
    "\\end{eqnarray*}\n",
    "$$\n",
    "\n",
    "- 모수 추정(Moment method결과값과 동일)\n",
    "### $$\n",
    "\\dfrac{\\partial \\log L}{\\partial \\mu} = \\dfrac{N_1}{N}\n",
    "$$"
   ]
  },
  {
   "cell_type": "markdown",
   "metadata": {},
   "source": [
    "# 2. 카테고리 분포의 모수 추정"
   ]
  },
  {
   "cell_type": "markdown",
   "metadata": {},
   "source": [
    "- cat 분포의 pmf\n",
    "### $$\n",
    "P(x_1, \\ldots, x_N;\\mu_1, \\ldots, \\mu_K) = Cat(x_1, \\ldots, x_N;\\mu_1,\\ldots,\\mu_K) \\\\\n",
    "\\rightarrow \\prod_{k=1}^K \\mu_k^{x_k}\n",
    "$$\n",
    "$$\n",
    "조건: \\sum_{k=1}^K \\mu_k = 1\\\\\n",
    "$$\n",
    "\n",
    "- 가능도 함수: N번 반복하여 표본data $x_{sample1}, \\ldots, x_{sampleN}$(**vector**) 전체의 pmf\n",
    "### $$\n",
    "L(\\mu_1, \\ldots, \\mu_K; x_{sample1}, \\ldots, x_{sampleN} \\\\\n",
    "= P(x_{sample1}, \\ldots, x_{sampleN}; \\mu_1, \\ldots, \\mu_K)\\\\\n",
    "= \\prod_{n=1}^N \\prod_{k=1}^K \\mu_k^{x_{nk}}\n",
    "$$\n"
   ]
  },
  {
   "cell_type": "markdown",
   "metadata": {},
   "source": [
    "- 로그 가능도\n",
    "### $$\n",
    "\\log L = \\sum_{k=1}^K  (\\log \\mu_k\\cdot \\; N_k) \\\\\n",
    "제한조건 : \\sum_{k=1}^K \\mu_k = 1\n",
    "$$\n",
    "$$\n",
    "(주사위 \\; k=1이\\; 나온\\; 횟수\\; : N_k = \\sum_{n=1}^N x_nk )\n",
    "$$\n",
    "\n",
    "- 라그랑주 승수법에 따른 목적함수\n",
    "\n",
    "$$\n",
    "\\\\\n",
    "J = \\sum_{k=1}^K \\log \\mu_k N_k + \\lambda \\left( 1 - \\sum_{k=1}^K \\mu_k \\right)\n",
    "$$\n",
    "\n",
    "\n",
    "- 모수추정(Moment method와 동일)\n",
    "### $$\n",
    "\\mu_k = \\dfrac{N_k}{N}\n",
    "$$\n",
    "\n",
    "    "
   ]
  },
  {
   "cell_type": "markdown",
   "metadata": {},
   "source": [
    "# 3. 정규분포의 모수추정"
   ]
  },
  {
   "cell_type": "markdown",
   "metadata": {},
   "source": [
    "- 표본 데이터 $x_1, \\ldots, x_N$일 때 전체pmf\n",
    "\n",
    "### $$\n",
    "\\prod_{i=1}^N \\dfrac{1}{\\sqrt{2 \\pi \\sigma^2}} \\exp(- \\dfrac{(x_i - \\mu)^2}{2 \\sigma^2})\n",
    "$$\n",
    "\n",
    "- 모수추정(Moment method와 동일)\n",
    "### $$\n",
    "\\mu = \\bar{x}\\\\\n",
    "\\sigma^2 = \\frac{1}{N} \\sum_{i=1}^N (x_i - \\bar{x})^2 = s^2(biased)\n",
    "$$"
   ]
  },
  {
   "cell_type": "markdown",
   "metadata": {},
   "source": [
    "# 4. 다변수 정규 분포의 모수추정"
   ]
  },
  {
   "cell_type": "markdown",
   "metadata": {},
   "source": [
    "- 가능도함수와 전체 pmf\n",
    "### $$\n",
    "L(\\mu; x_1, \\ldots, x_N) = p(x_1, \\ldots, x_N; \\mu)\\\\\n",
    "= \\prod_{i=1}^N \\dfrac{1}{(2 \\pi)^{D/2} |\\Sigma|^{1/2}} \\exp \\left(-\\frac{1}{2} (x_1-\\mu)^T \\Sigma^{-1} (x_i-\\mu) \\right)\n",
    "$$\n",
    "\n",
    "- 모수 $\\Sigma, \\mu$ 추정\n",
    "### $$\n",
    "\\mu = \\frac{1}{N} \\sum_{i=1}^N x_i = \\bar{x} \\\\\n",
    "\\Sigma = \\frac{1}{N} \\sum_{i=1}^N(x_i- \\bar{x})(x_i - \\bar{x})^T\n",
    "$$"
   ]
  },
  {
   "cell_type": "code",
   "execution_count": null,
   "metadata": {},
   "outputs": [],
   "source": [
    "\n"
   ]
  }
 ],
 "metadata": {
  "kernelspec": {
   "display_name": "Python 3",
   "language": "python",
   "name": "python3"
  },
  "language_info": {
   "codemirror_mode": {
    "name": "ipython",
    "version": 3
   },
   "file_extension": ".py",
   "mimetype": "text/x-python",
   "name": "python",
   "nbconvert_exporter": "python",
   "pygments_lexer": "ipython3",
   "version": "3.6.6"
  }
 },
 "nbformat": 4,
 "nbformat_minor": 2
}
