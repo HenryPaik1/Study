{
 "cells": [
  {
   "cell_type": "markdown",
   "metadata": {},
   "source": [
    "# 로지스틱 회귀분석\n",
    "- 종속 변수가 이항분포를 따르고, 모수 $\\mu$가 독립변수 x에 의존\n",
    "- y는 0 ~ N\n",
    "$$\n",
    "p(y \\mid x) = Bin(y \\mid \\mu(x), N)\n",
    "$$\n",
    "\n",
    "## 1. 시그모이드 함수\n",
    "- 베르누이 확률분포의 모수 $\\mu$를 x의 함수로 가정\n",
    "- 함수 $\\mu$는 x에 대한 선형함수 0~1 사이 값만 나올 수 있도록 시그모이드 함수 f 사용\n",
    "\n",
    "$$\n",
    "0 \\le \\mu = f(w^Tx) \\le 1\n",
    "$$\n",
    "\n",
    "- 시그모이드 함수는 모든 실수 종속 변수에 대해,\n",
    "    - (a, b) 사이의 한정된 값을 가짐\n",
    "    - 항상 0 또는 양의 기울기 가짐\n",
    "\n",
    "\n",
    "- 시그 모이드 함수 종류\n",
    "    - 로지스틱 함수 Logistic function    \n",
    "    $$\n",
    "    logistic(z) = \\sigma (z) = \\dfrac{1}{1 + \\exp (-z)}\n",
    "    $$\n",
    "    \n",
    "    - 하이퍼볼릭 탄젠트 함수 Hyperbolic tangent\n",
    "    \n",
    "    $$\n",
    "    2 \\sigma (2x) -1\n",
    "    $$\n",
    "    \n",
    "    - 오차 함수(Error Function, Logit)\n",
    "    \n",
    "    $$\n",
    "    erf(z) = \\dfrac{2}{\\sqrt \\pi} \\int_0^z e^{-t^2} dt\n",
    "    $$\n"
   ]
  },
  {
   "cell_type": "markdown",
   "metadata": {},
   "source": [
    "# 2. 로지스틱 함수\n",
    "$$\n",
    "P(Y=1 \\mid X=x) = \\mu(\\beta_0 + \\beta_1 x) = \\mu(w^Tx) = logistic(z) = \\dfrac{1}{1 + \\exp(-z)}\n",
    "$$\n",
    "### - 1 확률($\\mu$) vs 0 확률($1-\\mu$): odds ratio\n",
    "- $0 \\le \\text{odds ratio}(\\mu) \\le \\infty$\n",
    "$$\n",
    "\\text{odds ratio}(\\mu) = \\dfrac{\\mu}{1-\\mu}\n",
    "$$\n",
    "\n",
    "### - logit 함수:\n",
    "- 0 ~ 1 사이인 $\\mu \\,\\,\\, \\rightarrow \\,\\,\\,\\, \\text{odds ratio & logit함수} \\,\\,\\,\\, \\rightarrow \\,\\,\\,\\, -\\infty \\le z \\le \\infty$\n",
    "\n",
    "$$\n",
    "z = logit(\\mu) = log \\cdot odds \\, ratio (\\mu) = \\log (\\dfrac{\\mu}{1-\\mu})\n",
    "$$\n",
    "\n",
    "### - logistic 함수:\n",
    "- logit 함수의 역함수\n",
    "$$\n",
    "logistic(z) = \\mu(z) = \\dfrac{1}{1+ \\exp (-z)}\n",
    "$$"
   ]
  },
  {
   "cell_type": "markdown",
   "metadata": {},
   "source": [
    "# 2.1 선형판별 함수\n",
    "- z는 판별함수(decision function) 역할\n",
    "- $z=w^Tx \\rightarrow \\mu=0.5$\n",
    "- $z > 0 \\rightarrow \\mu > 0.5$\n",
    "- $z < 0 \\rightarrow \\mu < 0.5$"
   ]
  }
 ],
 "metadata": {
  "kernelspec": {
   "display_name": "Python 3",
   "language": "python",
   "name": "python3"
  },
  "language_info": {
   "codemirror_mode": {
    "name": "ipython",
    "version": 3
   },
   "file_extension": ".py",
   "mimetype": "text/x-python",
   "name": "python",
   "nbconvert_exporter": "python",
   "pygments_lexer": "ipython3",
   "version": "3.6.7"
  }
 },
 "nbformat": 4,
 "nbformat_minor": 2
}
