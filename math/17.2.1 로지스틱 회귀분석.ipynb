{
 "cells": [
  {
   "cell_type": "markdown",
   "metadata": {},
   "source": [
    "# 로지스틱 회귀분석\n",
    "- 종속 변수가 이항분포를 따르고, 모수 $\\mu$가 독립변수 x에 의존\n",
    "- y는 0 ~ N\n",
    "$$\n",
    "p(y \\mid x) = Bin(y \\mid \\mu(x), N)\n",
    "$$\n",
    "\n",
    "## 1. 시그모이드 함수\n",
    "- 베르누이 확률분포의 모수 $\\mu$를 x의 함수로 가정\n",
    "- 함수 $\\mu$는 x에 대한 선형함수 0~1 사이 값만 나올 수 있도록 시그모이드 함수 f 사용\n",
    "\n",
    "$$\n",
    "0 \\le \\mu = f(w^Tx) \\le 1\n",
    "$$\n",
    "\n",
    "- 시그모이드 함수는 모든 실수 종속 변수에 대해,\n",
    "    - (a, b) 사이의 한정된 값을 가짐\n",
    "    - 항상 0 또는 양의 기울기 가짐\n",
    "\n",
    "\n",
    "- 시그 모이드 함수 종류\n",
    "    - 로지스틱 함수 Logistic function    \n",
    "    $$\n",
    "    logistic(z) = \\sigma (z) = \\dfrac{1}{1 + \\exp (-z)}\n",
    "    $$\n",
    "    \n",
    "    - 하이퍼볼릭 탄젠트 함수 Hyperbolic tangent\n",
    "    \n",
    "    $$\n",
    "    2 \\sigma (2x) -1\n",
    "    $$\n",
    "    \n",
    "    - 오차 함수(Error Function, Logit)\n",
    "    \n",
    "    $$\n",
    "    erf(z) = \\dfrac{2}{\\sqrt \\pi} \\int_0^z e^{-t^2} dt\n",
    "    $$\n"
   ]
  },
  {
   "cell_type": "markdown",
   "metadata": {},
   "source": [
    "## 2. 로지스틱 함수\n",
    "$$\n",
    "P(Y=1 \\mid X=x) = \\mu(\\beta_0 + \\beta_1 x) = \\mu(w^Tx) = logistic(z) = \\dfrac{1}{1 + \\exp(-z)}\n",
    "$$\n",
    "### - 1 확률($\\mu$) vs 0 확률($1-\\mu$): odds ratio\n",
    "- $0 \\le \\text{odds ratio}(\\mu) \\le 1$\n",
    "$$\n",
    "\\text{odds ratio}(\\mu) = \\dfrac{\\mu}{1-\\mu}\n",
    "$$\n",
    "\n",
    "### - logit 함수:\n",
    "- 0 ~ 1 사이인 $\\mu \\,\\,\\, \\rightarrow \\,\\,\\,\\, \\text{odds ratio & logit함수} \\,\\,\\,\\, \\rightarrow \\,\\,\\,\\, -\\infty \\le z \\le \\infty$\n",
    "\n",
    "$$\n",
    "z = logit(\\mu) = log \\cdot odds \\, ratio (\\mu) = \\log (\\dfrac{\\mu}{1-\\mu})\n",
    "$$\n",
    "\n",
    "### - logistic 함수:\n",
    "- logit 함수의 역함수\n",
    "$$\n",
    "logistic(z) = \\mu(z) = \\dfrac{1}{1+ \\exp (-z)}\n",
    "$$"
   ]
  },
  {
   "cell_type": "markdown",
   "metadata": {},
   "source": [
    "## 2.1 선형판별 함수\n",
    "- z는 판별함수(decision function) 역할\n",
    "- $z=w^Tx \\rightarrow \\mu=0.5$\n",
    "- $z > 0 \\rightarrow \\mu > 0.5$\n",
    "- $z < 0 \\rightarrow \\mu < 0.5$"
   ]
  },
  {
   "cell_type": "markdown",
   "metadata": {},
   "source": [
    "## 2.2 로지스틱 모형 모수 추정\n",
    "- 모수 w\n",
    "- 종속변수 y가 베르누이 확률 변수로 가정\n",
    "$$\n",
    "p(y \\mid x) = Bern(y \\mid \\mu(x;w)) \\\\\n",
    "\\mu(x;w) = \\dfrac{1}{1+exp(-w^Tx)}\n",
    "$$\n",
    "\n",
    "- 데이터 표본 $\\{x_i, y_i\\}_{1:N}$일 경우 Log Likelihood LL\n",
    "$$\n",
    "LL = \\log \\prod_{i=1}^N \\mu_i(x_i;w)^{y_i}(1-\\mu_i (x_i;w))^{1-y_i}\n",
    "$$\n",
    "- LL을 w로 미분 $\\rightarrow$ Gradient=0 되게 하는 w\n",
    "$$\n",
    "\\dfrac{\\partial \\text{LL}}{\\partial w} = \\sum_{i=1}^N(y_i - \\mu_i(x_i;w))x_i\n",
    "$$\n"
   ]
  },
  {
   "cell_type": "markdown",
   "metadata": {},
   "source": [
    "## 2.2.1 수치적 최적화\n",
    "- 가능도 함수 $\\text{LL}$ 최대화\n",
    "    - 목적함수 $\\text{J} = -\\text{LL}$ 를 최소화\n",
    "\n",
    "$$\n",
    "w^* = \\arg \\min_w \\text{-LL}\n",
    "$$\n",
    "- SGD\n",
    "    - Gradient Vector\n",
    "$$\n",
    "g_k = -\\dfrac{d\\text{LL}}{dw}\n",
    "$$\n",
    "\n",
    "    - step size\n",
    "$$\n",
    "\\begin{eqnarray}\n",
    "w_{k+1} \n",
    "&=& w_k - \\eta_k g_k \\\\\n",
    "&=& w_k + \\eta_k \\sum_{i=1}^k(y_i - \\mu_i(x_i;w_k))x_i\n",
    "\\end{eqnarray}\n",
    "$$\n",
    "\n",
    "## 2.3 정규화\n",
    "- 로지스틱 회귀에서 과최적화 방지위해 ridge, lasso, elastic net방식의 정규화 페널티 추가\n",
    "- 페널티 추가된 목적함수\n",
    "\n",
    "$$\n",
    "eg. \\, \\text{J}' = -\\text{LL} + \\lambda w^Tw \n",
    "$$\n",
    "\n",
    "## 2.4 로지스틱 회귀 계수 검정\n",
    "$$H_0: w_k = 0$$\n",
    "## 2.5 성능측정\n",
    "- 일종의 오차\n",
    "- 좌측: y=1, 우측: y=0\n",
    "- $G^2$는 현재 deviance\n",
    "- $G_0^2$은 귀무모형(null model)로 측정한 deviance: x에 상관없이 동일하게 y에측\n",
    "\n",
    "$$\n",
    "R_{pseudo}^2 = 1 - \\dfrac{G^2}{G_0^2} \\\\\n",
    "G^2 = 2 \\sum_{i=1}^N \\left( y_i \\log \\dfrac{y_i}{\\hat{y}_i} + (1-y_i)\\log \\dfrac{1-y_i}{1-\\hat{y}_i} \\right) \\\\\n",
    "\\hat{y}_i = \\mu(x_i)\n",
    "$$\n"
   ]
  },
  {
   "cell_type": "markdown",
   "metadata": {},
   "source": [
    "## 3. 로지스틱 회귀를 사용한 회귀분석"
   ]
  },
  {
   "cell_type": "markdown",
   "metadata": {},
   "source": [
    "### 이진분류의 예"
   ]
  },
  {
   "cell_type": "code",
   "execution_count": 23,
   "metadata": {},
   "outputs": [
    {
     "data": {
      "text/html": [
       "<div>\n",
       "<style scoped>\n",
       "    .dataframe tbody tr th:only-of-type {\n",
       "        vertical-align: middle;\n",
       "    }\n",
       "\n",
       "    .dataframe tbody tr th {\n",
       "        vertical-align: top;\n",
       "    }\n",
       "\n",
       "    .dataframe thead th {\n",
       "        text-align: right;\n",
       "    }\n",
       "</style>\n",
       "<table border=\"1\" class=\"dataframe\">\n",
       "  <thead>\n",
       "    <tr style=\"text-align: right;\">\n",
       "      <th></th>\n",
       "      <th>Accept</th>\n",
       "      <th>Acceptance</th>\n",
       "      <th>Sex</th>\n",
       "      <th>BCPM</th>\n",
       "      <th>GPA</th>\n",
       "      <th>VR</th>\n",
       "      <th>PS</th>\n",
       "      <th>WS</th>\n",
       "      <th>BS</th>\n",
       "      <th>MCAT</th>\n",
       "      <th>Apps</th>\n",
       "    </tr>\n",
       "  </thead>\n",
       "  <tbody>\n",
       "    <tr>\n",
       "      <th>50</th>\n",
       "      <td>D</td>\n",
       "      <td>0</td>\n",
       "      <td>M</td>\n",
       "      <td>2.41</td>\n",
       "      <td>2.72</td>\n",
       "      <td>8</td>\n",
       "      <td>8</td>\n",
       "      <td>8.0</td>\n",
       "      <td>8</td>\n",
       "      <td>32</td>\n",
       "      <td>7</td>\n",
       "    </tr>\n",
       "    <tr>\n",
       "      <th>51</th>\n",
       "      <td>D</td>\n",
       "      <td>0</td>\n",
       "      <td>M</td>\n",
       "      <td>3.51</td>\n",
       "      <td>3.56</td>\n",
       "      <td>11</td>\n",
       "      <td>8</td>\n",
       "      <td>6.0</td>\n",
       "      <td>9</td>\n",
       "      <td>34</td>\n",
       "      <td>6</td>\n",
       "    </tr>\n",
       "    <tr>\n",
       "      <th>52</th>\n",
       "      <td>A</td>\n",
       "      <td>1</td>\n",
       "      <td>F</td>\n",
       "      <td>3.43</td>\n",
       "      <td>3.48</td>\n",
       "      <td>7</td>\n",
       "      <td>10</td>\n",
       "      <td>7.0</td>\n",
       "      <td>10</td>\n",
       "      <td>34</td>\n",
       "      <td>14</td>\n",
       "    </tr>\n",
       "    <tr>\n",
       "      <th>53</th>\n",
       "      <td>D</td>\n",
       "      <td>0</td>\n",
       "      <td>M</td>\n",
       "      <td>2.61</td>\n",
       "      <td>2.80</td>\n",
       "      <td>7</td>\n",
       "      <td>5</td>\n",
       "      <td>NaN</td>\n",
       "      <td>6</td>\n",
       "      <td>18</td>\n",
       "      <td>6</td>\n",
       "    </tr>\n",
       "    <tr>\n",
       "      <th>54</th>\n",
       "      <td>D</td>\n",
       "      <td>0</td>\n",
       "      <td>M</td>\n",
       "      <td>3.36</td>\n",
       "      <td>3.44</td>\n",
       "      <td>11</td>\n",
       "      <td>11</td>\n",
       "      <td>8.0</td>\n",
       "      <td>9</td>\n",
       "      <td>39</td>\n",
       "      <td>1</td>\n",
       "    </tr>\n",
       "  </tbody>\n",
       "</table>\n",
       "</div>"
      ],
      "text/plain": [
       "   Accept  Acceptance Sex  BCPM   GPA  VR  PS   WS  BS  MCAT  Apps\n",
       "50      D           0   M  2.41  2.72   8   8  8.0   8    32     7\n",
       "51      D           0   M  3.51  3.56  11   8  6.0   9    34     6\n",
       "52      A           1   F  3.43  3.48   7  10  7.0  10    34    14\n",
       "53      D           0   M  2.61  2.80   7   5  NaN   6    18     6\n",
       "54      D           0   M  3.36  3.44  11  11  8.0   9    39     1"
      ]
     },
     "execution_count": 23,
     "metadata": {},
     "output_type": "execute_result"
    }
   ],
   "source": [
    "data = sm.datasets.get_rdataset(\"MedGPA\", package=\"Stat2Data\")\n",
    "df = data.data\n",
    "df.tail()"
   ]
  },
  {
   "cell_type": "code",
   "execution_count": 35,
   "metadata": {},
   "outputs": [
    {
     "data": {
      "image/png": "[encoded data removed]",
      "text/plain": [
       "<Figure size 432x288 with 1 Axes>"
      ]
     },
     "metadata": {
      "needs_background": "light"
     },
     "output_type": "display_data"
    }
   ],
   "source": [
    "sns.stripplot(\"GPA\", \"Acceptance\", data=df, jitter=True, orient='h', order=[1, 0])\n",
    "plt.grid(True)\n",
    "plt.show()"
   ]
  },
  {
   "cell_type": "code",
   "execution_count": 38,
   "metadata": {
    "scrolled": false
   },
   "outputs": [
    {
     "name": "stdout",
     "output_type": "stream",
     "text": [
      "Optimization terminated successfully.\n",
      "         Current function value: 0.280736\n",
      "         Iterations 9\n",
      "                           Logit Regression Results                           \n",
      "==============================================================================\n",
      "Dep. Variable:             Acceptance   No. Observations:                   54\n",
      "Model:                          Logit   Df Residuals:                       45\n",
      "Method:                           MLE   Df Model:                            8\n",
      "Date:                Mon, 03 Dec 2018   Pseudo R-squ.:                  0.5913\n",
      "Time:                        18:54:30   Log-Likelihood:                -15.160\n",
      "converged:                       True   LL-Null:                       -37.096\n",
      "                                        LLR p-value:                 6.014e-07\n",
      "==============================================================================\n",
      "                 coef    std err          z      P>|z|      [0.025      0.975]\n",
      "------------------------------------------------------------------------------\n",
      "Intercept    -46.6414     15.600     -2.990      0.003     -77.216     -16.067\n",
      "Sex[T.M]      -2.2835      1.429     -1.597      0.110      -5.085       0.518\n",
      "BCPM          -6.1633      6.963     -0.885      0.376     -19.811       7.484\n",
      "GPA           12.3973      8.611      1.440      0.150      -4.479      29.274\n",
      "VR             0.0790      0.311      0.254      0.799      -0.530       0.688\n",
      "PS             1.1673      0.539      2.164      0.030       0.110       2.225\n",
      "WS            -0.7784      0.396     -1.968      0.049      -1.554      -0.003\n",
      "BS             1.9184      0.682      2.814      0.005       0.582       3.255\n",
      "Apps           0.0512      0.147      0.348      0.728      -0.237       0.340\n",
      "==============================================================================\n"
     ]
    }
   ],
   "source": [
    "f = \"Acceptance ~ Sex + BCPM + GPA + VR + PS + WS + BS + Apps\"\n",
    "model = sm.Logit.from_formula(f,  df)\n",
    "result = model.fit()\n",
    "print(result.summary())"
   ]
  },
  {
   "cell_type": "code",
   "execution_count": 39,
   "metadata": {},
   "outputs": [
    {
     "data": {
      "image/png": "[encoded data removed]",
      "text/plain": [
       "<Figure size 432x288 with 1 Axes>"
      ]
     },
     "metadata": {
      "needs_background": "light"
     },
     "output_type": "display_data"
    }
   ],
   "source": [
    "# 지금 모델에서 설명안되는 것이 0: 3개, 1: 2개)\n",
    "df[\"pred\"] = result.predict(df)\n",
    "sns.boxplot(x=\"Acceptance\", y=\"pred\", data=df)\n",
    "plt.show()"
   ]
  },
  {
   "cell_type": "markdown",
   "metadata": {},
   "source": [
    " ### 회귀분석의 예 1)"
   ]
  },
  {
   "cell_type": "code",
   "execution_count": 7,
   "metadata": {},
   "outputs": [
    {
     "name": "stdout",
     "output_type": "stream",
     "text": [
      "Optimization terminated successfully.\n",
      "         Current function value: 0.160844\n",
      "         Iterations 8\n",
      "                           Logit Regression Results                           \n",
      "==============================================================================\n",
      "Dep. Variable:                      y   No. Observations:                  100\n",
      "Model:                          Logit   Df Residuals:                       98\n",
      "Method:                           MLE   Df Model:                            1\n",
      "Date:                Mon, 03 Dec 2018   Pseudo R-squ.:                  0.7679\n",
      "Time:                        18:35:04   Log-Likelihood:                -16.084\n",
      "converged:                       True   LL-Null:                       -69.295\n",
      "                                        LLR p-value:                 5.963e-25\n",
      "==============================================================================\n",
      "                 coef    std err          z      P>|z|      [0.025      0.975]\n",
      "------------------------------------------------------------------------------\n",
      "const          0.2515      0.477      0.527      0.598      -0.683       1.186\n",
      "x1             4.2382      0.902      4.699      0.000       2.470       6.006\n",
      "==============================================================================\n"
     ]
    }
   ],
   "source": [
    "## Log-Likelihood: LL 최대값\n",
    "## LL null: LL 하한값\n",
    "## p-value: 하한이 나와야 하는데, 최대값이 나왔을 확률\n",
    "%matplotlib inline\n",
    "from sklearn.datasets import make_classification\n",
    "import statsmodels.api as sm\n",
    "X0, y = make_classification(n_features=1, n_redundant=0, n_informative=1,\n",
    "                           n_clusters_per_class=1, random_state=4)\n",
    "X = sm.add_constant(X0)\n",
    "logit_mod = sm.Logit(y, X)\n",
    "logit_res = logit_mod.fit()\n",
    "print(logit_res.summary())"
   ]
  },
  {
   "cell_type": "code",
   "execution_count": 21,
   "metadata": {},
   "outputs": [
    {
     "data": {
      "image/png": "[encoded data removed]",
      "text/plain": [
       "<Figure size 432x288 with 1 Axes>"
      ]
     },
     "metadata": {
      "needs_background": "light"
     },
     "output_type": "display_data"
    }
   ],
   "source": [
    "xx = np.linspace(-3, 3, 100)\n",
    "mu = logit_res.predict(sm.add_constant(xx))\n",
    "plt.plot(xx, mu)\n",
    "plt.scatter(X0, y, label=\"y\", marker='o', s=50)\n",
    "plt.scatter(X0, logit_res.predict(X), label=r\"$\\hat{y}$\", marker='x', c=y,\n",
    "           s=200, lw=2, alpha=0.5, cmap=mpl.cm.jet)\n",
    "plt.title(r\"$\\hat{y} = \\mu(x)$\")\n",
    "plt.legend()\n",
    "plt.show()"
   ]
  },
  {
   "cell_type": "markdown",
   "metadata": {},
   "source": [
    "### 회귀분석의 예 2)"
   ]
  },
  {
   "cell_type": "code",
   "execution_count": 61,
   "metadata": {},
   "outputs": [
    {
     "data": {
      "text/html": [
       "<div>\n",
       "<style scoped>\n",
       "    .dataframe tbody tr th:only-of-type {\n",
       "        vertical-align: middle;\n",
       "    }\n",
       "\n",
       "    .dataframe tbody tr th {\n",
       "        vertical-align: top;\n",
       "    }\n",
       "\n",
       "    .dataframe thead th {\n",
       "        text-align: right;\n",
       "    }\n",
       "</style>\n",
       "<table border=\"1\" class=\"dataframe\">\n",
       "  <thead>\n",
       "    <tr style=\"text-align: right;\">\n",
       "      <th></th>\n",
       "      <th>education</th>\n",
       "      <th>sex</th>\n",
       "      <th>agree</th>\n",
       "      <th>disagree</th>\n",
       "      <th>agree_ratio</th>\n",
       "    </tr>\n",
       "  </thead>\n",
       "  <tbody>\n",
       "    <tr>\n",
       "      <th>37</th>\n",
       "      <td>16</td>\n",
       "      <td>Female</td>\n",
       "      <td>13</td>\n",
       "      <td>115</td>\n",
       "      <td>0.101562</td>\n",
       "    </tr>\n",
       "    <tr>\n",
       "      <th>38</th>\n",
       "      <td>17</td>\n",
       "      <td>Female</td>\n",
       "      <td>3</td>\n",
       "      <td>28</td>\n",
       "      <td>0.096774</td>\n",
       "    </tr>\n",
       "    <tr>\n",
       "      <th>39</th>\n",
       "      <td>18</td>\n",
       "      <td>Female</td>\n",
       "      <td>0</td>\n",
       "      <td>21</td>\n",
       "      <td>0.000000</td>\n",
       "    </tr>\n",
       "    <tr>\n",
       "      <th>40</th>\n",
       "      <td>19</td>\n",
       "      <td>Female</td>\n",
       "      <td>1</td>\n",
       "      <td>2</td>\n",
       "      <td>0.333333</td>\n",
       "    </tr>\n",
       "    <tr>\n",
       "      <th>41</th>\n",
       "      <td>20</td>\n",
       "      <td>Female</td>\n",
       "      <td>2</td>\n",
       "      <td>4</td>\n",
       "      <td>0.333333</td>\n",
       "    </tr>\n",
       "  </tbody>\n",
       "</table>\n",
       "</div>"
      ],
      "text/plain": [
       "    education     sex  agree  disagree  agree_ratio\n",
       "37         16  Female     13       115     0.101562\n",
       "38         17  Female      3        28     0.096774\n",
       "39         18  Female      0        21     0.000000\n",
       "40         19  Female      1         2     0.333333\n",
       "41         20  Female      2         4     0.333333"
      ]
     },
     "execution_count": 61,
     "metadata": {},
     "output_type": "execute_result"
    }
   ],
   "source": [
    "data = sm.datasets.get_rdataset(\"womensrole\", package=\"HSAUR\")\n",
    "df = data.data\n",
    "df[\"agree_ratio\"] = df.agree / (df.agree + df.disagree)\n",
    "df.tail()"
   ]
  },
  {
   "cell_type": "code",
   "execution_count": 62,
   "metadata": {},
   "outputs": [
    {
     "data": {
      "image/png": "[encoded data removed]",
      "text/plain": [
       "<Figure size 432x288 with 1 Axes>"
      ]
     },
     "metadata": {
      "needs_background": "light"
     },
     "output_type": "display_data"
    }
   ],
   "source": [
    "sns.scatterplot(x=\"education\", y=\"agree_ratio\", style=\"sex\", data=df, s=90)\n",
    "plt.grid(True)\n",
    "plt.show()"
   ]
  },
  {
   "cell_type": "code",
   "execution_count": 63,
   "metadata": {},
   "outputs": [
    {
     "name": "stdout",
     "output_type": "stream",
     "text": [
      "Optimization terminated successfully.\n",
      "         Current function value: 0.448292\n",
      "         Iterations 6\n",
      "                           Logit Regression Results                           \n",
      "==============================================================================\n",
      "Dep. Variable:            agree_ratio   No. Observations:                   41\n",
      "Model:                          Logit   Df Residuals:                       38\n",
      "Method:                           MLE   Df Model:                            2\n",
      "Date:                Mon, 03 Dec 2018   Pseudo R-squ.:                  0.3435\n",
      "Time:                        19:04:44   Log-Likelihood:                -18.380\n",
      "converged:                       True   LL-Null:                       -27.997\n",
      "                                        LLR p-value:                 6.660e-05\n",
      "===============================================================================\n",
      "                  coef    std err          z      P>|z|      [0.025      0.975]\n",
      "-------------------------------------------------------------------------------\n",
      "Intercept       2.0442      0.889      2.299      0.022       0.302       3.787\n",
      "sex[T.Male]    -0.1968      0.736     -0.267      0.789      -1.640       1.247\n",
      "education      -0.2127      0.071     -2.987      0.003      -0.352      -0.073\n",
      "===============================================================================\n"
     ]
    }
   ],
   "source": [
    "f = \"agree_ratio ~ education + sex\"\n",
    "model = sm.Logit.from_formula(f, df)\n",
    "result = model.fit()\n",
    "print(result.summary())"
   ]
  },
  {
   "cell_type": "code",
   "execution_count": 64,
   "metadata": {},
   "outputs": [
    {
     "name": "stdout",
     "output_type": "stream",
     "text": [
      "Optimization terminated successfully.\n",
      "         Current function value: 0.449186\n",
      "         Iterations 6\n",
      "                           Logit Regression Results                           \n",
      "==============================================================================\n",
      "Dep. Variable:            agree_ratio   No. Observations:                   41\n",
      "Model:                          Logit   Df Residuals:                       39\n",
      "Method:                           MLE   Df Model:                            1\n",
      "Date:                Mon, 03 Dec 2018   Pseudo R-squ.:                  0.3422\n",
      "Time:                        19:05:30   Log-Likelihood:                -18.417\n",
      "converged:                       True   LL-Null:                       -27.997\n",
      "                                        LLR p-value:                 1.202e-05\n",
      "==============================================================================\n",
      "                 coef    std err          z      P>|z|      [0.025      0.975]\n",
      "------------------------------------------------------------------------------\n",
      "Intercept      1.9345      0.781      2.478      0.013       0.405       3.464\n",
      "education     -0.2117      0.071     -2.983      0.003      -0.351      -0.073\n",
      "==============================================================================\n"
     ]
    }
   ],
   "source": [
    "# 성별 제외\n",
    "f = \"agree_ratio ~ education\"\n",
    "model = sm.Logit.from_formula(f, df)\n",
    "result = model.fit()\n",
    "print(result.summary())"
   ]
  },
  {
   "cell_type": "code",
   "execution_count": 68,
   "metadata": {},
   "outputs": [
    {
     "data": {
      "image/png": "[encoded data removed]",
      "text/plain": [
       "<Figure size 432x288 with 1 Axes>"
      ]
     },
     "metadata": {
      "needs_background": "light"
     },
     "output_type": "display_data"
    }
   ],
   "source": [
    "sns.scatterplot(x=\"education\", y=\"agree_ratio\", data=df, label=\"y\")\n",
    "xx = np.linspace(0, 20, 100)\n",
    "df_p = pd.DataFrame({\"education\": xx})\n",
    "plt.plot(xx, result.predict(df_p), \"r-\", lw=2, label=\"pred\")\n",
    "plt.legend()\n",
    "plt.show()"
   ]
  }
 ],
 "metadata": {
  "kernelspec": {
   "display_name": "Python 3",
   "language": "python",
   "name": "python3"
  },
  "language_info": {
   "codemirror_mode": {
    "name": "ipython",
    "version": 3
   },
   "file_extension": ".py",
   "mimetype": "text/x-python",
   "name": "python",
   "nbconvert_exporter": "python",
   "pygments_lexer": "ipython3",
   "version": "3.6.7"
  }
 },
 "nbformat": 4,
 "nbformat_minor": 2
}
