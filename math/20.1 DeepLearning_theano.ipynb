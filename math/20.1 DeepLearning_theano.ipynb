{
 "cells": [
  {
   "cell_type": "code",
   "execution_count": 1,
   "metadata": {},
   "outputs": [
    {
     "name": "stdout",
     "output_type": "stream",
     "text": [
      "3.6.5\n"
     ]
    }
   ],
   "source": [
    "import platform\n",
    "print(platform.python_version())"
   ]
  },
  {
   "cell_type": "code",
   "execution_count": 2,
   "metadata": {},
   "outputs": [],
   "source": [
    "import os\n",
    "os.environ['MKL_THREADING_LAYER'] ='GNU'"
   ]
  },
  {
   "cell_type": "code",
   "execution_count": 3,
   "metadata": {},
   "outputs": [],
   "source": [
    "import theano\n",
    "import theano.tensor as T"
   ]
  },
  {
   "cell_type": "markdown",
   "metadata": {},
   "source": [
    "# 심볼변수\n",
    "### 스칼라, 벡터, 행렬 정의\n",
    "- `dscalar`, `dvector`, `dmatrix`"
   ]
  },
  {
   "cell_type": "code",
   "execution_count": 4,
   "metadata": {
    "scrolled": true
   },
   "outputs": [
    {
     "data": {
      "text/plain": [
       "(theano.tensor.var.TensorVariable,\n",
       " theano.tensor.var.TensorVariable,\n",
       " theano.tensor.var.TensorVariable)"
      ]
     },
     "execution_count": 4,
     "metadata": {},
     "output_type": "execute_result"
    }
   ],
   "source": [
    "x1 = T.dscalar('x1')\n",
    "y1 = T.dscalar('y1')\n",
    "\n",
    "x2 = T.dvector('x2')\n",
    "y2 = T.dvector('y2')\n",
    "\n",
    "x3 = T.dmatrix('x3')\n",
    "y3 = T.dmatrix('y3')\n",
    "\n",
    "type(x1), type(x2), type(x3)"
   ]
  },
  {
   "cell_type": "markdown",
   "metadata": {},
   "source": [
    "# 그래프 정의\n",
    "- 사칙연산과 Theano 수학함수로 다른 심볼변수 만들 수 있음\n",
    "- graph: new & existing variable 연산관계"
   ]
  },
  {
   "cell_type": "code",
   "execution_count": 5,
   "metadata": {},
   "outputs": [
    {
     "data": {
      "text/plain": [
       "theano.tensor.var.TensorVariable"
      ]
     },
     "execution_count": 5,
     "metadata": {},
     "output_type": "execute_result"
    }
   ],
   "source": [
    "z1 = x1 + y1\n",
    "type(z1)"
   ]
  },
  {
   "cell_type": "code",
   "execution_count": 6,
   "metadata": {},
   "outputs": [
    {
     "data": {
      "text/plain": [
       "theano.tensor.var.TensorVariable"
      ]
     },
     "execution_count": 6,
     "metadata": {},
     "output_type": "execute_result"
    }
   ],
   "source": [
    "u1 = T.exp(z1)\n",
    "type(u1)"
   ]
  },
  {
   "cell_type": "code",
   "execution_count": 7,
   "metadata": {},
   "outputs": [
    {
     "data": {
      "text/plain": [
       "theano.tensor.var.TensorVariable"
      ]
     },
     "execution_count": 7,
     "metadata": {},
     "output_type": "execute_result"
    }
   ],
   "source": [
    "z2 = T.dot(x2, y2)\n",
    "type(z2)"
   ]
  },
  {
   "cell_type": "code",
   "execution_count": 8,
   "metadata": {},
   "outputs": [
    {
     "data": {
      "text/plain": [
       "theano.tensor.var.TensorVariable"
      ]
     },
     "execution_count": 8,
     "metadata": {},
     "output_type": "execute_result"
    }
   ],
   "source": [
    "z3 = T.sum(x3) + T.mean(y3)\n",
    "type(z3)"
   ]
  },
  {
   "cell_type": "markdown",
   "metadata": {},
   "source": [
    "# 심볼 프린트 및 그래프 시각화\n",
    "- `theano.printing.pprint`, `theano.printing.pydotprint`"
   ]
  },
  {
   "cell_type": "code",
   "execution_count": 9,
   "metadata": {},
   "outputs": [
    {
     "data": {
      "text/plain": [
       "'x1'"
      ]
     },
     "execution_count": 9,
     "metadata": {},
     "output_type": "execute_result"
    }
   ],
   "source": [
    "theano.printing.pprint(x1)"
   ]
  },
  {
   "cell_type": "code",
   "execution_count": 10,
   "metadata": {},
   "outputs": [
    {
     "data": {
      "text/plain": [
       "'(x1 + y1)'"
      ]
     },
     "execution_count": 10,
     "metadata": {},
     "output_type": "execute_result"
    }
   ],
   "source": [
    "theano.printing.pprint(z1)"
   ]
  },
  {
   "cell_type": "code",
   "execution_count": 11,
   "metadata": {
    "scrolled": true
   },
   "outputs": [
    {
     "data": {
      "text/plain": [
       "'exp((x1 + y1))'"
      ]
     },
     "execution_count": 11,
     "metadata": {},
     "output_type": "execute_result"
    }
   ],
   "source": [
    "theano.printing.pprint(u1)"
   ]
  },
  {
   "cell_type": "code",
   "execution_count": 12,
   "metadata": {},
   "outputs": [
    {
     "data": {
      "image/svg+xml": [
       "<svg height=\"204pt\" viewBox=\"0.00 0.00 474.00 204.00\" width=\"474pt\" xmlns=\"http://www.w3.org/2000/svg\" xmlns:xlink=\"http://www.w3.org/1999/xlink\">\n",
       "<g class=\"graph\" id=\"graph0\" transform=\"scale(1 1) rotate(0) translate(4 200)\">\n",
       "<title>G</title>\n",
       "<polygon fill=\"#ffffff\" points=\"-4,4 -4,-200 470,-200 470,4 -4,4\" stroke=\"transparent\"/>\n",
       "<!-- 140678952207808 -->\n",
       "<g class=\"node\" id=\"node1\">\n",
       "<title>140678952207808</title>\n",
       "<ellipse cx=\"233\" cy=\"-91\" fill=\"#ffaabb\" rx=\"108.5808\" ry=\"18\" stroke=\"#000000\"/>\n",
       "<text fill=\"#000000\" font-family=\"Times,serif\" font-size=\"14.00\" text-anchor=\"middle\" x=\"233\" y=\"-87.3\">Elemwise{add,no_inplace}</text>\n",
       "</g>\n",
       "<!-- 140678952207976 -->\n",
       "<g class=\"node\" id=\"node4\">\n",
       "<title>140678952207976</title>\n",
       "<polygon fill=\"#0000ff\" points=\"317,-36 149,-36 149,0 317,0 317,-36\" stroke=\"#000000\"/>\n",
       "<text fill=\"#000000\" font-family=\"Times,serif\" font-size=\"14.00\" text-anchor=\"middle\" x=\"233\" y=\"-14.3\">TensorType(float64, scalar)</text>\n",
       "</g>\n",
       "<!-- 140678952207808&#45;&gt;140678952207976 -->\n",
       "<g class=\"edge\" id=\"edge3\">\n",
       "<title>140678952207808-&gt;140678952207976</title>\n",
       "<path d=\"M233,-72.9551C233,-64.8828 233,-55.1764 233,-46.1817\" fill=\"none\" stroke=\"#000000\"/>\n",
       "<polygon fill=\"#000000\" points=\"236.5001,-46.0903 233,-36.0904 229.5001,-46.0904 236.5001,-46.0903\" stroke=\"#000000\"/>\n",
       "</g>\n",
       "<!-- 140678952207584 -->\n",
       "<g class=\"node\" id=\"node2\">\n",
       "<title>140678952207584</title>\n",
       "<polygon fill=\"#00ff00\" points=\"224,-196 0,-196 0,-160 224,-160 224,-196\" stroke=\"#000000\"/>\n",
       "<text fill=\"#000000\" font-family=\"Times,serif\" font-size=\"14.00\" text-anchor=\"middle\" x=\"112\" y=\"-174.3\">name=x1 TensorType(float64, scalar)</text>\n",
       "</g>\n",
       "<!-- 140678952207584&#45;&gt;140678952207808 -->\n",
       "<g class=\"edge\" id=\"edge1\">\n",
       "<title>140678952207584-&gt;140678952207808</title>\n",
       "<path d=\"M137.0713,-159.9735C155.3632,-146.8215 180.3265,-128.8727 200.2024,-114.5818\" fill=\"none\" stroke=\"#000000\"/>\n",
       "<polygon fill=\"#000000\" points=\"202.2989,-117.3852 208.3748,-108.7057 198.2124,-111.7018 202.2989,-117.3852\" stroke=\"#000000\"/>\n",
       "<text fill=\"#000000\" font-family=\"Times,serif\" font-size=\"14.00\" text-anchor=\"middle\" x=\"183.5\" y=\"-130.8\">0</text>\n",
       "</g>\n",
       "<!-- 140678952207640 -->\n",
       "<g class=\"node\" id=\"node3\">\n",
       "<title>140678952207640</title>\n",
       "<polygon fill=\"#00ff00\" points=\"466,-196 242,-196 242,-160 466,-160 466,-196\" stroke=\"#000000\"/>\n",
       "<text fill=\"#000000\" font-family=\"Times,serif\" font-size=\"14.00\" text-anchor=\"middle\" x=\"354\" y=\"-174.3\">name=y1 TensorType(float64, scalar)</text>\n",
       "</g>\n",
       "<!-- 140678952207640&#45;&gt;140678952207808 -->\n",
       "<g class=\"edge\" id=\"edge2\">\n",
       "<title>140678952207640-&gt;140678952207808</title>\n",
       "<path d=\"M328.9287,-159.9735C310.6368,-146.8215 285.6735,-128.8727 265.7976,-114.5818\" fill=\"none\" stroke=\"#000000\"/>\n",
       "<polygon fill=\"#000000\" points=\"267.7876,-111.7018 257.6252,-108.7057 263.7011,-117.3852 267.7876,-111.7018\" stroke=\"#000000\"/>\n",
       "<text fill=\"#000000\" font-family=\"Times,serif\" font-size=\"14.00\" text-anchor=\"middle\" x=\"304.5\" y=\"-130.8\">1</text>\n",
       "</g>\n",
       "</g>\n",
       "</svg>"
      ],
      "text/plain": [
       "<IPython.core.display.SVG object>"
      ]
     },
     "execution_count": 12,
     "metadata": {},
     "output_type": "execute_result"
    }
   ],
   "source": [
    "from IPython.display import SVG\n",
    "SVG(theano.printing.pydotprint(z1, return_image=True, format='svg'))"
   ]
  },
  {
   "cell_type": "code",
   "execution_count": 13,
   "metadata": {},
   "outputs": [
    {
     "data": {
      "image/svg+xml": [
       "<svg height=\"291pt\" viewBox=\"0.00 0.00 474.00 291.00\" width=\"474pt\" xmlns=\"http://www.w3.org/2000/svg\" xmlns:xlink=\"http://www.w3.org/1999/xlink\">\n",
       "<g class=\"graph\" id=\"graph0\" transform=\"scale(1 1) rotate(0) translate(4 287)\">\n",
       "<title>G</title>\n",
       "<polygon fill=\"#ffffff\" points=\"-4,4 -4,-287 470,-287 470,4 -4,4\" stroke=\"transparent\"/>\n",
       "<!-- 140678949288200 -->\n",
       "<g class=\"node\" id=\"node1\">\n",
       "<title>140678949288200</title>\n",
       "<ellipse cx=\"233\" cy=\"-178\" fill=\"#ffaabb\" rx=\"108.5808\" ry=\"18\" stroke=\"#000000\"/>\n",
       "<text fill=\"#000000\" font-family=\"Times,serif\" font-size=\"14.00\" text-anchor=\"middle\" x=\"233\" y=\"-174.3\">Elemwise{add,no_inplace}</text>\n",
       "</g>\n",
       "<!-- 140678949288088 -->\n",
       "<g class=\"node\" id=\"node4\">\n",
       "<title>140678949288088</title>\n",
       "<ellipse cx=\"233\" cy=\"-91\" fill=\"#ffaabb\" rx=\"108.5808\" ry=\"18\" stroke=\"#000000\"/>\n",
       "<text fill=\"#000000\" font-family=\"Times,serif\" font-size=\"14.00\" text-anchor=\"middle\" x=\"233\" y=\"-87.3\">Elemwise{exp,no_inplace}</text>\n",
       "</g>\n",
       "<!-- 140678949288200&#45;&gt;140678949288088 -->\n",
       "<g class=\"edge\" id=\"edge3\">\n",
       "<title>140678949288200-&gt;140678949288088</title>\n",
       "<path d=\"M233,-159.9735C233,-148.1918 233,-132.5607 233,-119.1581\" fill=\"none\" stroke=\"#000000\"/>\n",
       "<polygon fill=\"#000000\" points=\"236.5001,-119.0033 233,-109.0034 229.5001,-119.0034 236.5001,-119.0033\" stroke=\"#000000\"/>\n",
       "<text fill=\"#000000\" font-family=\"Times,serif\" font-size=\"14.00\" text-anchor=\"middle\" x=\"309\" y=\"-130.8\">TensorType(float64, scalar)</text>\n",
       "</g>\n",
       "<!-- 140678949287864 -->\n",
       "<g class=\"node\" id=\"node2\">\n",
       "<title>140678949287864</title>\n",
       "<polygon fill=\"#00ff00\" points=\"224,-283 0,-283 0,-247 224,-247 224,-283\" stroke=\"#000000\"/>\n",
       "<text fill=\"#000000\" font-family=\"Times,serif\" font-size=\"14.00\" text-anchor=\"middle\" x=\"112\" y=\"-261.3\">name=x1 TensorType(float64, scalar)</text>\n",
       "</g>\n",
       "<!-- 140678949287864&#45;&gt;140678949288200 -->\n",
       "<g class=\"edge\" id=\"edge1\">\n",
       "<title>140678949287864-&gt;140678949288200</title>\n",
       "<path d=\"M137.0713,-246.9735C155.3632,-233.8215 180.3265,-215.8727 200.2024,-201.5818\" fill=\"none\" stroke=\"#000000\"/>\n",
       "<polygon fill=\"#000000\" points=\"202.2989,-204.3852 208.3748,-195.7057 198.2124,-198.7018 202.2989,-204.3852\" stroke=\"#000000\"/>\n",
       "<text fill=\"#000000\" font-family=\"Times,serif\" font-size=\"14.00\" text-anchor=\"middle\" x=\"183.5\" y=\"-217.8\">0</text>\n",
       "</g>\n",
       "<!-- 140678949287976 -->\n",
       "<g class=\"node\" id=\"node3\">\n",
       "<title>140678949287976</title>\n",
       "<polygon fill=\"#00ff00\" points=\"466,-283 242,-283 242,-247 466,-247 466,-283\" stroke=\"#000000\"/>\n",
       "<text fill=\"#000000\" font-family=\"Times,serif\" font-size=\"14.00\" text-anchor=\"middle\" x=\"354\" y=\"-261.3\">name=y1 TensorType(float64, scalar)</text>\n",
       "</g>\n",
       "<!-- 140678949287976&#45;&gt;140678949288200 -->\n",
       "<g class=\"edge\" id=\"edge2\">\n",
       "<title>140678949287976-&gt;140678949288200</title>\n",
       "<path d=\"M328.9287,-246.9735C310.6368,-233.8215 285.6735,-215.8727 265.7976,-201.5818\" fill=\"none\" stroke=\"#000000\"/>\n",
       "<polygon fill=\"#000000\" points=\"267.7876,-198.7018 257.6252,-195.7057 263.7011,-204.3852 267.7876,-198.7018\" stroke=\"#000000\"/>\n",
       "<text fill=\"#000000\" font-family=\"Times,serif\" font-size=\"14.00\" text-anchor=\"middle\" x=\"304.5\" y=\"-217.8\">1</text>\n",
       "</g>\n",
       "<!-- 140678949288648 -->\n",
       "<g class=\"node\" id=\"node5\">\n",
       "<title>140678949288648</title>\n",
       "<polygon fill=\"#0000ff\" points=\"317,-36 149,-36 149,0 317,0 317,-36\" stroke=\"#000000\"/>\n",
       "<text fill=\"#000000\" font-family=\"Times,serif\" font-size=\"14.00\" text-anchor=\"middle\" x=\"233\" y=\"-14.3\">TensorType(float64, scalar)</text>\n",
       "</g>\n",
       "<!-- 140678949288088&#45;&gt;140678949288648 -->\n",
       "<g class=\"edge\" id=\"edge4\">\n",
       "<title>140678949288088-&gt;140678949288648</title>\n",
       "<path d=\"M233,-72.9551C233,-64.8828 233,-55.1764 233,-46.1817\" fill=\"none\" stroke=\"#000000\"/>\n",
       "<polygon fill=\"#000000\" points=\"236.5001,-46.0903 233,-36.0904 229.5001,-46.0904 236.5001,-46.0903\" stroke=\"#000000\"/>\n",
       "</g>\n",
       "</g>\n",
       "</svg>"
      ],
      "text/plain": [
       "<IPython.core.display.SVG object>"
      ]
     },
     "execution_count": 13,
     "metadata": {},
     "output_type": "execute_result"
    }
   ],
   "source": [
    "SVG(theano.printing.pydotprint(u1, return_image=True, format='svg'))"
   ]
  },
  {
   "cell_type": "code",
   "execution_count": 14,
   "metadata": {},
   "outputs": [
    {
     "data": {
      "image/svg+xml": [
       "<svg height=\"204pt\" viewBox=\"0.00 0.00 478.00 204.00\" width=\"478pt\" xmlns=\"http://www.w3.org/2000/svg\" xmlns:xlink=\"http://www.w3.org/1999/xlink\">\n",
       "<g class=\"graph\" id=\"graph0\" transform=\"scale(1 1) rotate(0) translate(4 200)\">\n",
       "<title>G</title>\n",
       "<polygon fill=\"#ffffff\" points=\"-4,4 -4,-200 474,-200 474,4 -4,4\" stroke=\"transparent\"/>\n",
       "<!-- 140678949198536 -->\n",
       "<g class=\"node\" id=\"node1\">\n",
       "<title>140678949198536</title>\n",
       "<ellipse cx=\"235\" cy=\"-91\" fill=\"none\" rx=\"27\" ry=\"18\" stroke=\"#000000\"/>\n",
       "<text fill=\"#000000\" font-family=\"Times,serif\" font-size=\"14.00\" text-anchor=\"middle\" x=\"235\" y=\"-87.3\">dot</text>\n",
       "</g>\n",
       "<!-- 140678949198424 -->\n",
       "<g class=\"node\" id=\"node4\">\n",
       "<title>140678949198424</title>\n",
       "<polygon fill=\"#0000ff\" points=\"319,-36 151,-36 151,0 319,0 319,-36\" stroke=\"#000000\"/>\n",
       "<text fill=\"#000000\" font-family=\"Times,serif\" font-size=\"14.00\" text-anchor=\"middle\" x=\"235\" y=\"-14.3\">TensorType(float64, scalar)</text>\n",
       "</g>\n",
       "<!-- 140678949198536&#45;&gt;140678949198424 -->\n",
       "<g class=\"edge\" id=\"edge3\">\n",
       "<title>140678949198536-&gt;140678949198424</title>\n",
       "<path d=\"M235,-72.9551C235,-64.8828 235,-55.1764 235,-46.1817\" fill=\"none\" stroke=\"#000000\"/>\n",
       "<polygon fill=\"#000000\" points=\"238.5001,-46.0903 235,-36.0904 231.5001,-46.0904 238.5001,-46.0903\" stroke=\"#000000\"/>\n",
       "</g>\n",
       "<!-- 140678949198704 -->\n",
       "<g class=\"node\" id=\"node2\">\n",
       "<title>140678949198704</title>\n",
       "<polygon fill=\"#00ff00\" points=\"226,-196 0,-196 0,-160 226,-160 226,-196\" stroke=\"#000000\"/>\n",
       "<text fill=\"#000000\" font-family=\"Times,serif\" font-size=\"14.00\" text-anchor=\"middle\" x=\"113\" y=\"-174.3\">name=x2 TensorType(float64, vector)</text>\n",
       "</g>\n",
       "<!-- 140678949198704&#45;&gt;140678949198536 -->\n",
       "<g class=\"edge\" id=\"edge1\">\n",
       "<title>140678949198704-&gt;140678949198536</title>\n",
       "<path d=\"M138.2785,-159.9735C158.6758,-145.4279 187.3007,-125.0151 208.1148,-110.1722\" fill=\"none\" stroke=\"#000000\"/>\n",
       "<polygon fill=\"#000000\" points=\"210.4005,-112.8411 216.5102,-104.1854 206.3362,-107.1418 210.4005,-112.8411\" stroke=\"#000000\"/>\n",
       "<text fill=\"#000000\" font-family=\"Times,serif\" font-size=\"14.00\" text-anchor=\"middle\" x=\"185.5\" y=\"-130.8\">0</text>\n",
       "</g>\n",
       "<!-- 140678949198872 -->\n",
       "<g class=\"node\" id=\"node3\">\n",
       "<title>140678949198872</title>\n",
       "<polygon fill=\"#00ff00\" points=\"470,-196 244,-196 244,-160 470,-160 470,-196\" stroke=\"#000000\"/>\n",
       "<text fill=\"#000000\" font-family=\"Times,serif\" font-size=\"14.00\" text-anchor=\"middle\" x=\"357\" y=\"-174.3\">name=y2 TensorType(float64, vector)</text>\n",
       "</g>\n",
       "<!-- 140678949198872&#45;&gt;140678949198536 -->\n",
       "<g class=\"edge\" id=\"edge2\">\n",
       "<title>140678949198872-&gt;140678949198536</title>\n",
       "<path d=\"M331.7215,-159.9735C311.3242,-145.4279 282.6993,-125.0151 261.8852,-110.1722\" fill=\"none\" stroke=\"#000000\"/>\n",
       "<polygon fill=\"#000000\" points=\"263.6638,-107.1418 253.4898,-104.1854 259.5995,-112.8411 263.6638,-107.1418\" stroke=\"#000000\"/>\n",
       "<text fill=\"#000000\" font-family=\"Times,serif\" font-size=\"14.00\" text-anchor=\"middle\" x=\"307.5\" y=\"-130.8\">1</text>\n",
       "</g>\n",
       "</g>\n",
       "</svg>"
      ],
      "text/plain": [
       "<IPython.core.display.SVG object>"
      ]
     },
     "execution_count": 14,
     "metadata": {},
     "output_type": "execute_result"
    }
   ],
   "source": [
    "SVG(theano.printing.pydotprint(z2, return_image=True, format='svg'))"
   ]
  },
  {
   "cell_type": "markdown",
   "metadata": {},
   "source": [
    "# 심볼 함수\n",
    "- `theano.function`\n",
    "- input & output 심볼변수 지정"
   ]
  },
  {
   "cell_type": "markdown",
   "metadata": {},
   "source": [
    "- 일반함수"
   ]
  },
  {
   "cell_type": "code",
   "execution_count": 15,
   "metadata": {},
   "outputs": [],
   "source": [
    "# x1+y1 = z1\n",
    "f1 = theano.function(inputs=[x1, y1], outputs=z1)"
   ]
  },
  {
   "cell_type": "code",
   "execution_count": 16,
   "metadata": {},
   "outputs": [
    {
     "data": {
      "text/plain": [
       "array(3.)"
      ]
     },
     "execution_count": 16,
     "metadata": {},
     "output_type": "execute_result"
    }
   ],
   "source": [
    "f1(1, 2)"
   ]
  },
  {
   "cell_type": "markdown",
   "metadata": {},
   "source": [
    "- 벡터 & 행렬 함수"
   ]
  },
  {
   "cell_type": "code",
   "execution_count": 17,
   "metadata": {},
   "outputs": [
    {
     "name": "stderr",
     "output_type": "stream",
     "text": [
      "WARNING (theano.tensor.blas): We did not find a dynamic library in the library_dir of the library we use for blas. If you use ATLAS, make sure to compile it with dynamics library.\n"
     ]
    },
    {
     "data": {
      "text/plain": [
       "array(11.)"
      ]
     },
     "execution_count": 17,
     "metadata": {},
     "output_type": "execute_result"
    }
   ],
   "source": [
    "# np.dot\n",
    "f2 = theano.function([x2, y2], z2)\n",
    "f2([1, 2], [3, 4])"
   ]
  },
  {
   "cell_type": "code",
   "execution_count": 18,
   "metadata": {
    "scrolled": true
   },
   "outputs": [
    {
     "data": {
      "text/plain": [
       "array(6.5)"
      ]
     },
     "execution_count": 18,
     "metadata": {},
     "output_type": "execute_result"
    }
   ],
   "source": [
    "# np.sum + np.mean\n",
    "f3 = theano.function([x3, y3], z3)\n",
    "f3([[1], [2]], [[3], [4]])"
   ]
  },
  {
   "cell_type": "markdown",
   "metadata": {},
   "source": [
    "- 로지스틱함수"
   ]
  },
  {
   "cell_type": "code",
   "execution_count": 19,
   "metadata": {},
   "outputs": [
    {
     "data": {
      "text/plain": [
       "array(0.95257413)"
      ]
     },
     "execution_count": 19,
     "metadata": {},
     "output_type": "execute_result"
    }
   ],
   "source": [
    "s1 = 1 / (1 + T.exp(-x1))\n",
    "logistic = theano.function([x1], s1)\n",
    "logistic(3)"
   ]
  },
  {
   "cell_type": "code",
   "execution_count": 20,
   "metadata": {},
   "outputs": [
    {
     "data": {
      "text/plain": [
       "array([0.5       , 0.73105858])"
      ]
     },
     "execution_count": 20,
     "metadata": {},
     "output_type": "execute_result"
    }
   ],
   "source": [
    "s2 = 1 / (1 + T.exp(-x2))\n",
    "logistic2 = theano.function([x2], s2)\n",
    "logistic2([0, 1])"
   ]
  },
  {
   "cell_type": "markdown",
   "metadata": {},
   "source": [
    "- 난수"
   ]
  },
  {
   "cell_type": "code",
   "execution_count": 21,
   "metadata": {},
   "outputs": [
    {
     "data": {
      "text/plain": [
       "(array(0.51741339),\n",
       " array(0.31453479),\n",
       " array(0.29588247),\n",
       " array(0.35230635),\n",
       " array(0.83611852))"
      ]
     },
     "execution_count": 21,
     "metadata": {},
     "output_type": "execute_result"
    }
   ],
   "source": [
    "from theano.tensor.shared_randomstreams import RandomStreams\n",
    "\n",
    "srng = RandomStreams(99)\n",
    "rv_u = srng.uniform()\n",
    "f_rv_u = theano.function([], rv_u)\n",
    "\n",
    "f_rv_u(), f_rv_u(), f_rv_u(), f_rv_u(), f_rv_u()"
   ]
  },
  {
   "cell_type": "markdown",
   "metadata": {},
   "source": [
    "# 변수 갱신\n",
    "- 공유 메모리에 저장 by `shared`\n",
    "- 심볼그래프 사용X\n",
    "- `function` and `updates`"
   ]
  },
  {
   "cell_type": "markdown",
   "metadata": {},
   "source": [
    "eg. $w_{k+1} = w_k + x$"
   ]
  },
  {
   "cell_type": "code",
   "execution_count": 22,
   "metadata": {},
   "outputs": [
    {
     "data": {
      "text/plain": [
       "array(0.53626814)"
      ]
     },
     "execution_count": 22,
     "metadata": {},
     "output_type": "execute_result"
    }
   ],
   "source": [
    "# 갱신되는 값: w\n",
    "x = T.dscalar('x')\n",
    "y = x\n",
    "w = theano.shared(0.0, name='w')\n",
    "\n",
    "update = theano.function([x], y, updates=[(w, w + x)])\n",
    "\n",
    "w.set_value(f_rv_u())\n",
    "w.get_value()"
   ]
  },
  {
   "cell_type": "code",
   "execution_count": 23,
   "metadata": {},
   "outputs": [
    {
     "data": {
      "image/svg+xml": [
       "<svg height=\"291pt\" viewBox=\"0.00 0.00 504.50 291.00\" width=\"505pt\" xmlns=\"http://www.w3.org/2000/svg\" xmlns:xlink=\"http://www.w3.org/1999/xlink\">\n",
       "<g class=\"graph\" id=\"graph0\" transform=\"scale(1 1) rotate(0) translate(4 287)\">\n",
       "<title>G</title>\n",
       "<polygon fill=\"#ffffff\" points=\"-4,4 -4,-287 500.5,-287 500.5,4 -4,4\" stroke=\"transparent\"/>\n",
       "<!-- 140678777288576 -->\n",
       "<g class=\"node\" id=\"node1\">\n",
       "<title>140678777288576</title>\n",
       "<ellipse cx=\"130.5\" cy=\"-178\" fill=\"none\" rx=\"59.2899\" ry=\"18\" stroke=\"#000000\"/>\n",
       "<text fill=\"#000000\" font-family=\"Times,serif\" font-size=\"14.00\" text-anchor=\"middle\" x=\"130.5\" y=\"-174.3\">DeepCopyOp</text>\n",
       "</g>\n",
       "<!-- 140678777288520 -->\n",
       "<g class=\"node\" id=\"node3\">\n",
       "<title>140678777288520</title>\n",
       "<polygon fill=\"#0000ff\" points=\"217,-123 0,-123 0,-87 217,-87 217,-123\" stroke=\"#000000\"/>\n",
       "<text fill=\"#000000\" font-family=\"Times,serif\" font-size=\"14.00\" text-anchor=\"middle\" x=\"108.5\" y=\"-101.3\">name=x TensorType(float64, scalar)</text>\n",
       "</g>\n",
       "<!-- 140678777288576&#45;&gt;140678777288520 -->\n",
       "<g class=\"edge\" id=\"edge2\">\n",
       "<title>140678777288576-&gt;140678777288520</title>\n",
       "<path d=\"M125.0618,-159.9551C122.6026,-151.7951 119.6402,-141.9652 116.9048,-132.8887\" fill=\"none\" stroke=\"#000000\"/>\n",
       "<polygon fill=\"#000000\" points=\"120.1886,-131.6551 113.9519,-123.0904 113.4863,-133.675 120.1886,-131.6551\" stroke=\"#000000\"/>\n",
       "</g>\n",
       "<!-- 140678777251152 -->\n",
       "<g class=\"node\" id=\"node2\">\n",
       "<title>140678777251152</title>\n",
       "<polygon fill=\"#00ff00\" points=\"324,-283 107,-283 107,-247 324,-247 324,-283\" stroke=\"#000000\"/>\n",
       "<text fill=\"#000000\" font-family=\"Times,serif\" font-size=\"14.00\" text-anchor=\"middle\" x=\"215.5\" y=\"-261.3\">name=x TensorType(float64, scalar)</text>\n",
       "</g>\n",
       "<!-- 140678777251152&#45;&gt;140678777288576 -->\n",
       "<g class=\"edge\" id=\"edge1\">\n",
       "<title>140678777251152-&gt;140678777288576</title>\n",
       "<path d=\"M197.8879,-246.9735C185.4151,-234.2072 168.5266,-216.9214 154.7771,-202.8484\" fill=\"none\" stroke=\"#000000\"/>\n",
       "<polygon fill=\"#000000\" points=\"157.0014,-200.1166 147.5095,-195.4097 151.9944,-205.0085 157.0014,-200.1166\" stroke=\"#000000\"/>\n",
       "</g>\n",
       "<!-- 140678777289304 -->\n",
       "<g class=\"node\" id=\"node4\">\n",
       "<title>140678777289304</title>\n",
       "<ellipse cx=\"324.5\" cy=\"-178\" fill=\"#ffaabb\" rx=\"94.7833\" ry=\"18\" stroke=\"#000000\"/>\n",
       "<text fill=\"#000000\" font-family=\"Times,serif\" font-size=\"14.00\" text-anchor=\"middle\" x=\"324.5\" y=\"-174.3\">Elemwise{Add}[(0, 0)]</text>\n",
       "</g>\n",
       "<!-- 140678777251152&#45;&gt;140678777289304 -->\n",
       "<g class=\"edge\" id=\"edge4\">\n",
       "<title>140678777251152-&gt;140678777289304</title>\n",
       "<path d=\"M238.0849,-246.9735C254.4156,-233.9389 276.6492,-216.1928 294.4744,-201.9654\" fill=\"none\" stroke=\"#000000\"/>\n",
       "<polygon fill=\"#000000\" points=\"296.6847,-204.6794 302.317,-195.7057 292.3179,-199.2084 296.6847,-204.6794\" stroke=\"#000000\"/>\n",
       "<text fill=\"#000000\" font-family=\"Times,serif\" font-size=\"14.00\" text-anchor=\"middle\" x=\"281\" y=\"-217.8\">1</text>\n",
       "</g>\n",
       "<!-- 140678777289472 -->\n",
       "<g class=\"node\" id=\"node6\">\n",
       "<title>140678777289472</title>\n",
       "<polygon fill=\"#0000ff\" points=\"413.5,-123 235.5,-123 235.5,-87 413.5,-87 413.5,-123\" stroke=\"#000000\"/>\n",
       "<text fill=\"#000000\" font-family=\"Times,serif\" font-size=\"14.00\" text-anchor=\"middle\" x=\"324.5\" y=\"-101.3\">wTensorType(float64, scalar)</text>\n",
       "</g>\n",
       "<!-- 140678777289304&#45;&gt;140678777289472 -->\n",
       "<g class=\"edge\" id=\"edge5\">\n",
       "<title>140678777289304-&gt;140678777289472</title>\n",
       "<path d=\"M324.5,-159.9551C324.5,-151.8828 324.5,-142.1764 324.5,-133.1817\" fill=\"none\" stroke=\"#000000\"/>\n",
       "<polygon fill=\"#000000\" points=\"328.0001,-133.0903 324.5,-123.0904 321.0001,-133.0904 328.0001,-133.0903\" stroke=\"#000000\"/>\n",
       "</g>\n",
       "<!-- 140678777251208 -->\n",
       "<g class=\"node\" id=\"node5\">\n",
       "<title>140678777251208</title>\n",
       "<polygon fill=\"#00ffff\" points=\"496.5,-36 276.5,-36 276.5,0 496.5,0 496.5,-36\" stroke=\"#000000\"/>\n",
       "<text fill=\"#000000\" font-family=\"Times,serif\" font-size=\"14.00\" text-anchor=\"middle\" x=\"386.5\" y=\"-14.3\">name=w TensorType(float64, scalar)</text>\n",
       "</g>\n",
       "<!-- 140678777251208&#45;&gt;140678777289304 -->\n",
       "<g class=\"edge\" id=\"edge3\">\n",
       "<title>140678777251208-&gt;140678777289304</title>\n",
       "<path d=\"M405.4378,-36.0143C410.0689,-41.3767 414.5389,-47.5544 417.5,-54 430.3355,-81.9398 438.0354,-96.4664 422.5,-123 413.5178,-138.3411 398.5147,-149.7291 382.9144,-158.0347\" fill=\"none\" stroke=\"#ff0000\"/>\n",
       "<polygon fill=\"#ff0000\" points=\"381.1238,-155.0152 373.7013,-162.5753 384.2183,-161.294 381.1238,-155.0152\" stroke=\"#ff0000\"/>\n",
       "<text fill=\"#000000\" font-family=\"Times,serif\" font-size=\"14.00\" text-anchor=\"middle\" x=\"435\" y=\"-101.3\">0</text>\n",
       "</g>\n",
       "<!-- 140678777289472&#45;&gt;140678777251208 -->\n",
       "<g class=\"edge\" id=\"edge6\">\n",
       "<title>140678777289472-&gt;140678777251208</title>\n",
       "<path d=\"M337.3464,-86.9735C346.1583,-74.6085 357.9917,-58.0036 367.8396,-44.1847\" fill=\"none\" stroke=\"#0000ff\"/>\n",
       "<polygon fill=\"#0000ff\" points=\"370.7167,-46.1783 373.67,-36.0034 365.0162,-42.1158 370.7167,-46.1783\" stroke=\"#0000ff\"/>\n",
       "<text fill=\"#000000\" font-family=\"Times,serif\" font-size=\"14.00\" text-anchor=\"middle\" x=\"386.5\" y=\"-57.8\">UPDATE</text>\n",
       "</g>\n",
       "</g>\n",
       "</svg>"
      ],
      "text/plain": [
       "<IPython.core.display.SVG object>"
      ]
     },
     "execution_count": 23,
     "metadata": {},
     "output_type": "execute_result"
    }
   ],
   "source": [
    "SVG(theano.printing.pydotprint(update, return_image=True, format='svg'))"
   ]
  },
  {
   "cell_type": "code",
   "execution_count": 24,
   "metadata": {},
   "outputs": [
    {
     "data": {
      "text/plain": [
       "array(1.53626814)"
      ]
     },
     "execution_count": 24,
     "metadata": {},
     "output_type": "execute_result"
    }
   ],
   "source": [
    "update(1)\n",
    "w.get_value()"
   ]
  },
  {
   "cell_type": "code",
   "execution_count": 25,
   "metadata": {},
   "outputs": [
    {
     "data": {
      "text/plain": [
       "array(3.53626814)"
      ]
     },
     "execution_count": 25,
     "metadata": {},
     "output_type": "execute_result"
    }
   ],
   "source": [
    "update(2)\n",
    "w.get_value()"
   ]
  },
  {
   "cell_type": "markdown",
   "metadata": {},
   "source": [
    "# 그래프 최적화"
   ]
  },
  {
   "cell_type": "code",
   "execution_count": 26,
   "metadata": {},
   "outputs": [
    {
     "data": {
      "image/svg+xml": [
       "<svg height=\"188pt\" viewBox=\"0.00 0.00 401.87 188.00\" width=\"402pt\" xmlns=\"http://www.w3.org/2000/svg\" xmlns:xlink=\"http://www.w3.org/1999/xlink\">\n",
       "<g class=\"graph\" id=\"graph0\" transform=\"scale(1 1) rotate(0) translate(4 184)\">\n",
       "<title>G</title>\n",
       "<polygon fill=\"#ffffff\" points=\"-4,4 -4,-184 397.8651,-184 397.8651,4 -4,4\" stroke=\"transparent\"/>\n",
       "<!-- 140678767866768 -->\n",
       "<g class=\"node\" id=\"node1\">\n",
       "<title>140678767866768</title>\n",
       "<ellipse cx=\"196.9325\" cy=\"-90\" fill=\"#ffaabb\" rx=\"196.8651\" ry=\"18\" stroke=\"#000000\"/>\n",
       "<text fill=\"#000000\" font-family=\"Times,serif\" font-size=\"14.00\" text-anchor=\"middle\" x=\"196.9325\" y=\"-86.3\">Elemwise{Composite{(sqr(sqr(sqr(i0))) * sqr(i0))}}</text>\n",
       "</g>\n",
       "<!-- 140678767866992 -->\n",
       "<g class=\"node\" id=\"node3\">\n",
       "<title>140678767866992</title>\n",
       "<polygon fill=\"#0000ff\" points=\"281.9325,-36 111.9325,-36 111.9325,0 281.9325,0 281.9325,-36\" stroke=\"#000000\"/>\n",
       "<text fill=\"#000000\" font-family=\"Times,serif\" font-size=\"14.00\" text-anchor=\"middle\" x=\"196.9325\" y=\"-14.3\">TensorType(float64, vector)</text>\n",
       "</g>\n",
       "<!-- 140678767866768&#45;&gt;140678767866992 -->\n",
       "<g class=\"edge\" id=\"edge2\">\n",
       "<title>140678767866768-&gt;140678767866992</title>\n",
       "<path d=\"M196.9325,-71.8314C196.9325,-64.131 196.9325,-54.9743 196.9325,-46.4166\" fill=\"none\" stroke=\"#000000\"/>\n",
       "<polygon fill=\"#000000\" points=\"200.4326,-46.4132 196.9325,-36.4133 193.4326,-46.4133 200.4326,-46.4132\" stroke=\"#000000\"/>\n",
       "</g>\n",
       "<!-- 140678772791224 -->\n",
       "<g class=\"node\" id=\"node2\">\n",
       "<title>140678772791224</title>\n",
       "<polygon fill=\"#00ff00\" points=\"309.9325,-180 83.9325,-180 83.9325,-144 309.9325,-144 309.9325,-180\" stroke=\"#000000\"/>\n",
       "<text fill=\"#000000\" font-family=\"Times,serif\" font-size=\"14.00\" text-anchor=\"middle\" x=\"196.9325\" y=\"-158.3\">name=x1 TensorType(float64, vector)</text>\n",
       "</g>\n",
       "<!-- 140678772791224&#45;&gt;140678767866768 -->\n",
       "<g class=\"edge\" id=\"edge1\">\n",
       "<title>140678772791224-&gt;140678767866768</title>\n",
       "<path d=\"M196.9325,-143.8314C196.9325,-136.131 196.9325,-126.9743 196.9325,-118.4166\" fill=\"none\" stroke=\"#000000\"/>\n",
       "<polygon fill=\"#000000\" points=\"200.4326,-118.4132 196.9325,-108.4133 193.4326,-118.4133 200.4326,-118.4132\" stroke=\"#000000\"/>\n",
       "</g>\n",
       "</g>\n",
       "</svg>"
      ],
      "text/plain": [
       "<IPython.core.display.SVG object>"
      ]
     },
     "execution_count": 26,
     "metadata": {},
     "output_type": "execute_result"
    }
   ],
   "source": [
    "# x1을 10번 곱하지 않음\n",
    "x1 = T.dvector('x1')\n",
    "y1 = x1 ** 10\n",
    "f1 = theano.function([x1], y1)\n",
    "\n",
    "SVG(theano.printing.pydotprint(f1, return_image=True, format='svg'))"
   ]
  },
  {
   "cell_type": "code",
   "execution_count": 27,
   "metadata": {},
   "outputs": [],
   "source": [
    "import numpy as np\n",
    "x1 = np.ones(100000)"
   ]
  },
  {
   "cell_type": "code",
   "execution_count": 28,
   "metadata": {},
   "outputs": [
    {
     "name": "stdout",
     "output_type": "stream",
     "text": [
      "CPU times: user 6.38 ms, sys: 1 ms, total: 7.39 ms\n",
      "Wall time: 5.97 ms\n"
     ]
    },
    {
     "data": {
      "text/plain": [
       "array([1., 1., 1., ..., 1., 1., 1.])"
      ]
     },
     "execution_count": 28,
     "metadata": {},
     "output_type": "execute_result"
    }
   ],
   "source": [
    "# 바보\n",
    "%time x1 ** 10"
   ]
  },
  {
   "cell_type": "code",
   "execution_count": 29,
   "metadata": {},
   "outputs": [
    {
     "name": "stdout",
     "output_type": "stream",
     "text": [
      "CPU times: user 549 µs, sys: 0 ns, total: 549 µs\n",
      "Wall time: 556 µs\n"
     ]
    },
    {
     "data": {
      "text/plain": [
       "array([1., 1., 1., ..., 1., 1., 1.])"
      ]
     },
     "execution_count": 29,
     "metadata": {},
     "output_type": "execute_result"
    }
   ],
   "source": [
    "# smart\n",
    "%time f1(x1)"
   ]
  },
  {
   "cell_type": "markdown",
   "metadata": {},
   "source": [
    "# 미분\n",
    "- `grad`"
   ]
  },
  {
   "cell_type": "code",
   "execution_count": 30,
   "metadata": {},
   "outputs": [
    {
     "data": {
      "image/svg+xml": [
       "<svg height=\"188pt\" viewBox=\"0.00 0.00 232.00 188.00\" width=\"232pt\" xmlns=\"http://www.w3.org/2000/svg\" xmlns:xlink=\"http://www.w3.org/1999/xlink\">\n",
       "<g class=\"graph\" id=\"graph0\" transform=\"scale(1 1) rotate(0) translate(4 184)\">\n",
       "<title>G</title>\n",
       "<polygon fill=\"#ffffff\" points=\"-4,4 -4,-184 228,-184 228,4 -4,4\" stroke=\"transparent\"/>\n",
       "<!-- 140678765507416 -->\n",
       "<g class=\"node\" id=\"node1\">\n",
       "<title>140678765507416</title>\n",
       "<ellipse cx=\"112\" cy=\"-90\" fill=\"#ffaabb\" rx=\"106.6812\" ry=\"18\" stroke=\"#000000\"/>\n",
       "<text fill=\"#000000\" font-family=\"Times,serif\" font-size=\"14.00\" text-anchor=\"middle\" x=\"112\" y=\"-86.3\">Elemwise{sqr,no_inplace}</text>\n",
       "</g>\n",
       "<!-- 140678765507696 -->\n",
       "<g class=\"node\" id=\"node3\">\n",
       "<title>140678765507696</title>\n",
       "<polygon fill=\"#0000ff\" points=\"196,-36 28,-36 28,0 196,0 196,-36\" stroke=\"#000000\"/>\n",
       "<text fill=\"#000000\" font-family=\"Times,serif\" font-size=\"14.00\" text-anchor=\"middle\" x=\"112\" y=\"-14.3\">TensorType(float64, scalar)</text>\n",
       "</g>\n",
       "<!-- 140678765507416&#45;&gt;140678765507696 -->\n",
       "<g class=\"edge\" id=\"edge2\">\n",
       "<title>140678765507416-&gt;140678765507696</title>\n",
       "<path d=\"M112,-71.8314C112,-64.131 112,-54.9743 112,-46.4166\" fill=\"none\" stroke=\"#000000\"/>\n",
       "<polygon fill=\"#000000\" points=\"115.5001,-46.4132 112,-36.4133 108.5001,-46.4133 115.5001,-46.4132\" stroke=\"#000000\"/>\n",
       "</g>\n",
       "<!-- 140678765436544 -->\n",
       "<g class=\"node\" id=\"node2\">\n",
       "<title>140678765436544</title>\n",
       "<polygon fill=\"#00ff00\" points=\"224,-180 0,-180 0,-144 224,-144 224,-180\" stroke=\"#000000\"/>\n",
       "<text fill=\"#000000\" font-family=\"Times,serif\" font-size=\"14.00\" text-anchor=\"middle\" x=\"112\" y=\"-158.3\">name=x1 TensorType(float64, scalar)</text>\n",
       "</g>\n",
       "<!-- 140678765436544&#45;&gt;140678765507416 -->\n",
       "<g class=\"edge\" id=\"edge1\">\n",
       "<title>140678765436544-&gt;140678765507416</title>\n",
       "<path d=\"M112,-143.8314C112,-136.131 112,-126.9743 112,-118.4166\" fill=\"none\" stroke=\"#000000\"/>\n",
       "<polygon fill=\"#000000\" points=\"115.5001,-118.4132 112,-108.4133 108.5001,-118.4133 115.5001,-118.4132\" stroke=\"#000000\"/>\n",
       "</g>\n",
       "</g>\n",
       "</svg>"
      ],
      "text/plain": [
       "<IPython.core.display.SVG object>"
      ]
     },
     "execution_count": 30,
     "metadata": {},
     "output_type": "execute_result"
    }
   ],
   "source": [
    "x1 = T.dscalar('x1')\n",
    "y1 = x1 ** 2\n",
    "fy1 = theano.function([x1], y1)\n",
    "\n",
    "SVG(theano.printing.pydotprint(fy1.maker.fgraph.outputs[0], return_image=True, format='svg'))"
   ]
  },
  {
   "cell_type": "code",
   "execution_count": 31,
   "metadata": {},
   "outputs": [
    {
     "data": {
      "image/svg+xml": [
       "<svg height=\"204pt\" viewBox=\"0.00 0.00 464.00 204.00\" width=\"464pt\" xmlns=\"http://www.w3.org/2000/svg\" xmlns:xlink=\"http://www.w3.org/1999/xlink\">\n",
       "<g class=\"graph\" id=\"graph0\" transform=\"scale(1 1) rotate(0) translate(4 200)\">\n",
       "<title>G</title>\n",
       "<polygon fill=\"#ffffff\" points=\"-4,4 -4,-200 460,-200 460,4 -4,4\" stroke=\"transparent\"/>\n",
       "<!-- 140678765640896 -->\n",
       "<g class=\"node\" id=\"node1\">\n",
       "<title>140678765640896</title>\n",
       "<ellipse cx=\"225\" cy=\"-91\" fill=\"#ffaabb\" rx=\"109.6807\" ry=\"18\" stroke=\"#000000\"/>\n",
       "<text fill=\"#000000\" font-family=\"Times,serif\" font-size=\"14.00\" text-anchor=\"middle\" x=\"225\" y=\"-87.3\">Elemwise{mul,no_inplace}</text>\n",
       "</g>\n",
       "<!-- 140678765641344 -->\n",
       "<g class=\"node\" id=\"node4\">\n",
       "<title>140678765641344</title>\n",
       "<polygon fill=\"#0000ff\" points=\"309,-36 141,-36 141,0 309,0 309,-36\" stroke=\"#000000\"/>\n",
       "<text fill=\"#000000\" font-family=\"Times,serif\" font-size=\"14.00\" text-anchor=\"middle\" x=\"225\" y=\"-14.3\">TensorType(float64, scalar)</text>\n",
       "</g>\n",
       "<!-- 140678765640896&#45;&gt;140678765641344 -->\n",
       "<g class=\"edge\" id=\"edge3\">\n",
       "<title>140678765640896-&gt;140678765641344</title>\n",
       "<path d=\"M225,-72.9551C225,-64.8828 225,-55.1764 225,-46.1817\" fill=\"none\" stroke=\"#000000\"/>\n",
       "<polygon fill=\"#000000\" points=\"228.5001,-46.0903 225,-36.0904 221.5001,-46.0904 228.5001,-46.0903\" stroke=\"#000000\"/>\n",
       "</g>\n",
       "<!-- 140678765674848 -->\n",
       "<g class=\"node\" id=\"node2\">\n",
       "<title>140678765674848</title>\n",
       "<polygon fill=\"#00ff00\" points=\"214,-196 0,-196 0,-160 214,-160 214,-196\" stroke=\"#000000\"/>\n",
       "<text fill=\"#000000\" font-family=\"Times,serif\" font-size=\"14.00\" text-anchor=\"middle\" x=\"107\" y=\"-174.3\">val=2.0 TensorType(float64, scalar)</text>\n",
       "</g>\n",
       "<!-- 140678765674848&#45;&gt;140678765640896 -->\n",
       "<g class=\"edge\" id=\"edge1\">\n",
       "<title>140678765674848-&gt;140678765640896</title>\n",
       "<path d=\"M131.4497,-159.9735C149.2084,-146.8802 173.4152,-129.0328 192.7556,-114.7734\" fill=\"none\" stroke=\"#000000\"/>\n",
       "<polygon fill=\"#000000\" points=\"195.0135,-117.4572 200.9854,-108.7057 190.8595,-111.8229 195.0135,-117.4572\" stroke=\"#000000\"/>\n",
       "<text fill=\"#000000\" font-family=\"Times,serif\" font-size=\"14.00\" text-anchor=\"middle\" x=\"177.5\" y=\"-130.8\">0</text>\n",
       "</g>\n",
       "<!-- 140678765641456 -->\n",
       "<g class=\"node\" id=\"node3\">\n",
       "<title>140678765641456</title>\n",
       "<polygon fill=\"#00ff00\" points=\"456,-196 232,-196 232,-160 456,-160 456,-196\" stroke=\"#000000\"/>\n",
       "<text fill=\"#000000\" font-family=\"Times,serif\" font-size=\"14.00\" text-anchor=\"middle\" x=\"344\" y=\"-174.3\">name=x1 TensorType(float64, scalar)</text>\n",
       "</g>\n",
       "<!-- 140678765641456&#45;&gt;140678765640896 -->\n",
       "<g class=\"edge\" id=\"edge2\">\n",
       "<title>140678765641456-&gt;140678765640896</title>\n",
       "<path d=\"M319.3431,-159.9735C301.4339,-146.8802 277.0219,-129.0328 257.5176,-114.7734\" fill=\"none\" stroke=\"#000000\"/>\n",
       "<polygon fill=\"#000000\" points=\"259.3565,-111.7822 249.2181,-108.7057 255.2252,-117.433 259.3565,-111.7822\" stroke=\"#000000\"/>\n",
       "<text fill=\"#000000\" font-family=\"Times,serif\" font-size=\"14.00\" text-anchor=\"middle\" x=\"295.5\" y=\"-130.8\">1</text>\n",
       "</g>\n",
       "</g>\n",
       "</svg>"
      ],
      "text/plain": [
       "<IPython.core.display.SVG object>"
      ]
     },
     "execution_count": 31,
     "metadata": {},
     "output_type": "execute_result"
    }
   ],
   "source": [
    "gy1 = T.grad(y1, x1)\n",
    "fgy1 = theano.function([x1], gy1)\n",
    "\n",
    "SVG(theano.printing.pydotprint(fgy1.maker.fgraph.outputs[0], return_image=True, format='svg'))"
   ]
  },
  {
   "cell_type": "markdown",
   "metadata": {},
   "source": [
    "- sigmoid"
   ]
  },
  {
   "cell_type": "code",
   "execution_count": 32,
   "metadata": {},
   "outputs": [
    {
     "data": {
      "image/svg+xml": [
       "<svg height=\"188pt\" viewBox=\"0.00 0.00 232.00 188.00\" width=\"232pt\" xmlns=\"http://www.w3.org/2000/svg\" xmlns:xlink=\"http://www.w3.org/1999/xlink\">\n",
       "<g class=\"graph\" id=\"graph0\" transform=\"scale(1 1) rotate(0) translate(4 184)\">\n",
       "<title>G</title>\n",
       "<polygon fill=\"#ffffff\" points=\"-4,4 -4,-184 228,-184 228,4 -4,4\" stroke=\"transparent\"/>\n",
       "<!-- 140678768285848 -->\n",
       "<g class=\"node\" id=\"node1\">\n",
       "<title>140678768285848</title>\n",
       "<ellipse cx=\"112\" cy=\"-90\" fill=\"#ffaabb\" rx=\"39.7935\" ry=\"18\" stroke=\"#000000\"/>\n",
       "<text fill=\"#000000\" font-family=\"Times,serif\" font-size=\"14.00\" text-anchor=\"middle\" x=\"112\" y=\"-86.3\">sigmoid</text>\n",
       "</g>\n",
       "<!-- 140678768285680 -->\n",
       "<g class=\"node\" id=\"node3\">\n",
       "<title>140678768285680</title>\n",
       "<polygon fill=\"#0000ff\" points=\"196,-36 28,-36 28,0 196,0 196,-36\" stroke=\"#000000\"/>\n",
       "<text fill=\"#000000\" font-family=\"Times,serif\" font-size=\"14.00\" text-anchor=\"middle\" x=\"112\" y=\"-14.3\">TensorType(float64, scalar)</text>\n",
       "</g>\n",
       "<!-- 140678768285848&#45;&gt;140678768285680 -->\n",
       "<g class=\"edge\" id=\"edge2\">\n",
       "<title>140678768285848-&gt;140678768285680</title>\n",
       "<path d=\"M112,-71.8314C112,-64.131 112,-54.9743 112,-46.4166\" fill=\"none\" stroke=\"#000000\"/>\n",
       "<polygon fill=\"#000000\" points=\"115.5001,-46.4132 112,-36.4133 108.5001,-46.4133 115.5001,-46.4132\" stroke=\"#000000\"/>\n",
       "</g>\n",
       "<!-- 140678772687368 -->\n",
       "<g class=\"node\" id=\"node2\">\n",
       "<title>140678772687368</title>\n",
       "<polygon fill=\"#00ff00\" points=\"224,-180 0,-180 0,-144 224,-144 224,-180\" stroke=\"#000000\"/>\n",
       "<text fill=\"#000000\" font-family=\"Times,serif\" font-size=\"14.00\" text-anchor=\"middle\" x=\"112\" y=\"-158.3\">name=x1 TensorType(float64, scalar)</text>\n",
       "</g>\n",
       "<!-- 140678772687368&#45;&gt;140678768285848 -->\n",
       "<g class=\"edge\" id=\"edge1\">\n",
       "<title>140678772687368-&gt;140678768285848</title>\n",
       "<path d=\"M112,-143.8314C112,-136.131 112,-126.9743 112,-118.4166\" fill=\"none\" stroke=\"#000000\"/>\n",
       "<polygon fill=\"#000000\" points=\"115.5001,-118.4132 112,-108.4133 108.5001,-118.4133 115.5001,-118.4132\" stroke=\"#000000\"/>\n",
       "</g>\n",
       "</g>\n",
       "</svg>"
      ],
      "text/plain": [
       "<IPython.core.display.SVG object>"
      ]
     },
     "execution_count": 32,
     "metadata": {},
     "output_type": "execute_result"
    }
   ],
   "source": [
    "x1 = T.dscalar('x1')\n",
    "s1 = 1 / (1 + T.exp(-x1))\n",
    "logistic = theano.function([x1], s1)\n",
    "\n",
    "SVG(theano.printing.pydotprint(logistic, return_image=True, format='svg'))"
   ]
  },
  {
   "cell_type": "code",
   "execution_count": 33,
   "metadata": {},
   "outputs": [
    {
     "data": {
      "image/svg+xml": [
       "<svg height=\"188pt\" viewBox=\"0.00 0.00 525.35 188.00\" width=\"525pt\" xmlns=\"http://www.w3.org/2000/svg\" xmlns:xlink=\"http://www.w3.org/1999/xlink\">\n",
       "<g class=\"graph\" id=\"graph0\" transform=\"scale(1 1) rotate(0) translate(4 184)\">\n",
       "<title>G</title>\n",
       "<polygon fill=\"#ffffff\" points=\"-4,4 -4,-184 521.3541,-184 521.3541,4 -4,4\" stroke=\"transparent\"/>\n",
       "<!-- 140678765640280 -->\n",
       "<g class=\"node\" id=\"node1\">\n",
       "<title>140678765640280</title>\n",
       "<ellipse cx=\"258.677\" cy=\"-90\" fill=\"#ffaabb\" rx=\"258.8542\" ry=\"18\" stroke=\"#000000\"/>\n",
       "<text fill=\"#000000\" font-family=\"Times,serif\" font-size=\"14.00\" text-anchor=\"middle\" x=\"258.677\" y=\"-86.3\">Elemwise{Composite{(scalar_sigmoid((-i0)) * scalar_sigmoid(i0))}}</text>\n",
       "</g>\n",
       "<!-- 140678760421640 -->\n",
       "<g class=\"node\" id=\"node3\">\n",
       "<title>140678760421640</title>\n",
       "<polygon fill=\"#0000ff\" points=\"342.677,-36 174.677,-36 174.677,0 342.677,0 342.677,-36\" stroke=\"#000000\"/>\n",
       "<text fill=\"#000000\" font-family=\"Times,serif\" font-size=\"14.00\" text-anchor=\"middle\" x=\"258.677\" y=\"-14.3\">TensorType(float64, scalar)</text>\n",
       "</g>\n",
       "<!-- 140678765640280&#45;&gt;140678760421640 -->\n",
       "<g class=\"edge\" id=\"edge2\">\n",
       "<title>140678765640280-&gt;140678760421640</title>\n",
       "<path d=\"M258.677,-71.8314C258.677,-64.131 258.677,-54.9743 258.677,-46.4166\" fill=\"none\" stroke=\"#000000\"/>\n",
       "<polygon fill=\"#000000\" points=\"262.1771,-46.4132 258.677,-36.4133 255.1771,-46.4133 262.1771,-46.4132\" stroke=\"#000000\"/>\n",
       "</g>\n",
       "<!-- 140678760498008 -->\n",
       "<g class=\"node\" id=\"node2\">\n",
       "<title>140678760498008</title>\n",
       "<polygon fill=\"#00ff00\" points=\"370.677,-180 146.677,-180 146.677,-144 370.677,-144 370.677,-180\" stroke=\"#000000\"/>\n",
       "<text fill=\"#000000\" font-family=\"Times,serif\" font-size=\"14.00\" text-anchor=\"middle\" x=\"258.677\" y=\"-158.3\">name=x1 TensorType(float64, scalar)</text>\n",
       "</g>\n",
       "<!-- 140678760498008&#45;&gt;140678765640280 -->\n",
       "<g class=\"edge\" id=\"edge1\">\n",
       "<title>140678760498008-&gt;140678765640280</title>\n",
       "<path d=\"M258.677,-143.8314C258.677,-136.131 258.677,-126.9743 258.677,-118.4166\" fill=\"none\" stroke=\"#000000\"/>\n",
       "<polygon fill=\"#000000\" points=\"262.1771,-118.4132 258.677,-108.4133 255.1771,-118.4133 262.1771,-118.4132\" stroke=\"#000000\"/>\n",
       "</g>\n",
       "</g>\n",
       "</svg>"
      ],
      "text/plain": [
       "<IPython.core.display.SVG object>"
      ]
     },
     "execution_count": 33,
     "metadata": {},
     "output_type": "execute_result"
    }
   ],
   "source": [
    "gs1 = T.grad(s1, x1)\n",
    "dlogistic = theano.function([x1], gs1)\n",
    "\n",
    "SVG(theano.printing.pydotprint(dlogistic, return_image=True, format='svg'))"
   ]
  },
  {
   "cell_type": "code",
   "execution_count": 34,
   "metadata": {},
   "outputs": [],
   "source": [
    "xx = np.linspace(-5, 5, 100)\n",
    "y1 = np.hstack([logistic(xi) for xi in xx])\n",
    "y2 = np.hstack([dlogistic(xi) for xi in xx])\n",
    "\n",
    "plt.plot(xx, y1, label='logistic func')\n",
    "plt.plot(xx, y2, label='derivative of logistic func')\n",
    "plt.title('logistic func and derivative of it')\n",
    "\n",
    "plt.show()"
   ]
  },
  {
   "cell_type": "markdown",
   "metadata": {},
   "source": [
    "# Perceptron 구현"
   ]
  },
  {
   "cell_type": "code",
   "execution_count": 115,
   "metadata": {},
   "outputs": [
    {
     "data": {
      "text/plain": [
       "array([-1, -1, -1, -1, -1, -1, -1, -1, -1, -1, -1, -1, -1, -1, -1, -1, -1,\n",
       "       -1, -1, -1, -1, -1, -1, -1, -1, -1, -1, -1, -1, -1, -1, -1, -1, -1,\n",
       "       -1, -1, -1, -1, -1, -1, -1, -1, -1, -1, -1, -1, -1, -1, -1, -1,  1,\n",
       "        1,  1,  1,  1,  1,  1,  1,  1,  1,  1,  1,  1,  1,  1,  1,  1,  1,\n",
       "        1,  1,  1,  1,  1,  1,  1,  1,  1,  1,  1,  1,  1,  1,  1,  1,  1,\n",
       "        1,  1,  1,  1,  1,  1,  1,  1,  1,  1,  1,  1,  1,  1,  1])"
      ]
     },
     "execution_count": 115,
     "metadata": {},
     "output_type": "execute_result"
    }
   ],
   "source": [
    "y"
   ]
  },
  {
   "cell_type": "code",
   "execution_count": 131,
   "metadata": {},
   "outputs": [
    {
     "data": {
      "image/png": "[encoded data removed]",
      "text/plain": [
       "<Figure size 432x288 with 1 Axes>"
      ]
     },
     "metadata": {
      "needs_background": "light"
     },
     "output_type": "display_data"
    }
   ],
   "source": [
    "from sklearn.datasets import load_iris\n",
    "iris = load_iris()\n",
    "\n",
    "idx = np.in1d(iris.target, [0, 2])\n",
    "x = iris.data[idx, 0:2]\n",
    "y = iris.target[idx] - 1 #y = 1 or -1\n",
    "\n",
    "x1 = x[:, 0]\n",
    "x2 = x[:, 1]\n",
    "\n",
    "plt.scatter(x1[y==-1], x2[y==-1], label='setosa', c='r', marker='o',\\\n",
    "           s=100, edgecolor='k')\n",
    "plt.scatter(x1[y==1], x2[y==1], label='virginia', c='b', marker='x',\\\n",
    "           s=100, edgecolor='k')\n",
    "plt.xlabel('petal length')\n",
    "plt.ylabel('petal width')\n",
    "plt.legend()\n",
    "plt.title('iris data')\n",
    "plt.show()"
   ]
  },
  {
   "cell_type": "code",
   "execution_count": 116,
   "metadata": {},
   "outputs": [],
   "source": [
    "X = T.dmatrix('X')\n",
    "Y = T.dvector('Y')\n",
    "np.random.seed(2)\n",
    "\n",
    "w = theano.shared(0.001 * np.random.randn(2), name='w')\n",
    "b = theano.shared(0.001 * np.random.randn(1)[0], name='b')\n",
    "\n",
    "z = T.tanh(T.dot(X, w) + b)\n",
    "cost = T.sum(T.maximum(0, -Y * z))\n",
    "\n",
    "gw, gb = T.grad(cost, [w, b])\n",
    "mu = 1e-6\n",
    "train = theano.function([X, Y], cost, updates=[(w, w - mu * gw), (b, b - mu * gb)])"
   ]
  },
  {
   "cell_type": "code",
   "execution_count": 117,
   "metadata": {},
   "outputs": [
    {
     "data": {
      "image/png": "[encoded data removed]",
      "text/plain": [
       "<Figure size 432x288 with 1 Axes>"
      ]
     },
     "metadata": {
      "needs_background": "light"
     },
     "output_type": "display_data"
    }
   ],
   "source": [
    "cost_history = []\n",
    "for _ in range(100):\n",
    "    cost_history.append(train(x, y))\n",
    "    \n",
    "plt.plot(cost_history)\n",
    "plt.xlabel('epoch')\n",
    "plt.ylabel('cost func')\n",
    "plt.title('cost fluctuation according to train')\n",
    "plt.show()"
   ]
  },
  {
   "cell_type": "code",
   "execution_count": 101,
   "metadata": {
    "scrolled": true
   },
   "outputs": [
    {
     "data": {
      "text/plain": [
       "array([1., 1., 1., 1., 1., 1., 1., 1., 1., 1., 1., 1., 1., 1., 1., 1., 1.,\n",
       "       1., 1., 1., 1., 1., 1., 1., 1., 1., 1., 1., 1., 1., 1., 1., 1., 1.,\n",
       "       1., 1., 1., 1., 1., 1., 1., 1., 1., 1., 1., 1., 1., 1., 1., 1., 1.,\n",
       "       1., 1., 1., 1., 1., 1., 1., 1., 1., 1., 1., 1., 1., 1., 1., 1., 1.,\n",
       "       1., 1., 1., 1., 1., 1., 1., 1., 1., 1., 1., 1., 1., 1., 1., 1., 1.,\n",
       "       1., 1., 1., 1., 1., 1., 1., 1., 1., 1., 1., 1., 1., 1., 1.])"
      ]
     },
     "execution_count": 101,
     "metadata": {},
     "output_type": "execute_result"
    }
   ],
   "source": [
    "y_pred = T.sgn(z)\n",
    "y_pred_func = theano.function([X], y_pred)\n",
    "\n",
    "y_pred = y_pred_func(x)\n",
    "y_pred"
   ]
  },
  {
   "cell_type": "code",
   "execution_count": 76,
   "metadata": {},
   "outputs": [
    {
     "data": {
      "text/plain": [
       "array([[49,  1],\n",
       "       [ 0, 50]])"
      ]
     },
     "execution_count": 76,
     "metadata": {},
     "output_type": "execute_result"
    }
   ],
   "source": [
    "from sklearn.metrics import confusion_matrix\n",
    "confusion_matrix(y, y_pred)"
   ]
  },
  {
   "cell_type": "markdown",
   "metadata": {},
   "source": [
    "연습\n",
    "1. y값은 0과 1이라는 값만 가진다.\n",
    "2. 활성화 함수는 로지스틱 함수를 사용한다.\n",
    "3. 코스트 함수는 다음과 같은 오차 제곱 함수를 사용한다."
   ]
  },
  {
   "cell_type": "code",
   "execution_count": 133,
   "metadata": {},
   "outputs": [],
   "source": [
    "np.random.seed(2)\n",
    "y = (y+1) / 2\n",
    "X = T.dmatrix('X')\n",
    "Y = T.dvector('Y')\n",
    "\n",
    "w = theano.shared(0.001 * np.random.randn(2), name='w')\n",
    "b = theano.shared(0.001 * np.random.randn(1)[0], name='b')\n",
    "\n",
    "z = 1 / (1 + T.exp(-(T.dot(X, w) + b)))\n",
    "cost = T.sum((Y - z)**2)\n",
    "\n",
    "gw, gb = T.grad(cost, [w, b])\n",
    "mu = 1e-6\n",
    "\n",
    "train = theano.function([X, Y], cost, updates=[(w, w - mu * gw), (b, b - mu * gb)])"
   ]
  },
  {
   "cell_type": "code",
   "execution_count": 135,
   "metadata": {
    "scrolled": true
   },
   "outputs": [
    {
     "data": {
      "image/png": "[encoded data removed]",
      "text/plain": [
       "<Figure size 432x288 with 1 Axes>"
      ]
     },
     "metadata": {
      "needs_background": "light"
     },
     "output_type": "display_data"
    }
   ],
   "source": [
    "cost_history = []\n",
    "for _ in range(50):\n",
    "    cost_history.append(train(x, y))\n",
    "    \n",
    "plt.plot(cost_history)\n",
    "plt.xlabel('epoch')\n",
    "plt.ylabel('cost func')\n",
    "plt.title('cost fluctuation according to train')\n",
    "plt.show()"
   ]
  },
  {
   "cell_type": "code",
   "execution_count": 140,
   "metadata": {},
   "outputs": [
    {
     "data": {
      "text/plain": [
       "'round_half_to_even(TensorConstant{1.2})'"
      ]
     },
     "execution_count": 140,
     "metadata": {},
     "output_type": "execute_result"
    }
   ],
   "source": [
    "theano.printing.pprint(T.round(1.2))"
   ]
  },
  {
   "cell_type": "code",
   "execution_count": 142,
   "metadata": {},
   "outputs": [
    {
     "data": {
      "text/plain": [
       "array([0., 0., 0., 0., 0., 0., 0., 0., 0., 0., 0., 0., 0., 0., 0., 0., 0.,\n",
       "       0., 0., 0., 0., 0., 0., 0., 0., 0., 0., 0., 0., 0., 0., 0., 0., 0.,\n",
       "       0., 0., 0., 0., 0., 0., 0., 0., 0., 0., 0., 0., 0., 0., 0., 0., 1.,\n",
       "       1., 1., 1., 1., 1., 0., 1., 1., 1., 1., 1., 1., 1., 1., 1., 1., 1.,\n",
       "       1., 1., 1., 1., 1., 1., 1., 1., 1., 1., 1., 1., 1., 1., 1., 1., 1.,\n",
       "       1., 1., 1., 1., 1., 1., 1., 1., 1., 1., 1., 1., 1., 1., 1.])"
      ]
     },
     "execution_count": 142,
     "metadata": {},
     "output_type": "execute_result"
    }
   ],
   "source": [
    "y_pred = T.round(z)\n",
    "y_pred_func = theano.function([X], y_pred)\n",
    "\n",
    "y_pred = y_pred_func(x)\n",
    "y_pred"
   ]
  },
  {
   "cell_type": "code",
   "execution_count": 57,
   "metadata": {},
   "outputs": [
    {
     "data": {
      "text/plain": [
       "array([-1, -1, -1, -1, -1, -1, -1, -1, -1, -1, -1, -1, -1, -1, -1, -1, -1,\n",
       "       -1, -1, -1, -1, -1, -1, -1, -1, -1, -1, -1, -1, -1, -1, -1, -1, -1,\n",
       "       -1, -1, -1, -1, -1, -1, -1, -1, -1, -1, -1, -1, -1, -1, -1, -1,  1,\n",
       "        1,  1,  1,  1,  1,  1,  1,  1,  1,  1,  1,  1,  1,  1,  1,  1,  1,\n",
       "        1,  1,  1,  1,  1,  1,  1,  1,  1,  1,  1,  1,  1,  1,  1,  1,  1,\n",
       "        1,  1,  1,  1,  1,  1,  1,  1,  1,  1,  1,  1,  1,  1,  1])"
      ]
     },
     "execution_count": 57,
     "metadata": {},
     "output_type": "execute_result"
    }
   ],
   "source": []
  }
 ],
 "metadata": {
  "kernelspec": {
   "display_name": "py3",
   "language": "python",
   "name": "py3"
  },
  "language_info": {
   "codemirror_mode": {
    "name": "ipython",
    "version": 3
   },
   "file_extension": ".py",
   "mimetype": "text/x-python",
   "name": "python",
   "nbconvert_exporter": "python",
   "pygments_lexer": "ipython3",
   "version": "3.6.5"
  }
 },
 "nbformat": 4,
 "nbformat_minor": 2
}
