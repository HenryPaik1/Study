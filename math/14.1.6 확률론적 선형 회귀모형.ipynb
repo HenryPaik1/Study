{
 "cells": [
  {
   "cell_type": "markdown",
   "metadata": {},
   "source": [
    "# 2. 확률적 선형 회귀모형 \n"
   ]
  },
  {
   "cell_type": "markdown",
   "metadata": {},
   "source": [
    "- Data가 확률변수로부터 생성된 표본으로 가정(모델 가정)\n",
    "- OLS\n",
    "- 가정 3가지\n",
    "\n",
    "\n",
    "### 1) y, $\\epsilon$ 선형정규분포 가정\n",
    "- y는 가우시안 정규분포(**기대값**: x의 선형 조합으로 결정, y는 조건부 정규분포)\n",
    "- $\\theta = (w, \\sigma^2)$\n",
    "\n",
    "### $$y \\sim \\mathcal{N}{(\\text{기댓값}w^Tx, \\sigma^2)}$$\n",
    "### $$\\text{y확률밀도함수} \\; p(y \\vert x, \\theta)\n",
    "=\\mathcal{N}(y \\vert w^Tx, \\sigma^2)$$\n",
    "\n",
    "- $\\epsilon(disturbance) = y - w^Tx$ (y 평균제거 벡터)\n",
    "\n",
    "\n",
    "### $$p(\\epsilon \\vert \\theta) = \\mathcal{N}(0, \\sigma^2)$$\n",
    "\n",
    "\n",
    "- 주의: x, y 정규분포일 필요 없음. y도 조건부 정규분포."
   ]
  },
  {
   "cell_type": "markdown",
   "metadata": {},
   "source": [
    "### 2) 외생성(Exogeneity) 가정\n",
    "- 잡음 $\\epsilon$의 **기댓값은 독립변수x와 상관없이 항상 0**\n",
    "\n",
    "\n",
    "$$E[\\epsilon \\vert x] = 0$$\n",
    "$$E[E[\\epsilon \\vert x]]= E[\\epsilon]=0$$\n",
    "\n",
    "\n",
    "- $\\epsilon$ 과 x의 상관관계 0\n",
    "\n",
    "$$E[\\epsilon x] = 0$$\n",
    "\n",
    "\n",
    "### 3) 조건부 독립 가정\n",
    "- i,j 번째 샘플의 잡음 $\\epsilon_i$, $\\epsilon_j$의 공분산 값은 x와 상관없이 항상 0(i, j 독립)\n",
    "- 잡음에는 이미 x로 설명될 수 있는 성분 제외\n",
    "\n",
    "\n",
    "$$Cov[\\epsilon_i, \\epsilon_j \\vert x]=0 \\; (i,j = 1,2, \\ldots, N)$$\n",
    "$$E[\\epsilon_i \\epsilon_j]=0$$\n",
    "$$즉, \\; Cov[\\epsilon] = E[\\epsilon \\epsilon^T] = \\sigma^2 I$$"
   ]
  },
  {
   "cell_type": "markdown",
   "metadata": {},
   "source": [
    "# 3. 최대 가능도 방법을 사용한 선형회귀분석\n",
    "- 확률론적 선형 회귀모형의 가정\n",
    "- 최대 가능도 방법(Maximum Likelihood Estimation)\n",
    "- 값은 OLS와 동일\n",
    "- $\\theta = (w, \\sigma^2)$\n",
    "- x상수, $\\theta$ 변수\n",
    "$$\\mathcal{L}(\\theta;x)=p(x;\\theta)=p(x \\vert \\theta)$$ "
   ]
  },
  {
   "cell_type": "markdown",
   "metadata": {},
   "source": [
    "### $$\\dfrac{d}{dw}LL$$\n",
    "\n",
    "\n",
    "### $$\\hat{w} = (X^TX)^{-1}X^Ty$$"
   ]
  },
  {
   "cell_type": "markdown",
   "metadata": {},
   "source": [
    "# 4. 잔차residual의 분포\n",
    "- $e = y - \\hat{w}^Tx$ (cf. $\\epsilon = y - w^Tx$ )\n",
    "- 잡음 $\\epsilon$과 잔차 e의 관계: **잔차e는 잡음$\\epsilon$의 선형변환(linear transform)**\n",
    "- 따라서 잔차e 또한 정규분포 따름\n",
    "\n",
    "\n",
    "### $$ e = M \\epsilon $$\n",
    "$$ (\\hat{y} = Hy, \\; e = My)$$\n",
    "\n",
    "- 더불어 잔차의 기대값 또한 **x와 상관없이 0**\n",
    "- x와 상관관계 없어야 정상\n",
    "- cf $독립\\in상관관계X$\n",
    "### $$E[e \\vert x] = 0 $$"
   ]
  },
  {
   "cell_type": "markdown",
   "metadata": {},
   "source": [
    "### 잔차의 정규성 검정(2 가지)"
   ]
  },
  {
   "cell_type": "code",
   "execution_count": 39,
   "metadata": {},
   "outputs": [],
   "source": [
    "from sklearn.datasets import make_regression\n",
    "import statsmodels.api as sm\n",
    "\n",
    "x0, y, coef = make_regression(n_samples=100, n_features=1, \n",
    "                             coef=True, noise=20)\n",
    "df = pd.DataFrame({\"x\": x0[:,0], \"y\": y})\n",
    "result = sm.OLS.from_formula(\"y ~ x\", data=df).fit()"
   ]
  },
  {
   "cell_type": "code",
   "execution_count": 65,
   "metadata": {},
   "outputs": [
    {
     "data": {
      "image/png": "[encoded data removed]",
      "text/plain": [
       "<Figure size 432x288 with 1 Axes>"
      ]
     },
     "metadata": {
      "needs_background": "light"
     },
     "output_type": "display_data"
    }
   ],
   "source": [
    "# 정규분포플롯\n",
    "%matplotlib inline\n",
    "sp.stats.probplot(result.resid, plot=plt)\n",
    "plt.show()"
   ]
  },
  {
   "cell_type": "code",
   "execution_count": 70,
   "metadata": {},
   "outputs": [
    {
     "data": {
      "text/plain": [
       "(0.31421933759306087, 0.8546103295918446)"
      ]
     },
     "execution_count": 70,
     "metadata": {},
     "output_type": "execute_result"
    }
   ],
   "source": [
    "# 잔차의 정규성 검정(귀무가설: 정규분포)\n",
    "chi2, pvalue = sm.stats.omni_normtest(result.resid)\n",
    "chi2, pvalue"
   ]
  },
  {
   "cell_type": "code",
   "execution_count": 68,
   "metadata": {},
   "outputs": [
    {
     "data": {
      "text/plain": [
       "0.7963298456824297"
      ]
     },
     "execution_count": 68,
     "metadata": {},
     "output_type": "execute_result"
    }
   ],
   "source": [
    "Jarque, pvalue, skew, kurtoise = sm.stats.jarque_bera(result.resid)\n",
    "pvalue"
   ]
  },
  {
   "cell_type": "code",
   "execution_count": 105,
   "metadata": {
    "scrolled": true
   },
   "outputs": [
    {
     "data": {
      "image/png": "[encoded data removed]",
      "text/plain": [
       "<Figure size 432x288 with 1 Axes>"
      ]
     },
     "metadata": {
      "needs_background": "light"
     },
     "output_type": "display_data"
    }
   ],
   "source": [
    "# x에 따른 잔차 분포 랜덤(상관관계 없음)\n",
    "plt.scatter(x0[:, 0], result.resid)\n",
    "plt.axhline(y=0, c='k')\n",
    "plt.show()"
   ]
  },
  {
   "cell_type": "markdown",
   "metadata": {},
   "source": [
    "# 5. 단일 계수 t-검정\n",
    "## 5.1 회귀계수의 표준오차 $se_i$\n",
    "- Standard Error or Regression Coefficient\n",
    "- 정규화된 모수 오차$\\dfrac{\\hat{w}_i - w_i}{se_i}$는 자유도가 N-K인 표준 스튜던트 t-분포를 따름\n",
    "\n",
    "## 5.2 단일 계수 t-검정\n",
    "- 정규화된 모수 오차 $\\dfrac{\\hat{w}_i - w_i}{se_i}$를 검정통계량으로 사용\n",
    "$$H_0 : w_i = 0(i=0, \\cdots, K-1)$$"
   ]
  },
  {
   "cell_type": "markdown",
   "metadata": {},
   "source": [
    "# 6.회귀분석 F-검정\n",
    "- 전체독립 변수 모두 의미 없음을 검증\n",
    "- 기각의 정도가 다름\n",
    "$$ H_0 : w_0=\\cdots=w_{K-1}=0$$\n",
    "\n",
    "\n",
    "- 여러 모형의 유의확률 비교하여 성능 비교 가능"
   ]
  },
  {
   "cell_type": "markdown",
   "metadata": {},
   "source": [
    "# 부록. 부트스트래핑bootstrapping\n",
    "- OLS 가중치의 오차범위, 신뢰구간 파악\n",
    "- 가중치 추정값을, 여러가지 다른 표본 데이터 집합으로 구하여 분포확인\n",
    "- unordered resampling with replacement"
   ]
  },
  {
   "cell_type": "markdown",
   "metadata": {},
   "source": [
    "연습"
   ]
  },
  {
   "cell_type": "code",
   "execution_count": 28,
   "metadata": {},
   "outputs": [
    {
     "name": "stdout",
     "output_type": "stream",
     "text": [
      "coef:  68.17597562344977\n"
     ]
    }
   ],
   "source": [
    "from sklearn.datasets import make_regression\n",
    "x, y, coef = make_regression(n_samples=100, n_features=1, noise=20,\\\n",
    "                             coef=True, bias=10)\n",
    "print('coef: ', coef)"
   ]
  },
  {
   "cell_type": "code",
   "execution_count": 29,
   "metadata": {},
   "outputs": [],
   "source": [
    "# 회귀분석\n",
    "import statsmodels.api as sm\n",
    "dfx0 = pd.DataFrame(x, columns=[\"x1\"])\n",
    "dfy = pd.DataFrame(y, columns=[\"y\"])\n",
    "dfx = sm.add_constant(dfx0)\n",
    "\n",
    "model = sm.OLS(dfy, dfx)\n",
    "result = model.fit()"
   ]
  },
  {
   "cell_type": "code",
   "execution_count": 45,
   "metadata": {
    "scrolled": true
   },
   "outputs": [
    {
     "data": {
      "text/plain": [
       "const     8.069649\n",
       "x1       68.928161\n",
       "dtype: float64"
      ]
     },
     "execution_count": 45,
     "metadata": {},
     "output_type": "execute_result"
    }
   ],
   "source": [
    "# 회귀분석 모수\n",
    "result.params"
   ]
  },
  {
   "cell_type": "code",
   "execution_count": 46,
   "metadata": {},
   "outputs": [],
   "source": [
    "# 재표본화\n",
    "N = 1000\n",
    "params_w0 = np.zeros(N)\n",
    "params_w1 = np.zeros(N)\n",
    "for i in range(N):\n",
    "    idx = np.random.choice(len(dfy), len(dfy), replace=True)\n",
    "    dfx2 = dfx.iloc[idx]\n",
    "    dfy2 = dfy.iloc[idx]\n",
    "    r = sm.OLS(dfy2, dfx2).fit()\n",
    "    params_w0[i] = r.params.const\n",
    "    params_w1[i] = r.params.x1"
   ]
  },
  {
   "cell_type": "code",
   "execution_count": 54,
   "metadata": {},
   "outputs": [
    {
     "data": {
      "text/plain": [
       "(1000,)"
      ]
     },
     "execution_count": 54,
     "metadata": {},
     "output_type": "execute_result"
    }
   ],
   "source": [
    "np.shape(params_w0)"
   ]
  },
  {
   "cell_type": "code",
   "execution_count": 91,
   "metadata": {},
   "outputs": [
    {
     "name": "stdout",
     "output_type": "stream",
     "text": [
      "w0 std: 1.9313039793683848\n",
      "w1 std: 2.1201673045582767\n"
     ]
    },
    {
     "data": {
      "image/png": "[encoded data removed]",
      "text/plain": [
       "<Figure size 576x216 with 2 Axes>"
      ]
     },
     "metadata": {
      "needs_background": "light"
     },
     "output_type": "display_data"
    }
   ],
   "source": [
    "%matplotlib inline\n",
    "f, axes = plt.subplots(1, 2, figsize=(8,3))\n",
    "\n",
    "sns.distplot(params_w0, ax=axes[0]).set_title('$\\hat{w}_0$')\n",
    "axes[0].axvline(params_w0.mean(), c='r', )\n",
    "sns.distplot(params_w1, ax=axes[1]).set_title('$\\hat{w1}_1$')\n",
    "axes[1].axvline(params_w1.mean(), c='r')\n",
    "print('w0 std: ', params_w0.std(), '\\n', 'w1 std: ', params_w1.std(), sep='')\n",
    "plt.show()"
   ]
  },
  {
   "cell_type": "code",
   "execution_count": 80,
   "metadata": {
    "scrolled": true
   },
   "outputs": [
    {
     "name": "stdout",
     "output_type": "stream",
     "text": [
      "                 Results: Ordinary least squares\n",
      "=================================================================\n",
      "Model:              OLS              Adj. R-squared:     0.912   \n",
      "Dependent Variable: y                AIC:                877.6006\n",
      "Date:               2018-11-05 08:05 BIC:                882.8110\n",
      "No. Observations:   100              Log-Likelihood:     -436.80 \n",
      "Df Model:           1                F-statistic:        1027.   \n",
      "Df Residuals:       98               Prob (F-statistic): 9.70e-54\n",
      "R-squared:          0.913            Scale:              371.79  \n",
      "-------------------------------------------------------------------\n",
      "           Coef.    Std.Err.      t      P>|t|     [0.025    0.975]\n",
      "-------------------------------------------------------------------\n",
      "const      8.0696     1.9591    4.1190   0.0001    4.1818   11.9575\n",
      "x1        68.9282     2.1508   32.0481   0.0000   64.6600   73.1963\n",
      "-----------------------------------------------------------------\n",
      "Omnibus:              0.267        Durbin-Watson:           2.075\n",
      "Prob(Omnibus):        0.875        Jarque-Bera (JB):        0.255\n",
      "Skew:                 0.116        Prob(JB):                0.881\n",
      "Kurtosis:             2.914        Condition No.:           1    \n",
      "=================================================================\n",
      "\n"
     ]
    }
   ],
   "source": [
    "print(result.summary2())"
   ]
  },
  {
   "cell_type": "code",
   "execution_count": null,
   "metadata": {},
   "outputs": [],
   "source": []
  }
 ],
 "metadata": {
  "kernelspec": {
   "display_name": "Python 3",
   "language": "python",
   "name": "python3"
  },
  "language_info": {
   "codemirror_mode": {
    "name": "ipython",
    "version": 3
   },
   "file_extension": ".py",
   "mimetype": "text/x-python",
   "name": "python",
   "nbconvert_exporter": "python",
   "pygments_lexer": "ipython3",
   "version": "3.6.6"
  }
 },
 "nbformat": 4,
 "nbformat_minor": 2
}
