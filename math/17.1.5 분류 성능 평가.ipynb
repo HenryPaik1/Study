{
 "cells": [
  {
   "cell_type": "markdown",
   "metadata": {},
   "source": [
    "# 분류 성능 평가\n",
    "## 1. 분류 결과표\n",
    "- `Confusion_matrix`\n",
    "- `calssification_report`\n",
    "\n",
    "## 2. 이진 분류 결과표\n",
    "\n",
    "<table>\n",
    "<thead>\n",
    "    <tr>\n",
    "        <th></th>\n",
    "        <th>Positive라고 예측</th>\n",
    "        <th>Negative라고 예측</th>\n",
    "    </tr>\n",
    "</thead>\n",
    "\n",
    "<tbody>\n",
    "    <tr>\n",
    "        <td>실제 Positive</td>\n",
    "        <td>True Positive</td>\n",
    "        <td>False Negative</td>\n",
    "    </tr>\n",
    "\n",
    "<tr>\n",
    "    <td>실제 Negative</td>\n",
    "    <td>False Positive</td>\n",
    "    <td>True Negative</td>\n",
    "</tr>\n",
    "</tbody>\n",
    "</table>\n",
    "\n",
    "- recall(TP/TP+FN) & fall-out(FP/FP+TN)은 양의 상관관계\n",
    "    - 양성 판단기준 threshold 낮춤\n",
    "    - -> 양성 판단 표본(TP) 증가: recall 증가\n",
    "    - -> 양성 예측 범위 표본 (FP) 증가: fall-out 증가\n",
    "- precision & recall은 대개 음의 상관 관계\n",
    "\n",
    "\n",
    "### 2.1 Accuracy \n",
    "$$\n",
    "accuracy = \\dfrac{TP + TN}{TP+TN+FP+FN}\n",
    "$$\n",
    "### 2.2 Precision\n",
    "- 정밀도, 유죄율\n",
    "- 유죄로 예측했을 때, 실제 유죄\n",
    "$$\n",
    "precision = \\dfrac{TP}{TP+FP}\n",
    "$$\n",
    "\n",
    "\n",
    "### 2.3 Recall\n",
    "- 재현율, 검거율\n",
    "- 실제 유죄 건수 중, 검거한 건수의 비율\n",
    "$$\n",
    "recall = \\dfrac{TP}{TP+FN}\n",
    "$$\n",
    "\n",
    "### 2.4 Fall-out\n",
    "- 위양성율, 원죄율\n",
    "- 억울한 사람 비율\n",
    "$$\n",
    "Fall-out = \\dfrac{FP}{FP+TN}\n",
    "$$\n",
    "\n",
    "### 2.5 F(beta) score\n",
    "- precision과 recall 가중 조화 평균\n",
    "\n",
    "$$\n",
    "F_\\beta = (1+\\beta^2)\\,\\,(\\text{precision} \\, \\times \\, \\text{recall}) \\, / \\, (\\beta^2 \\text{precision} + \\text{recall})\n",
    "$$\n",
    "- F1 scroe\n",
    "    - beta = 1\n",
    "$$\n",
    "F_1 = 2 \\cdot precision \\cdot recall / \\,\\,(precision + recall)\n",
    "$$"
   ]
  },
  {
   "cell_type": "markdown",
   "metadata": {},
   "source": [
    "## 3. ROC (Receiver Operator Charateristic) 커브\n",
    "- 클래스 판별 기준값 변화에 따른 fall-out & recall 변화 시각화\n",
    "- 즉, ROC 커브는 클래스 판별 기준값이 달라졌을 때, 판결 결과 어떻게 달라지는지\n",
    "- 판별함수: 판별 평면으로부터의 거리.(모든 이진 분류 모형은 판별함수 가짐)\n",
    "- 기준값threshold = 0\n",
    "    - 판별함수 값 음수: 0\n",
    "    - 판별함수 값 양수: 1\n",
    "- code\n",
    "    - `decision_function`: 판별 함수값 계산\n",
    "    - `roc_curve`\n",
    "\n",
    "## 4. AUC (Area Under the Curve)\n",
    "- ROC curve의 면적\n",
    "- Fall-out 대비 recall 값 클수록 AUC 1에 가깝고, 민감한 모형"
   ]
  },
  {
   "cell_type": "code",
   "execution_count": null,
   "metadata": {},
   "outputs": [],
   "source": []
  },
  {
   "cell_type": "markdown",
   "metadata": {},
   "source": [
    "실습"
   ]
  },
  {
   "cell_type": "code",
   "execution_count": 1,
   "metadata": {},
   "outputs": [
    {
     "data": {
      "text/html": [
       "<div>\n",
       "<style scoped>\n",
       "    .dataframe tbody tr th:only-of-type {\n",
       "        vertical-align: middle;\n",
       "    }\n",
       "\n",
       "    .dataframe tbody tr th {\n",
       "        vertical-align: top;\n",
       "    }\n",
       "\n",
       "    .dataframe thead th {\n",
       "        text-align: right;\n",
       "    }\n",
       "</style>\n",
       "<table border=\"1\" class=\"dataframe\">\n",
       "  <thead>\n",
       "    <tr style=\"text-align: right;\">\n",
       "      <th></th>\n",
       "      <th>sepal length (cm)</th>\n",
       "      <th>target</th>\n",
       "    </tr>\n",
       "  </thead>\n",
       "  <tbody>\n",
       "    <tr>\n",
       "      <th>95</th>\n",
       "      <td>5.7</td>\n",
       "      <td>1</td>\n",
       "    </tr>\n",
       "    <tr>\n",
       "      <th>96</th>\n",
       "      <td>5.7</td>\n",
       "      <td>1</td>\n",
       "    </tr>\n",
       "    <tr>\n",
       "      <th>97</th>\n",
       "      <td>6.2</td>\n",
       "      <td>1</td>\n",
       "    </tr>\n",
       "    <tr>\n",
       "      <th>98</th>\n",
       "      <td>5.1</td>\n",
       "      <td>1</td>\n",
       "    </tr>\n",
       "    <tr>\n",
       "      <th>99</th>\n",
       "      <td>5.7</td>\n",
       "      <td>1</td>\n",
       "    </tr>\n",
       "  </tbody>\n",
       "</table>\n",
       "</div>"
      ],
      "text/plain": [
       "    sepal length (cm)  target\n",
       "95                5.7       1\n",
       "96                5.7       1\n",
       "97                6.2       1\n",
       "98                5.1       1\n",
       "99                5.7       1"
      ]
     },
     "execution_count": 1,
     "metadata": {},
     "output_type": "execute_result"
    }
   ],
   "source": [
    "# 로지스틱스\n",
    "from sklearn.datasets import load_iris\n",
    "iris = load_iris()\n",
    "df_f = pd.DataFrame(iris.data, columns=iris.feature_names)\n",
    "df_t = pd.DataFrame(iris.target, columns=[\"target\"])\n",
    "df = pd.concat((df_f.iloc[:, 0], df_t), axis=1)\n",
    "cond = df.target < 2\n",
    "df = df[cond]\n",
    "df.tail()"
   ]
  },
  {
   "cell_type": "code",
   "execution_count": 2,
   "metadata": {},
   "outputs": [
    {
     "name": "stdout",
     "output_type": "stream",
     "text": [
      "Optimization terminated successfully.\n",
      "         Current function value: 0.321056\n",
      "         Iterations 8\n"
     ]
    }
   ],
   "source": [
    "from scipy import stats\n",
    "import statsmodels.api as sm\n",
    "\n",
    "stats.chisquare = lambda chisq, df: stats.chi2.sf(chisq, df)\n",
    "\n",
    "X = sm.add_constant(df.iloc[:, 0])\n",
    "y = df.iloc[:, 1]\n",
    "\n",
    "logit_mod = sm.Logit(y, X)\n",
    "logit_res = logit_mod.fit()"
   ]
  },
  {
   "cell_type": "code",
   "execution_count": 9,
   "metadata": {},
   "outputs": [],
   "source": [
    "predicted = logit_res.predict(X)\n",
    "y_pred = (predicted > 0.5).astype(int)\n",
    "y_true = y"
   ]
  },
  {
   "cell_type": "markdown",
   "metadata": {},
   "source": [
    "## confusion_matrix"
   ]
  },
  {
   "cell_type": "code",
   "execution_count": 11,
   "metadata": {},
   "outputs": [
    {
     "name": "stdout",
     "output_type": "stream",
     "text": [
      "[[45  5]\n",
      " [ 6 44]]\n"
     ]
    }
   ],
   "source": [
    "# 0 -> 0: 45, 1 -> 1: 44\n",
    "from sklearn.metrics import confusion_matrix\n",
    "print(confusion_matrix(y_true, y_pred))"
   ]
  },
  {
   "cell_type": "markdown",
   "metadata": {},
   "source": [
    "## classification_report"
   ]
  },
  {
   "cell_type": "code",
   "execution_count": 12,
   "metadata": {},
   "outputs": [
    {
     "name": "stdout",
     "output_type": "stream",
     "text": [
      "              precision    recall  f1-score   support\n",
      "\n",
      "      setosa       0.88      0.90      0.89        50\n",
      "  versicolor       0.90      0.88      0.89        50\n",
      "\n",
      "   micro avg       0.89      0.89      0.89       100\n",
      "   macro avg       0.89      0.89      0.89       100\n",
      "weighted avg       0.89      0.89      0.89       100\n",
      "\n"
     ]
    }
   ],
   "source": [
    "#f1-score avg 기준으로 \n",
    "from sklearn.metrics import classification_report\n",
    "print(classification_report(y_true, y_pred, target_names=['setosa', 'versicolor']))"
   ]
  },
  {
   "cell_type": "markdown",
   "metadata": {},
   "source": [
    "## ROC curve"
   ]
  },
  {
   "cell_type": "code",
   "execution_count": 48,
   "metadata": {},
   "outputs": [
    {
     "data": {
      "text/html": [
       "<div>\n",
       "<style scoped>\n",
       "    .dataframe tbody tr th:only-of-type {\n",
       "        vertical-align: middle;\n",
       "    }\n",
       "\n",
       "    .dataframe tbody tr th {\n",
       "        vertical-align: top;\n",
       "    }\n",
       "\n",
       "    .dataframe thead th {\n",
       "        text-align: right;\n",
       "    }\n",
       "</style>\n",
       "<table border=\"1\" class=\"dataframe\">\n",
       "  <thead>\n",
       "    <tr style=\"text-align: right;\">\n",
       "      <th></th>\n",
       "      <th>f</th>\n",
       "      <th>y_hat</th>\n",
       "      <th>y</th>\n",
       "    </tr>\n",
       "  </thead>\n",
       "  <tbody>\n",
       "    <tr>\n",
       "      <th>95</th>\n",
       "      <td>-0.785816</td>\n",
       "      <td>0.0</td>\n",
       "      <td>0.0</td>\n",
       "    </tr>\n",
       "    <tr>\n",
       "      <th>96</th>\n",
       "      <td>-0.878460</td>\n",
       "      <td>0.0</td>\n",
       "      <td>0.0</td>\n",
       "    </tr>\n",
       "    <tr>\n",
       "      <th>97</th>\n",
       "      <td>-0.878460</td>\n",
       "      <td>0.0</td>\n",
       "      <td>0.0</td>\n",
       "    </tr>\n",
       "    <tr>\n",
       "      <th>98</th>\n",
       "      <td>-0.878460</td>\n",
       "      <td>0.0</td>\n",
       "      <td>0.0</td>\n",
       "    </tr>\n",
       "    <tr>\n",
       "      <th>99</th>\n",
       "      <td>-0.971103</td>\n",
       "      <td>0.0</td>\n",
       "      <td>0.0</td>\n",
       "    </tr>\n",
       "  </tbody>\n",
       "</table>\n",
       "</div>"
      ],
      "text/plain": [
       "           f  y_hat    y\n",
       "95 -0.785816    0.0  0.0\n",
       "96 -0.878460    0.0  0.0\n",
       "97 -0.878460    0.0  0.0\n",
       "98 -0.878460    0.0  0.0\n",
       "99 -0.971103    0.0  0.0"
      ]
     },
     "execution_count": 48,
     "metadata": {},
     "output_type": "execute_result"
    }
   ],
   "source": [
    "from sklearn.linear_model import LogisticRegression\n",
    "model = LogisticRegression().fit(X, y)\n",
    "\n",
    "y_hat = model.predict(X)\n",
    "f_value = model.decision_function(X)\n",
    "\n",
    "df_sk = pd.DataFrame(np.vstack([f_value, y_hat, np.array(y)]).T, columns=[\"f\", \"y_hat\", \"y\"])\n",
    "df_sk = df_sk.sort_values(\"f\", ascending=False).reset_index(drop=True)\n",
    "df_sk.tail()"
   ]
  },
  {
   "cell_type": "code",
   "execution_count": 49,
   "metadata": {},
   "outputs": [
    {
     "data": {
      "text/plain": [
       "array([[40, 10],\n",
       "       [ 5, 45]])"
      ]
     },
     "execution_count": 49,
     "metadata": {},
     "output_type": "execute_result"
    }
   ],
   "source": [
    "# threshold=0 을 기준으로 이진분류 결과표, 재현율, 위양성율 계산\n",
    "confusion_matrix(y, y_hat)"
   ]
  },
  {
   "cell_type": "code",
   "execution_count": 50,
   "metadata": {},
   "outputs": [
    {
     "name": "stdout",
     "output_type": "stream",
     "text": [
      "recall =  0.8\n",
      "fallout =  0.1\n"
     ]
    }
   ],
   "source": [
    "recall = 40 / (40 + 10)\n",
    "fallout = 5 / (5 + 45)\n",
    "print(\"recall = \", recall)\n",
    "print(\"fallout = \", fallout)"
   ]
  },
  {
   "cell_type": "markdown",
   "metadata": {},
   "source": [
    "자동화 roc_curve"
   ]
  },
  {
   "cell_type": "code",
   "execution_count": 52,
   "metadata": {},
   "outputs": [
    {
     "data": {
      "text/plain": [
       "(array([0.  , 0.  , 0.  , 0.  , 0.  , 0.  , 0.  , 0.  , 0.  , 0.  , 0.  ,\n",
       "        0.02, 0.06, 0.06, 0.1 , 0.2 , 0.22, 0.28, 0.44, 0.6 , 0.68, 0.78,\n",
       "        0.82, 0.9 , 0.92, 0.98, 1.  ]),\n",
       " array([0.  , 0.02, 0.06, 0.12, 0.16, 0.18, 0.22, 0.28, 0.32, 0.48, 0.52,\n",
       "        0.58, 0.68, 0.78, 0.88, 0.9 , 0.9 , 0.92, 0.94, 0.98, 1.  , 1.  ,\n",
       "        1.  , 1.  , 1.  , 1.  , 1.  ]),\n",
       " array([ 2.5302653 ,  1.5302653 ,  1.34497877,  1.2523355 ,  1.15969224,\n",
       "         1.06704897,  0.97440571,  0.88176244,  0.78911917,  0.60383264,\n",
       "         0.51118938,  0.41854611,  0.32590284,  0.23325958,  0.14061631,\n",
       "         0.04797305, -0.04467022, -0.13731348, -0.22995675, -0.32260002,\n",
       "        -0.41524328, -0.50788655, -0.60052981, -0.69317308, -0.78581635,\n",
       "        -0.87845961, -0.97110288]))"
      ]
     },
     "execution_count": 52,
     "metadata": {},
     "output_type": "execute_result"
    }
   ],
   "source": [
    "# 변화되는 기준값, 기준값 사용시의 재현율과 위양성률\n",
    "from sklearn.metrics import roc_curve\n",
    "fpr, tpr, thresholds = roc_curve(y, model.decision_function(X))\n",
    "fpr, tpr, thresholds"
   ]
  },
  {
   "cell_type": "code",
   "execution_count": 59,
   "metadata": {},
   "outputs": [
    {
     "data": {
      "image/png": "[encoded data removed]",
      "text/plain": [
       "<Figure size 432x288 with 1 Axes>"
      ]
     },
     "metadata": {
      "needs_background": "light"
     },
     "output_type": "display_data"
    }
   ],
   "source": [
    "# 정확도 최대화하는 모형\n",
    "# plot by decision_function\n",
    "%matplotlib inline\n",
    "plt.plot(fpr, tpr, label=\"Logitic Regression\")\n",
    "plt.plot([0, 1], [0, 1], 'k--', label=\"random guess\")\n",
    "plt.plot([fallout], [recall], 'ro', ms=10)\n",
    "plt.xlabel(\"False Positive Rate (Fall-out)\")\n",
    "plt.ylabel(\"True Positive Rate (Recall)\")\n",
    "plt.title(\"Receiver operating characteristic example\")\n",
    "plt.show()"
   ]
  },
  {
   "cell_type": "code",
   "execution_count": 94,
   "metadata": {},
   "outputs": [
    {
     "data": {
      "image/png": "[encoded data removed]",
      "text/plain": [
       "<Figure size 432x288 with 1 Axes>"
      ]
     },
     "metadata": {
      "needs_background": "light"
     },
     "output_type": "display_data"
    }
   ],
   "source": [
    "# plot by predict_proba\n",
    "fpr1, tpr1, thr1 = roc_curve(y, model.predict_proba(np.array(X))[:, 1])\n",
    "plt.plot(fpr1, tpr1)\n",
    "plt.show()"
   ]
  },
  {
   "cell_type": "markdown",
   "metadata": {},
   "source": [
    "## AUC (Area Under the Curve)"
   ]
  },
  {
   "cell_type": "code",
   "execution_count": 60,
   "metadata": {},
   "outputs": [
    {
     "data": {
      "text/plain": [
       "0.9326"
      ]
     },
     "execution_count": 60,
     "metadata": {},
     "output_type": "execute_result"
    }
   ],
   "source": [
    "from sklearn.metrics import auc\n",
    "auc(fpr, tpr)"
   ]
  }
 ],
 "metadata": {
  "kernelspec": {
   "display_name": "Python 3",
   "language": "python",
   "name": "python3"
  },
  "language_info": {
   "codemirror_mode": {
    "name": "ipython",
    "version": 3
   },
   "file_extension": ".py",
   "mimetype": "text/x-python",
   "name": "python",
   "nbconvert_exporter": "python",
   "pygments_lexer": "ipython3",
   "version": "3.6.7"
  }
 },
 "nbformat": 4,
 "nbformat_minor": 2
}
