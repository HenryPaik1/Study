{
 "cells": [
  {
   "cell_type": "markdown",
   "metadata": {},
   "source": [
    "# 모멘트 방법\n",
    "## Method of Moment\n",
    "- 가정: 표본자료에 대한 표본모멘트 = 확률변수 모멘트\n",
    "- return: 모수\n",
    "        \n",
    "#### 예) 1차 모멘트(기댓값 & 평균)\n",
    "- 가정: $\\bar{x} = \\mu$\n",
    "\n",
    "#### 예) 2차 모멘트(분산)\n",
    "- 가정: $\\sigma^2 = E[(X - \\mu)^2] = s^2$"
   ]
  },
  {
   "cell_type": "markdown",
   "metadata": {},
   "source": [
    "#### 1. 베르누이분포의 모수추정\n",
    "$$\\mu = \\dfrac{1}{N} \\sum_{i=1}^N x_i = \\dfrac{N_1}{N}$$\n",
    "#### 2. 정규분포의 모수 추정\n",
    "$$\\mu = \\bar{x}$$\n",
    "$$\\sigma^2 = s^2$$\n",
    "#### 3. 베타분포의 모수 추정\n",
    "$$\\mu = \\dfrac{a}{a+b} = \\bar{x}$$\n",
    "\n",
    "$$\\sigma^2 = \\dfrac{ab}{(a+b)^2(a+b+1)}=s^2$$\n",
    "\n",
    "- 위를 토대로 모수**a, b**를 구하면,\n",
    "\n",
    "$$a=\\bar{x} \\left( \\frac{\\bar{x}(1-\\bar{x})}{s^2}-1 \\right)$$ \n",
    "\n",
    "$$b=(1-\\bar{x}) \\left( \\frac{(1-\\bar{x})\\bar{x}}{s^2}-1 \\right)$$"
   ]
  },
  {
   "cell_type": "markdown",
   "metadata": {},
   "source": [
    "eg."
   ]
  },
  {
   "cell_type": "code",
   "execution_count": 5,
   "metadata": {},
   "outputs": [
    {
     "name": "stdout",
     "output_type": "stream",
     "text": [
      "(15.66227006242992, 12.453248316389404)\n"
     ]
    }
   ],
   "source": [
    "x = sp.stats.beta(15, 12).rvs(1000)\n",
    "\n",
    "def estimate_beta(x):\n",
    "    x_bar = x.mean()\n",
    "    s2 = x.var()\n",
    "    a = x_bar * (x_bar * (1 - x_bar) / s2 -1)\n",
    "    b = (1 - x_bar) * (x_bar * (1 - x_bar) / s2 -1)\n",
    "    return a, b\n",
    "\n",
    "print(estimate_beta(x))\n",
    "    "
   ]
  }
 ],
 "metadata": {
  "kernelspec": {
   "display_name": "Python 3",
   "language": "python",
   "name": "python3"
  },
  "language_info": {
   "codemirror_mode": {
    "name": "ipython",
    "version": 3
   },
   "file_extension": ".py",
   "mimetype": "text/x-python",
   "name": "python",
   "nbconvert_exporter": "python",
   "pygments_lexer": "ipython3",
   "version": "3.6.6"
  }
 },
 "nbformat": 4,
 "nbformat_minor": 2
}
