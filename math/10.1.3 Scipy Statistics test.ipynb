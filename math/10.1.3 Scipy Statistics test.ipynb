{
 "cells": [
  {
   "cell_type": "markdown",
   "metadata": {},
   "source": [
    "- discrete\n",
    "    - binomial test\n",
    "    - Chi-square test\n",
    "    -------------------------------\n",
    "- data set 1개\n",
    "    - One-sample z-test\n",
    "    - One-sample t-test\n",
    "    -------------------------------\n",
    "- data set 2개\n",
    "    - Independent-two-sample t-test\n",
    "    - Paired-two-sample t-test\n",
    "    -------------------------------\n",
    "- variance\n",
    "    - Chi squared variance test\n",
    "    - Equal-variance test\n",
    "    -------------------------------\n",
    "    - Normality test"
   ]
  },
  {
   "cell_type": "markdown",
   "metadata": {},
   "source": [
    "# 1. 이항검정(Binomial test)\n",
    "- Bern 분포 모수 $\\mu\\$에 대한 가설 조사\n",
    "- 통계량: Bern 분포 표본의 합 ~ 이항분포를 따름"
   ]
  },
  {
   "cell_type": "markdown",
   "metadata": {},
   "source": [
    "#### 연습1: 100번 던졌는데, 앞면이 46번. $\\mu$ = 1/2인가?"
   ]
  },
  {
   "cell_type": "code",
   "execution_count": 177,
   "metadata": {},
   "outputs": [],
   "source": [
    "np.random.seed(7)"
   ]
  },
  {
   "cell_type": "code",
   "execution_count": 245,
   "metadata": {},
   "outputs": [
    {
     "data": {
      "text/plain": [
       "(46, 0.4841184136072908)"
      ]
     },
     "execution_count": 245,
     "metadata": {},
     "output_type": "execute_result"
    }
   ],
   "source": [
    "N = 100\n",
    "mu_0 = 1/2\n",
    "x = sp.stats.bernoulli(mu_0).rvs(N)\n",
    "n = np.count_nonzero(x)\n",
    "n, sp.stats.binom_test(n, N)"
   ]
  },
  {
   "cell_type": "markdown",
   "metadata": {},
   "source": [
    "#### 연습2. 저녁에 오는 여자 손님 중 비흡연자가 흡연자보다 많다고 할 수 있는가?"
   ]
  },
  {
   "cell_type": "code",
   "execution_count": 424,
   "metadata": {},
   "outputs": [
    {
     "data": {
      "text/html": [
       "<div>\n",
       "<style scoped>\n",
       "    .dataframe tbody tr th:only-of-type {\n",
       "        vertical-align: middle;\n",
       "    }\n",
       "\n",
       "    .dataframe tbody tr th {\n",
       "        vertical-align: top;\n",
       "    }\n",
       "\n",
       "    .dataframe thead th {\n",
       "        text-align: right;\n",
       "    }\n",
       "</style>\n",
       "<table border=\"1\" class=\"dataframe\">\n",
       "  <thead>\n",
       "    <tr style=\"text-align: right;\">\n",
       "      <th></th>\n",
       "      <th>total_bill</th>\n",
       "      <th>tip</th>\n",
       "      <th>sex</th>\n",
       "      <th>smoker</th>\n",
       "      <th>day</th>\n",
       "      <th>time</th>\n",
       "      <th>size</th>\n",
       "    </tr>\n",
       "  </thead>\n",
       "  <tbody>\n",
       "    <tr>\n",
       "      <th>242</th>\n",
       "      <td>17.82</td>\n",
       "      <td>1.75</td>\n",
       "      <td>Male</td>\n",
       "      <td>No</td>\n",
       "      <td>Sat</td>\n",
       "      <td>Dinner</td>\n",
       "      <td>2</td>\n",
       "    </tr>\n",
       "    <tr>\n",
       "      <th>243</th>\n",
       "      <td>18.78</td>\n",
       "      <td>3.00</td>\n",
       "      <td>Female</td>\n",
       "      <td>No</td>\n",
       "      <td>Thur</td>\n",
       "      <td>Dinner</td>\n",
       "      <td>2</td>\n",
       "    </tr>\n",
       "  </tbody>\n",
       "</table>\n",
       "</div>"
      ],
      "text/plain": [
       "     total_bill   tip     sex smoker   day    time  size\n",
       "242       17.82  1.75    Male     No   Sat  Dinner     2\n",
       "243       18.78  3.00  Female     No  Thur  Dinner     2"
      ]
     },
     "execution_count": 424,
     "metadata": {},
     "output_type": "execute_result"
    }
   ],
   "source": [
    "import seaborn as sns\n",
    "tips = sns.load_dataset(\"tips\")\n",
    "tips.tail(2)"
   ]
  },
  {
   "cell_type": "code",
   "execution_count": 428,
   "metadata": {},
   "outputs": [
    {
     "data": {
      "text/plain": [
       "(23, 29)"
      ]
     },
     "execution_count": 428,
     "metadata": {},
     "output_type": "execute_result"
    }
   ],
   "source": [
    "df1 = tips.groupby(['sex', 'time', 'smoker']).size().reset_index()\n",
    "df2 = df1[df1['sex']=='Female'][df1['time']=='Dinner']\n",
    "Smoke, Non = df2[0].values[0], df2[0].values[1]\n",
    "Smoke, Non"
   ]
  },
  {
   "cell_type": "code",
   "execution_count": 427,
   "metadata": {},
   "outputs": [
    {
     "data": {
      "text/plain": [
       "0.4884556693798922"
      ]
     },
     "execution_count": 427,
     "metadata": {},
     "output_type": "execute_result"
    }
   ],
   "source": [
    "sp.stats.binom_test(Non, Smoke+Non)"
   ]
  },
  {
   "cell_type": "markdown",
   "metadata": {},
   "source": [
    "#### 연습3. 데이터 조사 결과: 0.7 찬성, 1% 수준으로 국민 2/3이 이상이 찬성한다고 말하려면, 표본 몇명?"
   ]
  },
  {
   "cell_type": "code",
   "execution_count": 494,
   "metadata": {
    "scrolled": true
   },
   "outputs": [],
   "source": [
    "mu_0 = 2/3\n",
    "x = range(1300, 1400)\n",
    "y = [sp.stats.binom_test(0.7 * N, N, mu_0) for N in x]"
   ]
  },
  {
   "cell_type": "code",
   "execution_count": 493,
   "metadata": {
    "scrolled": true
   },
   "outputs": [
    {
     "data": {
      "image/png": "[encoded data removed]",
      "text/plain": [
       "<Figure size 360x360 with 1 Axes>"
      ]
     },
     "metadata": {
      "needs_background": "light"
     },
     "output_type": "display_data"
    }
   ],
   "source": [
    "%matplotlib inline\n",
    "f, ax = plt.subplots(figsize=(5,5))\n",
    "ax.plot(x, y)\n",
    "plt.show()"
   ]
  },
  {
   "cell_type": "markdown",
   "metadata": {},
   "source": [
    "# 2. 카이 제곱 검정(Chi-square test) \n",
    "## - 활용2가지\n",
    "- 활용\n",
    "    - 카테고리 분포의 모수 $\\mu = (\\mu_1, \\ldots, \\mu_k)$에 대한 가설 조사\n",
    "    - 카테고리 확률변수 X, Y가 독립인지, 상관관계를 가지는지 검증\n",
    "\n",
    "\n",
    "\n",
    "##### 1) 카테고리 분포의 모수 $\\mu = (\\mu_1, \\ldots, \\mu_k)$에 대한 가설 조사\n",
    "- 통계량: 카테고리 분포 표본의 합(X)\n",
    "- 통계량: 카이 제곱 검정의 검정 통계량\n",
    "### $$\\sum_{k=1}^K \\dfrac{(x_k - m_k)^2}{(m_k)}$$\n",
    "$$x_k:\\;카테고리\\;원소\\;k가\\;나온\\;횟수 \\;\\; m_k: \\; 나와야 \\;할\\; 횟수의 \\;기댓값$$"
   ]
  },
  {
   "cell_type": "markdown",
   "metadata": {},
   "source": [
    "연습1. N=10회 시행시, 1,2,3,4가 아래와 같이 나왔을 때, $\\mu$=(0.25,0.25,0.25,0.25)일까?"
   ]
  },
  {
   "cell_type": "code",
   "execution_count": 508,
   "metadata": {},
   "outputs": [
    {
     "data": {
      "text/plain": [
       "array([6, 1, 1, 2])"
      ]
     },
     "execution_count": 508,
     "metadata": {},
     "output_type": "execute_result"
    }
   ],
   "source": [
    "N = 10\n",
    "K = 4\n",
    "mu_0 = np.ones(K)/K\n",
    "x = np.random.choice(K, N, p=mu_0)\n",
    "n = np.bincount(x, minlength=4)\n",
    "n"
   ]
  },
  {
   "cell_type": "code",
   "execution_count": 509,
   "metadata": {},
   "outputs": [
    {
     "data": {
      "text/plain": [
       "Power_divergenceResult(statistic=6.800000000000001, pvalue=0.07855315983679816)"
      ]
     },
     "execution_count": 509,
     "metadata": {},
     "output_type": "execute_result"
    }
   ],
   "source": [
    "sp.stats.chisquare(n)"
   ]
  },
  {
   "cell_type": "markdown",
   "metadata": {},
   "source": [
    "연습2. 4면체 주사위 3번시행. 3번 모두 1. 공정?"
   ]
  },
  {
   "cell_type": "code",
   "execution_count": 510,
   "metadata": {},
   "outputs": [
    {
     "data": {
      "text/plain": [
       "Power_divergenceResult(statistic=9.0, pvalue=0.02929088653488826)"
      ]
     },
     "execution_count": 510,
     "metadata": {},
     "output_type": "execute_result"
    }
   ],
   "source": [
    "N = 3\n",
    "K = 4\n",
    "y = np.array([3,0,0,0])\n",
    "sp.stats.chisquare(y)"
   ]
  },
  {
   "cell_type": "markdown",
   "metadata": {},
   "source": [
    "#### 2) 카테고리 확률변수 X, Y가 독립인지, 상관관계를 가지는지 검증\n",
    "- data 결과 표본을 보니 독립처럼 생김, 또는 독립에 가까움.  \n",
    "- 이것이 우연인지 아니면 실제 분포가 독립이라서 그러한지 확인.\n",
    "- recap) X, Y가 독립이라면, X=0 or 1의 경우 모두 Y는 같은 확률분포를 보여야 함\n",
    "- $H_0$ = 독립"
   ]
  },
  {
   "cell_type": "markdown",
   "metadata": {},
   "source": [
    "연습1"
   ]
  },
  {
   "cell_type": "code",
   "execution_count": 528,
   "metadata": {
    "scrolled": true
   },
   "outputs": [
    {
     "name": "stdout",
     "output_type": "stream",
     "text": [
      " statistics: 0.0992063492063492\n",
      " p-value: 0.7527841326498471\n",
      " degree of freedom: 1\n",
      " 독립이라면 마땅히:\n",
      " [[ 6. 14.]\n",
      " [ 9. 21.]]\n"
     ]
    }
   ],
   "source": [
    "obs = np.array([[5, 15], [10, 20]])\n",
    "chi2, Pvalue, dof, expected = sp.stats.chi2_contingency(obs)\n",
    "print(' statistics: {}\\n p-value: {}\\n degree of freedom: {}\\n 독립이라면 마땅히:\\n {}'.format(chi2, Pvalue, dof, expected))"
   ]
  },
  {
   "cell_type": "code",
   "execution_count": 531,
   "metadata": {
    "scrolled": true
   },
   "outputs": [
    {
     "data": {
      "text/plain": [
       "(9.910060890453046, 0.00704786570249751, 2, array([[10.8, 13.6, 15.6],\n",
       "        [16.2, 20.4, 23.4]]))"
      ]
     },
     "execution_count": 531,
     "metadata": {},
     "output_type": "execute_result"
    }
   ],
   "source": [
    "obs = np.array([[4, 16, 20], [23, 18, 19]])\n",
    "sp.stats.chi2_contingency(obs)"
   ]
  },
  {
   "cell_type": "code",
   "execution_count": 536,
   "metadata": {},
   "outputs": [
    {
     "data": {
      "text/plain": [
       "(13.22200137240661,\n",
       " 0.004180302092822257,\n",
       " 3,\n",
       " array([[39.89344262, 12.22540984, 55.9795082 , 48.90163934],\n",
       "        [22.10655738,  6.77459016, 31.0204918 , 27.09836066]]))"
      ]
     },
     "execution_count": 536,
     "metadata": {},
     "output_type": "execute_result"
    }
   ],
   "source": [
    "tips = sns.load_dataset(\"tips\")\n",
    "df = tips.pivot_table(index='sex', columns='day', aggfunc='size')\n",
    "obs = df.values\n",
    "sp.stats.chi2_contingency(obs)"
   ]
  },
  {
   "cell_type": "markdown",
   "metadata": {},
   "source": [
    "# 3. 단일표본 z-검정(One-sample z-test)\n",
    "- 분산 $\\sigma^2$ 정확히 알고 있는 정규분포의 표본에 대한 $\\mu$ 조사.\n",
    "- 안중요"
   ]
  },
  {
   "cell_type": "markdown",
   "metadata": {},
   "source": [
    "연습"
   ]
  },
  {
   "cell_type": "code",
   "execution_count": 539,
   "metadata": {},
   "outputs": [],
   "source": [
    "N = 10\n",
    "mu_0 = 0\n",
    "x = sp.stats.norm(mu_0).rvs(N)"
   ]
  },
  {
   "cell_type": "code",
   "execution_count": 540,
   "metadata": {},
   "outputs": [
    {
     "data": {
      "text/plain": [
       "(2.5561971107503805, 0.01058231551547634)"
      ]
     },
     "execution_count": 540,
     "metadata": {},
     "output_type": "execute_result"
    }
   ],
   "source": [
    "def ztest_1samp(x, sigma2=1, mu=0):\n",
    "    z = (x.mean() - mu) / np.sqrt(sigma2/len(x))\n",
    "    return z, 2 * sp.stats.norm().sf(np.abs(z))\n",
    "\n",
    "ztest_1samp(x)"
   ]
  },
  {
   "cell_type": "markdown",
   "metadata": {},
   "source": [
    "# 4. 단일 표본 t-검정(One-sample t-test)\n",
    "- **정규 분포의 sample**에 대해 $\\mu$ 조사\n",
    "- 검정통계량: t-통계량(~ 스튜던트 t분포 따름)\n",
    "### $$\n",
    "\\dfrac{\\bar{x} - \\mu_0}{\\frac{s}{\\sqrt{N}}}\n",
    "$$"
   ]
  },
  {
   "cell_type": "code",
   "execution_count": 546,
   "metadata": {
    "scrolled": true
   },
   "outputs": [
    {
     "data": {
      "image/png": "[encoded data removed]",
      "text/plain": [
       "<Figure size 432x288 with 1 Axes>"
      ]
     },
     "metadata": {
      "needs_background": "light"
     },
     "output_type": "display_data"
    }
   ],
   "source": [
    "N = 10\n",
    "mu_0 = 0\n",
    "x = sp.stats.norm(mu_0).rvs(N)\n",
    "sns.distplot(x, kde=False, fit=sp.stats.norm)\n",
    "plt.show()"
   ]
  },
  {
   "cell_type": "code",
   "execution_count": 552,
   "metadata": {},
   "outputs": [
    {
     "data": {
      "text/plain": [
       "Ttest_1sampResult(statistic=0.9099101051395859, pvalue=0.3865894613543809)"
      ]
     },
     "execution_count": 552,
     "metadata": {},
     "output_type": "execute_result"
    }
   ],
   "source": [
    "sp.stats.ttest_1samp(x, popmean=0)"
   ]
  },
  {
   "cell_type": "markdown",
   "metadata": {},
   "source": [
    "# 5. 독립 표본 t-검정(Independent-two-sample t-test)\n",
    "- data set 2개\n",
    "- **$\\mu_1, \\mu_2$ 동일한지 검사**\n",
    "- 등분산 검정 사용(equal-variance test)\n",
    "    - 분산 같다면 equal_var=True(default)\n",
    "    - 분산 다르면 equal_var=False\n",
    "- 검정통계량\n",
    "    - $\\sigma_1^2 = \\sigma_2^2$\n",
    "$$ \n",
    "t = \\dfrac{\\bar{x}_1 - \\bar{x}_2}{s \\cdot \\sqrt{\\dfrac{1}{N_1}+\\dfrac{1}{N_2}}}\n",
    "$$\n",
    "$$\n",
    "s = \\sqrt{\\dfrac{\\left(N_1-1\\right)s_{1}^2+\\left(N_2-1\\right)s_{2}^2}{N_1+N_2-2}}\n",
    "$$\n",
    "    - $\\sigma_1^2 \\neq \\sigma_2^2$\n",
    "$$\n",
    "t = \\dfrac{\\bar{x}_1 - \\bar{x}_2}{\\sqrt{\\dfrac{s_1^2}{N_1} + \\dfrac{s_2^2}{N_2}}}\n",
    "$$"
   ]
  },
  {
   "cell_type": "markdown",
   "metadata": {},
   "source": [
    "연습"
   ]
  },
  {
   "cell_type": "code",
   "execution_count": 589,
   "metadata": {
    "scrolled": true
   },
   "outputs": [
    {
     "data": {
      "image/png": "[encoded data removed]",
      "text/plain": [
       "<Figure size 432x288 with 1 Axes>"
      ]
     },
     "metadata": {
      "needs_background": "light"
     },
     "output_type": "display_data"
    },
    {
     "data": {
      "text/plain": [
       "(-0.15287943022324907, 0.9061824270214561)"
      ]
     },
     "execution_count": 589,
     "metadata": {},
     "output_type": "execute_result"
    }
   ],
   "source": [
    "N_1, N_2 = 10, 10\n",
    "mu_1, mu_2 = 0, 0.5\n",
    "sigma_1, sigma_2 = 1, 1\n",
    "\n",
    "x1 = sp.stats.norm(mu_1).rvs(N_1)\n",
    "x2 = sp.stats.norm(mu_2).rvs(N_2)\n",
    "sns.distplot(x1, kde=False, fit=sp.stats.norm, label='x1')\n",
    "sns.distplot(x2, kde=False, fit=sp.stats.norm, label='x2')\n",
    "plt.legend()\n",
    "plt.show()\n",
    "np.mean(x1), np.mean(x2)"
   ]
  },
  {
   "cell_type": "code",
   "execution_count": 564,
   "metadata": {
    "scrolled": true
   },
   "outputs": [
    {
     "data": {
      "text/plain": [
       "Ttest_indResult(statistic=-0.8689413891008084, pvalue=0.3963180265914754)"
      ]
     },
     "execution_count": 564,
     "metadata": {},
     "output_type": "execute_result"
    }
   ],
   "source": [
    "sp.stats.ttest_ind(x1, x2)"
   ]
  },
  {
   "cell_type": "markdown",
   "metadata": {},
   "source": [
    "연습2. 1반 실력이 더 좋은가?(원래는 평균이 같은데, 지금 표본의 평균차이는 우연아닌가?)\n",
    "- A반 성적: 80점, 75점, 85점, 50점, 60점, 75점, 45점, 70점, 90점, 95점, 85점, 80점. 평균 74.1점\n",
    "- B반 성적: 80점, 85점, 70점, 80점, 35점, 55점, 80점 . 평균 69.2점    "
   ]
  },
  {
   "cell_type": "code",
   "execution_count": 594,
   "metadata": {},
   "outputs": [
    {
     "data": {
      "text/plain": [
       "Ttest_indResult(statistic=0.623010926550264, pvalue=0.5415458608473267)"
      ]
     },
     "execution_count": 594,
     "metadata": {},
     "output_type": "execute_result"
    }
   ],
   "source": [
    "def point(a):\n",
    "    \"\"\"\n",
    "    type(a)=str\n",
    "    \"\"\"    \n",
    "    lsa = a.replace('점','').split(',')\n",
    "    a_point = [int(x.strip()) for x in lsa]\n",
    "    return np.array(a_point)\n",
    "\n",
    "A_point = point('80점, 75점, 85점, 50점, 60점, 75점, 45점, 70점, 90점, 95점, 85점, 80점')\n",
    "B_point = point('80점, 85점, 70점, 80점, 35점, 55점, 80점')\n",
    "sp.stats.ttest_ind(A_point, B_point)\n",
    "\n",
    "#결론: 실력차 없음"
   ]
  },
  {
   "cell_type": "markdown",
   "metadata": {},
   "source": [
    "# 6. 대응 표본 t-검정(paired-two-sample t-test)\n",
    "- two sample t-test에서, 두 집단의 표본이 1:1 대응할 때 사용\n",
    "- data set 2개, 각 $\\mu$ 값 동일한지 여부 판단\n",
    "- 통계량(대응하는 표본값 차이$x_d = x_{1i} - x_{2i}$)\n",
    "\n",
    "### $$\n",
    "t = \\dfrac{\\bar{x_d} - \\mu_0}{\\dfrac{s_d}{\\sqrt{N}}}\n",
    "$$"
   ]
  },
  {
   "cell_type": "markdown",
   "metadata": {},
   "source": [
    "연습. 기댓값 바뀐 집단 맞추는지 확인(원래 점수 vs 평균 점수가 올랐을 때)"
   ]
  },
  {
   "cell_type": "code",
   "execution_count": 653,
   "metadata": {
    "scrolled": true
   },
   "outputs": [
    {
     "data": {
      "image/png": "[encoded data removed]",
      "text/plain": [
       "<Figure size 432x288 with 1 Axes>"
      ]
     },
     "metadata": {
      "needs_background": "light"
     },
     "output_type": "display_data"
    },
    {
     "data": {
      "text/plain": [
       "Ttest_relResult(statistic=-9.425982677576469, pvalue=0.0007062215689690718)"
      ]
     },
     "execution_count": 653,
     "metadata": {},
     "output_type": "execute_result"
    }
   ],
   "source": [
    "N = 5\n",
    "mu_1, mu_2 = 70, 0.4\n",
    "x1 = sp.stats.norm(mu_1).rvs(N)\n",
    "x2 = x1 + sp.stats.norm(mu_2, 0.1).rvs(N)\n",
    "\n",
    "sns.distplot(x1, kde=False, rug= True, fit=sp.stats.norm)\n",
    "sns.distplot(x2, kde=False, rug= True, fit=sp.stats.norm)\n",
    "plt.show()\n",
    "sp.stats.ttest_rel(x1, x2)"
   ]
  },
  {
   "cell_type": "markdown",
   "metadata": {},
   "source": [
    "# 분산 \n",
    "# 1. 카이 제곱 분산 검정(Chi-Square Test for the Variance): 안중요\n",
    "- data set 1개\n",
    "- 의미없음: 분산검정은 용처가 없음\n",
    "- 원리: 정규분포의 표본분산$s^2$ -> 정규화 -> 카이제곱분포 따름\n",
    "$$\n",
    "\\chi^2 = (N-1)\\dfrac{s^2}{\\sigma_0^2}\n",
    "$$"
   ]
  },
  {
   "cell_type": "markdown",
   "metadata": {},
   "source": [
    "연습. sample분산을 통해 $\\sigma^2=1$인지 검정"
   ]
  },
  {
   "cell_type": "code",
   "execution_count": 684,
   "metadata": {},
   "outputs": [],
   "source": [
    "def chi2var_test(x, sigma2=1):\n",
    "    v = x.var(ddof=1)\n",
    "    t = (len(x) - 1)*v/sigma2\n",
    "    return t, sp.stats.chi2(df=len(x)-1).sf(np.abs(t))"
   ]
  },
  {
   "cell_type": "code",
   "execution_count": 685,
   "metadata": {
    "scrolled": true
   },
   "outputs": [
    {
     "data": {
      "image/png": "[encoded data removed]",
      "text/plain": [
       "<Figure size 432x288 with 1 Axes>"
      ]
     },
     "metadata": {
      "needs_background": "light"
     },
     "output_type": "display_data"
    },
    {
     "data": {
      "text/plain": [
       "1.383478349135908"
      ]
     },
     "execution_count": 685,
     "metadata": {},
     "output_type": "execute_result"
    }
   ],
   "source": [
    "N = 100\n",
    "mu_0 = 0\n",
    "sigma_0 = 1.5\n",
    "x = sp.stats.norm(mu_0, sigma_0).rvs(N)\n",
    "sns.distplot(x, kde=False, fit=sp.stats.norm)\n",
    "plt.show()\n",
    "x.std()"
   ]
  },
  {
   "cell_type": "code",
   "execution_count": 686,
   "metadata": {},
   "outputs": [
    {
     "data": {
      "text/plain": [
       "(191.4012342527817, 7.456155930377351e-08)"
      ]
     },
     "execution_count": 686,
     "metadata": {},
     "output_type": "execute_result"
    }
   ],
   "source": [
    "chi2var_test(x)"
   ]
  },
  {
   "cell_type": "markdown",
   "metadata": {},
   "source": [
    "# 2. 등분산 검정(Equal-variance test)\n",
    "- Data set 2개, 두 정규 분포의 $\\sigma^2$이 같은지 확인\n",
    "- 검정통계량: 표본분산의 비율\n",
    "- 검정통계량은 표본분산의 비율을 따름\n",
    "$$\n",
    "F = \\frac{s_1^2}{s_2^2}\n",
    "$$\n",
    "- 실제 검정통계량: `bartlett`, `fligner`, `levene`"
   ]
  },
  {
   "cell_type": "markdown",
   "metadata": {},
   "source": [
    "연습"
   ]
  },
  {
   "cell_type": "code",
   "execution_count": 690,
   "metadata": {
    "scrolled": true
   },
   "outputs": [
    {
     "data": {
      "image/png": "[encoded data removed]",
      "text/plain": [
       "<Figure size 432x288 with 1 Axes>"
      ]
     },
     "metadata": {
      "needs_background": "light"
     },
     "output_type": "display_data"
    }
   ],
   "source": [
    "N1, N2 = 100, 100\n",
    "sigma_1, sigma_2 = 1, 1.2\n",
    "x1 = sp.stats.norm(0, sigma_1).rvs(N1)\n",
    "x2 = sp.stats.norm(0, sigma_2).rvs(N2)\n",
    "\n",
    "sns.distplot(x1, kde=False, fit=sp.stats.norm, label='x1')\n",
    "sns.distplot(x2, kde=False, fit=sp.stats.norm, label='x2')\n",
    "plt.legend()\n",
    "plt.show()\n"
   ]
  },
  {
   "cell_type": "code",
   "execution_count": 694,
   "metadata": {},
   "outputs": [],
   "source": [
    "bartlett = sp.stats.bartlett(x1, x2)[1]\n",
    "fligner = sp.stats.fligner(x1, x2)[1]\n",
    "levene = sp.stats.levene(x1, x2)[1]"
   ]
  },
  {
   "cell_type": "code",
   "execution_count": 701,
   "metadata": {
    "scrolled": true
   },
   "outputs": [
    {
     "name": "stdout",
     "output_type": "stream",
     "text": [
      "bar: 0.017185692088378803\n",
      "fli: 0.009919336561695444\n",
      "lev: 0.009771763140111576\n"
     ]
    }
   ],
   "source": [
    "print(\"bar: {}\\nfli: {}\\nlev: {}\".format(bartlett,fligner,levene))"
   ]
  },
  {
   "cell_type": "markdown",
   "metadata": {},
   "source": [
    "# 1. 정규성검정 normality test\n",
    "- 회귀분석 등에서 확률분포가 가우시안 정규분포 따르는지 여부 매우 중요\n",
    "- `sp.stats.ks_2samp, shapiro, anderson, normaltest`\n",
    "- Kolmogorov-Smirnov 검정: 두 표본이 같은 분포 따르는지 확인"
   ]
  },
  {
   "cell_type": "markdown",
   "metadata": {},
   "source": [
    "연습"
   ]
  },
  {
   "cell_type": "code",
   "execution_count": 709,
   "metadata": {},
   "outputs": [
    {
     "data": {
      "image/png": "[encoded data removed]",
      "text/plain": [
       "<Figure size 432x288 with 1 Axes>"
      ]
     },
     "metadata": {
      "needs_background": "light"
     },
     "output_type": "display_data"
    }
   ],
   "source": [
    "N1, N2 = 50, 100\n",
    "x1 = sp.stats.norm(1, 1).rvs(N1)\n",
    "x2 = sp.stats.norm(0, 1).rvs(N2)\n",
    "sns.distplot(x1)\n",
    "sns.distplot(x2)\n",
    "plt.show()"
   ]
  },
  {
   "cell_type": "code",
   "execution_count": 707,
   "metadata": {
    "scrolled": true
   },
   "outputs": [
    {
     "data": {
      "text/plain": [
       "Ks_2sampResult(statistic=0.4, pvalue=2.7715689716475727e-05)"
      ]
     },
     "execution_count": 707,
     "metadata": {},
     "output_type": "execute_result"
    }
   ],
   "source": [
    "sp.stats.ks_2samp(x1, x2)"
   ]
  },
  {
   "cell_type": "code",
   "execution_count": null,
   "metadata": {},
   "outputs": [],
   "source": []
  }
 ],
 "metadata": {
  "kernelspec": {
   "display_name": "Python 3",
   "language": "python",
   "name": "python3"
  },
  "language_info": {
   "codemirror_mode": {
    "name": "ipython",
    "version": 3
   },
   "file_extension": ".py",
   "mimetype": "text/x-python",
   "name": "python",
   "nbconvert_exporter": "python",
   "pygments_lexer": "ipython3",
   "version": "3.6.6"
  }
 },
 "nbformat": 4,
 "nbformat_minor": 2
}
