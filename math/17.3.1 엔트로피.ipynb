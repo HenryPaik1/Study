{
 "cells": [
  {
   "cell_type": "markdown",
   "metadata": {},
   "source": [
    "# 엔트로피\n",
    "- 확률 분포들이 가지는 확신의 정도\n",
    "- 결정론에 가까울수록 엔트로피는 낮아짐\n",
    "\n",
    "## 1. 수학적 정의\n",
    "- 에 정보량만큼 가중치 부여한 일종의 가중평균\n",
    "- P(y): 확률질량함수 or 확률밀도함수 \n",
    "- $\\log_2P(y_k)$: 정보량\n",
    "\n",
    "\n",
    "- Y 이산확률 변수\n",
    "\n",
    "$$\n",
    "H[Y] = -\\sum_{k=1}^K \\log_2P(y_k) \\times P(y_k) \n",
    "$$\n",
    "\n",
    "- Y 연속확률 변수\n",
    "$$\n",
    "H[Y] = -\\int_{\\infty}^{\\infty} \\log_2 P(y) \\times P(y) dy\n",
    "$$"
   ]
  },
  {
   "cell_type": "markdown",
   "metadata": {},
   "source": [
    "예시)"
   ]
  },
  {
   "cell_type": "code",
   "execution_count": 20,
   "metadata": {},
   "outputs": [
    {
     "data": {
      "image/png": "[encoded data removed]",
      "text/plain": [
       "<Figure size 360x144 with 3 Axes>"
      ]
     },
     "metadata": {
      "needs_background": "light"
     },
     "output_type": "display_data"
    }
   ],
   "source": [
    "%matplotlib inline\n",
    "plt.figure(figsize=(5,2))\n",
    "plt.subplot(131)\n",
    "plt.bar([0, 1], [0.5, 0.5])\n",
    "plt.title('$Y_1$')\n",
    "\n",
    "plt.subplot(132)\n",
    "plt.bar([0, 1], [0.8, 0.2])\n",
    "plt.title('$Y_2$')\n",
    "\n",
    "plt.subplot(133)\n",
    "plt.bar([0, 1], [1, 0])\n",
    "plt.title('$Y_3$')\n",
    "\n",
    "plt.xticks([0, 1])\n",
    "plt.tight_layout()\n",
    "plt.show()"
   ]
  },
  {
   "cell_type": "markdown",
   "metadata": {},
   "source": [
    "$$H[Y_1] = -\\left( \\dfrac{1}{2} \\log_2 \\dfrac{1}{2} +  \n",
    "\\dfrac{1}{2} \\log_2 \\dfrac{1}{2}\n",
    "\\right) = 1$$\n",
    "\n",
    "$$H[Y_2] = -\\left( \\dfrac{8}{10} \\log_2 \\dfrac{8}{10} +  \n",
    "\\dfrac{2}{10} \\log_2 \\dfrac{2}{10}\n",
    "\\right) = 0.72$$\n",
    "\n",
    "$$H[Y_3] = -\\left( 1 \\log_2 1 +  \n",
    "0 \\log_2 0\n",
    "\\right) = 0$$"
   ]
  },
  {
   "cell_type": "code",
   "execution_count": 28,
   "metadata": {},
   "outputs": [
    {
     "name": "stdout",
     "output_type": "stream",
     "text": [
      "Y1:  1.0\n",
      "Y2:  0.7219280948873623\n"
     ]
    }
   ],
   "source": [
    "print(\"Y1: \", -(0.5 * np.log2(0.5) + 0.5 * np.log2(0.5)))\n",
    "print(\"Y2: \", -(0.8 * np.log2(0.8) + 0.2 * np.log2(0.2)))"
   ]
  },
  {
   "cell_type": "code",
   "execution_count": 30,
   "metadata": {},
   "outputs": [
    {
     "data": {
      "text/plain": [
       "-1.1546319456101628e-14"
      ]
     },
     "execution_count": 30,
     "metadata": {},
     "output_type": "execute_result"
    }
   ],
   "source": [
    "# p(y)=0\n",
    "eps = np.finfo(float).eps\n",
    "-( 1 * np.log2(1) - eps*np.log2(eps))"
   ]
  },
  {
   "cell_type": "markdown",
   "metadata": {},
   "source": [
    "## 2. 성질\n",
    "- 최솟값: 0 -> 결정론적 값\n",
    "- 최댓값: 확신할 수 없음. 아무것도 모르는 상태.\n",
    "    - 이산확률변수의 클래스 갯수에 따름\n",
    "    - len(class) = $2^K$\n",
    "    - 각 클래스가 모두 같은 확률 가질 때 최댓값\n",
    "    $$\n",
    "    H = - \\dfrac{2^K}{2^K} \\log_2 \\dfrac{1}{2^K} = K\n",
    "    $$\n",
    "    \n",
    "## 3. 정보량\n",
    "- 엔트로피는 확률변수가 담을 수 있는 정보량\n",
    "- 즉, 표본값을 관측해서 얻을 수 있는 추가정보\n",
    "    - 엔트로피0: 관측하지 않아도 앎. 확률변수 **표본값** 항상 일정\n",
    "    - 엔트로피 최대: 관측해야만 알 수 있음. 동전을 던져봐야 앎.\n",
    "    \n",
    "## 4. 무손실 인코딩\n",
    "**예시)** \n",
    "\n",
    "- 어떤 문서 1000자를 알파벳 A, B, C, D를 이진수로 변환(2000자). 각 확률은:\n",
    "    - A(\"00\"): 1/2\n",
    "    - B(\"01\"): 1/4\n",
    "    - C(\"10\"): 1/8\n",
    "    - D(\"11\"): 1/8\n",
    "\n",
    "\n",
    "- 가변길이 인코딩(variable length encoding): \n",
    "    - A(\"0\"): 1/2\n",
    "    - B(\"10\"): 1/4\n",
    "    - C(\"110\"): 1/8\n",
    "    - D(\"111\"): 1/8\n",
    "\n",
    "\n",
    "- 문자수 줄어듦:\n",
    "$$\n",
    "문자수 \\times 확률 \\cdot 이진수 자릿수\n",
    "$$\n",
    "\n",
    "$$\n",
    "(1000 \\times \\dfrac{1}{2}) \\cdot 1 + (1000 \\times \\dfrac{1}{4}) \\cdot 2 + (1000 \\times \\dfrac{1}{8}) \\cdot 3 + (1000 \\times \\dfrac{1}{8}) \\cdot 3 = 1750\n",
    "$$\n",
    "\n",
    "- 1.75이란:\n",
    "     - 알파벳 한 글자 인코딩에 필요한 평균 비트수 = 엔트로피 값\n",
    "     \n",
    "**예시2)**\n",
    "\n",
    "- A~H 8글자: {1/2, 1/4, 1/8, 1/16, 1/64 , 1/64, 1/64, 1/64}\n",
    "    - A: 0\n",
    "    - B: 10\n",
    "    - C: 110\n",
    "    - D: 1110\n",
    "    - E: 111100\n",
    "    - F: 111101\n",
    "    - G: 111110\n",
    "    - H: 111111\n",
    "- 평균 비트수:"
   ]
  },
  {
   "cell_type": "code",
   "execution_count": 33,
   "metadata": {},
   "outputs": [
    {
     "data": {
      "text/plain": [
       "2.0"
      ]
     },
     "execution_count": 33,
     "metadata": {},
     "output_type": "execute_result"
    }
   ],
   "source": [
    "ls = [1/2,1/4,1/8,1/16,1/64,1/64,1/64,1/64]\n",
    "def H(ls):\n",
    "    ans = 0\n",
    "    for i in range(len(ls)):\n",
    "        ans += ls[i]*np.log2(ls[i])\n",
    "    return -ans\n",
    "H(ls)"
   ]
  },
  {
   "cell_type": "markdown",
   "metadata": {},
   "source": [
    "## 5. 엔트로피 추정\n",
    "- 확률질량함수 추정하여 엔트로피 계산\n",
    "\n",
    "예)\n",
    " - 총 data 80개\n",
    " - Y=0: 40개\n",
    " - Y=1: 40개\n",
    " - $H[Y] = -(\\dfrac{1}{2} \\log_2 \\dfrac{1}{2}+ \\dfrac{1}{2} \\log_2 \\dfrac{1}{2}) =1$\n",
    " \n",
    "## 6. 지니불순도\n",
    "- 계산량이 적어(log(x)) 엔트로피 대용으로 사용\n",
    " $$\n",
    " G[Y] = \\sum_{k=1}^KP(y_k)(1-P(y_k))\n",
    " $$\n",
    "- vs \n",
    " $$\n",
    "H[Y] = -\\sum_{k=1}^K \\log_2P(y_k) \\times P(y_k) \n",
    "$$\n",
    "\n",
    "## 7. 결합 엔트로피\n",
    "- 두 이산확률변수 X, Y에 대한 결합 엔트로피(joint entropy):\n",
    "$$H[X, Y]= -\\sum_{i=1}^{K_x} \\sum_{j=1}^{K_y} P(x_i,y_i) \\log_2P(x_i, y_i)$$\n",
    "\n",
    "- 연속확률변수:\n",
    "$$\n",
    "H[X,Y] = -\\int_x \\int_y p(x, y)log_2p(x,y) \\; dxdy\n",
    "$$\n",
    "\n",
    "## 8. 조건부 엔트로피: scalar\n",
    "- 상관관계 있는 두 확률변수 X, Y\n",
    "- X알 때, Y의 확률변수가 가질 수 있는 정보량\n",
    "- 조건부 가중평균\n",
    "$$\n",
    "H[Y \\mid X] = - \\sum_{i=1}^{K_x}\\sum_{j=1}^{K_y}P(x_i, y_j) \\log_2P(y_i \\mid x_i)\n",
    "$$\n",
    "\n",
    "$$\n",
    "H[Y \\mid X] = - \\int_x \\int_y p(x, y) \\log_2 p(y \\mid x) \\; dxdy\n",
    "$$\n",
    "\n",
    "- x가 정해졌을 때 y 엔트로피값의 가중평균\n",
    "$$\n",
    "H[Y \\mid X] = - \\sum_{i=1}^{K_x}P(x_i)H[Y \\mid X=x_i]\n",
    "$$\n",
    "\n",
    "$$\n",
    "H[Y \\mid X] = - \\int_x p(x)H[Y \\mid X=x] \\; dx\n",
    "$$"
   ]
  },
  {
   "cell_type": "markdown",
   "metadata": {},
   "source": [
    "- 예시) 스팸 메일 분류문제\n",
    "    - 총 80개 메일\n",
    "        - 정상(Y=0): 40 개\n",
    "        - 스팸(Y=1): 40 개\n",
    "        - 키워드 후보: $X_1, X_2, X_3$\n",
    "- case 1: \n",
    "    - $H[Y \\mid X_1]$: 키워드 X1의 유무로 스팸메일 걸러낼 수 있는가\n",
    "    \n",
    "    - $p(X_1=0) \\cdot H[Y \\mid X_1=0] + p(X_1=1) \\cdot H[Y \\mid X_1=1]$\n",
    "        \n",
    "    - 40/80 * 0.81 + 40/80 * 0.81 = 0.81\n",
    "    \n",
    "| cat | Y=0 | Y=1 |\n",
    "| --- | --- |--- |\n",
    "| $X_1$=0 | 30 | 10 |\n",
    "| $X_1$=1 | 10 | 30 |\n",
    "\n"
   ]
  },
  {
   "cell_type": "code",
   "execution_count": 40,
   "metadata": {},
   "outputs": [
    {
     "data": {
      "text/plain": [
       "0.8112781244591328"
      ]
     },
     "execution_count": 40,
     "metadata": {},
     "output_type": "execute_result"
    }
   ],
   "source": [
    "# H[Y|X1=0]\n",
    "- (3/4 * np.log2(3/4) + 1/4 * np.log2(1/4))"
   ]
  },
  {
   "cell_type": "markdown",
   "metadata": {},
   "source": [
    "- case 2: \n",
    "    - $H[Y \\mid X_2]$: 키워드가 사번\n",
    "    \n",
    "    - $p(X_2=0) \\cdot H[Y \\mid X_2=0] + p(X_2=1) \\cdot H[Y \\mid X_2=1]$\n",
    "        \n",
    "    - 60/80 * 0.92 + 20/80 * 0 = 0.69\n",
    "    \n",
    "| cat | Y=0 | Y=1 |\n",
    "| --- | --- |--- |\n",
    "| $X_2$=0 | 20 | 40 |\n",
    "| $X_2$=1 | 20 | 0 |"
   ]
  },
  {
   "cell_type": "markdown",
   "metadata": {},
   "source": [
    "# 9. 크로스 엔트로피\n",
    "- 인수: 확률변수(X), 확률분포:함수(O)\n",
    "- 기준이 되는 분포는 앞: 순서 바뀌면 값 달라짐\n",
    "\n",
    "$$\n",
    "H[P,Q] = - \\sum_{k=1}^{K} P(y_k) \\log_2 Q(y_k)\n",
    "$$\n",
    "$$\n",
    "H[p,q] = - \\int_y p(y)\\log_2q(y) \\; dy\n",
    "$$\n",
    "\n",
    "- 용도: 같은 확률변수에 대한 두 개의 추정 확률 분포 비교. 분류 모형 성능 측정가능.\n",
    "    - P: Y 분포 vs Q: $\\hat{y}$분포\n",
    "    - 예) 이진분류\n",
    "    \n",
    "$$\n",
    "H[P, Q] = -\\{P_Y(Y=0) \\cdot \\log_2 {P_{\\hat{Y}}(Y=0)} + P_Y(Y=1) \\cdot \\log_2{P_{\\hat{Y}}(Y=1)} \\}\n",
    "$$\n",
    "\n",
    "$$\n",
    "\\begin{cases}\n",
    "& -\\log_2 (1- \\mu) & \\text{Y=0} \\rightarrow P_Y(Y=0) = 1\\\\\n",
    "& -\\log_2 (\\mu) & \\text{Y=1} \\rightarrow P_1(Y=1) = 1\\\\\n",
    "\\end{cases}\n",
    "$$\n",
    "\n",
    "$$\n",
    "\\therefore H[P,Q] = -\\dfrac{1}{N} \\sum_{i=1}^N \\left( y_i \\log_2 \\mu_i + (1-y_i)\\log_2 (1-\\mu_i) \\right)\n",
    "$$"
   ]
  },
  {
   "cell_type": "markdown",
   "metadata": {},
   "source": [
    "# 10. 쿨백-라이블러 발산\n",
    "- 두 확률분포 p(y), q(y)의 차이를 정량화\n",
    "- H[P|P] =  H[P]\n",
    "- 결과값은 항상 양수이며, p(x), q(x)가 완전히 같을 경우에만 0\n",
    "$$\n",
    "KL(P || Q) = H[P,Q] - H[P] = \\sum_{i=1}^K P(y_i) \\log_2 \\left( \\dfrac{P(y_i)}{Q(y_i)} \\right)\n",
    "$$\n",
    "\n"
   ]
  }
 ],
 "metadata": {
  "kernelspec": {
   "display_name": "Python 3",
   "language": "python",
   "name": "python3"
  },
  "language_info": {
   "codemirror_mode": {
    "name": "ipython",
    "version": 3
   },
   "file_extension": ".py",
   "mimetype": "text/x-python",
   "name": "python",
   "nbconvert_exporter": "python",
   "pygments_lexer": "ipython3",
   "version": "3.6.7"
  }
 },
 "nbformat": 4,
 "nbformat_minor": 2
}
