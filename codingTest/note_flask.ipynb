{
 "cells": [
  {
   "cell_type": "markdown",
   "metadata": {},
   "source": [
    "# Flask(웹앱 , API 서버)\n",
    "## 웹앱: 웹을 통한 개발\n",
    "- 앱을 설치하지 않아도 인터넷 통한 접속 가능\n",
    "-\n",
    "\n",
    "- .route(): URL 규칙 받고, 해당 규칭의 URL로 request시 함수 실행\n",
    "- request and response"
   ]
  },
  {
   "cell_type": "code",
   "execution_count": 15,
   "metadata": {},
   "outputs": [
    {
     "name": "stdout",
     "output_type": "stream",
     "text": [
      "\u001b[01;34m../../../flask/pr1\u001b[00m\r\n",
      "├── pr1.py\r\n",
      "├── \u001b[01;34mstatic\u001b[00m\r\n",
      "└── \u001b[01;34mtemplates\u001b[00m\r\n",
      "    └── profile.html\r\n",
      "\r\n",
      "2 directories, 2 files\r\n"
     ]
    }
   ],
   "source": [
    "# 디렉토리 구조\n",
    "!tree ../../../flask/pr1"
   ]
  },
  {
   "cell_type": "code",
   "execution_count": 17,
   "metadata": {},
   "outputs": [
    {
     "name": "stdout",
     "output_type": "stream",
     "text": [
      " * Serving Flask app \"pr1\" (lazy loading)\n",
      " * Environment: production\n",
      "\u001b[31m   WARNING: Do not use the development server in a production environment.\u001b[0m\n",
      "\u001b[2m   Use a production WSGI server instead.\u001b[0m\n",
      " * Debug mode: on\n",
      " * Running on http://127.0.0.1:5000/ (Press CTRL+C to quit)\n",
      " * Restarting with stat\n",
      " * Debugger is active!\n",
      " * Debugger PIN: 199-513-781\n",
      "127.0.0.1 - - [30/Nov/2018 17:32:27] \"GET / HTTP/1.1\" 200 -\n",
      "127.0.0.1 - - [30/Nov/2018 17:32:34] \"GET /user/ds HTTP/1.1\" 200 -\n",
      "127.0.0.1 - - [30/Nov/2018 17:32:36] \"GET /people HTTP/1.1\" 200 -\n",
      "127.0.0.1 - - [30/Nov/2018 17:32:36] \"GET /people HTTP/1.1\" 200 -\n",
      "127.0.0.1 - - [30/Nov/2018 17:32:37] \"GET /people HTTP/1.1\" 200 -\n",
      "127.0.0.1 - - [30/Nov/2018 17:32:37] \"GET /people HTTP/1.1\" 200 -\n",
      "^C\n"
     ]
    }
   ],
   "source": [
    "# 로컬호스트 \n",
    "!python3 ../../../flask/pr1/pr1.py"
   ]
  },
  {
   "cell_type": "code",
   "execution_count": null,
   "metadata": {},
   "outputs": [],
   "source": [
    "from flask import Flask, render_template, jsonify\n",
    "app = Flask(__name__)\n",
    "\n",
    "# URL별 출력\n",
    "@app.route(\"/\")\n",
    "def hello():\n",
    "    return \"hello Flask\"\n",
    "\n",
    "@app.route(\"/profile/<un>\")\n",
    "def get_profile(un):\n",
    "    return 'profile' + un\n",
    "\n",
    "@app.route(\"/<int:a>+<int:b>\")\n",
    "def sum(a, b):\n",
    "    return 'sum: {}'.format(a+b)\n",
    "\n",
    "# Json\n",
    "@app.route(\"/people\")\n",
    "def people():\n",
    "    people = {\n",
    "        \"alice\" : [{\"age\" : 35,\n",
    "                         \"email\" : \"al@na.com\"}],\n",
    "        \"jin\" : [{\"age\": 45,\n",
    "                     \"email\": \"jin@na.com\"}],\n",
    "             }\n",
    "    return jsonify(people)\n",
    "    \n",
    "# return HTML webpage\n",
    "@app.route(\"/user/<us>\")\n",
    "def user(us):\n",
    "    return render_template('profile.html', name=us)\n",
    "\n",
    "app.run(debug=True, port=5000)"
   ]
  },
  {
   "cell_type": "markdown",
   "metadata": {},
   "source": [
    "# Nginx\n",
    "## 웹서버 환경 설정\n",
    "- 웹서버 기능: 클라이언트가 요청하는 HTML 문서나 각종 리소스 전달\n",
    "- 예)\n",
    "    - HTTP로 통신\n",
    "    - 브라우저 ->  웹서버 naver.com 접속\n",
    "    - 브라우저  request: html -> 웹서버 response: html \n",
    "    - 브라우저 렌더링\n",
    "- 설정파일\n",
    "    - `/etc/nginx`\n",
    "    - `/etc/nginx/nginx.conf`: global 설정\n",
    "    - `/etc/nginx/sites-available`: 대부분의 설정은 해당 디렉토리 설정파일에서 진행\n",
    "- nginx configuration\n",
    "    - `/etc/nginx/sites-available/default`\n",
    "\n",
    "- 환경 설정\n",
    "    - static file serving\n",
    "~~~\n",
    "    server { \n",
    "        location / {\n",
    "            root /path/to/html ;\n",
    "        }\n",
    "\n",
    "        location /images/ {\n",
    "            root /path/to/image ;\n",
    "        }\n",
    "    }\n",
    "~~~\n",
    "    - proxy server\n",
    "~~~\n",
    "    server {\n",
    "        listen 80;\n",
    "        listen 8080;\n",
    "\n",
    "        location / {\n",
    "            proxy_pass http://localhost:5000;\n",
    "           }\n",
    "    }\n",
    "~~~\n",
    "        "
   ]
  }
 ],
 "metadata": {
  "kernelspec": {
   "display_name": "Python 3",
   "language": "python",
   "name": "python3"
  },
  "language_info": {
   "codemirror_mode": {
    "name": "ipython",
    "version": 3
   },
   "file_extension": ".py",
   "mimetype": "text/x-python",
   "name": "python",
   "nbconvert_exporter": "python",
   "pygments_lexer": "ipython3",
   "version": "3.6.7"
  }
 },
 "nbformat": 4,
 "nbformat_minor": 2
}
