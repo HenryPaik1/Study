{
 "cells": [
  {
   "cell_type": "markdown",
   "metadata": {},
   "source": [
    "## 1.\n",
    "N개의 정수 요소를 가지는 리스트 A가 있습니다.\n",
    "리스트A에서 가장 많이 등장하는 숫자가 전체에서 절반을 넘는다면,\n",
    "그 숫자가 등장하는 index중 하나를 리턴하는 함수를 만드세요.\n",
    "\n",
    "## 2.\n",
    "문자열의 순서를 뒤집었을때도, 같은 문자를 회문.\n",
    "회문검증 함수를 만드시오\n",
    "- 특수문자 무시"
   ]
  },
  {
   "cell_type": "code",
   "execution_count": 112,
   "metadata": {},
   "outputs": [],
   "source": [
    "# 1번 문제\n",
    "def solution(A):\n",
    "    unique = list(set(A))\n",
    "    max, ans = 0, None\n",
    "    for uni in unique:\n",
    "        if A.count(uni) > len(A)//2 and A.count(uni) > max:\n",
    "            max = A.count(uni)\n",
    "            ans = uni\n",
    "    return -1 if ans is None else A.index(ans)\n",
    "\n",
    "# 2번 문제\n",
    "\n",
    "def palindrome(string_):\n",
    "    \n",
    "    import string\n",
    "    special_char = string.printable[62:-5]\n",
    "    new = ''\n",
    "    \n",
    "    for char in string_:\n",
    "        if not char in special_char:\n",
    "            new += char\n",
    "    if new == new[::-1]:\n",
    "        return True\n",
    "    return False"
   ]
  },
  {
   "cell_type": "code",
   "execution_count": 113,
   "metadata": {},
   "outputs": [
    {
     "data": {
      "text/plain": [
       "0"
      ]
     },
     "execution_count": 113,
     "metadata": {},
     "output_type": "execute_result"
    }
   ],
   "source": [
    "A = [3, 4, 3, 2, 3, -1, 3, 3]\n",
    "solution(A)"
   ]
  },
  {
   "cell_type": "code",
   "execution_count": 114,
   "metadata": {},
   "outputs": [
    {
     "data": {
      "text/plain": [
       "True"
      ]
     },
     "execution_count": 114,
     "metadata": {},
     "output_type": "execute_result"
    }
   ],
   "source": [
    "string_ = 'ddcv1@@@##1vc$$$%%d^^d&&&&&'\n",
    "palindrome(string_)"
   ]
  }
 ],
 "metadata": {
  "kernelspec": {
   "display_name": "Python 3",
   "language": "python",
   "name": "python3"
  },
  "language_info": {
   "codemirror_mode": {
    "name": "ipython",
    "version": 3
   },
   "file_extension": ".py",
   "mimetype": "text/x-python",
   "name": "python",
   "nbconvert_exporter": "python",
   "pygments_lexer": "ipython3",
   "version": "3.6.7"
  }
 },
 "nbformat": 4,
 "nbformat_minor": 2
}
