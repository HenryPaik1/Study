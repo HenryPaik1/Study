{
 "cells": [
  {
   "cell_type": "markdown",
   "metadata": {},
   "source": [
    "# 최정 정규화\n",
    "- 최적 성능을 위한, 모형 구조, 하이퍼 파라미터 선택"
   ]
  },
  {
   "cell_type": "markdown",
   "metadata": {},
   "source": [
    "## 1. 다항 회귀 차수 결정\n",
    "- 차수를 늘려가며 K-fold 교차검증\n",
    "- 일정 차수 도달 $\\rightarrow$ MSE는 일정하나, std가 커짐"
   ]
  },
  {
   "cell_type": "markdown",
   "metadata": {},
   "source": [
    "## 2. 정규화 하이퍼 모수 최적화(Lasso의 경우)\n",
    "- Overfitting 피함\n",
    "- Alpha값 높이면 search공간 줄어듦\n",
    "- 정규화 수준 높으면 남는 Feature 줄어듦"
   ]
  }
 ],
 "metadata": {
  "kernelspec": {
   "display_name": "Python 3",
   "language": "python",
   "name": "python3"
  },
  "language_info": {
   "codemirror_mode": {
    "name": "ipython",
    "version": 3
   },
   "file_extension": ".py",
   "mimetype": "text/x-python",
   "name": "python",
   "nbconvert_exporter": "python",
   "pygments_lexer": "ipython3",
   "version": "3.6.6"
  }
 },
 "nbformat": 4,
 "nbformat_minor": 2
}
