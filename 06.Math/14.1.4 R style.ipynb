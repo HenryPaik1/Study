{
 "cells": [
  {
   "cell_type": "markdown",
   "metadata": {},
   "source": [
    "# StatsModels\n",
    "- R 기능: DataFrame과 문자열 기호 이용\n",
    "## patsy\n",
    "- 회귀분석 전처리 패키지: DataFrame 가공 -> 인코딩, 변환\n",
    "- `demtrix`: 실험설계행렬 experiment design matrix\n",
    "    - `data_transfromed = dmatrix(formula, data=df)`\n",
    "    -  default: 상수항 intercept\n",
    "    - `formula 연산자`\n",
    "        - `+/-` 설명변수 추가/제거\n",
    "        - `-1, +0` 상수항intercept 제거\n",
    "        - `:` 곱\n",
    "        - `a*b` = a + b + a:b\n",
    "        - `a/b` = a + a:b\n",
    "        - `~` 종속-독립관계"
   ]
  },
  {
   "cell_type": "markdown",
   "metadata": {},
   "source": [
    "#### 연산자 사용 예시"
   ]
  },
  {
   "cell_type": "code",
   "execution_count": 11,
   "metadata": {
    "scrolled": true
   },
   "outputs": [
    {
     "data": {
      "text/html": [
       "<div>\n",
       "<style scoped>\n",
       "    .dataframe tbody tr th:only-of-type {\n",
       "        vertical-align: middle;\n",
       "    }\n",
       "\n",
       "    .dataframe tbody tr th {\n",
       "        vertical-align: top;\n",
       "    }\n",
       "\n",
       "    .dataframe thead th {\n",
       "        text-align: right;\n",
       "    }\n",
       "</style>\n",
       "<table border=\"1\" class=\"dataframe\">\n",
       "  <thead>\n",
       "    <tr style=\"text-align: right;\">\n",
       "      <th></th>\n",
       "      <th>x1</th>\n",
       "      <th>x2</th>\n",
       "      <th>y</th>\n",
       "    </tr>\n",
       "  </thead>\n",
       "  <tbody>\n",
       "    <tr>\n",
       "      <th>0</th>\n",
       "      <td>1.764052</td>\n",
       "      <td>-0.977278</td>\n",
       "      <td>0.144044</td>\n",
       "    </tr>\n",
       "    <tr>\n",
       "      <th>1</th>\n",
       "      <td>0.400157</td>\n",
       "      <td>0.950088</td>\n",
       "      <td>1.454274</td>\n",
       "    </tr>\n",
       "    <tr>\n",
       "      <th>2</th>\n",
       "      <td>0.978738</td>\n",
       "      <td>-0.151357</td>\n",
       "      <td>0.761038</td>\n",
       "    </tr>\n",
       "    <tr>\n",
       "      <th>3</th>\n",
       "      <td>2.240893</td>\n",
       "      <td>-0.103219</td>\n",
       "      <td>0.121675</td>\n",
       "    </tr>\n",
       "    <tr>\n",
       "      <th>4</th>\n",
       "      <td>1.867558</td>\n",
       "      <td>0.410599</td>\n",
       "      <td>0.443863</td>\n",
       "    </tr>\n",
       "  </tbody>\n",
       "</table>\n",
       "</div>"
      ],
      "text/plain": [
       "         x1        x2         y\n",
       "0  1.764052 -0.977278  0.144044\n",
       "1  0.400157  0.950088  1.454274\n",
       "2  0.978738 -0.151357  0.761038\n",
       "3  2.240893 -0.103219  0.121675\n",
       "4  1.867558  0.410599  0.443863"
      ]
     },
     "execution_count": 11,
     "metadata": {},
     "output_type": "execute_result"
    }
   ],
   "source": [
    "from patsy import *\n",
    "df = pd.DataFrame(demo_data('x1','x2', 'y'))\n",
    "df"
   ]
  },
  {
   "cell_type": "code",
   "execution_count": 12,
   "metadata": {},
   "outputs": [
    {
     "data": {
      "text/plain": [
       "DesignMatrix with shape (5, 2)\n",
       "  Intercept       x1\n",
       "          1  1.76405\n",
       "          1  0.40016\n",
       "          1  0.97874\n",
       "          1  2.24089\n",
       "          1  1.86756\n",
       "  Terms:\n",
       "    'Intercept' (column 0)\n",
       "    'x1' (column 1)"
      ]
     },
     "execution_count": 12,
     "metadata": {},
     "output_type": "execute_result"
    }
   ],
   "source": [
    "# 변수 하나씩 돌려볼 때 유용\n",
    "dmatrix(\"x1\", df)"
   ]
  },
  {
   "cell_type": "code",
   "execution_count": 18,
   "metadata": {},
   "outputs": [
    {
     "data": {
      "text/plain": [
       "DesignMatrix with shape (5, 3)\n",
       "       x1        x2     x1:x2\n",
       "  1.76405  -0.97728  -1.72397\n",
       "  0.40016   0.95009   0.38018\n",
       "  0.97874  -0.15136  -0.14814\n",
       "  2.24089  -0.10322  -0.23130\n",
       "  1.86756   0.41060   0.76682\n",
       "  Terms:\n",
       "    'x1' (column 0)\n",
       "    'x2' (column 1)\n",
       "    'x1:x2' (column 2)"
      ]
     },
     "execution_count": 18,
     "metadata": {},
     "output_type": "execute_result"
    }
   ],
   "source": [
    "dmatrix(\"x1 + x2 - 1 + x1:x2\", df)"
   ]
  },
  {
   "cell_type": "code",
   "execution_count": 19,
   "metadata": {},
   "outputs": [
    {
     "data": {
      "text/plain": [
       "DesignMatrix with shape (5, 3)\n",
       "       x1        x2     x1:x2\n",
       "  1.76405  -0.97728  -1.72397\n",
       "  0.40016   0.95009   0.38018\n",
       "  0.97874  -0.15136  -0.14814\n",
       "  2.24089  -0.10322  -0.23130\n",
       "  1.86756   0.41060   0.76682\n",
       "  Terms:\n",
       "    'x1' (column 0)\n",
       "    'x2' (column 1)\n",
       "    'x1:x2' (column 2)"
      ]
     },
     "execution_count": 19,
     "metadata": {},
     "output_type": "execute_result"
    }
   ],
   "source": [
    "dmatrix(\"x1 * x2 - 1\", df)"
   ]
  },
  {
   "cell_type": "code",
   "execution_count": 20,
   "metadata": {},
   "outputs": [
    {
     "data": {
      "text/plain": [
       "DesignMatrix with shape (5, 2)\n",
       "       x1     x1:x2\n",
       "  1.76405  -1.72397\n",
       "  0.40016   0.38018\n",
       "  0.97874  -0.14814\n",
       "  2.24089  -0.23130\n",
       "  1.86756   0.76682\n",
       "  Terms:\n",
       "    'x1' (column 0)\n",
       "    'x1:x2' (column 1)"
      ]
     },
     "execution_count": 20,
     "metadata": {},
     "output_type": "execute_result"
    }
   ],
   "source": [
    "dmatrix(\"x1 / x2 - 1\", df)"
   ]
  },
  {
   "cell_type": "markdown",
   "metadata": {},
   "source": [
    "#### 수학연산(변환transform)"
   ]
  },
  {
   "cell_type": "code",
   "execution_count": 21,
   "metadata": {},
   "outputs": [
    {
     "data": {
      "text/plain": [
       "DesignMatrix with shape (5, 3)\n",
       "  Intercept       x1  np.log(np.abs(x2))\n",
       "          1  1.76405            -0.02298\n",
       "          1  0.40016            -0.05120\n",
       "          1  0.97874            -1.88811\n",
       "          1  2.24089            -2.27090\n",
       "          1  1.86756            -0.89014\n",
       "  Terms:\n",
       "    'Intercept' (column 0)\n",
       "    'x1' (column 1)\n",
       "    'np.log(np.abs(x2))' (column 2)"
      ]
     },
     "execution_count": 21,
     "metadata": {},
     "output_type": "execute_result"
    }
   ],
   "source": [
    "dmatrix(\"x1 + np.log(np.abs(x2))\", df)"
   ]
  },
  {
   "cell_type": "markdown",
   "metadata": {},
   "source": [
    "#### 상태 보존 변환(stateful transform)\n",
    "- 평균제거 등 결과 내부 상태변수로 저장\n",
    "     - `center(x)`: 평균제거\n",
    "     - `standardize(x)`: 평균 제거 및 표준편차 스케일링\n",
    "     - `scale(x)`: 상동\n",
    "     - `dm.design_info`라는 속성에 state variable로 저장\n",
    "- 평균제거 데이터로 학습하면 performance가 좋음\n",
    "- 평균제거 전처리 결과 반영하여, test해야 함 <- 이 때 유용\n",
    "    "
   ]
  },
  {
   "cell_type": "code",
   "execution_count": 26,
   "metadata": {},
   "outputs": [
    {
     "data": {
      "text/plain": [
       "DesignMatrix with shape (5, 1)\n",
       "  center(x1)\n",
       "     0.31377\n",
       "    -1.05012\n",
       "    -0.47154\n",
       "     0.79061\n",
       "     0.41728\n",
       "  Terms:\n",
       "    'center(x1)' (column 0)"
      ]
     },
     "execution_count": 26,
     "metadata": {},
     "output_type": "execute_result"
    }
   ],
   "source": [
    "#x1 데이터 평균제거 \n",
    "dm = dmatrix(\"center(x1) + 0\", df)\n",
    "dm"
   ]
  },
  {
   "cell_type": "code",
   "execution_count": 28,
   "metadata": {},
   "outputs": [
    {
     "data": {
      "text/plain": [
       "0    0.313773\n",
       "1   -1.050123\n",
       "2   -0.471542\n",
       "3    0.790613\n",
       "4    0.417278\n",
       "Name: x1, dtype: float64"
      ]
     },
     "execution_count": 28,
     "metadata": {},
     "output_type": "execute_result"
    }
   ],
   "source": [
    "df.x1 - np.mean(df.x1)"
   ]
  },
  {
   "cell_type": "code",
   "execution_count": 30,
   "metadata": {},
   "outputs": [
    {
     "data": {
      "text/plain": [
       "DesignInfo(['center(x1)'],\n",
       "           factor_infos={EvalFactor('center(x1)'): FactorInfo(factor=EvalFactor('center(x1)'),\n",
       "            type='numerical',\n",
       "            state=<factor state>,\n",
       "            num_columns=1)},\n",
       "           term_codings=OrderedDict([(Term([EvalFactor('center(x1)')]),\n",
       "  [SubtermInfo(factors=(EvalFactor('center(x1)'),),\n",
       "               contrast_matrices={},\n",
       "               num_columns=1)])]))"
      ]
     },
     "execution_count": 30,
     "metadata": {},
     "output_type": "execute_result"
    }
   ],
   "source": [
    "dm.design_info"
   ]
  },
  {
   "cell_type": "code",
   "execution_count": 31,
   "metadata": {
    "scrolled": true
   },
   "outputs": [
    {
     "data": {
      "text/html": [
       "<div>\n",
       "<style scoped>\n",
       "    .dataframe tbody tr th:only-of-type {\n",
       "        vertical-align: middle;\n",
       "    }\n",
       "\n",
       "    .dataframe tbody tr th {\n",
       "        vertical-align: top;\n",
       "    }\n",
       "\n",
       "    .dataframe thead th {\n",
       "        text-align: right;\n",
       "    }\n",
       "</style>\n",
       "<table border=\"1\" class=\"dataframe\">\n",
       "  <thead>\n",
       "    <tr style=\"text-align: right;\">\n",
       "      <th></th>\n",
       "      <th>x1</th>\n",
       "      <th>x2</th>\n",
       "      <th>y</th>\n",
       "    </tr>\n",
       "  </thead>\n",
       "  <tbody>\n",
       "    <tr>\n",
       "      <th>0</th>\n",
       "      <td>17.640523</td>\n",
       "      <td>-0.977278</td>\n",
       "      <td>0.144044</td>\n",
       "    </tr>\n",
       "    <tr>\n",
       "      <th>1</th>\n",
       "      <td>4.001572</td>\n",
       "      <td>0.950088</td>\n",
       "      <td>1.454274</td>\n",
       "    </tr>\n",
       "    <tr>\n",
       "      <th>2</th>\n",
       "      <td>9.787380</td>\n",
       "      <td>-0.151357</td>\n",
       "      <td>0.761038</td>\n",
       "    </tr>\n",
       "    <tr>\n",
       "      <th>3</th>\n",
       "      <td>22.408932</td>\n",
       "      <td>-0.103219</td>\n",
       "      <td>0.121675</td>\n",
       "    </tr>\n",
       "    <tr>\n",
       "      <th>4</th>\n",
       "      <td>18.675580</td>\n",
       "      <td>0.410599</td>\n",
       "      <td>0.443863</td>\n",
       "    </tr>\n",
       "  </tbody>\n",
       "</table>\n",
       "</div>"
      ],
      "text/plain": [
       "          x1        x2         y\n",
       "0  17.640523 -0.977278  0.144044\n",
       "1   4.001572  0.950088  1.454274\n",
       "2   9.787380 -0.151357  0.761038\n",
       "3  22.408932 -0.103219  0.121675\n",
       "4  18.675580  0.410599  0.443863"
      ]
     },
     "execution_count": 31,
     "metadata": {},
     "output_type": "execute_result"
    }
   ],
   "source": [
    "# 평균제거 데이터 활용\n",
    "# dm: 평균제거 데이터\n",
    "df_new = df.copy()\n",
    "df_new[\"x1\"] = df_new[\"x1\"] * 10\n",
    "df_new"
   ]
  },
  {
   "cell_type": "code",
   "execution_count": 32,
   "metadata": {
    "scrolled": true
   },
   "outputs": [
    {
     "data": {
      "text/plain": [
       "[DesignMatrix with shape (5, 1)\n",
       "   center(x1)\n",
       "     16.19024\n",
       "      2.55129\n",
       "      8.33710\n",
       "     20.95865\n",
       "     17.22530\n",
       "   Terms:\n",
       "     'center(x1)' (column 0)]"
      ]
     },
     "execution_count": 32,
     "metadata": {},
     "output_type": "execute_result"
    }
   ],
   "source": [
    "build_design_matrices([dm.design_info], df_new)"
   ]
  },
  {
   "cell_type": "code",
   "execution_count": 36,
   "metadata": {
    "scrolled": true
   },
   "outputs": [
    {
     "data": {
      "text/plain": [
       "0    16.190244\n",
       "1     2.551292\n",
       "2     8.337100\n",
       "3    20.958652\n",
       "4    17.225300\n",
       "Name: x1, dtype: float64"
      ]
     },
     "execution_count": 36,
     "metadata": {},
     "output_type": "execute_result"
    }
   ],
   "source": [
    "# 상동\n",
    "# 0샘플: 실제17.64 -> 모델input시 학습시 평균1.4 제거 -> 실제input수치 +16.19\n",
    "df_new.x1 - np.mean(df.x1)"
   ]
  },
  {
   "cell_type": "code",
   "execution_count": 34,
   "metadata": {},
   "outputs": [
    {
     "data": {
      "text/plain": [
       "DesignMatrix with shape (5, 1)\n",
       "  center(x1)\n",
       "     3.13773\n",
       "   -10.50123\n",
       "    -4.71542\n",
       "     7.90613\n",
       "     4.17278\n",
       "  Terms:\n",
       "    'center(x1)' (column 0)"
      ]
     },
     "execution_count": 34,
     "metadata": {},
     "output_type": "execute_result"
    }
   ],
   "source": [
    "# 새로 평균 제거가 아니라, 학습 데이터의 평균과 비교한 값이 나와야 함\n",
    "# 고로 아래는 틀림\n",
    "dmatrix(\"center(x1) + 0\", df_new)"
   ]
  },
  {
   "cell_type": "markdown",
   "metadata": {},
   "source": [
    "### 변수보호(변수간 수학연산자 사용)\n",
    "- `I()`: 다항회귀에도 활용"
   ]
  },
  {
   "cell_type": "code",
   "execution_count": 37,
   "metadata": {},
   "outputs": [
    {
     "data": {
      "text/plain": [
       "DesignMatrix with shape (5, 2)\n",
       "  Intercept  I(x1 + x2)\n",
       "          1     0.78677\n",
       "          1     1.35025\n",
       "          1     0.82738\n",
       "          1     2.13767\n",
       "          1     2.27816\n",
       "  Terms:\n",
       "    'Intercept' (column 0)\n",
       "    'I(x1 + x2)' (column 1)"
      ]
     },
     "execution_count": 37,
     "metadata": {},
     "output_type": "execute_result"
    }
   ],
   "source": [
    "dmatrix(\"I(x1 + x2)\", df)"
   ]
  },
  {
   "cell_type": "code",
   "execution_count": 38,
   "metadata": {},
   "outputs": [
    {
     "data": {
      "text/plain": [
       "DesignMatrix with shape (5, 3)\n",
       "  Intercept       x1        x2\n",
       "          1  1.76405  -0.97728\n",
       "          1  0.40016   0.95009\n",
       "          1  0.97874  -0.15136\n",
       "          1  2.24089  -0.10322\n",
       "          1  1.86756   0.41060\n",
       "  Terms:\n",
       "    'Intercept' (column 0)\n",
       "    'x1' (column 1)\n",
       "    'x2' (column 2)"
      ]
     },
     "execution_count": 38,
     "metadata": {},
     "output_type": "execute_result"
    }
   ],
   "source": [
    "# 위와 비교\n",
    "dmatrix(\"x1 + x2\", df)"
   ]
  },
  {
   "cell_type": "markdown",
   "metadata": {},
   "source": [
    "## 다항선형회귀(polynomial regression)"
   ]
  },
  {
   "cell_type": "code",
   "execution_count": 45,
   "metadata": {
    "scrolled": true
   },
   "outputs": [
    {
     "data": {
      "text/plain": [
       "DesignMatrix with shape (5, 4)\n",
       "  Intercept       x1  I(x1 ** 2)  I(x1 ** 3)\n",
       "          1  1.76405     3.11188     5.48952\n",
       "          1  0.40016     0.16013     0.06408\n",
       "          1  0.97874     0.95793     0.93756\n",
       "          1  2.24089     5.02160    11.25287\n",
       "          1  1.86756     3.48777     6.51362\n",
       "  Terms:\n",
       "    'Intercept' (column 0)\n",
       "    'x1' (column 1)\n",
       "    'I(x1 ** 2)' (column 2)\n",
       "    'I(x1 ** 3)' (column 3)"
      ]
     },
     "execution_count": 45,
     "metadata": {},
     "output_type": "execute_result"
    }
   ],
   "source": [
    "dmatrix(\"x1 + I(x1**2) + I(x1**3)\", df)"
   ]
  },
  {
   "cell_type": "code",
   "execution_count": 55,
   "metadata": {
    "scrolled": true
   },
   "outputs": [
    {
     "data": {
      "text/html": [
       "<div>\n",
       "<style scoped>\n",
       "    .dataframe tbody tr th:only-of-type {\n",
       "        vertical-align: middle;\n",
       "    }\n",
       "\n",
       "    .dataframe tbody tr th {\n",
       "        vertical-align: top;\n",
       "    }\n",
       "\n",
       "    .dataframe thead th {\n",
       "        text-align: right;\n",
       "    }\n",
       "</style>\n",
       "<table border=\"1\" class=\"dataframe\">\n",
       "  <thead>\n",
       "    <tr style=\"text-align: right;\">\n",
       "      <th></th>\n",
       "      <th>Intercept</th>\n",
       "      <th>C(x1, Poly).Linear</th>\n",
       "      <th>C(x1, Poly).Quadratic</th>\n",
       "      <th>C(x1, Poly).Cubic</th>\n",
       "      <th>C(x1, Poly)^4</th>\n",
       "      <th>C(x1, Poly)^5</th>\n",
       "      <th>C(x1, Poly)^6</th>\n",
       "      <th>C(x1, Poly)^7</th>\n",
       "      <th>C(x1, Poly)^8</th>\n",
       "      <th>C(x1, Poly)^9</th>\n",
       "    </tr>\n",
       "  </thead>\n",
       "  <tbody>\n",
       "    <tr>\n",
       "      <th>0</th>\n",
       "      <td>1.0</td>\n",
       "      <td>-0.495434</td>\n",
       "      <td>0.522233</td>\n",
       "      <td>-0.453425</td>\n",
       "      <td>0.336581</td>\n",
       "      <td>-0.214834</td>\n",
       "      <td>0.116775</td>\n",
       "      <td>-0.052694</td>\n",
       "      <td>0.018699</td>\n",
       "      <td>-0.004535</td>\n",
       "    </tr>\n",
       "    <tr>\n",
       "      <th>1</th>\n",
       "      <td>1.0</td>\n",
       "      <td>-0.275241</td>\n",
       "      <td>-0.087039</td>\n",
       "      <td>0.377854</td>\n",
       "      <td>-0.317882</td>\n",
       "      <td>-0.035806</td>\n",
       "      <td>0.389249</td>\n",
       "      <td>-0.503518</td>\n",
       "      <td>0.373979</td>\n",
       "      <td>-0.163266</td>\n",
       "    </tr>\n",
       "    <tr>\n",
       "      <th>2</th>\n",
       "      <td>1.0</td>\n",
       "      <td>-0.165145</td>\n",
       "      <td>-0.261116</td>\n",
       "      <td>0.334671</td>\n",
       "      <td>0.056097</td>\n",
       "      <td>-0.393863</td>\n",
       "      <td>0.233550</td>\n",
       "      <td>0.245904</td>\n",
       "      <td>-0.523570</td>\n",
       "      <td>0.380953</td>\n",
       "    </tr>\n",
       "    <tr>\n",
       "      <th>3</th>\n",
       "      <td>1.0</td>\n",
       "      <td>-0.055048</td>\n",
       "      <td>-0.348155</td>\n",
       "      <td>0.129550</td>\n",
       "      <td>0.336581</td>\n",
       "      <td>-0.214834</td>\n",
       "      <td>-0.311400</td>\n",
       "      <td>0.327872</td>\n",
       "      <td>0.261785</td>\n",
       "      <td>-0.571430</td>\n",
       "    </tr>\n",
       "    <tr>\n",
       "      <th>4</th>\n",
       "      <td>1.0</td>\n",
       "      <td>0.055048</td>\n",
       "      <td>-0.348155</td>\n",
       "      <td>-0.129550</td>\n",
       "      <td>0.336581</td>\n",
       "      <td>0.214834</td>\n",
       "      <td>-0.311400</td>\n",
       "      <td>-0.327872</td>\n",
       "      <td>0.261785</td>\n",
       "      <td>0.571430</td>\n",
       "    </tr>\n",
       "    <tr>\n",
       "      <th>5</th>\n",
       "      <td>1.0</td>\n",
       "      <td>0.165145</td>\n",
       "      <td>-0.261116</td>\n",
       "      <td>-0.334671</td>\n",
       "      <td>0.056097</td>\n",
       "      <td>0.393863</td>\n",
       "      <td>0.233550</td>\n",
       "      <td>-0.245904</td>\n",
       "      <td>-0.523570</td>\n",
       "      <td>-0.380953</td>\n",
       "    </tr>\n",
       "    <tr>\n",
       "      <th>6</th>\n",
       "      <td>1.0</td>\n",
       "      <td>0.275241</td>\n",
       "      <td>-0.087039</td>\n",
       "      <td>-0.377854</td>\n",
       "      <td>-0.317882</td>\n",
       "      <td>0.035806</td>\n",
       "      <td>0.389249</td>\n",
       "      <td>0.503518</td>\n",
       "      <td>0.373979</td>\n",
       "      <td>0.163266</td>\n",
       "    </tr>\n",
       "    <tr>\n",
       "      <th>7</th>\n",
       "      <td>1.0</td>\n",
       "      <td>0.385337</td>\n",
       "      <td>0.174078</td>\n",
       "      <td>-0.151142</td>\n",
       "      <td>-0.411377</td>\n",
       "      <td>-0.501280</td>\n",
       "      <td>-0.428174</td>\n",
       "      <td>-0.275179</td>\n",
       "      <td>-0.130893</td>\n",
       "      <td>-0.040816</td>\n",
       "    </tr>\n",
       "    <tr>\n",
       "      <th>8</th>\n",
       "      <td>1.0</td>\n",
       "      <td>0.495434</td>\n",
       "      <td>0.522233</td>\n",
       "      <td>0.453425</td>\n",
       "      <td>0.336581</td>\n",
       "      <td>0.214834</td>\n",
       "      <td>0.116775</td>\n",
       "      <td>0.052694</td>\n",
       "      <td>0.018699</td>\n",
       "      <td>0.004535</td>\n",
       "    </tr>\n",
       "    <tr>\n",
       "      <th>9</th>\n",
       "      <td>1.0</td>\n",
       "      <td>-0.385337</td>\n",
       "      <td>0.174078</td>\n",
       "      <td>0.151142</td>\n",
       "      <td>-0.411377</td>\n",
       "      <td>0.501280</td>\n",
       "      <td>-0.428174</td>\n",
       "      <td>0.275179</td>\n",
       "      <td>-0.130893</td>\n",
       "      <td>0.040816</td>\n",
       "    </tr>\n",
       "  </tbody>\n",
       "</table>\n",
       "</div>"
      ],
      "text/plain": [
       "   Intercept  C(x1, Poly).Linear  C(x1, Poly).Quadratic  C(x1, Poly).Cubic  \\\n",
       "0        1.0           -0.495434               0.522233          -0.453425   \n",
       "1        1.0           -0.275241              -0.087039           0.377854   \n",
       "2        1.0           -0.165145              -0.261116           0.334671   \n",
       "3        1.0           -0.055048              -0.348155           0.129550   \n",
       "4        1.0            0.055048              -0.348155          -0.129550   \n",
       "5        1.0            0.165145              -0.261116          -0.334671   \n",
       "6        1.0            0.275241              -0.087039          -0.377854   \n",
       "7        1.0            0.385337               0.174078          -0.151142   \n",
       "8        1.0            0.495434               0.522233           0.453425   \n",
       "9        1.0           -0.385337               0.174078           0.151142   \n",
       "\n",
       "   C(x1, Poly)^4  C(x1, Poly)^5  C(x1, Poly)^6  C(x1, Poly)^7  C(x1, Poly)^8  \\\n",
       "0       0.336581      -0.214834       0.116775      -0.052694       0.018699   \n",
       "1      -0.317882      -0.035806       0.389249      -0.503518       0.373979   \n",
       "2       0.056097      -0.393863       0.233550       0.245904      -0.523570   \n",
       "3       0.336581      -0.214834      -0.311400       0.327872       0.261785   \n",
       "4       0.336581       0.214834      -0.311400      -0.327872       0.261785   \n",
       "5       0.056097       0.393863       0.233550      -0.245904      -0.523570   \n",
       "6      -0.317882       0.035806       0.389249       0.503518       0.373979   \n",
       "7      -0.411377      -0.501280      -0.428174      -0.275179      -0.130893   \n",
       "8       0.336581       0.214834       0.116775       0.052694       0.018699   \n",
       "9      -0.411377       0.501280      -0.428174       0.275179      -0.130893   \n",
       "\n",
       "   C(x1, Poly)^9  \n",
       "0      -0.004535  \n",
       "1      -0.163266  \n",
       "2       0.380953  \n",
       "3      -0.571430  \n",
       "4       0.571430  \n",
       "5      -0.380953  \n",
       "6       0.163266  \n",
       "7      -0.040816  \n",
       "8       0.004535  \n",
       "9       0.040816  "
      ]
     },
     "execution_count": 55,
     "metadata": {},
     "output_type": "execute_result"
    }
   ],
   "source": [
    "# 수기 작성하기에 차원이 많을 땐,\n",
    "dmatrix(\"C(x1, Poly)\", balanced(x1=10), return_type=\"dataframe\")"
   ]
  },
  {
   "cell_type": "markdown",
   "metadata": {},
   "source": [
    "## `OLS.form_formula`\n",
    "- formula로 식 정의"
   ]
  },
  {
   "cell_type": "code",
   "execution_count": 71,
   "metadata": {},
   "outputs": [],
   "source": [
    "x1 = np.random.rand(20)\n",
    "x2 = np.random.randn(20)\n",
    "y = 2 * x1 + 3 * x2 + np.random.rand(20)\n",
    "df0 = pd.DataFrame({'x1': x1, 'x2': x2, 'y': y})"
   ]
  },
  {
   "cell_type": "code",
   "execution_count": 72,
   "metadata": {
    "scrolled": false
   },
   "outputs": [
    {
     "name": "stdout",
     "output_type": "stream",
     "text": [
      "                            OLS Regression Results                            \n",
      "==============================================================================\n",
      "Dep. Variable:                      y   R-squared:                       0.996\n",
      "Model:                            OLS   Adj. R-squared:                  0.995\n",
      "Method:                 Least Squares   F-statistic:                     1972.\n",
      "Date:                Thu, 08 Nov 2018   Prob (F-statistic):           7.53e-21\n",
      "Time:                        08:24:22   Log-Likelihood:                 1.2918\n",
      "No. Observations:                  20   AIC:                             3.416\n",
      "Df Residuals:                      17   BIC:                             6.404\n",
      "Df Model:                           2                                         \n",
      "Covariance Type:            nonrobust                                         \n",
      "==============================================================================\n",
      "                 coef    std err          t      P>|t|      [0.025      0.975]\n",
      "------------------------------------------------------------------------------\n",
      "const          0.5494      0.110      5.004      0.000       0.318       0.781\n",
      "x1             2.0303      0.211      9.639      0.000       1.586       2.475\n",
      "x2             2.9585      0.047     62.783      0.000       2.859       3.058\n",
      "==============================================================================\n",
      "Omnibus:                        0.444   Durbin-Watson:                   1.510\n",
      "Prob(Omnibus):                  0.801   Jarque-Bera (JB):                0.566\n",
      "Skew:                           0.226   Prob(JB):                        0.754\n",
      "Kurtosis:                       2.311   Cond. No.                         5.40\n",
      "==============================================================================\n",
      "\n",
      "Warnings:\n",
      "[1] Standard Errors assume that the covariance matrix of the errors is correctly specified.\n"
     ]
    }
   ],
   "source": [
    "# 직접 Dataframe 재작업\n",
    "dfy = df0['y']\n",
    "dfx = sm.add_constant(df0[df0.columns[:2]])\n",
    "model = sm.OLS(dfy, dfx)\n",
    "print(model.fit().summary())"
   ]
  },
  {
   "cell_type": "code",
   "execution_count": 76,
   "metadata": {
    "scrolled": true
   },
   "outputs": [
    {
     "name": "stdout",
     "output_type": "stream",
     "text": [
      "                            OLS Regression Results                            \n",
      "==============================================================================\n",
      "Dep. Variable:                      y   R-squared:                       0.996\n",
      "Model:                            OLS   Adj. R-squared:                  0.995\n",
      "Method:                 Least Squares   F-statistic:                     1972.\n",
      "Date:                Thu, 08 Nov 2018   Prob (F-statistic):           7.53e-21\n",
      "Time:                        09:17:55   Log-Likelihood:                 1.2918\n",
      "No. Observations:                  20   AIC:                             3.416\n",
      "Df Residuals:                      17   BIC:                             6.404\n",
      "Df Model:                           2                                         \n",
      "Covariance Type:            nonrobust                                         \n",
      "==============================================================================\n",
      "                 coef    std err          t      P>|t|      [0.025      0.975]\n",
      "------------------------------------------------------------------------------\n",
      "Intercept      0.5494      0.110      5.004      0.000       0.318       0.781\n",
      "x1             2.0303      0.211      9.639      0.000       1.586       2.475\n",
      "x2             2.9585      0.047     62.783      0.000       2.859       3.058\n",
      "==============================================================================\n",
      "Omnibus:                        0.444   Durbin-Watson:                   1.510\n",
      "Prob(Omnibus):                  0.801   Jarque-Bera (JB):                0.566\n",
      "Skew:                           0.226   Prob(JB):                        0.754\n",
      "Kurtosis:                       2.311   Cond. No.                         5.40\n",
      "==============================================================================\n",
      "\n",
      "Warnings:\n",
      "[1] Standard Errors assume that the covariance matrix of the errors is correctly specified.\n"
     ]
    }
   ],
   "source": [
    "# 모형정의\n",
    "model2 = sm.OLS.from_formula(\"y ~ x1 + x2\", data=df0)\n",
    "print(model2.fit().summary())"
   ]
  }
 ],
 "metadata": {
  "kernelspec": {
   "display_name": "Python 3",
   "language": "python",
   "name": "python3"
  },
  "language_info": {
   "codemirror_mode": {
    "name": "ipython",
    "version": 3
   },
   "file_extension": ".py",
   "mimetype": "text/x-python",
   "name": "python",
   "nbconvert_exporter": "python",
   "pygments_lexer": "ipython3",
   "version": "3.6.6"
  }
 },
 "nbformat": 4,
 "nbformat_minor": 2
}
