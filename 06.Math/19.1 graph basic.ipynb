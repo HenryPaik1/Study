{
 "cells": [
  {
   "cell_type": "markdown",
   "metadata": {},
   "source": [
    "# 그래프 이론 기초\n",
    "### 1. 기초\n",
    "- node=vertex \n",
    "- edge\n",
    "$$\n",
    "G_{graph} = (V_{set}, E_{edge}) \n",
    "$$\n",
    "\n",
    "### 2. Walk, Trail, Path, Cycle\n",
    "- walk: 출발지에서 목적지까지 노드의 순서열\n",
    "- trail: 동일 노드 두 번 이상 지나지 않음\n",
    "- path: 시작 & 끝만 두 번 이상 가능\n",
    "- cycle: 시작 & 끝 동일\n",
    "\n",
    "- code\n",
    "    - `has_path`\n",
    "    - `shortest_path`\n",
    "\n",
    "### 3. Clique\n",
    "- 무방향성 그래프 & 모든 노드끼리 간선 존재 -> 노드 집합은 **클리크**\n",
    "- 최대 클리크: 다른 인접 노드 추가시 클리크 아니게 되는 것\n",
    "- code\n",
    "    - `enumerate_all_cliques`\n",
    "    - `find_cliques`: 모든 최대 클리크"
   ]
  },
  {
   "cell_type": "code",
   "execution_count": 10,
   "metadata": {},
   "outputs": [
    {
     "data": {
      "image/png": "[encoded data removed]",
      "text/plain": [
       "<IPython.core.display.Image object>"
      ]
     },
     "execution_count": 10,
     "metadata": {},
     "output_type": "execute_result"
    }
   ],
   "source": [
    "# 클리크: abc \n",
    "# 최대클리크: abc, bcd\n",
    "g = nx.Graph()\n",
    "g.add_node(\"a\")\n",
    "g.add_node(\"b\")\n",
    "g.add_node(\"c\")\n",
    "g.add_node(\"d\")\n",
    "\n",
    "g.add_edge(\"a\", \"b\")\n",
    "g.add_edge(\"a\", \"c\")\n",
    "g.add_edge(\"d\", \"b\")\n",
    "g.add_edge(\"b\", \"c\")\n",
    "g.add_edge(\"d\", \"c\")\n",
    "\n",
    "d = to_pydot(g)\n",
    "d.set_dpi(100)\n",
    "d.set_rankdir(\"LR\")\n",
    "Image(d.create_png())"
   ]
  },
  {
   "cell_type": "code",
   "execution_count": 12,
   "metadata": {},
   "outputs": [
    {
     "data": {
      "text/plain": [
       "{'a': [['b', 'c', 'a']]}"
      ]
     },
     "execution_count": 12,
     "metadata": {},
     "output_type": "execute_result"
    }
   ],
   "source": [
    "# a 노드 포함하는 클리크 찾기\n",
    "nx.cliques_containing_node(g, ['a'])"
   ]
  },
  {
   "cell_type": "code",
   "execution_count": 13,
   "metadata": {},
   "outputs": [
    {
     "data": {
      "text/plain": [
       "{'a': [['b', 'c', 'a']], 'b': [['b', 'c', 'a'], ['b', 'c', 'd']]}"
      ]
     },
     "execution_count": 13,
     "metadata": {},
     "output_type": "execute_result"
    }
   ],
   "source": [
    "nx.cliques_containing_node(g, ['a', 'b'])"
   ]
  },
  {
   "cell_type": "code",
   "execution_count": 14,
   "metadata": {},
   "outputs": [
    {
     "data": {
      "text/plain": [
       "[['a'],\n",
       " ['b'],\n",
       " ['c'],\n",
       " ['d'],\n",
       " ['a', 'b'],\n",
       " ['a', 'c'],\n",
       " ['b', 'c'],\n",
       " ['b', 'd'],\n",
       " ['c', 'd'],\n",
       " ['a', 'b', 'c'],\n",
       " ['b', 'c', 'd']]"
      ]
     },
     "execution_count": 14,
     "metadata": {},
     "output_type": "execute_result"
    }
   ],
   "source": [
    "# 모든 클리크 찾기\n",
    "[c for c in nx.enumerate_all_cliques(g)]"
   ]
  },
  {
   "cell_type": "code",
   "execution_count": 15,
   "metadata": {},
   "outputs": [
    {
     "data": {
      "text/plain": [
       "[['b', 'c', 'a'], ['b', 'c', 'd']]"
      ]
     },
     "execution_count": 15,
     "metadata": {},
     "output_type": "execute_result"
    }
   ],
   "source": [
    "# 최대 클리크 찾기\n",
    "[c for c in nx.find_cliques(g)]"
   ]
  },
  {
   "cell_type": "markdown",
   "metadata": {},
   "source": [
    "# NetworkX 패키지"
   ]
  },
  {
   "cell_type": "code",
   "execution_count": 1,
   "metadata": {},
   "outputs": [],
   "source": [
    "import networkx as nx\n",
    "from IPython.core.display import Image\n",
    "from networkx.drawing.nx_pydot import to_pydot"
   ]
  },
  {
   "cell_type": "code",
   "execution_count": 4,
   "metadata": {},
   "outputs": [
    {
     "data": {
      "image/png": "[encoded data removed]",
      "text/plain": [
       "<IPython.core.display.Image object>"
      ]
     },
     "execution_count": 4,
     "metadata": {},
     "output_type": "execute_result"
    }
   ],
   "source": [
    "g = nx.DiGraph()\n",
    "g.add_node('a')\n",
    "g.add_node('b')\n",
    "g.add_node('c')\n",
    "g.add_node('d')\n",
    "g.add_node('e')\n",
    "\n",
    "g.add_edge('a','c')\n",
    "g.add_edge('b','c')\n",
    "g.add_edge('d','e')\n",
    "g.add_edge('c','e')\n",
    "\n",
    "d = to_pydot(g)\n",
    "Image(d.create_png())"
   ]
  }
 ],
 "metadata": {
  "kernelspec": {
   "display_name": "Python 3",
   "language": "python",
   "name": "python3"
  },
  "language_info": {
   "codemirror_mode": {
    "name": "ipython",
    "version": 3
   },
   "file_extension": ".py",
   "mimetype": "text/x-python",
   "name": "python",
   "nbconvert_exporter": "python",
   "pygments_lexer": "ipython3",
   "version": "3.6.7"
  }
 },
 "nbformat": 4,
 "nbformat_minor": 2
}
