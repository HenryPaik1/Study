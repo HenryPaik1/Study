{
 "cells": [
  {
   "cell_type": "markdown",
   "metadata": {},
   "source": [
    "# 정규화 선형회귀\n",
    "- Regularized Method, Penalized Method, Constrained Least Squares\n",
    "- 선형회귀 계수(weight)에 대한 제약 조건 추가\n",
    "- 과최적화 방지\n",
    "- 방식\n",
    "    - Ridge 회귀모형\n",
    "    - Lasso 회귀모형\n",
    "    - Elastic Net 회귀모형"
   ]
  },
  {
   "cell_type": "markdown",
   "metadata": {},
   "source": [
    "## 1. Ridge 회귀모형\n",
    "- 추가 제약조건: 가중치제곱**squared sum of weights** 최소화\n",
    "- $\\lambda$: hyper parameter. 잔차제곱합 & 추가 제약 조건의 비중 조절\n",
    "    - 정규화 정도는 $\\lambda$에 비례\n",
    "    - $\\lambda$ = 0 $\\rightarrow$ 일반선형회귀\n",
    "$$\n",
    "cost = \\sum e_i^2 + \\lambda \\sum w_i^2\n",
    "$$"
   ]
  },
  {
   "cell_type": "markdown",
   "metadata": {},
   "source": [
    "## 2. Lasso 회귀모형\n",
    "- Least Absolute Shinkage and Selection Operator)\n",
    "- 가중치의 **절대값**을 최소화\n",
    "$$\n",
    "cost = \\sum e_i^2 + \\lambda_1 \\sum \\vert w_i \\vert \n",
    "$$"
   ]
  },
  {
   "cell_type": "markdown",
   "metadata": {},
   "source": [
    "# 3. Elastic Net 정규화 회귀 모형\n",
    "- 가중치의, **절대값&제곱합** 동시에 제약 조건\n",
    "$$\n",
    "cost = \\sum e_i^2 + \\lambda_1 \\sum \\vert w_i \\vert + \\lambda_2 \\sum w_i^2\n",
    "$$"
   ]
  },
  {
   "cell_type": "markdown",
   "metadata": {},
   "source": [
    "#### 실습 statsmodels 정규화 회귀 모형\n",
    "- `fit_regularized`\n",
    "- alpha와 L1_w1으로 정의\n",
    "    - alpha: 페널티 정도\n",
    "    - L1_wt: 0=Ridge < Elastic < 1=Lasso\n",
    "$$\n",
    "0.5 \\times RSS/N + \\text{alpha} \\times \\big( 0.5 \\times (1-L1_{wt} \\sum w_i^2 + L1_{wt} \\sum \\vert w_i \\vert\n",
    "$$"
   ]
  },
  {
   "cell_type": "markdown",
   "metadata": {},
   "source": [
    "#### 실습 Scikit Learn"
   ]
  },
  {
   "cell_type": "markdown",
   "metadata": {},
   "source": [
    "## 4. 정규화 모형의 장점\n",
    "- 샘플 데이터가 달라져도 계수가 크게 달라지지 않도록 함\n",
    "\n",
    "## 5. Ridge vs Lasso\n",
    "- Ridge: 가중치 계수 한꺼번에 축소(계수를 없애지는 않음)\n",
    "- Lasso: 일부 가중치 0으로 수렴(회귀식에 쓸모없는 변수로 간주하고 버림)"
   ]
  },
  {
   "cell_type": "code",
   "execution_count": null,
   "metadata": {},
   "outputs": [],
   "source": []
  }
 ],
 "metadata": {
  "kernelspec": {
   "display_name": "Python 3",
   "language": "python",
   "name": "python3"
  },
  "language_info": {
   "codemirror_mode": {
    "name": "ipython",
    "version": 3
   },
   "file_extension": ".py",
   "mimetype": "text/x-python",
   "name": "python",
   "nbconvert_exporter": "python",
   "pygments_lexer": "ipython3",
   "version": "3.6.6"
  }
 },
 "nbformat": 4,
 "nbformat_minor": 2
}
