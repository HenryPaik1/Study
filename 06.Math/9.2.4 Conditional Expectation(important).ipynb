{
 "cells": [
  {
   "cell_type": "markdown",
   "metadata": {},
   "source": [
    "# 1.1 조건부 기댓값 Conditional expectation\n",
    "- 확률변수 Y의 기댓값 **by Conditional pdf** $f_{Y\\vert X}(y|x)$ \n",
    "\n",
    "$$\\text{E}_Y[Y \\vert X] = \\int_{y=-\\infty}^{y=\\infty} y \\, f_{Y \\vert X}(y|x) dy$$ \n",
    "\n",
    "$$\\text{E}[Y \\vert X] = \\int y \\, f(y \\vert x) dy $$\n",
    "\n",
    "- 여기서 조건부 기댓값 $E[Y \\vert X]$ 는 확률변수\n",
    "    - eg. h(x): **조건 확률변수X** 받아, **결과값 확률변수 Y의 기댓값** 출력\n",
    "\n",
    "$$ \\text{E}[Y \\vert X=x] = h(x) $$"
   ]
  },
  {
   "cell_type": "markdown",
   "metadata": {},
   "source": [
    "# 1.2 전체 기댓값의 법칙 Law of iterated expectation\n",
    "- 두 번 기댓값 구한 것은 원래 확률별수의 보통 기댓값과 같다\n",
    "\n",
    "$$\\text{E}_X[\\text{E}_Y[Y \\vert X]] = \\text{E}_Y[Y]$$\n",
    "\n",
    "$$\\text{E}[\\text{E}[\\text{Y} \\vert \\text{X}]] = \\text{E}[\\text{Y}]$$"
   ]
  },
  {
   "cell_type": "markdown",
   "metadata": {},
   "source": [
    "# 2.1 조건부 분산 Conditional variance\n",
    "- X=x일 때, Y는 어떤 분포를 따르는데, 그 폭을 나타냄\n",
    "\n",
    "$$\n",
    "\\text{Var}_\\text{Y} [Y \\vert X]\n",
    "$$\n",
    "\n",
    "$$\n",
    "= E_Y[(Y - E_X[Y \\vert X])^2 \\vert X]\n",
    "$$\n",
    "\n",
    "$$\n",
    "= \\int (Y - E_Y[Y \\vert X])^2f_{Y \\vert X}(y \\vert x)dy\n",
    "$$\n"
   ]
  },
  {
   "cell_type": "markdown",
   "metadata": {},
   "source": [
    "# 2.2 전체 분산의 법칙 law of total variance\n",
    "- 확률변수의 분산 = 조건부 분산의 기댓값 + 조건부 기댓값의 분산\n",
    "- $\\text{E}[\\text{분산}] + \\text{Var}[\\text{평균}]$\n",
    "\n",
    "$$\n",
    "\\text {Var}[Y] = E[Var[Y \\vert X]] + Var[E[Y \\vert X]]$$\n"
   ]
  }
 ],
 "metadata": {
  "kernelspec": {
   "display_name": "Python 3",
   "language": "python",
   "name": "python3"
  },
  "language_info": {
   "codemirror_mode": {
    "name": "ipython",
    "version": 3
   },
   "file_extension": ".py",
   "mimetype": "text/x-python",
   "name": "python",
   "nbconvert_exporter": "python",
   "pygments_lexer": "ipython3",
   "version": "3.6.6"
  }
 },
 "nbformat": 4,
 "nbformat_minor": 2
}
