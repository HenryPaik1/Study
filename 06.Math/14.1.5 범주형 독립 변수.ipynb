{
 "cells": [
  {
   "cell_type": "markdown",
   "metadata": {},
   "source": [
    "# 범주형 독립변수\n",
    "## 더미 변수(dummy variable)\n",
    "- treatment = indicator variable = disign variable = Boolean indicator = binary variable"
   ]
  },
  {
   "cell_type": "markdown",
   "metadata": {},
   "source": [
    "### 1) 두 가지 범주\n",
    "- a. 남/여 모델 2 개 만들어 따로 선형회귀\n",
    "$$ 식 $$\n",
    "    - 문제: 가중치가 각각 달라짐(남녀 둘에 동시에 영향 미치는 나이 등의 가중치도 달라짐)\n",
    "    \n",
    "    \n",
    "- b. **reduced rank** 더미 변수 모형: 남여 변수 $x_1$을 (1,0) or (0, 1)로 바꿈\n",
    "    - 상수: 남자모형, 여자모형\n",
    "$$ 식 $$\n",
    "    \n",
    "    \n",
    "    \n",
    "- c. **full rank** 더미 변수 모형: 상수항은 다르지만, 기준 대비 얼만큼 +- 인지 확인\n",
    "    - 상수: 남자 대비 여자 상수항 비교치 알 수 있음 \n",
    "$$ 식 $$\n",
    "    "
   ]
  },
  {
   "cell_type": "markdown",
   "metadata": {},
   "source": [
    "연습"
   ]
  },
  {
   "cell_type": "code",
   "execution_count": 4,
   "metadata": {
    "scrolled": true
   },
   "outputs": [
    {
     "data": {
      "text/html": [
       "<div>\n",
       "<style scoped>\n",
       "    .dataframe tbody tr th:only-of-type {\n",
       "        vertical-align: middle;\n",
       "    }\n",
       "\n",
       "    .dataframe tbody tr th {\n",
       "        vertical-align: top;\n",
       "    }\n",
       "\n",
       "    .dataframe thead th {\n",
       "        text-align: right;\n",
       "    }\n",
       "</style>\n",
       "<table border=\"1\" class=\"dataframe\">\n",
       "  <thead>\n",
       "    <tr style=\"text-align: right;\">\n",
       "      <th></th>\n",
       "      <th>x1</th>\n",
       "    </tr>\n",
       "  </thead>\n",
       "  <tbody>\n",
       "    <tr>\n",
       "      <th>0</th>\n",
       "      <td>남</td>\n",
       "    </tr>\n",
       "    <tr>\n",
       "      <th>1</th>\n",
       "      <td>여</td>\n",
       "    </tr>\n",
       "    <tr>\n",
       "      <th>2</th>\n",
       "      <td>남</td>\n",
       "    </tr>\n",
       "    <tr>\n",
       "      <th>3</th>\n",
       "      <td>여</td>\n",
       "    </tr>\n",
       "  </tbody>\n",
       "</table>\n",
       "</div>"
      ],
      "text/plain": [
       "  x1\n",
       "0  남\n",
       "1  여\n",
       "2  남\n",
       "3  여"
      ]
     },
     "execution_count": 4,
     "metadata": {},
     "output_type": "execute_result"
    }
   ],
   "source": [
    "df1 = pd.DataFrame(data=[\"남\", \"여\", \"남\", \"여\"], columns=[\"x1\"])\n",
    "df1"
   ]
  },
  {
   "cell_type": "code",
   "execution_count": 9,
   "metadata": {},
   "outputs": [
    {
     "data": {
      "text/plain": [
       "DesignMatrix with shape (4, 2)\n",
       "  Intercept  x1[T.여]\n",
       "          1        0\n",
       "          1        1\n",
       "          1        0\n",
       "          1        1\n",
       "  Terms:\n",
       "    'Intercept' (column 0)\n",
       "    'x1' (column 1)"
      ]
     },
     "execution_count": 9,
     "metadata": {},
     "output_type": "execute_result"
    }
   ],
   "source": [
    "from patsy import *\n",
    "# full rank\n",
    "dmatrix(\"x1\", df1)"
   ]
  },
  {
   "cell_type": "code",
   "execution_count": 10,
   "metadata": {},
   "outputs": [
    {
     "data": {
      "text/plain": [
       "DesignMatrix with shape (4, 2)\n",
       "  x1[남]  x1[여]\n",
       "      1      0\n",
       "      0      1\n",
       "      1      0\n",
       "      0      1\n",
       "  Terms:\n",
       "    'x1' (columns 0:2)"
      ]
     },
     "execution_count": 10,
     "metadata": {},
     "output_type": "execute_result"
    }
   ],
   "source": [
    "#상수항 없애면 -> reduced\n",
    "dmatrix(\"x1 + 0\", df1)"
   ]
  },
  {
   "cell_type": "markdown",
   "metadata": {},
   "source": [
    "### 2) 세 가지 범주\n",
    "- 혈액형 A, B, AB, O\n",
    "- full rank \n",
    "    - x = A $\\rightarrow$ d=(1,0,0,0)\n",
    "    - x = AB $\\rightarrow$ d=(1,1,0,0)\n",
    "    - x = B $\\rightarrow$ d=(1,0,1,0)\n",
    "    - x = O $\\rightarrow$ d=(1,0,0,1)\n",
    "- reduced rank(one-hot-encoding)\n",
    "    - x = A $\\rightarrow$ d=(1,0,0,0)\n",
    "    - x = AB $\\rightarrow$ d=(0,1,0,0)\n",
    "    - x = B $\\rightarrow$ d=(0,0,1,0)\n",
    "    - x = O $\\rightarrow$ d=(0,0,0,1)"
   ]
  },
  {
   "cell_type": "markdown",
   "metadata": {},
   "source": [
    "연습"
   ]
  },
  {
   "cell_type": "code",
   "execution_count": 11,
   "metadata": {},
   "outputs": [
    {
     "data": {
      "text/html": [
       "<div>\n",
       "<style scoped>\n",
       "    .dataframe tbody tr th:only-of-type {\n",
       "        vertical-align: middle;\n",
       "    }\n",
       "\n",
       "    .dataframe tbody tr th {\n",
       "        vertical-align: top;\n",
       "    }\n",
       "\n",
       "    .dataframe thead th {\n",
       "        text-align: right;\n",
       "    }\n",
       "</style>\n",
       "<table border=\"1\" class=\"dataframe\">\n",
       "  <thead>\n",
       "    <tr style=\"text-align: right;\">\n",
       "      <th></th>\n",
       "      <th>x2</th>\n",
       "    </tr>\n",
       "  </thead>\n",
       "  <tbody>\n",
       "    <tr>\n",
       "      <th>0</th>\n",
       "      <td>A</td>\n",
       "    </tr>\n",
       "    <tr>\n",
       "      <th>1</th>\n",
       "      <td>B</td>\n",
       "    </tr>\n",
       "    <tr>\n",
       "      <th>2</th>\n",
       "      <td>B</td>\n",
       "    </tr>\n",
       "    <tr>\n",
       "      <th>3</th>\n",
       "      <td>AB</td>\n",
       "    </tr>\n",
       "    <tr>\n",
       "      <th>4</th>\n",
       "      <td>O</td>\n",
       "    </tr>\n",
       "    <tr>\n",
       "      <th>5</th>\n",
       "      <td>B</td>\n",
       "    </tr>\n",
       "    <tr>\n",
       "      <th>6</th>\n",
       "      <td>AB</td>\n",
       "    </tr>\n",
       "  </tbody>\n",
       "</table>\n",
       "</div>"
      ],
      "text/plain": [
       "   x2\n",
       "0   A\n",
       "1   B\n",
       "2   B\n",
       "3  AB\n",
       "4   O\n",
       "5   B\n",
       "6  AB"
      ]
     },
     "execution_count": 11,
     "metadata": {},
     "output_type": "execute_result"
    }
   ],
   "source": [
    "df = pd.DataFrame([\"A\", \"B\", \"B\", \"AB\", \"O\", \"B\", \"AB\"], columns=[\"x2\"])\n",
    "df"
   ]
  },
  {
   "cell_type": "code",
   "execution_count": 14,
   "metadata": {},
   "outputs": [
    {
     "data": {
      "text/plain": [
       "DesignMatrix with shape (7, 4)\n",
       "  Intercept  x2[T.AB]  x2[T.B]  x2[T.O]\n",
       "          1         0        0        0\n",
       "          1         0        1        0\n",
       "          1         0        1        0\n",
       "          1         1        0        0\n",
       "          1         0        0        1\n",
       "          1         0        1        0\n",
       "          1         1        0        0\n",
       "  Terms:\n",
       "    'Intercept' (column 0)\n",
       "    'x2' (columns 1:4)"
      ]
     },
     "execution_count": 14,
     "metadata": {},
     "output_type": "execute_result"
    }
   ],
   "source": [
    "# full rank\n",
    "dmatrix(\"x2\", df)"
   ]
  },
  {
   "cell_type": "code",
   "execution_count": 15,
   "metadata": {},
   "outputs": [
    {
     "data": {
      "text/plain": [
       "DesignMatrix with shape (7, 4)\n",
       "  x2[A]  x2[AB]  x2[B]  x2[O]\n",
       "      1       0      0      0\n",
       "      0       0      1      0\n",
       "      0       0      1      0\n",
       "      0       1      0      0\n",
       "      0       0      0      1\n",
       "      0       0      1      0\n",
       "      0       1      0      0\n",
       "  Terms:\n",
       "    'x2' (columns 0:4)"
      ]
     },
     "execution_count": 15,
     "metadata": {},
     "output_type": "execute_result"
    }
   ],
   "source": [
    "#reduced rank\n",
    "dmatrix(\"x2 +0\", df)"
   ]
  },
  {
   "cell_type": "markdown",
   "metadata": {},
   "source": [
    "### 3) 상호작용 있는 경우\n",
    "- 범주형 변수값이 다른 독립 변수에 영향 미칠 때\n",
    "- 즉, 범주형 x1에 따라 연속형 x2의 가중치가 달라질 때\n",
    "- 질문: 위 식에서 w_2가 달라지는 경우인가?"
   ]
  },
  {
   "cell_type": "markdown",
   "metadata": {},
   "source": [
    "#### 예시) 범주형 독립변수 회귀분석"
   ]
  },
  {
   "cell_type": "code",
   "execution_count": 4,
   "metadata": {},
   "outputs": [
    {
     "name": "stdout",
     "output_type": "stream",
     "text": [
      "<class 'pandas.core.frame.DataFrame'>\n",
      "RangeIndex: 240 entries, 0 to 239\n",
      "Data columns (total 2 columns):\n",
      "time     240 non-null float64\n",
      "value    240 non-null float64\n",
      "dtypes: float64(2)\n",
      "memory usage: 3.8 KB\n"
     ]
    }
   ],
   "source": [
    "import statsmodels.api as sm\n",
    "df = sm.datasets.get_rdataset(\"nottem\").data\n",
    "df.info()"
   ]
  },
  {
   "cell_type": "code",
   "execution_count": 8,
   "metadata": {
    "scrolled": true
   },
   "outputs": [
    {
     "data": {
      "image/png": "[encoded data removed]",
      "text/plain": [
       "<Figure size 432x288 with 1 Axes>"
      ]
     },
     "metadata": {
      "needs_background": "light"
     },
     "output_type": "display_data"
    }
   ],
   "source": [
    "%matplotlib inline\n",
    "plt.plot(df.time, df.value)\n",
    "plt.show()"
   ]
  }
 ],
 "metadata": {
  "kernelspec": {
   "display_name": "Python 3",
   "language": "python",
   "name": "python3"
  },
  "language_info": {
   "codemirror_mode": {
    "name": "ipython",
    "version": 3
   },
   "file_extension": ".py",
   "mimetype": "text/x-python",
   "name": "python",
   "nbconvert_exporter": "python",
   "pygments_lexer": "ipython3",
   "version": "3.6.6"
  }
 },
 "nbformat": 4,
 "nbformat_minor": 2
}
