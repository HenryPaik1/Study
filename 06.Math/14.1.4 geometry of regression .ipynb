{
 "cells": [
  {
   "cell_type": "markdown",
   "metadata": {},
   "source": [
    "# 1. 회귀벡터 공간\n",
    "## 1.1 y와 $\\hat{y}$의 관계\n",
    "- y (N Dim vector) $\\rightarrow$ 투영 $\\rightarrow \\hat{y}$ (within M Dim space)(N > M)\n",
    "- basis vector $\\{c_1, \\cdots, c_M\\} \\in \\mathbf{R}^{M \\times 1}$\n",
    "\n",
    "\\begin{eqnarray}\n",
    "\\hat{y}\n",
    "&=& Xw \\\\\n",
    "&=& \\begin{bmatrix} c_1 & \\cdots & c_M \\end{bmatrix} \\begin{bmatrix} w_1 \\\\ \\vdots \\\\ w_M \\end{bmatrix} \\\\\n",
    "&=& w_1 c_1 + \\cdots + w_M c_M\n",
    "\\end{eqnarray}"
   ]
  },
  {
   "cell_type": "markdown",
   "metadata": {},
   "source": [
    "## 1.2 잔차residual행렬 & 투영projection행렬\n",
    "- 변환행렬transform matrix\n",
    "#### $$ \n",
    "e = My\\\\\n",
    "\\hat{y}=Hy\n",
    "$$\n",
    "\n",
    "- 유도) $ e=My$\n",
    "$$\n",
    "\\begin{eqnarray}\n",
    "e \n",
    "&=& y - \\hat{y}\\\\\n",
    "&=& y - Xw \\\\\n",
    "&=& y - X \\cdot(X^TX)^{-1}X^Ty\\\\\n",
    "&=& (I - X \\cdot(X^TX)^{-1}X^T)y \\\\\n",
    "\\end{eqnarray}\n",
    "$$\n",
    "\n",
    "$$\n",
    "\\therefore M = I - X \\cdot(X^TX)^{-1}X^T\n",
    "$$\n",
    "\n",
    "- 유도) $\\hat{y} = Hy$\n",
    "$$\n",
    "\\begin{eqnarray}\n",
    "\\hat{y} \n",
    "&=& y - e \\\\\n",
    "&=& y - My\\\\\n",
    "&=& (I-M)y\\\\\n",
    "&=& X \\cdot (X^TX)^{-1}X^Ty\n",
    "\\end{eqnarray}\n",
    "$$\n",
    "\n",
    "$$\n",
    "\\begin{eqnarray}\n",
    "\\therefore H \n",
    "&=& I -M \\\\ \n",
    "&=& X \\cdot (X^TX)^{-1}X^T\n",
    "\\end{eqnarray}\n",
    "$$\n"
   ]
  },
  {
   "cell_type": "markdown",
   "metadata": {},
   "source": [
    "## 1.2.1 성질\n",
    "1) 성질1\n",
    "- 대칭행렬 $M^T=M; \\; H^T=H;$\n",
    "- 멱등(idempotent)행렬 $M^n=M; \\; H^n=H$\n",
    "- M과 H는 직교 $MH=HM=0$\n",
    "\n",
    "\n",
    "- M과 X는 직교 $MX=0$\n",
    "- H는 X의 항등행렬 $HX=X$\n",
    "\n",
    "\n",
    "2) 성질2\n",
    "$$y^Ty = \\hat{y}^T \\hat{y} + e^Te$$\n",
    "$$\\Vert y \\Vert^2 = \\Vert \\hat{y} \\Vert^2 + \n",
    "\\Vert e \\Vert^2$$"
   ]
  }
 ],
 "metadata": {
  "kernelspec": {
   "display_name": "Python 3",
   "language": "python",
   "name": "python3"
  },
  "language_info": {
   "codemirror_mode": {
    "name": "ipython",
    "version": 3
   },
   "file_extension": ".py",
   "mimetype": "text/x-python",
   "name": "python",
   "nbconvert_exporter": "python",
   "pygments_lexer": "ipython3",
   "version": "3.6.6"
  }
 },
 "nbformat": 4,
 "nbformat_minor": 2
}
