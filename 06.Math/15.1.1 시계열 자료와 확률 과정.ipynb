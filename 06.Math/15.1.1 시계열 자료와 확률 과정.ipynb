{
 "cells": [
  {
   "cell_type": "markdown",
   "metadata": {},
   "source": [
    "# 시계열 자료와 확률 과정\n",
    "## 1. 확률과정\n",
    "- 확률과정(Random process, Stockastic process): 상관 관계 가지는 무한개의 확률 변수 순서열(sequence of infinite random variable)\n",
    "$$\n",
    "Y = \\{\\cdots, Y_{-2}, Y_{-1}, Y_{0}, Y_{1}, Y_{2}, \\cdots\\}\n",
    "$$\n",
    "\n",
    "\n",
    "- 시계열 자료(time series data): 확률 과정의 표본\n",
    "    - 지금 세계가 하나의 표본\n",
    "$$\n",
    "y = \\{\\cdots, y_{-2}, y_{-1}, y_0, y_{1}, y_{2}, \\cdots\\}\n",
    "$$\n",
    "\n",
    "$$\n",
    "\\{ y_t : t = \\cdots, -2, -1, 0, 1, 2, \\cdots \\}\n",
    "$$\n",
    "\n",
    "\n",
    "- 이산 시간 확률 과정(discrete time stochastic process): 시간 변수t를 정수만 사용\n",
    "\n",
    "\n",
    "- 연속 시간 확률 과정(continuous time stochastic process): 시간 변수 임의 실수(파생상품)"
   ]
  },
  {
   "cell_type": "markdown",
   "metadata": {},
   "source": [
    "## 2. 앙상블 평균"
   ]
  },
  {
   "cell_type": "markdown",
   "metadata": {},
   "source": [
    "- 확률 과정 Y의 특정 시간에 대한 기댓값 $E[Y_t]$: 복수 시계열 자료의 표본에서 특정 시간 t 값만을 평균(ensemble average)\n",
    "    - 재현 가능한 확률과정(실험 experiment)는 앙상블 평균 추정 가능\n",
    "    - 재현 불가능한 확률과정은 특정 시간 값에 대한 앙상블 평균 추정 불가\n",
    "- 앙상블 평균 추정 조건\n",
    "    - 정상과정 stationary process\n",
    "    - 에르고딕 과정 ergodic process\n"
   ]
  }
 ],
 "metadata": {
  "kernelspec": {
   "display_name": "Python 3",
   "language": "python",
   "name": "python3"
  },
  "language_info": {
   "codemirror_mode": {
    "name": "ipython",
    "version": 3
   },
   "file_extension": ".py",
   "mimetype": "text/x-python",
   "name": "python",
   "nbconvert_exporter": "python",
   "pygments_lexer": "ipython3",
   "version": "3.6.6"
  }
 },
 "nbformat": 4,
 "nbformat_minor": 2
}
