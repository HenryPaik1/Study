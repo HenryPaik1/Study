{
 "cells": [
  {
   "cell_type": "markdown",
   "metadata": {},
   "source": [
    "# 1. 검정과 모수추정\n",
    "### 1) 확률변수의 분포 검정 Distribution test\n",
    "    - 확률변수가(데이터 모형) 특정한 분포를 띠고 있는지 검정\n",
    "### 2) 정규성 검정 Normality test\n",
    "    - 확률변수 분포가 정규분포인지 검정\n",
    "### 3) 모수 검정 Parameter test\n",
    "    - 확률변수 분포가 있다면, \n",
    "    pdf의 모수parameter(계수coefficient) = a or not, < a or not\n",
    "    eg. 기댓값 모수 = 0?\n",
    "### 4) 모수 추정 Parameter estimation\n",
    "    - 모수가 실제로 어떤 숫자를 가질 확률이 가장 높은지 확인\n",
    "    eg. 기댓값 모수는 얼마?"
   ]
  },
  {
   "cell_type": "markdown",
   "metadata": {},
   "source": [
    "# 2. 검정\n",
    "- 확률변수(데이터 모형)의 분포와 모수에 대한 진위 증명\n",
    "- 용어\n",
    "    - 귀무가설null hyphthesis, 검정통계량test statistics, 검정통계 분포test statstics distribution, 유의확률p-value, 유의수준significance level"
   ]
  },
  {
   "cell_type": "markdown",
   "metadata": {},
   "source": [
    "## 2.1 가설\n",
    " - 귀무가설null hypothesis: \n",
    "     - 확률분포를 특정 상태로 고정\n",
    "     - 반드시 ***등식equality***로 표현.\n",
    " - 대립가설, 연구가설research hypothesis\n",
    " \n",
    " eg. $ H_0 : \\theta = 0$\n",
    " \n",
    " "
   ]
  },
  {
   "cell_type": "markdown",
   "metadata": {},
   "source": [
    "## 2.2 검정통계량\n",
    "- 표본 데이터로부터 계산된 함수값\n",
    "$$ t = f(x_1, x_2, \\ldots, x_N) $$\n",
    "\n",
    "- 검정 통계량 확률 변수T의 확률분포\n",
    "    - eg. ***베르누이 확률분포*** 따르는 확률 변수의 표본값 N개를 합치면, ***이항분포***를 따름\n",
    "    $$x \\sim \\text{Bern} \\;\\; \\rightarrow \\;\\; t = \\sum x \\;\\; \\sim \\text{Bin}$$\n"
   ]
  },
  {
   "cell_type": "markdown",
   "metadata": {},
   "source": [
    "## 2.3 검정통계량의 예\n",
    "### 1) 베르누이 분포 확률변수\n",
    "- $\\mu$(모수), N(시도횟수), n(성공횟수)를 검정통계량으로 사용\n",
    "- ***이항분포*** 따름\n",
    "    $$x \\sim \\text{Bern} \\;\\; \\rightarrow \\;\\; t = \\sum x \\;\\; \\sim \\text{Bin}$$\n",
    "    "
   ]
  },
  {
   "cell_type": "markdown",
   "metadata": {},
   "source": [
    "### 2) 분산 모수 $\\sigma^2$ 알고 있는 norm의 확률 변수\n",
    "- 표본 평균을 정규화normalize한 값 z를 검정 통계량으로 사용\n",
    "- z는 ***표준정규분포*** 따름\n",
    "$$\n",
    "x \\sim \\mathcal{N}(\\mu, \\sigma^2) \\;\\; \\rightarrow \\;\\; z=\\dfrac{m-\\mu}{\\frac{\\sigma}{\\sqrt{N}}} \\sim \\mathcal{N}(z;0,1) $$\n"
   ]
  },
  {
   "cell_type": "markdown",
   "metadata": {},
   "source": [
    "### 3) 분산 모수$\\sigma^2$ 모르는 norm의 확률 변수\n",
    "- 표본 평균을 표본분산으로 정규화(normalize)\n",
    "- 자유도N-1인 ***표준student-t분포*** 따름\n",
    "$$\n",
    "x \\sim \\mathcal{N}(\\mu, \\sigma^2) \\;\\; \\rightarrow \\;\\; t = \\dfrac{m- \\mu}{\\frac{s}{\\sqrt{N}}} \\sim t(t;0, 1, N-1)$$\n"
   ]
  },
  {
   "cell_type": "markdown",
   "metadata": {},
   "source": [
    "#### cf 분산 모수$\\sigma^2$ 검정\n",
    "- 샘플 분산을 정규화한 값을 검정 통계량으로 사용\n",
    "- 자유도가 N-1인 카이제곱 분포를 따름\n",
    "$$\n",
    "x \\sim \\mathcal(\\mu, \\sigma^2) \\;\\; \\rightarrow \\;\\; t=(N-1) \\dfrac{s^2}{\\sigma^2} \\sim \\chi^2(t;N-1)\n",
    "$$"
   ]
  },
  {
   "cell_type": "markdown",
   "metadata": {},
   "source": [
    "## 3. 유의확률(p-value)\n",
    "- 실제 데이터로 게산한 검정 통계량이, 분포의 어디에 위치하는지 확인\n",
    "- 유의확률은, **어떤 표본 데이터**에서 **현재의 검정 통계량**과 같거나, extreme or rare한 값이 나올 수 있는 확률\n",
    "- 아주 작으면 귀무가설 기각"
   ]
  },
  {
   "cell_type": "markdown",
   "metadata": {},
   "source": [
    "## 3.1 양측 유의확률\n",
    "$$ H_0 : \\theta = 0\\\\\n",
    "H_a : \\theta \\neq 0$$"
   ]
  },
  {
   "cell_type": "markdown",
   "metadata": {},
   "source": [
    "## 3.2 우측 유의확률\n",
    "- 의미: 귀무가설 reject. 그리고 대립가설 $\\theta > 0$ (양수) 맞을 확률\n",
    "\n",
    "$$ H_0 : \\theta = 0\\\\\n",
    "H_a : \\theta > 0$$"
   ]
  },
  {
   "cell_type": "markdown",
   "metadata": {},
   "source": [
    "## 3.3 좌측 유의확률\n",
    "- 의미: 귀무가설 reject. 그리고 대립가설 $\\theta < 0$ (음수) 맞을 확률\n",
    "\n",
    "$$ H_0 : \\theta = 0\\\\\n",
    "H_a : \\theta < 0$$"
   ]
  },
  {
   "cell_type": "markdown",
   "metadata": {},
   "source": [
    "### 5.  검정의 예"
   ]
  },
  {
   "cell_type": "markdown",
   "metadata": {},
   "source": [
    "1-1) 동전 15번 던졌을 때, 12번 앞면.\n",
    "동전의 $\\mu$는 0.5가 맞는가?"
   ]
  },
  {
   "cell_type": "code",
   "execution_count": 5,
   "metadata": {},
   "outputs": [
    {
     "data": {
      "text/plain": [
       "0.035156250000000014"
      ]
     },
     "execution_count": 5,
     "metadata": {},
     "output_type": "execute_result"
    }
   ],
   "source": [
    "N = 15\n",
    "n = 12\n",
    "sp.stats.binom_test(n, N, p=0.5)"
   ]
  },
  {
   "cell_type": "markdown",
   "metadata": {},
   "source": [
    "1-2) 귀무가설이 맞다고 가정했을 때, **동전 앞면**이 12번이거나, 더 많이 나올 확률은?\n",
    "(우측 유의 확률)"
   ]
  },
  {
   "cell_type": "code",
   "execution_count": 6,
   "metadata": {},
   "outputs": [
    {
     "data": {
      "text/plain": [
       "0.017578125000000007"
      ]
     },
     "execution_count": 6,
     "metadata": {},
     "output_type": "execute_result"
    }
   ],
   "source": [
    "N = 15\n",
    "n = 12\n",
    "sp.stats.binom_test(n, N, p=0.5)*0.5"
   ]
  },
  {
   "cell_type": "markdown",
   "metadata": {},
   "source": [
    "1-3) 트레이더는 평균적으로 계속 돈을 잃을까?"
   ]
  },
  {
   "cell_type": "code",
   "execution_count": 6,
   "metadata": {},
   "outputs": [
    {
     "data": {
      "text/plain": [
       "Ttest_1sampResult(statistic=-7.8717096936020186, pvalue=0.0014077853497281414)"
      ]
     },
     "execution_count": 6,
     "metadata": {},
     "output_type": "execute_result"
    },
    {
     "data": {
      "image/png": "[encoded data removed]",
      "text/plain": [
       "<Figure size 432x288 with 1 Axes>"
      ]
     },
     "metadata": {
      "needs_background": "light"
     },
     "output_type": "display_data"
    }
   ],
   "source": [
    "%matplotlib inline\n",
    "x = [-2.5, -5, -4.3, -3.7, -5.6]\n",
    "sns.distplot(x)\n",
    "sp.stats.ttest_1samp(x, popmean=0)"
   ]
  }
 ],
 "metadata": {
  "kernelspec": {
   "display_name": "Python 3",
   "language": "python",
   "name": "python3"
  },
  "language_info": {
   "codemirror_mode": {
    "name": "ipython",
    "version": 3
   },
   "file_extension": ".py",
   "mimetype": "text/x-python",
   "name": "python",
   "nbconvert_exporter": "python",
   "pygments_lexer": "ipython3",
   "version": "3.6.6"
  }
 },
 "nbformat": 4,
 "nbformat_minor": 2
}
