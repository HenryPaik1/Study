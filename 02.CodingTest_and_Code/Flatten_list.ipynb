{
 "cells": [
  {
   "cell_type": "markdown",
   "metadata": {},
   "source": [
    "# flatten list and filter"
   ]
  },
  {
   "cell_type": "code",
   "execution_count": 48,
   "metadata": {},
   "outputs": [
    {
     "data": {
      "text/plain": [
       "[[2, 3, 1, 1, 0],\n",
       " [2, 1, 2, 1, 3],\n",
       " [4, 0, 0, 3, 2],\n",
       " [4, 3, 4, 4, 1],\n",
       " [1, 4, 3, 0, 0],\n",
       " [0, 3, 0, 4, 0],\n",
       " [0, 4, 1, 1, 4]]"
      ]
     },
     "execution_count": 48,
     "metadata": {},
     "output_type": "execute_result"
    }
   ],
   "source": [
    "ls = [[i for i in np.random.randint(0, 5, 5)] for _ in range(7)]\n",
    "ls"
   ]
  },
  {
   "cell_type": "markdown",
   "metadata": {},
   "source": [
    "# Sol 1. for loop"
   ]
  },
  {
   "cell_type": "code",
   "execution_count": 83,
   "metadata": {
    "scrolled": true
   },
   "outputs": [
    {
     "name": "stdout",
     "output_type": "stream",
     "text": [
      "[2, 3, 1, 1, 2, 1, 2, 1, 3, 4, 3, 2, 4, 3, 4, 4, 1, 1, 4, 3, 3, 4, 4, 1, 1, 4]\n"
     ]
    }
   ],
   "source": [
    "flattend = list()\n",
    "for sub_list in ls:\n",
    "    for item in sub_list:\n",
    "        if item != 0:\n",
    "            flattend.append(item)\n",
    "print(flattend)"
   ]
  },
  {
   "cell_type": "markdown",
   "metadata": {},
   "source": [
    "# Sol 2. list comprehension\n",
    "~~~\n",
    " item sub_ls ls\n",
    " item sub_ls\n",
    " condition of item\n",
    "~~~"
   ]
  },
  {
   "cell_type": "code",
   "execution_count": 73,
   "metadata": {},
   "outputs": [
    {
     "data": {
      "text/plain": [
       "[2, 3, 1, 1, 2, 1, 2, 1, 3, 4, 3, 2, 4, 3, 4, 4, 1, 1, 4, 3, 3, 4, 4, 1, 1, 4]"
      ]
     },
     "execution_count": 73,
     "metadata": {},
     "output_type": "execute_result"
    }
   ],
   "source": [
    "[item for sub_ls in ls \n",
    " for item in sub_ls \n",
    " if item != 0]"
   ]
  },
  {
   "cell_type": "markdown",
   "metadata": {},
   "source": [
    "# Sol 3. chain"
   ]
  },
  {
   "cell_type": "code",
   "execution_count": 79,
   "metadata": {},
   "outputs": [
    {
     "name": "stdout",
     "output_type": "stream",
     "text": [
      "2 3 1 1 0 2 1 2 1 3 4 0 0 3 2 4 3 4 4 1 1 4 3 0 0 0 3 0 4 0 0 4 1 1 4 "
     ]
    }
   ],
   "source": [
    "from itertools import chain\n",
    "for i in chain(*ls):\n",
    "    print(i, end=' ')"
   ]
  },
  {
   "cell_type": "code",
   "execution_count": 75,
   "metadata": {},
   "outputs": [
    {
     "data": {
      "text/plain": [
       "[2, 3, 1, 1, 2, 1, 2, 1, 3, 4, 3, 2, 4, 3, 4, 4, 1, 1, 4, 3, 3, 4, 4, 1, 1, 4]"
      ]
     },
     "execution_count": 75,
     "metadata": {},
     "output_type": "execute_result"
    }
   ],
   "source": [
    "list(filter(lambda x: x != 0, chain(*ls)))"
   ]
  }
 ],
 "metadata": {
  "kernelspec": {
   "display_name": "Python 3",
   "language": "python",
   "name": "python3"
  },
  "language_info": {
   "codemirror_mode": {
    "name": "ipython",
    "version": 3
   },
   "file_extension": ".py",
   "mimetype": "text/x-python",
   "name": "python",
   "nbconvert_exporter": "python",
   "pygments_lexer": "ipython3",
   "version": "3.6.7"
  }
 },
 "nbformat": 4,
 "nbformat_minor": 2
}
