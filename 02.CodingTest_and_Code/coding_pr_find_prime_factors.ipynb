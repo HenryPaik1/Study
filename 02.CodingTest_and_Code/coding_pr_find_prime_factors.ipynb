{
 "cells": [
  {
   "cell_type": "code",
   "execution_count": 31,
   "metadata": {},
   "outputs": [
    {
     "name": "stdout",
     "output_type": "stream",
     "text": [
      "2 56\n",
      "2 28\n",
      "2 14\n",
      "2 7\n",
      "3 7\n",
      "the largest prime factor: 7\n"
     ]
    }
   ],
   "source": [
    "# 인수분해식\n",
    "def LargestPrimeFactor(n):\n",
    "    i = 2\n",
    "    while i * i <= n:\n",
    "        # ~ 나머지 0\n",
    "        if n % i:\n",
    "            i += 1\n",
    "            print(i, n)\n",
    "        # 나머지 0\n",
    "        else:\n",
    "            n //= i\n",
    "            print(i, n)\n",
    "    return n\n",
    "# test code\n",
    "n = 112\n",
    "\n",
    "print('the largest prime factor:', LargestPrimeFactor(n))"
   ]
  },
  {
   "cell_type": "code",
   "execution_count": 48,
   "metadata": {},
   "outputs": [
    {
     "data": {
      "text/plain": [
       "{2, 5}"
      ]
     },
     "execution_count": 48,
     "metadata": {},
     "output_type": "execute_result"
    }
   ],
   "source": [
    "def prime_factors(n):\n",
    "    i = 2\n",
    "    factors = []\n",
    "    while i * i <= n:\n",
    "        if n % i:\n",
    "            i += 1\n",
    "        else:\n",
    "            n //= i\n",
    "            factors.append(i)\n",
    "    if n > 1:\n",
    "        factors.append(n)\n",
    "    return set(factors)\n",
    "\n",
    "# test code\n",
    "prime_factors(50)\n",
    "        "
   ]
  }
 ],
 "metadata": {
  "kernelspec": {
   "display_name": "Python 3",
   "language": "python",
   "name": "python3"
  },
  "language_info": {
   "codemirror_mode": {
    "name": "ipython",
    "version": 3
   },
   "file_extension": ".py",
   "mimetype": "text/x-python",
   "name": "python",
   "nbconvert_exporter": "python",
   "pygments_lexer": "ipython3",
   "version": "3.6.7"
  }
 },
 "nbformat": 4,
 "nbformat_minor": 2
}
