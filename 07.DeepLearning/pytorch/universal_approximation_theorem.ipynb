{
 "cells": [
  {
   "cell_type": "markdown",
   "metadata": {},
   "source": [
    "### make data"
   ]
  },
  {
   "cell_type": "code",
   "execution_count": 104,
   "metadata": {},
   "outputs": [
    {
     "data": {
      "text/plain": [
       "[<matplotlib.lines.Line2D at 0x7f4e82eacc18>]"
      ]
     },
     "execution_count": 104,
     "metadata": {},
     "output_type": "execute_result"
    },
    {
     "data": {
      "image/png": "[encoded data removed]",
      "text/plain": [
       "<Figure size 432x288 with 1 Axes>"
      ]
     },
     "metadata": {
      "needs_background": "light"
     },
     "output_type": "display_data"
    }
   ],
   "source": [
    "import torch\n",
    "import torch.nn as nn\n",
    "import torch.nn.functional as F\n",
    "from torch import optim\n",
    "from torch.utils.data.sampler import SubsetRandomSampler\n",
    "import numpy as np\n",
    "from torch.autograd import Variable\n",
    "\n",
    "%matplotlib inline\n",
    "x = np.linspace(5, 10, 1000)\n",
    "y = np.log(np.sin(x) * np.cos(x) * (-2*x + x**2 + x**3 + 3) * np.tan(x))\n",
    "plt.plot(x, y)"
   ]
  },
  {
   "cell_type": "markdown",
   "metadata": {},
   "source": [
    "### split data"
   ]
  },
  {
   "cell_type": "code",
   "execution_count": 48,
   "metadata": {},
   "outputs": [
    {
     "data": {
      "text/plain": [
       "200.0"
      ]
     },
     "execution_count": 48,
     "metadata": {},
     "output_type": "execute_result"
    }
   ],
   "source": [
    "np.floor(validation_split * dataset_size)"
   ]
  },
  {
   "cell_type": "code",
   "execution_count": 49,
   "metadata": {},
   "outputs": [],
   "source": [
    "#https://stackoverflow.com/questions/50544730/how-do-i-split-a-custom-dataset-into-training-and-test-datasets\n",
    "shuffle_dataset = 1\n",
    "validation_split = .2\n",
    "\n",
    "dataset_size = len(x)\n",
    "indices = list(range(dataset_size))\n",
    "split = int(np.floor(validation_split * dataset_size))\n",
    "if shuffle_dataset:\n",
    "    np.random.seed(99)\n",
    "    np.random.shuffle(indices)\n",
    "train_indices, val_indices = indices[split:], indices[:split]"
   ]
  },
  {
   "cell_type": "code",
   "execution_count": 56,
   "metadata": {},
   "outputs": [],
   "source": [
    "train_sampler = SubsetRandomSampler(train_indices)\n",
    "valid_sampler = SubsetRandomSampler(val_indices)\n",
    "train_loader = torch.utils.data.DataLoader(x, batch_size=100, sampler=train_sampler)\n",
    "validation_loader = torch.utils.data.DataLoader(x, batch_size=100, sampler=valid_sampler)"
   ]
  },
  {
   "cell_type": "markdown",
   "metadata": {},
   "source": [
    "### model"
   ]
  },
  {
   "cell_type": "code",
   "execution_count": 37,
   "metadata": {},
   "outputs": [],
   "source": [
    "class simpleNet(nn.Module):\n",
    "    def __init__(self):\n",
    "        super(simpleNet, self).__init__()\n",
    "        self.fc = nn.Sequential(\n",
    "            nn.Linear(in_features=1, out_features=2**15),\n",
    "            nn.ReLU(),\n",
    "            nn.Linear(in_features=2**15, out_features=1)\n",
    "        )\n",
    "    \n",
    "    def forward(self, x):\n",
    "        x = self.fc(x)\n",
    "        return x        "
   ]
  },
  {
   "cell_type": "code",
   "execution_count": 128,
   "metadata": {},
   "outputs": [
    {
     "data": {
      "text/plain": [
       "array([ 2.53846041,  4.38060924,  4.87561556,  4.67039776,  4.90954744,\n",
       "        2.6940129 ,  6.10115964,  4.7127924 , -1.03808648,  5.2500478 ,\n",
       "        6.31208816,  5.35139051,  4.05478756,  6.30039264,  6.30979623,\n",
       "        5.35679765, -2.46367461,  5.70093285,  5.85275698,  5.49750039,\n",
       "        4.87157351,  4.48637987,  1.90301418,  5.31034681,  4.53396728,\n",
       "        4.29018529, -0.58314115,  5.12367287,  6.30239827,  3.86912618,\n",
       "        4.85065597,  0.82164042,  4.40300893,  4.11004863, -3.03510247,\n",
       "        1.0108104 ,  6.30154324,  4.6409563 ,  6.30367821,  3.60075472,\n",
       "        4.74831423,  0.37192101,  2.4546153 ,  6.30779637, -0.54222115,\n",
       "        2.00460143,  5.95192473,  4.17600071,  3.63576799,  5.88294932,\n",
       "        6.27429873,  4.95183278,  5.76995579,  4.32075939,  5.04576617,\n",
       "        5.77727677,  6.17591946,  6.31310961,  3.41615914,  5.7929108 ,\n",
       "        5.73579512,  5.14810143,  5.38547451,  0.92132056,  6.28579921,\n",
       "        6.26999815,  5.28230378,  3.26826914,  5.43444806,  4.0875309 ,\n",
       "        5.84975711,  4.75884844,  6.07952564,  5.76136762,  4.71223647,\n",
       "        4.2098931 ,  6.30559254,  3.34887838, -0.51250248,  2.71441948,\n",
       "        1.93858062,  4.37482544,  5.86655527,  4.75080744,  6.29231416,\n",
       "        6.22691249,  3.09586536,  6.31222775,  4.72927467,  4.06977967,\n",
       "        6.09235824,  4.94984874,  5.57682225,  2.98642842,  4.1487367 ,\n",
       "       -9.08155321,  6.3110664 ,  2.76423426,  5.79685468,  5.98447754])"
      ]
     },
     "execution_count": 128,
     "metadata": {},
     "output_type": "execute_result"
    }
   ],
   "source": [
    "label"
   ]
  },
  {
   "cell_type": "code",
   "execution_count": 129,
   "metadata": {},
   "outputs": [],
   "source": [
    "net = simpleNet()\n",
    "loss, optimizer = F.mse_loss, optim.Adam(net.parameters(), lr = 1e-7)\n",
    "running_loss = .0\n",
    "for epoch in range(100):\n",
    "    for batch_idx, data in enumerate(train_loader):\n",
    "        label = y[train_indices[batch_idx*100 : (batch_idx+1)*100]]\n",
    "        data = Variable(data, requires_grad=True)\n",
    "        label = Variable(label, requires_grad=True)\n",
    "        \n",
    "        output = net(data)\n",
    "        optimizer.zero_grad()\n",
    "        \n",
    "        running_loss = loss(output.view(-1), label, True)\n",
    "        running_loss.backward()\n",
    "        optimizer.step()\n",
    "        print(running_loss)\n"
   ]
  },
  {
   "cell_type": "code",
   "execution_count": 117,
   "metadata": {},
   "outputs": [],
   "source": [
    "output = Variable(torch.Tensor(\n",
    "[-0.0226, -0.1922, 0.1461, -0.0481, -0.0526, -0.0449, 0.1586, -0.0980, 0.2177, \n",
    "0.0402, -0.1200, 0.0010, 0.0022, 0.0430, 0.1930, 0.2304, 0.0043, 0.0659, 0.2427, \n",
    "0.1580, -0.0449, -0.0477, 0.1961, 0.2336, -0.0308, 0.0648, 0.0669, 0.0072, 0.0353,\n",
    "-0.2793, 0.0105, -0.1510, -0.0942, -0.1761, 0.0477, -0.0564, -0.1628, 0.0467, \n",
    "-0.0819, -0.2643, 0.1066, -0.0952, 0.0918, -0.0934, 0.1405, -0.1959, -0.0477,\n",
    "-0.1138, -0.1032, -0.0622, -0.0658, 0.2957, -0.1170, -0.1541, 0.1663, 0.2635,\n",
    "-0.1477, 0.2634, 0.0940, -0.0477, -0.1920, 0.0104, 0.3450, -0.0514, -0.1592, 0.2188,\n",
    "-0.3998, -0.1696, -0.1194, -0.3216, -0.0702, 0.0074, -0.0223, 0.0597, 0.0329, \n",
    "-0.1500, 0.2207, 0.1900, -0.0688, 0.3510, 0.1114, -0.0829, 0.0919, -0.1787, 0.0266, \n",
    "-0.2059, 0.0821, -0.1061, 0.1190, 0.0090]), requires_grad=True)\n",
    "\n",
    "target = Variable(torch.Tensor(\n",
    "[0.3100, 0.0638, -0.1865, -0.4252, -0.6371, -0.8090, -0.9300, -0.9922, -0.9919, \n",
    "-0.9289, -0.8072, -0.6343, -0.4212, -0.1814, 0.0700, 0.3170, 0.5440, 0.7365, 0.8823,\n",
    "0.9720, 0.9999, 0.9641, 0.8669, 0.7143, 0.5162, 0.2850, 0.0355, -0.2163, -0.4543, \n",
    "-0.6634, -0.8300, -0.9435, -0.9965, -0.9855, -0.9113, -0.7784, -0.5955, -0.3742,\n",
    "-0.1287, 0.1252, 0.3711, 0.5931, 0.7769, 0.9105, 0.9854, 0.9965, 0.9431, 0.8286, \n",
    "0.6604, 0.4493, 0.2089, -0.0451, -0.2962, -0.5282, -0.7259, -0.8763, -0.9697, \n",
    "-1.0000, -0.9649, -0.8669, -0.7122, -0.5110, -0.2762, -0.0232, 0.2313, 0.4707, \n",
    "0.6794, 0.8435, 0.9523, 0.9986, 0.9792, 0.8954, 0.7526, 0.5602, 0.3308, 0.0794,\n",
    "-0.1772, -0.4222, -0.6394, -0.8143, -0.9355, -0.9947, -0.9880, -0.9158, -0.7828,\n",
    "-0.5979, -0.3731, -0.1234, 0.1345, 0.3836]))\n"
   ]
  },
  {
   "cell_type": "code",
   "execution_count": 120,
   "metadata": {},
   "outputs": [
    {
     "name": "stderr",
     "output_type": "stream",
     "text": [
      "/home/henry/anaconda3/envs/torch_conda/lib/python3.6/site-packages/torch/nn/_reduction.py:43: UserWarning: size_average and reduce args will be deprecated, please use reduction='mean' instead.\n",
      "  warnings.warn(warning.format(ret))\n"
     ]
    },
    {
     "data": {
      "text/plain": [
       "tensor(0.5171, grad_fn=<MseLossBackward>)"
      ]
     },
     "execution_count": 120,
     "metadata": {},
     "output_type": "execute_result"
    }
   ],
   "source": [
    "train_loss1 = F.mse_loss(output, target, True)\n",
    "train_loss2 = ((output - target)**2).mean()\n",
    "train_loss1"
   ]
  }
 ],
 "metadata": {
  "kernelspec": {
   "display_name": "torch_conda",
   "language": "python",
   "name": "torch_conda"
  },
  "varInspector": {
   "cols": {
    "lenName": 16,
    "lenType": 16,
    "lenVar": 40
   },
   "kernels_config": {
    "python": {
     "delete_cmd_postfix": "",
     "delete_cmd_prefix": "del ",
     "library": "var_list.py",
     "varRefreshCmd": "print(var_dic_list())"
    },
    "r": {
     "delete_cmd_postfix": ") ",
     "delete_cmd_prefix": "rm(",
     "library": "var_list.r",
     "varRefreshCmd": "cat(var_dic_list()) "
    }
   },
   "types_to_exclude": [
    "module",
    "function",
    "builtin_function_or_method",
    "instance",
    "_Feature"
   ],
   "window_display": false
  }
 },
 "nbformat": 4,
 "nbformat_minor": 2
}
