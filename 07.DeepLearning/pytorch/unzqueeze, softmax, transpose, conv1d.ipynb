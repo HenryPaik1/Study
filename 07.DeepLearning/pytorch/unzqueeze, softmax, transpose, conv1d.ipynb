{
 "cells": [
  {
   "cell_type": "markdown",
   "metadata": {},
   "source": [
    "# 1. unsqueeze_, expand"
   ]
  },
  {
   "cell_type": "code",
   "execution_count": 1,
   "metadata": {},
   "outputs": [
    {
     "name": "stdout",
     "output_type": "stream",
     "text": [
      "torch.Size([3, 3]) \n",
      " tensor([[0., 1., 2.],\n",
      "        [3., 4., 5.],\n",
      "        [6., 7., 8.]])\n"
     ]
    }
   ],
   "source": [
    "import torch\n",
    "a = torch.Tensor([[0,1,2],[3,4,5],[6,7,8]])\n",
    "print(a.size(), '\\n', a)"
   ]
  },
  {
   "cell_type": "code",
   "execution_count": 23,
   "metadata": {},
   "outputs": [
    {
     "name": "stdout",
     "output_type": "stream",
     "text": [
      "torch.Size([3, 3, 1]) \n",
      " tensor([[[0.],\n",
      "         [1.],\n",
      "         [2.]],\n",
      "\n",
      "        [[3.],\n",
      "         [4.],\n",
      "         [5.]],\n",
      "\n",
      "        [[6.],\n",
      "         [7.],\n",
      "         [8.]]])\n"
     ]
    }
   ],
   "source": [
    "a = a.unsqueeze_(-1)\n",
    "print(a.size(), '\\n', a)"
   ]
  },
  {
   "cell_type": "code",
   "execution_count": 24,
   "metadata": {},
   "outputs": [
    {
     "name": "stdout",
     "output_type": "stream",
     "text": [
      "torch.Size([3, 3, 10]) \n",
      " tensor([[[0., 0., 0., 0., 0., 0., 0., 0., 0., 0.],\n",
      "         [1., 1., 1., 1., 1., 1., 1., 1., 1., 1.],\n",
      "         [2., 2., 2., 2., 2., 2., 2., 2., 2., 2.]],\n",
      "\n",
      "        [[3., 3., 3., 3., 3., 3., 3., 3., 3., 3.],\n",
      "         [4., 4., 4., 4., 4., 4., 4., 4., 4., 4.],\n",
      "         [5., 5., 5., 5., 5., 5., 5., 5., 5., 5.]],\n",
      "\n",
      "        [[6., 6., 6., 6., 6., 6., 6., 6., 6., 6.],\n",
      "         [7., 7., 7., 7., 7., 7., 7., 7., 7., 7.],\n",
      "         [8., 8., 8., 8., 8., 8., 8., 8., 8., 8.]]])\n"
     ]
    }
   ],
   "source": [
    "a = a.expand(3,3,10)\n",
    "print(a.size(), '\\n', a)"
   ]
  },
  {
   "cell_type": "markdown",
   "metadata": {},
   "source": [
    "# 2. softmax param dim\n",
    "- dim이 3차원 이상이면 이해하기 힘듦\n",
    "- 해당 dim기준으로 sum=1로 만든다고 이해하면 됨\n",
    "    - 2차원 row, col방향을 생각면 이해쉬움\n",
    "    - 예컨대, 아래 예시에서 5는 column방향 dim; 4는 row방향 dim;"
   ]
  },
  {
   "cell_type": "markdown",
   "metadata": {},
   "source": [
    "- 예시1"
   ]
  },
  {
   "cell_type": "code",
   "execution_count": 109,
   "metadata": {},
   "outputs": [
    {
     "name": "stdout",
     "output_type": "stream",
     "text": [
      "torch.Size([2, 3])\n",
      "tensor([[0.0766, 0.5221, 0.8039],\n",
      "        [0.4790, 0.5274, 0.0297]])\n"
     ]
    }
   ],
   "source": [
    "d = torch.rand(size=(2,3))\n",
    "print(d.shape)\n",
    "print(d)"
   ]
  },
  {
   "cell_type": "code",
   "execution_count": 113,
   "metadata": {},
   "outputs": [
    {
     "name": "stdout",
     "output_type": "stream",
     "text": [
      "tensor([0.0766, 0.5221, 0.8039])\n",
      "tensor([0.4790, 0.5274, 0.0297])\n",
      "tensor([1.4027, 1.0361])\n",
      "torch.Size([2])\n"
     ]
    }
   ],
   "source": [
    "print(d[0,:]) # 1.4027\n",
    "print(d[1,:]) # 1.0361\n",
    "print(d.sum(dim=1))\n",
    "print(d.sum(dim=1).shape)"
   ]
  },
  {
   "cell_type": "markdown",
   "metadata": {},
   "source": [
    "- 예시2"
   ]
  },
  {
   "cell_type": "code",
   "execution_count": 41,
   "metadata": {},
   "outputs": [
    {
     "data": {
      "text/plain": [
       "tensor([[[[0.2546, 0.6306, 0.5212, 0.6619],\n",
       "          [0.8786, 0.8600, 0.1884, 0.4512]],\n",
       "\n",
       "         [[0.4046, 0.1391, 0.5776, 0.0189],\n",
       "          [0.3236, 0.1229, 0.4245, 0.8984]],\n",
       "\n",
       "         [[0.8612, 0.9773, 0.7095, 0.8918],\n",
       "          [0.7812, 0.6237, 0.2547, 0.7619]]],\n",
       "\n",
       "\n",
       "        [[[0.0955, 0.8194, 0.1859, 0.6396],\n",
       "          [0.3081, 0.6287, 0.9243, 0.8334]],\n",
       "\n",
       "         [[0.8969, 0.0485, 0.0851, 0.0293],\n",
       "          [0.5866, 0.2562, 0.5555, 0.3136]],\n",
       "\n",
       "         [[0.5425, 0.3511, 0.0597, 0.7261],\n",
       "          [0.7985, 0.3184, 0.9888, 0.4610]]],\n",
       "\n",
       "\n",
       "        [[[0.5693, 0.5047, 0.3301, 0.0699],\n",
       "          [0.3018, 0.6755, 0.2705, 0.8298]],\n",
       "\n",
       "         [[0.1888, 0.4471, 0.9331, 0.0616],\n",
       "          [0.3175, 0.9577, 0.7849, 0.2476]],\n",
       "\n",
       "         [[0.2937, 0.0126, 0.6711, 0.0354],\n",
       "          [0.8750, 0.9020, 0.5535, 0.6844]]]])"
      ]
     },
     "execution_count": 41,
     "metadata": {},
     "output_type": "execute_result"
    }
   ],
   "source": [
    "softmax_layer = torch.nn.Softmax(dim=2)\n",
    "data = torch.rand(3,3,2,4)\n",
    "data"
   ]
  },
  {
   "cell_type": "code",
   "execution_count": 59,
   "metadata": {},
   "outputs": [
    {
     "name": "stdout",
     "output_type": "stream",
     "text": [
      "torch.Size([3, 3, 2, 4])\n",
      "tensor([[[[0.3489, 0.4429, 0.5824, 0.5525],\n",
      "          [0.6511, 0.5571, 0.4176, 0.4475]],\n",
      "\n",
      "         [[0.5202, 0.5041, 0.5382, 0.2933],\n",
      "          [0.4798, 0.4959, 0.4618, 0.7067]],\n",
      "\n",
      "         [[0.5200, 0.5875, 0.6118, 0.5324],\n",
      "          [0.4800, 0.4125, 0.3882, 0.4676]]],\n",
      "\n",
      "\n",
      "        [[[0.4471, 0.5475, 0.3234, 0.4517],\n",
      "          [0.5529, 0.4525, 0.6766, 0.5483]],\n",
      "\n",
      "         [[0.5770, 0.4483, 0.3845, 0.4294],\n",
      "          [0.4230, 0.5517, 0.6155, 0.5706]],\n",
      "\n",
      "         [[0.4364, 0.5082, 0.2831, 0.5659],\n",
      "          [0.5636, 0.4918, 0.7169, 0.4341]]],\n",
      "\n",
      "\n",
      "        [[[0.5665, 0.4574, 0.5149, 0.3187],\n",
      "          [0.4335, 0.5426, 0.4851, 0.6813]],\n",
      "\n",
      "         [[0.4679, 0.3750, 0.5370, 0.4536],\n",
      "          [0.5321, 0.6250, 0.4630, 0.5464]],\n",
      "\n",
      "         [[0.3586, 0.2912, 0.5294, 0.3432],\n",
      "          [0.6414, 0.7088, 0.4706, 0.6568]]]])\n"
     ]
    }
   ],
   "source": [
    "z = softmax_layer(data)\n",
    "print(z.shape)\n",
    "print(z)"
   ]
  },
  {
   "cell_type": "code",
   "execution_count": 62,
   "metadata": {},
   "outputs": [
    {
     "data": {
      "text/plain": [
       "tensor([0.3489, 0.6511])"
      ]
     },
     "execution_count": 62,
     "metadata": {},
     "output_type": "execute_result"
    }
   ],
   "source": [
    "# 2 dim의 idx 0 data\n",
    "z[0,0,:,0]"
   ]
  },
  {
   "cell_type": "code",
   "execution_count": 61,
   "metadata": {
    "scrolled": true
   },
   "outputs": [
    {
     "data": {
      "text/plain": [
       "torch.Size([3, 3, 4])"
      ]
     },
     "execution_count": 61,
     "metadata": {},
     "output_type": "execute_result"
    }
   ],
   "source": [
    "z_sum = z.sum(dim=2, keepdims=False)\n",
    "z_sum.shape # torch.Size([3, 3, 2, 4]) -> torch.Size([3, 3, 4])"
   ]
  },
  {
   "cell_type": "markdown",
   "metadata": {},
   "source": [
    "# 3. 3차 이상 tensor의 transpose\n",
    "- dim params: shape에서 각 idx를 dim으로 생각하고 입력\n",
    "    - eg. shape(2,3,4) <- dim 0==2, dim 1==3, dim 2==4"
   ]
  },
  {
   "cell_type": "code",
   "execution_count": 195,
   "metadata": {},
   "outputs": [
    {
     "name": "stdout",
     "output_type": "stream",
     "text": [
      "tensor([[[1, 9, 1],\n",
      "         [0, 1, 8],\n",
      "         [2, 8, 5],\n",
      "         [0, 9, 5]],\n",
      "\n",
      "        [[0, 9, 9],\n",
      "         [3, 7, 8],\n",
      "         [7, 3, 8],\n",
      "         [5, 6, 3]]])\n"
     ]
    }
   ],
   "source": [
    "torch.manual_seed(99)\n",
    "data = torch.randint(0, 10, size=(2,4,3))\n",
    "print(data)"
   ]
  },
  {
   "cell_type": "markdown",
   "metadata": {},
   "source": [
    "- 예시1"
   ]
  },
  {
   "cell_type": "code",
   "execution_count": 202,
   "metadata": {},
   "outputs": [
    {
     "name": "stdout",
     "output_type": "stream",
     "text": [
      "tensor([[[1, 0, 2, 0],\n",
      "         [9, 1, 8, 9],\n",
      "         [1, 8, 5, 5]],\n",
      "\n",
      "        [[0, 3, 7, 5],\n",
      "         [9, 7, 3, 6],\n",
      "         [9, 8, 8, 3]]])\n",
      "------------------------------transpose\n",
      "tensor([[1, 9, 1],\n",
      "        [0, 1, 8],\n",
      "        [2, 8, 5],\n",
      "        [0, 9, 5]])\n",
      "tensor([[1, 0, 2, 0],\n",
      "        [9, 1, 8, 9],\n",
      "        [1, 8, 5, 5]])\n"
     ]
    }
   ],
   "source": [
    "# (2,4,3) -> (2,3,4)\n",
    "data_T = data.transpose(1,2)\n",
    "print(data_T)\n",
    "print('------------------------------transpose')\n",
    "print(data[0, :, :])\n",
    "print(data_T[0, :, :])"
   ]
  },
  {
   "cell_type": "markdown",
   "metadata": {},
   "source": [
    "- 예시2"
   ]
  },
  {
   "cell_type": "code",
   "execution_count": 203,
   "metadata": {},
   "outputs": [
    {
     "name": "stdout",
     "output_type": "stream",
     "text": [
      "tensor([[[1, 9, 1],\n",
      "         [0, 9, 9]],\n",
      "\n",
      "        [[0, 1, 8],\n",
      "         [3, 7, 8]],\n",
      "\n",
      "        [[2, 8, 5],\n",
      "         [7, 3, 8]],\n",
      "\n",
      "        [[0, 9, 5],\n",
      "         [5, 6, 3]]])\n",
      "------------------------------transpose\n",
      "tensor([[1, 0, 2, 0],\n",
      "        [0, 3, 7, 5]])\n",
      "tensor([[1, 0],\n",
      "        [0, 3],\n",
      "        [2, 7],\n",
      "        [0, 5]])\n"
     ]
    }
   ],
   "source": [
    "# (2,4,3) -> (4,2,3)\n",
    "data_T2 = data.transpose(0,1)\n",
    "print(data_T2)\n",
    "print('------------------------------transpose')\n",
    "print(data[:,:,0])\n",
    "print(data_T2[:,:,0])"
   ]
  },
  {
   "cell_type": "markdown",
   "metadata": {},
   "source": [
    "# 4. conv1d\n",
    "- input data shape\n",
    "    - bs, [n_seq, n_hidn]\n",
    "- params\n",
    "    - in_channels (int): Number of channels in the input image\n",
    "    - out_channels (int): Number of channels produced by the convolution\n",
    "    - kernel_size (int or tuple): Size of the convolving kernel"
   ]
  },
  {
   "cell_type": "code",
   "execution_count": 193,
   "metadata": {},
   "outputs": [
    {
     "name": "stdout",
     "output_type": "stream",
     "text": [
      "torch.Size([3, 10, 8])\n",
      "Conv1d(5, 10, kernel_size=(3,), stride=(1,))\n"
     ]
    }
   ],
   "source": [
    "bs = 3; n_seq=5; d_hidn = 10;\n",
    "data = torch.randn(bs, n_seq, d_hidn)  \n",
    "conv1d = nn.Conv1d(in_channels=n_seq,\\\n",
    "                   out_channels=d_hidn,\\\n",
    "                   kernel_size=3)\n",
    "\n",
    "# out shape: torch.Size([32, 7, 8])\n",
    "out = conv1d(data)\n",
    "print(out.size())\n",
    "print(conv1d)"
   ]
  }
 ],
 "metadata": {
  "kernelspec": {
   "display_name": "torch_conda",
   "language": "python",
   "name": "torch_conda"
  },
  "language_info": {
   "codemirror_mode": {
    "name": "ipython",
    "version": 3
   },
   "file_extension": ".py",
   "mimetype": "text/x-python",
   "name": "python",
   "nbconvert_exporter": "python",
   "pygments_lexer": "ipython3",
   "version": "3.6.9"
  },
  "varInspector": {
   "cols": {
    "lenName": 16,
    "lenType": 16,
    "lenVar": 40
   },
   "kernels_config": {
    "python": {
     "delete_cmd_postfix": "",
     "delete_cmd_prefix": "del ",
     "library": "var_list.py",
     "varRefreshCmd": "print(var_dic_list())"
    },
    "r": {
     "delete_cmd_postfix": ") ",
     "delete_cmd_prefix": "rm(",
     "library": "var_list.r",
     "varRefreshCmd": "cat(var_dic_list()) "
    }
   },
   "types_to_exclude": [
    "module",
    "function",
    "builtin_function_or_method",
    "instance",
    "_Feature"
   ],
   "window_display": false
  }
 },
 "nbformat": 4,
 "nbformat_minor": 2
}
