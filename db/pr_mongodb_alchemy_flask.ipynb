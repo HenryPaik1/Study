{
 "cells": [
  {
   "cell_type": "markdown",
   "metadata": {},
   "source": [
    "# Alchemy: query 필요없음"
   ]
  },
  {
   "cell_type": "code",
   "execution_count": 1,
   "metadata": {},
   "outputs": [],
   "source": [
    "from flask import *\n",
    "from flask_mongoalchemy import MongoAlchemy"
   ]
  },
  {
   "cell_type": "markdown",
   "metadata": {},
   "source": [
    "# Configure\n",
    "- create database: 'article'\n",
    "- create MongoAlchemy obj"
   ]
  },
  {
   "cell_type": "code",
   "execution_count": 2,
   "metadata": {},
   "outputs": [],
   "source": [
    "app = Flask(__name__)\n",
    "app.config[\"MONGOALCHEMY_DATABASE\"] = 'article'\n",
    "app.config[\"MONGOALCHEMY_CONNECTION_STRING\"] = 'mongodb://13.209.21.50'\n",
    "mongo_db = MongoAlchemy(app)"
   ]
  },
  {
   "cell_type": "markdown",
   "metadata": {},
   "source": [
    "# create collection: ArticleM\n",
    "- class 선언"
   ]
  },
  {
   "cell_type": "code",
   "execution_count": 3,
   "metadata": {},
   "outputs": [],
   "source": [
    "class ArticleM(mongo_db.Document):\n",
    "    sentence = mongo_db.StringField()\n",
    "    category = mongo_db.StringField()\n",
    "    rdate = mongo_db.DateTimeField()"
   ]
  },
  {
   "cell_type": "markdown",
   "metadata": {},
   "source": [
    "# insert"
   ]
  },
  {
   "cell_type": "code",
   "execution_count": 4,
   "metadata": {},
   "outputs": [
    {
     "data": {
      "text/plain": [
       "<__main__.ArticleM at 0x7f6cf2ba1d68>"
      ]
     },
     "execution_count": 4,
     "metadata": {},
     "output_type": "execute_result"
    }
   ],
   "source": [
    "import datetime\n",
    "article = ArticleM(sentence=\"데이터 사이언스\", category=\"IT/과학\", rdate=datetime.datetime.now())\n",
    "article"
   ]
  },
  {
   "cell_type": "code",
   "execution_count": 5,
   "metadata": {},
   "outputs": [],
   "source": [
    "article.save()"
   ]
  },
  {
   "cell_type": "markdown",
   "metadata": {},
   "source": [
    "# select\n",
    "- obj = &lt;collection&gt;.query.filter(&lt;collection&gt;.category == \"IT/과학\")\n",
    "- obj.field"
   ]
  },
  {
   "cell_type": "markdown",
   "metadata": {},
   "source": [
    "#### select one"
   ]
  },
  {
   "cell_type": "code",
   "execution_count": 14,
   "metadata": {},
   "outputs": [
    {
     "data": {
      "text/plain": [
       "('데이터 사이언스', 'IT/과학')"
      ]
     },
     "execution_count": 14,
     "metadata": {},
     "output_type": "execute_result"
    }
   ],
   "source": [
    "result = ArticleM.query.filter(ArticleM.category == \"IT/과학\").first()\n",
    "result.sentence, result.category"
   ]
  },
  {
   "cell_type": "markdown",
   "metadata": {},
   "source": [
    "#### select many"
   ]
  },
  {
   "cell_type": "code",
   "execution_count": 6,
   "metadata": {},
   "outputs": [
    {
     "name": "stdout",
     "output_type": "stream",
     "text": [
      "데이터 사이언스 IT/과학\n"
     ]
    }
   ],
   "source": [
    "results = ArticleM.query.filter(ArticleM.category == \"IT/과학\")\n",
    "for result in results:\n",
    "    print(result.sentence, result.category)"
   ]
  },
  {
   "cell_type": "markdown",
   "metadata": {},
   "source": [
    "# check fields by a row"
   ]
  },
  {
   "cell_type": "code",
   "execution_count": 10,
   "metadata": {},
   "outputs": [
    {
     "data": {
      "text/plain": [
       "['mongo_id', 'sentence', 'category', 'rdate']"
      ]
     },
     "execution_count": 10,
     "metadata": {},
     "output_type": "execute_result"
    }
   ],
   "source": [
    "fields = list(result.get_fields())\n",
    "fields"
   ]
  },
  {
   "cell_type": "markdown",
   "metadata": {},
   "source": [
    "# check selected data"
   ]
  },
  {
   "cell_type": "code",
   "execution_count": 12,
   "metadata": {},
   "outputs": [
    {
     "data": {
      "text/plain": [
       "[{'sentence': '데이터 사이언스',\n",
       "  'category': 'IT/과학',\n",
       "  'rdate': datetime.datetime(2018, 12, 19, 17, 15, 19, 819000)}]"
      ]
     },
     "execution_count": 12,
     "metadata": {},
     "output_type": "execute_result"
    }
   ],
   "source": [
    "datas = []\n",
    "for result in results:\n",
    "    datas.append(\n",
    "    {\n",
    "        \"sentence\": result.sentence,\n",
    "        \"category\": result.category,\n",
    "        \"rdate\": result.rdate,\n",
    "    }\n",
    "    )\n",
    "\n",
    "datas"
   ]
  },
  {
   "cell_type": "markdown",
   "metadata": {},
   "source": [
    "# update"
   ]
  },
  {
   "cell_type": "code",
   "execution_count": 29,
   "metadata": {},
   "outputs": [],
   "source": [
    "result = ArticleM.query.filter(ArticleM.category == \"과학/IT\").first()\n",
    "\n",
    "result.sentence = '사이언스 데이터'\n",
    "result.category = '과학/IT'"
   ]
  },
  {
   "cell_type": "code",
   "execution_count": 19,
   "metadata": {},
   "outputs": [],
   "source": [
    "result.save()"
   ]
  },
  {
   "cell_type": "markdown",
   "metadata": {},
   "source": [
    "# delete"
   ]
  },
  {
   "cell_type": "code",
   "execution_count": 30,
   "metadata": {},
   "outputs": [],
   "source": [
    "result.remove()"
   ]
  },
  {
   "cell_type": "markdown",
   "metadata": {},
   "source": [
    "# check all the documentation"
   ]
  },
  {
   "cell_type": "code",
   "execution_count": 21,
   "metadata": {},
   "outputs": [
    {
     "data": {
      "text/plain": [
       "'과학/IT'"
      ]
     },
     "execution_count": 21,
     "metadata": {},
     "output_type": "execute_result"
    }
   ],
   "source": [
    "res = article.query.filter(ArticleM.sentence == '사이언스 데이터').first()\n",
    "res.category"
   ]
  },
  {
   "cell_type": "code",
   "execution_count": 27,
   "metadata": {},
   "outputs": [
    {
     "data": {
      "text/plain": [
       "[{'sentence': '사이언스 데이터',\n",
       "  'category': '과학/IT',\n",
       "  'rdate': datetime.datetime(2018, 12, 19, 17, 15, 19, 819000)}]"
      ]
     },
     "execution_count": 27,
     "metadata": {},
     "output_type": "execute_result"
    }
   ],
   "source": [
    "datas = []\n",
    "results = ArticleM.query.filter()\n",
    "\n",
    "for result in results:\n",
    "    datas.append({\n",
    "        \"sentence\":result.sentence,\n",
    "        \"category\":result.category,\n",
    "        \"rdate\":result.rdate\n",
    "    })\n",
    "\n",
    "datas"
   ]
  },
  {
   "cell_type": "code",
   "execution_count": 26,
   "metadata": {},
   "outputs": [
    {
     "data": {
      "text/plain": [
       "['_Document__extra_fields',\n",
       " '_Document__extra_fields_orig',\n",
       " '_Document__normalize',\n",
       " '__class__',\n",
       " '__deepcopy__',\n",
       " '__delattr__',\n",
       " '__dict__',\n",
       " '__dir__',\n",
       " '__doc__',\n",
       " '__eq__',\n",
       " '__format__',\n",
       " '__ge__',\n",
       " '__getattribute__',\n",
       " '__gt__',\n",
       " '__hash__',\n",
       " '__init__',\n",
       " '__init_subclass__',\n",
       " '__le__',\n",
       " '__lt__',\n",
       " '__module__',\n",
       " '__ne__',\n",
       " '__new__',\n",
       " '__reduce__',\n",
       " '__reduce_ex__',\n",
       " '__repr__',\n",
       " '__setattr__',\n",
       " '__sizeof__',\n",
       " '__str__',\n",
       " '__subclasshook__',\n",
       " '__weakref__',\n",
       " '_fields',\n",
       " '_get_session',\n",
       " '_mark_clean',\n",
       " '_session',\n",
       " '_set_session',\n",
       " '_subclasses',\n",
       " '_values',\n",
       " 'add_subclass',\n",
       " 'base_query',\n",
       " 'category',\n",
       " 'class_name',\n",
       " 'config_default_sort',\n",
       " 'config_extra_fields',\n",
       " 'config_full_name',\n",
       " 'config_namespace',\n",
       " 'config_polymorphic',\n",
       " 'config_polymorphic_collection',\n",
       " 'config_polymorphic_identity',\n",
       " 'get_collection_name',\n",
       " 'get_dirty_ops',\n",
       " 'get_extra_fields',\n",
       " 'get_fields',\n",
       " 'get_indexes',\n",
       " 'get_subclass',\n",
       " 'has_id',\n",
       " 'mongo_id',\n",
       " 'partial',\n",
       " 'query',\n",
       " 'query_class',\n",
       " 'rdate',\n",
       " 'remove',\n",
       " 'retrieved_fields',\n",
       " 'save',\n",
       " 'schema_json',\n",
       " 'sentence',\n",
       " 'to_ref',\n",
       " 'transform_incoming',\n",
       " 'unwrap',\n",
       " 'wrap']"
      ]
     },
     "execution_count": 26,
     "metadata": {},
     "output_type": "execute_result"
    }
   ],
   "source": [
    "dir(article)"
   ]
  },
  {
   "cell_type": "code",
   "execution_count": null,
   "metadata": {},
   "outputs": [],
   "source": []
  }
 ],
 "metadata": {
  "kernelspec": {
   "display_name": "Python 3",
   "language": "python",
   "name": "python3"
  },
  "language_info": {
   "codemirror_mode": {
    "name": "ipython",
    "version": 3
   },
   "file_extension": ".py",
   "mimetype": "text/x-python",
   "name": "python",
   "nbconvert_exporter": "python",
   "pygments_lexer": "ipython3",
   "version": "3.6.5"
  }
 },
 "nbformat": 4,
 "nbformat_minor": 2
}
