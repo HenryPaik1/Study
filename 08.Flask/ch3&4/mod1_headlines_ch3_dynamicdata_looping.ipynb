{
 "cells": [
  {
   "cell_type": "code",
   "execution_count": null,
   "metadata": {},
   "outputs": [],
   "source": [
    "#7\n",
    "# loop\n",
    "## .html: {% for article in articles: %} {% endfor %}\n",
    "##.py: assign full dump of al the info.\n",
    "import feedparser\n",
    "from flask import Flask, render_template\n",
    "\n",
    "app = Flask(__name__)\n",
    "\n",
    "RSS_FEEDS = {'bbc': 'http://feeds.bbci.co.uk/news/rss.xml',\n",
    "             'cnn': 'http://rss.cnn.com/rss/edition.rss',\n",
    "             'fox': 'http://feeds.foxnews.com/foxnews/latest',\n",
    "             'iol': 'http://www.iol.co.za/cmlink/1.640'}\n",
    "\n",
    "@app.route(\"/\")\n",
    "@app.route(\"/<publication>\")\n",
    "def get_news(publication=\"bbc\"):\n",
    "    feed = feedparser.parse(RSS_FEEDS[publication])\n",
    "    return render_template(\"index.html\",\n",
    "                           article=feed['entries'])\n",
    "\n",
    "if __name__ == '__main__':\n",
    "    app.run(port=5000, debug=True)"
   ]
  },
  {
   "cell_type": "code",
   "execution_count": null,
   "metadata": {},
   "outputs": [],
   "source": [
    "#6\n",
    "## simplify variable whitin .py\n",
    "## .html: variable.key (variable type should be dict.)\n",
    "import feedparser\n",
    "from flask import Flask, render_template\n",
    "\n",
    "app = Flask(__name__)\n",
    "\n",
    "RSS_FEEDS = {'bbc': 'http://feeds.bbci.co.uk/news/rss.xml',\n",
    "             'cnn': 'http://rss.cnn.com/rss/edition.rss',\n",
    "             'fox': 'http://feeds.foxnews.com/foxnews/latest',\n",
    "             'iol': 'http://www.iol.co.za/cmlink/1.640'}\n",
    "\n",
    "@app.route(\"/\")\n",
    "@app.route(\"/<publication>\")\n",
    "def get_news(publication=\"bbc\"):\n",
    "    feed = feedparser.parse(RSS_FEEDS[publication])\n",
    "    first_article = feed['entries'][0]\n",
    "    return render_template(\"index.html\",\n",
    "                           article=first_article)\n",
    "\n",
    "if __name__ == '__main__':\n",
    "    app.run(port=5000, debug=True)"
   ]
  },
  {
   "cell_type": "code",
   "execution_count": null,
   "metadata": {},
   "outputs": [],
   "source": [
    "# 5\n",
    "# dynmic data\n",
    "## .html: {{variable}})\n",
    "## .py: variable=assigned\n",
    "import feedparser\n",
    "from flask import Flask, render_template\n",
    "\n",
    "app = Flask(__name__)\n",
    "\n",
    "RSS_FEEDS = {'bbc': 'http://feeds.bbci.co.uk/news/rss.xml',\n",
    "             'cnn': 'http://rss.cnn.com/rss/edition.rss',\n",
    "             'fox': 'http://feeds.foxnews.com/foxnews/latest',\n",
    "             'iol': 'http://www.iol.co.za/cmlink/1.640'}\n",
    "\n",
    "@app.route(\"/\")\n",
    "@app.route(\"/<publication>\")\n",
    "def get_news(publication=\"bbc\"):\n",
    "    feed = feedparser.parse(RSS_FEEDS[publication])\n",
    "    first_article = feed['entries'][0]\n",
    "    return render_template(\"index.html\",\n",
    "                           title=first_article.get('title'), \n",
    "                           published=first_article.get('published'),\n",
    "                           summary=first_article.get('summary'))\n",
    "\n",
    "if __name__ == '__main__':\n",
    "    app.run(port=5000, debug=True)"
   ]
  },
  {
   "cell_type": "code",
   "execution_count": null,
   "metadata": {},
   "outputs": [],
   "source": [
    "#4\n",
    "import feedparser\n",
    "from flask import Flask, render_template\n",
    "\n",
    "app = Flask(__name__)\n",
    "\n",
    "RSS_FEEDS = {'bbc': 'http://feeds.bbci.co.uk/news/rss.xml',\n",
    "             'cnn': 'http://rss.cnn.com/rss/edition.rss',\n",
    "             'fox': 'http://feeds.foxnews.com/foxnews/latest',\n",
    "             'iol': 'http://www.iol.co.za/cmlink/1.640'}\n",
    "\n",
    "@app.route(\"/\")\n",
    "@app.route(\"/<publication>\")\n",
    "def get_news(publication=\"bbc\"):\n",
    "    feed = feedparser.parse(RSS_FEEDS[publication])\n",
    "    first_article = feed['entries'][0]\n",
    "    return render_template(\"index.html\")\n",
    "\n",
    "if __name__ == '__main__':\n",
    "    app.run(port=5000, debug=True)"
   ]
  },
  {
   "cell_type": "code",
   "execution_count": null,
   "metadata": {},
   "outputs": [],
   "source": [
    "#4\n",
    "import feedparser\n",
    "from flask import Flask\n",
    "\n",
    "app = Flask(__name__)\n",
    "\n",
    "RSS_FEEDS = {'bbc': 'http://feeds.bbci.co.uk/news/rss.xml',\n",
    "             'cnn': 'http://rss.cnn.com/rss/edition.rss',\n",
    "             'fox': 'http://feeds.foxnews.com/foxnews/latest',\n",
    "             'iol': 'http://www.iol.co.za/cmlink/1.640'}\n",
    "\n",
    "@app.route(\"/\")\n",
    "@app.route(\"/<publication>\")\n",
    "def get_news(publication=\"bbc\"):\n",
    "    feed = feedparser.parse(RSS_FEEDS[publication])\n",
    "    first_article = feed['entries'][0]\n",
    "    return \"\"\"\n",
    "<html lang=\"en\" dir=\"ltr\">\n",
    "    <head>\n",
    "        <meta charset=\"utf-8\">\n",
    "        <title></title>\n",
    "    </head>\n",
    "    <body>\n",
    "        <h1> Headlines</h1>\n",
    "        <b>{0}</b> <br/>\n",
    "        <i>{1}</i> <br/>\n",
    "        <p>{2}</p> <br/>\n",
    "    </body>\n",
    "</html>\n",
    "    \"\"\".format(first_article.get('title'), first_article.get('published'),\\\n",
    "              first_article.get('summary'))\n",
    "\n",
    "if __name__ == '__main__':\n",
    "    app.run(port=5000, debug=True)\n",
    "    "
   ]
  },
  {
   "cell_type": "code",
   "execution_count": null,
   "metadata": {},
   "outputs": [],
   "source": [
    "#3\n",
    "import feedparser\n",
    "from flask import Flask\n",
    "\n",
    "app = Flask(__name__)\n",
    "\n",
    "RSS_FEEDS = {'bbc': 'http://feeds.bbci.co.uk/news/rss.xml',\n",
    "             'cnn': 'http://rss.cnn.com/rss/edition.rss',\n",
    "             'fox': 'http://feeds.foxnews.com/foxnews/latest',\n",
    "             'iol': 'http://www.iol.co.za/cmlink/1.640'}\n",
    "\n",
    "@app.route(\"/\")\n",
    "@app.route(\"/bbc\")\n",
    "def bbc():\n",
    "    return get_news('bbc')\n",
    "\n",
    "@app.route(\"/cnn\")\n",
    "def cnn():\n",
    "    return get_news('cnn')\n",
    "\n",
    "@app.route(\"/fox\")\n",
    "def fox():\n",
    "    return get_news('fox')\n",
    "\n",
    "def get_news(publication):\n",
    "    feed = feedparser.parse(RSS_FEEDS[publication])\n",
    "    first_article = feed['entries'][0]\n",
    "    return \"\"\"\n",
    "<html lang=\"en\" dir=\"ltr\">\n",
    "    <head>\n",
    "        <meta charset=\"utf-8\">\n",
    "        <title></title>\n",
    "    </head>\n",
    "    <body>\n",
    "        <h1> Headlines</h1>\n",
    "        <b>{0}</b> <br/>\n",
    "        <i>{1}</i> <br/>\n",
    "        <p>{2}</p> <br/>\n",
    "    </body>\n",
    "</html>\n",
    "    \"\"\".format(first_article.get('title'), first_article.get('published'),\\\n",
    "              first_article.get('summary'))\n",
    "\n",
    "if __name__ == '__main__':\n",
    "    app.run(port=5000, debug=True)\n",
    "    "
   ]
  },
  {
   "cell_type": "code",
   "execution_count": null,
   "metadata": {},
   "outputs": [],
   "source": [
    "#2\n",
    "import feedparser\n",
    "from flask import Flask\n",
    "\n",
    "app = Flask(__name__)\n",
    "\n",
    "BBC_FEED = \"http://feeds.bbci.co.uk/news/rss.xml\"\n",
    "\n",
    "@app.route(\"/\")\n",
    "def get_news():\n",
    "    feed = feedparser.parse(BBC_FEED)\n",
    "    first_article = feed['entries'][0]\n",
    "    return \"\"\"\n",
    "<html lang=\"en\" dir=\"ltr\">\n",
    "    <head>\n",
    "        <meta charset=\"utf-8\">\n",
    "        <title></title>\n",
    "    </head>\n",
    "    <body>\n",
    "        <h1> BBC Headlines</h1>\n",
    "        <b>{0}</b> <br/>\n",
    "        <i>{1}</i> <br/>\n",
    "        <p>{2}</p> <br/>\n",
    "    </body>\n",
    "</html>\n",
    "    \"\"\".format(first_article.get('title'), first_article.get('publi'),\\\n",
    "              first_article.get('summary'))\n",
    "\n",
    "if __name__ == '__main__':\n",
    "    app.run(port=5000, debug=True)\n",
    "    "
   ]
  },
  {
   "cell_type": "code",
   "execution_count": null,
   "metadata": {},
   "outputs": [],
   "source": [
    "#1 \n",
    "import feedparser\n",
    "from flask import Flask\n",
    "\n",
    "app = Flask(__name__)\n",
    "\n",
    "BBC_FEED = \"http://feeds.bbci.co.uk/news/rss.xml\"\n",
    "\n",
    "@app.route(\"/\")\n",
    "def get_news():\n",
    "    feed = feedparser.parse(BBC_FEED)\n",
    "    first_article = feed['entries'][0]\n",
    "    return \"no news is good news\"\n",
    "\n",
    "if __name__ == '__main__':\n",
    "    app.run(port=5000, debug=True)"
   ]
  },
  {
   "cell_type": "markdown",
   "metadata": {},
   "source": [
    "---"
   ]
  },
  {
   "cell_type": "code",
   "execution_count": 29,
   "metadata": {},
   "outputs": [
    {
     "data": {
      "text/plain": [
       "{'title': 'Trump tells European countries to take back IS fighters',\n",
       " 'title_detail': {'type': 'text/plain',\n",
       "  'language': None,\n",
       "  'base': 'http://feeds.bbci.co.uk/news/rss.xml',\n",
       "  'value': 'Trump tells European countries to take back IS fighters'},\n",
       " 'summary': 'The US president urges its European allies to repatriate 800 Islamic State fighters in Iraq and Syria.',\n",
       " 'summary_detail': {'type': 'text/html',\n",
       "  'language': None,\n",
       "  'base': 'http://feeds.bbci.co.uk/news/rss.xml',\n",
       "  'value': 'The US president urges its European allies to repatriate 800 Islamic State fighters in Iraq and Syria.'},\n",
       " 'links': [{'rel': 'alternate',\n",
       "   'type': 'text/html',\n",
       "   'href': 'https://www.bbc.co.uk/news/world-middle-east-47269887'}],\n",
       " 'link': 'https://www.bbc.co.uk/news/world-middle-east-47269887',\n",
       " 'id': 'https://www.bbc.co.uk/news/world-middle-east-47269887',\n",
       " 'guidislink': False,\n",
       " 'published': 'Sun, 17 Feb 2019 09:08:47 GMT',\n",
       " 'published_parsed': time.struct_time(tm_year=2019, tm_mon=2, tm_mday=17, tm_hour=9, tm_min=8, tm_sec=47, tm_wday=6, tm_yday=48, tm_isdst=0),\n",
       " 'media_thumbnail': [{'width': '976',\n",
       "   'height': '549',\n",
       "   'url': 'http://c.files.bbci.co.uk/169A/production/_105668750_c0c51bf7-b199-4964-bf14-c94514007723.jpg'}],\n",
       " 'href': ''}"
      ]
     },
     "execution_count": 29,
     "metadata": {},
     "output_type": "execute_result"
    }
   ],
   "source": [
    "feed['entries'][0]"
   ]
  },
  {
   "cell_type": "code",
   "execution_count": 25,
   "metadata": {},
   "outputs": [],
   "source": [
    "publication = 'bbc'\n",
    "RSS_FEEDS = {'bbc': 'http://feeds.bbci.co.uk/news/rss.xml',\n",
    "             'cnn': 'http://rss.cnn.com/rss/edition.rss',\n",
    "             'fox': 'http://feeds.foxnews.com/foxnews/latest',\n",
    "             'iol': 'http://www.iol.co.za/cmlink/1.640'}\n",
    "feed = feedparser.parse(RSS_FEEDS[publication])"
   ]
  },
  {
   "cell_type": "code",
   "execution_count": 20,
   "metadata": {
    "collapsed": true
   },
   "outputs": [
    {
     "data": {
      "text/plain": [
       "{'title': 'Parents were protesting compulsory vaccinations 150 years ago. Some are still angry',\n",
       " 'title_detail': {'type': 'text/plain',\n",
       "  'language': None,\n",
       "  'base': 'http://rss.cnn.com/rss/edition.rss',\n",
       "  'value': 'Parents were protesting compulsory vaccinations 150 years ago. Some are still angry'},\n",
       " 'summary': 'More than a century before Facebook, anti-vaccination campaigners had another method for spreading their message -- an eye-catching march through town with tiny children\\'s coffins emblazoned with the words: \"Another victim of vaccination.\"',\n",
       " 'summary_detail': {'type': 'text/html',\n",
       "  'language': None,\n",
       "  'base': 'http://rss.cnn.com/rss/edition.rss',\n",
       "  'value': 'More than a century before Facebook, anti-vaccination campaigners had another method for spreading their message -- an eye-catching march through town with tiny children\\'s coffins emblazoned with the words: \"Another victim of vaccination.\"'},\n",
       " 'links': [{'rel': 'alternate',\n",
       "   'type': 'text/html',\n",
       "   'href': 'https://www.cnn.com/2019/02/16/health/anti-vaccine-movement-history-pushback-intl/index.html'}],\n",
       " 'link': 'https://www.cnn.com/2019/02/16/health/anti-vaccine-movement-history-pushback-intl/index.html',\n",
       " 'id': 'https://www.cnn.com/2019/02/16/health/anti-vaccine-movement-history-pushback-intl/index.html',\n",
       " 'guidislink': False,\n",
       " 'published': 'Sun, 17 Feb 2019 02:47:16 GMT',\n",
       " 'published_parsed': time.struct_time(tm_year=2019, tm_mon=2, tm_mday=17, tm_hour=2, tm_min=47, tm_sec=16, tm_wday=6, tm_yday=48, tm_isdst=0),\n",
       " 'media_content': [{'medium': 'image',\n",
       "   'url': 'https://cdn.cnn.com/cnnnext/dam/assets/181016140859-flu-vaccine-super-169.jpg',\n",
       "   'height': '619',\n",
       "   'width': '1100'},\n",
       "  {'medium': 'image',\n",
       "   'url': 'https://cdn.cnn.com/cnnnext/dam/assets/181016140859-flu-vaccine-large-11.jpg',\n",
       "   'height': '300',\n",
       "   'width': '300'},\n",
       "  {'medium': 'image',\n",
       "   'url': 'https://cdn.cnn.com/cnnnext/dam/assets/181016140859-flu-vaccine-vertical-large-gallery.jpg',\n",
       "   'height': '552',\n",
       "   'width': '414'},\n",
       "  {'medium': 'image',\n",
       "   'url': 'https://cdn.cnn.com/cnnnext/dam/assets/181016140859-flu-vaccine-video-synd-2.jpg',\n",
       "   'height': '480',\n",
       "   'width': '640'},\n",
       "  {'medium': 'image',\n",
       "   'url': 'https://cdn.cnn.com/cnnnext/dam/assets/181016140859-flu-vaccine-live-video.jpg',\n",
       "   'height': '324',\n",
       "   'width': '576'},\n",
       "  {'medium': 'image',\n",
       "   'url': 'https://cdn.cnn.com/cnnnext/dam/assets/181016140859-flu-vaccine-t1-main.jpg',\n",
       "   'height': '250',\n",
       "   'width': '250'},\n",
       "  {'medium': 'image',\n",
       "   'url': 'https://cdn.cnn.com/cnnnext/dam/assets/181016140859-flu-vaccine-vertical-gallery.jpg',\n",
       "   'height': '360',\n",
       "   'width': '270'},\n",
       "  {'medium': 'image',\n",
       "   'url': 'https://cdn.cnn.com/cnnnext/dam/assets/181016140859-flu-vaccine-story-body.jpg',\n",
       "   'height': '169',\n",
       "   'width': '300'},\n",
       "  {'medium': 'image',\n",
       "   'url': 'https://cdn.cnn.com/cnnnext/dam/assets/181016140859-flu-vaccine-t1-main.jpg',\n",
       "   'height': '250',\n",
       "   'width': '250'},\n",
       "  {'medium': 'image',\n",
       "   'url': 'https://cdn.cnn.com/cnnnext/dam/assets/181016140859-flu-vaccine-assign.jpg',\n",
       "   'height': '186',\n",
       "   'width': '248'},\n",
       "  {'medium': 'image',\n",
       "   'url': 'https://cdn.cnn.com/cnnnext/dam/assets/181016140859-flu-vaccine-hp-video.jpg',\n",
       "   'height': '144',\n",
       "   'width': '256'}]}"
      ]
     },
     "execution_count": 20,
     "metadata": {},
     "output_type": "execute_result"
    }
   ],
   "source": [
    "feed['entries'][0]"
   ]
  },
  {
   "cell_type": "markdown",
   "metadata": {},
   "source": [
    "---"
   ]
  },
  {
   "cell_type": "code",
   "execution_count": 2,
   "metadata": {},
   "outputs": [
    {
     "data": {
      "text/plain": [
       "dict_keys(['feed', 'entries', 'bozo', 'headers', 'href', 'status', 'encoding', 'version', 'namespaces'])"
      ]
     },
     "execution_count": 2,
     "metadata": {},
     "output_type": "execute_result"
    }
   ],
   "source": [
    "import feedparser\n",
    "BBC_FEED = \"http://feeds.bbci.co.uk/news/rss.xml\"\n",
    "feed = feedparser.parse(BBC_FEED)\n",
    "feed.keys()"
   ]
  },
  {
   "cell_type": "code",
   "execution_count": null,
   "metadata": {},
   "outputs": [],
   "source": [
    "RSS_FEEDS = {'bbc': 'http://feeds.bbci.co.uk/news/rss.xml',\n",
    "             'cnn': 'http://rss.cnn.com/rss/edition.rss',\n",
    "             'fox': 'http://feeds.foxnews.com/foxnews/latest',\n",
    "             'iol': 'http://www.iol.co.za/cmlink/1.640'}"
   ]
  },
  {
   "cell_type": "code",
   "execution_count": 8,
   "metadata": {},
   "outputs": [
    {
     "data": {
      "text/plain": [
       "'Sun, 17 Feb 2019 06:45:35 GMT'"
      ]
     },
     "execution_count": 8,
     "metadata": {},
     "output_type": "execute_result"
    }
   ],
   "source": [
    "feed['entries'][0].get('published')"
   ]
  },
  {
   "cell_type": "code",
   "execution_count": 14,
   "metadata": {
    "scrolled": false
   },
   "outputs": [
    {
     "data": {
      "text/plain": [
       "{'title': 'Passengers seek flights after Flybmi ceases operations',\n",
       " 'title_detail': {'type': 'text/plain',\n",
       "  'language': None,\n",
       "  'base': 'http://feeds.bbci.co.uk/news/rss.xml',\n",
       "  'value': 'Passengers seek flights after Flybmi ceases operations'},\n",
       " 'summary': 'Travellers tell the BBC they cannot get home after the UK regional airline went into administration.',\n",
       " 'summary_detail': {'type': 'text/html',\n",
       "  'language': None,\n",
       "  'base': 'http://feeds.bbci.co.uk/news/rss.xml',\n",
       "  'value': 'Travellers tell the BBC they cannot get home after the UK regional airline went into administration.'},\n",
       " 'links': [{'rel': 'alternate',\n",
       "   'type': 'text/html',\n",
       "   'href': 'https://www.bbc.co.uk/news/business-47269397'}],\n",
       " 'link': 'https://www.bbc.co.uk/news/business-47269397',\n",
       " 'id': 'https://www.bbc.co.uk/news/business-47269397',\n",
       " 'guidislink': False,\n",
       " 'published': 'Sun, 17 Feb 2019 06:45:35 GMT',\n",
       " 'published_parsed': time.struct_time(tm_year=2019, tm_mon=2, tm_mday=17, tm_hour=6, tm_min=45, tm_sec=35, tm_wday=6, tm_yday=48, tm_isdst=0),\n",
       " 'media_thumbnail': [{'width': '976',\n",
       "   'height': '549',\n",
       "   'url': 'http://c.files.bbci.co.uk/4DAF/production/_105678891_baafb154-e8e3-4a58-b9d8-300a28470404.jpg'}],\n",
       " 'href': ''}"
      ]
     },
     "execution_count": 14,
     "metadata": {},
     "output_type": "execute_result"
    }
   ],
   "source": [
    "feed['entries'][0]"
   ]
  },
  {
   "cell_type": "code",
   "execution_count": 5,
   "metadata": {
    "scrolled": false
   },
   "outputs": [
    {
     "data": {
      "text/plain": [
       "{'title': 'BBC News - Home',\n",
       " 'title_detail': {'type': 'text/plain',\n",
       "  'language': None,\n",
       "  'base': 'http://feeds.bbci.co.uk/news/rss.xml',\n",
       "  'value': 'BBC News - Home'},\n",
       " 'subtitle': 'BBC News - Home',\n",
       " 'subtitle_detail': {'type': 'text/html',\n",
       "  'language': None,\n",
       "  'base': 'http://feeds.bbci.co.uk/news/rss.xml',\n",
       "  'value': 'BBC News - Home'},\n",
       " 'links': [{'rel': 'alternate',\n",
       "   'type': 'text/html',\n",
       "   'href': 'https://www.bbc.co.uk/news/'}],\n",
       " 'link': 'https://www.bbc.co.uk/news/',\n",
       " 'image': {'href': 'https://news.bbcimg.co.uk/nol/shared/img/bbc_news_120x60.gif',\n",
       "  'title': 'BBC News - Home',\n",
       "  'title_detail': {'type': 'text/plain',\n",
       "   'language': None,\n",
       "   'base': 'http://feeds.bbci.co.uk/news/rss.xml',\n",
       "   'value': 'BBC News - Home'},\n",
       "  'links': [{'rel': 'alternate',\n",
       "    'type': 'text/html',\n",
       "    'href': 'https://www.bbc.co.uk/news/'}],\n",
       "  'link': 'https://www.bbc.co.uk/news/'},\n",
       " 'generator_detail': {'name': 'RSS for Node'},\n",
       " 'generator': 'RSS for Node',\n",
       " 'updated': 'Sun, 17 Feb 2019 07:53:44 GMT',\n",
       " 'updated_parsed': time.struct_time(tm_year=2019, tm_mon=2, tm_mday=17, tm_hour=7, tm_min=53, tm_sec=44, tm_wday=6, tm_yday=48, tm_isdst=0),\n",
       " 'rights': 'Copyright: (C) British Broadcasting Corporation, see http://news.bbc.co.uk/2/hi/help/rss/4498287.stm for terms and conditions of reuse.',\n",
       " 'rights_detail': {'type': 'text/plain',\n",
       "  'language': None,\n",
       "  'base': 'http://feeds.bbci.co.uk/news/rss.xml',\n",
       "  'value': 'Copyright: (C) British Broadcasting Corporation, see http://news.bbc.co.uk/2/hi/help/rss/4498287.stm for terms and conditions of reuse.'},\n",
       " 'language': 'en-gb',\n",
       " 'ttl': '15'}"
      ]
     },
     "execution_count": 5,
     "metadata": {},
     "output_type": "execute_result"
    }
   ],
   "source": [
    "feed['feed']"
   ]
  }
 ],
 "metadata": {
  "kernelspec": {
   "display_name": "Python 3",
   "language": "python",
   "name": "python3"
  },
  "language_info": {
   "codemirror_mode": {
    "name": "ipython",
    "version": 3
   },
   "file_extension": ".py",
   "mimetype": "text/x-python",
   "name": "python",
   "nbconvert_exporter": "python",
   "pygments_lexer": "ipython3",
   "version": "3.6.7"
  }
 },
 "nbformat": 4,
 "nbformat_minor": 2
}
