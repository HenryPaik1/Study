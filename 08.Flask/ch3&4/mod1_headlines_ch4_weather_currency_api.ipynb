{
 "cells": [
  {
   "cell_type": "code",
   "execution_count": null,
   "metadata": {},
   "outputs": [],
   "source": [
    "#5 \n",
    "# update currency with drop_down\n",
    "DEFAULTS = {'publication': 'bbc',\n",
    "           'city': 'London, UK',\n",
    "           'currency_from':'GBP',\n",
    "           'currency_to':'USD'}\n",
    "\n",
    "app = Flask(__name__)\n",
    "\n",
    "RSS_FEEDS = {'bbc': 'http://feeds.bbci.co.uk/news/rss.xml',\n",
    "             'cnn': 'http://rss.cnn.com/rss/edition.rss',\n",
    "             'fox': 'http://feeds.foxnews.com/foxnews/latest',\n",
    "             'iol': 'http://www.iol.co.za/cmlink/1.640'}\n",
    "\n",
    "@app.route(\"/\")\n",
    "def home():\n",
    "    \n",
    "    #get customized currency\n",
    "    currency_from = request.args.get(\"currency_from\")\n",
    "    if not currency_from:\n",
    "        currency_from = DEFAULTS['currency_from']\n",
    "        \n",
    "    currency_to = request.args.get(\"currency_to\")\n",
    "    if not currency_to:\n",
    "        currency_to = DEFAULTS['currency_to']\n",
    "    rate, currencies = get_rate(currency_from, currency_to)\n",
    "    \n",
    "    return render_template(\"home_mod1.html\",\n",
    "                           articles=articles,\n",
    "                          weather=weather,\n",
    "                          currency_from=currency_from,\n",
    "                          currency_to=currency_to,\n",
    "                          rate=rate,\n",
    "                          currencies=sorted(currencies))    \n",
    "    \n",
    "# 변형\n",
    "def get_rate(frm, to):\n",
    "    response = requests.get(currency_url)\n",
    "    data = response.content\n",
    "    parsed = json.loads(data).get('rates')\n",
    "    frm_rate = parsed.get(frm.upper())\n",
    "    to_rate = parsed.get(to.upper())\n",
    "    return (to_rate/frm_rate, parsed.keys())\n",
    "\n",
    "if __name__ == '__main__':\n",
    "    app.run(port=5000, debug=True)"
   ]
  },
  {
   "cell_type": "code",
   "execution_count": null,
   "metadata": {},
   "outputs": [],
   "source": [
    "#5 \n",
    "# update currency info with select\n",
    "import json\n",
    "import urllib\n",
    "import urllib3\n",
    "import requests\n",
    "import feedparser\n",
    "import pickle\n",
    "from flask import Flask, render_template, request\n",
    "\n",
    "DEFAULTS = {'publication': 'bbc',\n",
    "           'city': 'London, UK',\n",
    "           'currency_from':'GBP',\n",
    "           'currency_to':'USD'}\n",
    "\n",
    "app = Flask(__name__)\n",
    "\n",
    "RSS_FEEDS = {'bbc': 'http://feeds.bbci.co.uk/news/rss.xml',\n",
    "             'cnn': 'http://rss.cnn.com/rss/edition.rss',\n",
    "             'fox': 'http://feeds.foxnews.com/foxnews/latest',\n",
    "             'iol': 'http://www.iol.co.za/cmlink/1.640'}\n",
    "\n",
    "with open('weather_appID', 'rb') as r:\n",
    "    we_appID = pickle.load(r)\n",
    "weather_url = \"http://api.openweathermap.org/data/2.5/weather?q={}&units=metric&APPID={}\"\n",
    "\n",
    "with open('currency_appID', 'rb') as r:\n",
    "    cu_appID = pickle.load(r)\n",
    "currency_url = \"https://openexchangerates.org/api/latest.json/?app_id={}\".format(cu_appID)\n",
    "\n",
    "@app.route(\"/\")\n",
    "def home():\n",
    "    # get customized headlines\n",
    "    publication = request.args.get('publication')\n",
    "    if not publication:\n",
    "        publication = DEFAULTS['publication']\n",
    "    articles = get_news(publication)\n",
    "    \n",
    "    # get customized weather\n",
    "    city = request.args.get('city')\n",
    "    if not city:\n",
    "        city = DEFAULTS['city']\n",
    "    weather = get_weather(city)\n",
    "    \n",
    "    #get customized currency\n",
    "    currency_from = request.args.get(\"currency_from\")\n",
    "    if not currency_from:\n",
    "        currency_from = DEFAULTS['currency_from']\n",
    "        \n",
    "    currency_to = request.args.get(\"currency_to\")\n",
    "    if not currency_to:\n",
    "        currency_to = DEFAULTS['currency_to']\n",
    "    rate = get_rate(currency_from, currency_to)\n",
    "    return render_template(\"index.html\",\n",
    "                           articles=articles,\n",
    "                          weather=weather,\n",
    "                          currency_from=currency_from,\n",
    "                          currency_to=currency_to,\n",
    "                          rate=rate)    \n",
    "    \n",
    "# publication을 query로 받음\n",
    "def get_news(query):\n",
    "    if not query or query.lower() not in RSS_FEEDS:\n",
    "        publication = DEFAULTS['publication']\n",
    "    else:\n",
    "        publication = query.lower()\n",
    "    feed = feedparser.parse(RSS_FEEDS[publication])\n",
    "    return feed['entries']\n",
    "\n",
    "# cit를 query로 받음(그러나 query 문자를 변환하는 과정 필요함)\n",
    "def get_weather(query):\n",
    "    query = urllib.parse.quote(query)\n",
    "    url = weather_url.format(query, we_appID)\n",
    "    response = requests.get(url)\n",
    "    data = response.content\n",
    "    parsed = json.loads(data)\n",
    "    weather = None\n",
    "    if parsed.get(\"weather\"):\n",
    "        weather = {\"DESC\": parsed[\"weather\"][0][\"description\"],\n",
    "                  \"temp\": parsed[\"main\"][\"temp\"],\n",
    "                  \"city\": parsed[\"name\"], \n",
    "                   \"country\": parsed['sys']['country']}\n",
    "    return weather\n",
    "\n",
    "def get_rate(frm, to):\n",
    "    response = requests.get(currency_url)\n",
    "    data = response.content\n",
    "    parsed = json.loads(data).get('rates')\n",
    "    frm_rate = parsed.get(frm.upper())\n",
    "    to_rate = parsed.get(to.upper())\n",
    "    return to_rate/frm_rate\n",
    "\n",
    "if __name__ == '__main__':\n",
    "    app.run(port=5000, debug=True)"
   ]
  },
  {
   "cell_type": "markdown",
   "metadata": {},
   "source": [
    "# currency"
   ]
  },
  {
   "cell_type": "code",
   "execution_count": 26,
   "metadata": {},
   "outputs": [],
   "source": [
    "import pickle\n",
    "\n",
    "# with open('currency_appID', 'wb') as f:\n",
    "#     pickle.dump(appID, f)\n",
    "with open('currency_appID', 'rb') as r:\n",
    "    cu_appID = pickle.load(r)"
   ]
  },
  {
   "cell_type": "code",
   "execution_count": 27,
   "metadata": {},
   "outputs": [],
   "source": [
    "import requests\n",
    "import json\n",
    "currency_url = \"https://openexchangerates.org/api/latest.json/?app_id={}\".format(cu_appID)\n",
    "response = requests.get(currency_url)\n",
    "data = response.content\n",
    "parsed = json.loads(data).get('rates')"
   ]
  },
  {
   "cell_type": "code",
   "execution_count": 53,
   "metadata": {},
   "outputs": [
    {
     "data": {
      "text/plain": [
       "dict_keys(['AED', 'AFN', 'ALL', 'AMD', 'ANG', 'AOA', 'ARS', 'AUD', 'AWG', 'AZN', 'BAM', 'BBD', 'BDT', 'BGN', 'BHD', 'BIF', 'BMD', 'BND', 'BOB', 'BRL', 'BSD', 'BTC', 'BTN', 'BWP', 'BYN', 'BZD', 'CAD', 'CDF', 'CHF', 'CLF', 'CLP', 'CNH', 'CNY', 'COP', 'CRC', 'CUC', 'CUP', 'CVE', 'CZK', 'DJF', 'DKK', 'DOP', 'DZD', 'EGP', 'ERN', 'ETB', 'EUR', 'FJD', 'FKP', 'GBP', 'GEL', 'GGP', 'GHS', 'GIP', 'GMD', 'GNF', 'GTQ', 'GYD', 'HKD', 'HNL', 'HRK', 'HTG', 'HUF', 'IDR', 'ILS', 'IMP', 'INR', 'IQD', 'IRR', 'ISK', 'JEP', 'JMD', 'JOD', 'JPY', 'KES', 'KGS', 'KHR', 'KMF', 'KPW', 'KRW', 'KWD', 'KYD', 'KZT', 'LAK', 'LBP', 'LKR', 'LRD', 'LSL', 'LYD', 'MAD', 'MDL', 'MGA', 'MKD', 'MMK', 'MNT', 'MOP', 'MRO', 'MRU', 'MUR', 'MVR', 'MWK', 'MXN', 'MYR', 'MZN', 'NAD', 'NGN', 'NIO', 'NOK', 'NPR', 'NZD', 'OMR', 'PAB', 'PEN', 'PGK', 'PHP', 'PKR', 'PLN', 'PYG', 'QAR', 'RON', 'RSD', 'RUB', 'RWF', 'SAR', 'SBD', 'SCR', 'SDG', 'SEK', 'SGD', 'SHP', 'SLL', 'SOS', 'SRD', 'SSP', 'STD', 'STN', 'SVC', 'SYP', 'SZL', 'THB', 'TJS', 'TMT', 'TND', 'TOP', 'TRY', 'TTD', 'TWD', 'TZS', 'UAH', 'UGX', 'USD', 'UYU', 'UZS', 'VEF', 'VES', 'VND', 'VUV', 'WST', 'XAF', 'XAG', 'XAU', 'XCD', 'XDR', 'XOF', 'XPD', 'XPF', 'XPT', 'YER', 'ZAR', 'ZMW', 'ZWL'])"
      ]
     },
     "execution_count": 53,
     "metadata": {},
     "output_type": "execute_result"
    }
   ],
   "source": [
    "parsed.keys()"
   ]
  },
  {
   "cell_type": "code",
   "execution_count": 50,
   "metadata": {},
   "outputs": [],
   "source": [
    "def get_rate(frm, to):\n",
    "    response = requests.get(currency_url)\n",
    "    data = response.content\n",
    "    parsed = json.loads(data).get('rates')\n",
    "    frm_rate = parsed.get(frm.upper())\n",
    "    to_rate = parsed.get(to.upper())\n",
    "    return to_rate/frm_rate"
   ]
  },
  {
   "cell_type": "code",
   "execution_count": 55,
   "metadata": {
    "scrolled": true
   },
   "outputs": [
    {
     "data": {
      "text/plain": [
       "1127.508333"
      ]
     },
     "execution_count": 55,
     "metadata": {},
     "output_type": "execute_result"
    }
   ],
   "source": [
    "get_rate(\"USD\", \"KRW\")"
   ]
  },
  {
   "cell_type": "markdown",
   "metadata": {},
   "source": [
    "---"
   ]
  },
  {
   "cell_type": "code",
   "execution_count": null,
   "metadata": {},
   "outputs": [],
   "source": [
    "#4 makedefault & separate func\n",
    "import json\n",
    "import urllib\n",
    "import urllib3\n",
    "import requests\n",
    "import feedparser\n",
    "from flask import Flask, render_template, request\n",
    "\n",
    "DEFAULTS = {'publication': 'bbc',\n",
    "           'city': 'London, UK'}\n",
    "app = Flask(__name__)\n",
    "\n",
    "RSS_FEEDS = {'bbc': 'http://feeds.bbci.co.uk/news/rss.xml',\n",
    "             'cnn': 'http://rss.cnn.com/rss/edition.rss',\n",
    "             'fox': 'http://feeds.foxnews.com/foxnews/latest',\n",
    "             'iol': 'http://www.iol.co.za/cmlink/1.640'}\n",
    "\n",
    "with open('weather_appID', 'rb') as r:\n",
    "    we_appID = pickle.load(r)\n",
    "    \n",
    "weather_url = \"http://api.openweathermap.org/data/2.5/weather?q={}&units=metric&APPID={}\"\n",
    "@app.route(\"/\")\n",
    "def home():\n",
    "    # get customized headlines\n",
    "    publication = request.args.get('publication')\n",
    "    if not publication:\n",
    "        publication = DEFAULTS['publication']\n",
    "    articles = get_news(publication)\n",
    "    \n",
    "    # get customized weather\n",
    "    city = request.args.get('city')\n",
    "    if not city:\n",
    "        city = DEFAULTS['city']\n",
    "    weather = get_weather(city)\n",
    "    return render_template(\"index.html\",\n",
    "                           articles=articles,\n",
    "                          weather=weather)    \n",
    "    \n",
    "# publication을 query로 받음\n",
    "def get_news(query):\n",
    "    if not query or query.lower() not in RSS_FEEDS:\n",
    "        publication = DEFAULTS['publication']\n",
    "    else:\n",
    "        publication = query.lower()\n",
    "    feed = feedparser.parse(RSS_FEEDS[publication])\n",
    "    return feed['entries']\n",
    "\n",
    "# cit를 query로 받음(그러나 query 문자를 변환하는 과정 필요함)\n",
    "def get_weather(query):\n",
    "    query = urllib.parse.quote(query)\n",
    "    url = weather_url.format(query, we_appID)\n",
    "    response = requests.get(url)\n",
    "    data = response.content\n",
    "    parsed = json.loads(data)\n",
    "    weather = None\n",
    "    if parsed.get(\"weather\"):\n",
    "        weather = {\"DESC\": parsed[\"weather\"][0][\"description\"],\n",
    "                  \"temp\": parsed[\"main\"][\"temp\"],\n",
    "                  \"city\": parsed[\"name\"], \n",
    "                   \"country\": parsed['sys']['country']}\n",
    "    return weather\n",
    "\n",
    "if __name__ == '__main__':\n",
    "    app.run(port=5000, debug=True)"
   ]
  },
  {
   "cell_type": "code",
   "execution_count": null,
   "metadata": {},
   "outputs": [],
   "source": [
    "#3\n",
    "## update weather function\n",
    "import feedparser\n",
    "from flask import Flask, render_template, request\n",
    "\n",
    "app = Flask(__name__)\n",
    "\n",
    "RSS_FEEDS = {'bbc': 'http://feeds.bbci.co.uk/news/rss.xml',\n",
    "             'cnn': 'http://rss.cnn.com/rss/edition.rss',\n",
    "             'fox': 'http://feeds.foxnews.com/foxnews/latest',\n",
    "             'iol': 'http://www.iol.co.za/cmlink/1.640'}\n",
    "\n",
    "@app.route(\"/\", methods=[\"GET\", \"POST\"])\n",
    "def get_news():\n",
    "    query = request.form.get(\"publication\")\n",
    "    if not query or query.lower() not in RSS_FEEDS:\n",
    "        publication = \"bbc\"\n",
    "    else:\n",
    "        publication = query.lower()\n",
    "        \n",
    "    feed = feedparser.parse(RSS_FEEDS[publication])\n",
    "    \n",
    "    weather = get_weather(\"London, UK\")\n",
    "    return render_template(\"index.html\",\n",
    "                           articles=feed['entries'],\n",
    "                          weather=weather)\n",
    "\n",
    "if __name__ == '__main__':\n",
    "    app.run(port=5000, debug=True)"
   ]
  },
  {
   "cell_type": "markdown",
   "metadata": {},
   "source": [
    "---"
   ]
  },
  {
   "cell_type": "markdown",
   "metadata": {},
   "source": [
    "# weather"
   ]
  },
  {
   "cell_type": "code",
   "execution_count": 25,
   "metadata": {},
   "outputs": [],
   "source": [
    "import json\n",
    "import urllib\n",
    "import requests\n",
    "with open('weather_appID', 'rb') as r:\n",
    "    we_appID = pickle.load(r)\n",
    "weather_url = \"http://api.openweathermap.org/data/2.5/weather?q={}&units=metric&APPID={}\".format(we_appID)\n",
    "\n",
    "def get_weather(query):\n",
    "    query = urllib.parse.quote(query)\n",
    "    url = api_url.format(query)\n",
    "    response = requests.get(url)\n",
    "    data = response.content\n",
    "    parsed = json.loads(data)\n",
    "    weather = None\n",
    "    \n",
    "    if parsed.get(\"weather\"):\n",
    "        weather = {\"DESC\": parsed[\"weather\"][0][\"description\"],\n",
    "                  \"temp\": parsed[\"main\"][\"temp\"],\n",
    "                  \"city\": parsed[\"name\"]}\n",
    "    return weather\n",
    "    "
   ]
  },
  {
   "cell_type": "code",
   "execution_count": 26,
   "metadata": {},
   "outputs": [
    {
     "data": {
      "text/plain": [
       "{'DESC': 'clear sky', 'temp': 11.8, 'city': 'London'}"
      ]
     },
     "execution_count": 26,
     "metadata": {},
     "output_type": "execute_result"
    }
   ],
   "source": [
    "get_weather(q)"
   ]
  },
  {
   "cell_type": "code",
   "execution_count": 25,
   "metadata": {},
   "outputs": [],
   "source": [
    "# with open('weather_appID', 'wb') as f:\n",
    "#     pickle.dump(appID, f)\n",
    "with open('weather_appID', 'rb') as r:\n",
    "    we_appID = pickle.load(r)\n",
    "# weather_url = \"http://api.openweathermap.org/data/2.5/weather?q={}&units=metric&APPID={}\".format(we_appID)\n"
   ]
  },
  {
   "cell_type": "code",
   "execution_count": 24,
   "metadata": {},
   "outputs": [
    {
     "data": {
      "text/plain": [
       "{'coord': {'lon': -0.13, 'lat': 51.51},\n",
       " 'weather': [{'id': 800,\n",
       "   'main': 'Clear',\n",
       "   'description': 'clear sky',\n",
       "   'icon': '01d'}],\n",
       " 'base': 'stations',\n",
       " 'main': {'temp': 11.8,\n",
       "  'pressure': 1015,\n",
       "  'humidity': 58,\n",
       "  'temp_min': 11,\n",
       "  'temp_max': 13},\n",
       " 'visibility': 10000,\n",
       " 'wind': {'speed': 5.1, 'deg': 200},\n",
       " 'clouds': {'all': 0},\n",
       " 'dt': 1550402400,\n",
       " 'sys': {'type': 1,\n",
       "  'id': 1414,\n",
       "  'message': 0.0053,\n",
       "  'country': 'GB',\n",
       "  'sunrise': 1550387416,\n",
       "  'sunset': 1550423972},\n",
       " 'id': 2643743,\n",
       " 'name': 'London',\n",
       " 'cod': 200}"
      ]
     },
     "execution_count": 24,
     "metadata": {},
     "output_type": "execute_result"
    }
   ],
   "source": [
    "q = 'London, UK'\n",
    "\n",
    "api_url = \"http://api.openweathermap.org/data/2.5/weather?q={}&units=metric&APPID={}\".format(we_appID)\n",
    "query = urllib.parse.quote(q)\n",
    "url = weather_url.format(query)\n",
    "response = requests.get(url)\n",
    "data = response.content\n",
    "parsed = json.loads(data)\n",
    "parsed"
   ]
  },
  {
   "cell_type": "code",
   "execution_count": 23,
   "metadata": {},
   "outputs": [
    {
     "data": {
      "text/plain": [
       "{'coord': {'lon': -0.13, 'lat': 51.51},\n",
       " 'weather': [{'id': 800,\n",
       "   'main': 'Clear',\n",
       "   'description': 'clear sky',\n",
       "   'icon': '01d'}],\n",
       " 'base': 'stations',\n",
       " 'main': {'temp': 11.8,\n",
       "  'pressure': 1015,\n",
       "  'humidity': 58,\n",
       "  'temp_min': 11,\n",
       "  'temp_max': 13},\n",
       " 'visibility': 10000,\n",
       " 'wind': {'speed': 5.1, 'deg': 200},\n",
       " 'clouds': {'all': 0},\n",
       " 'dt': 1550402400,\n",
       " 'sys': {'type': 1,\n",
       "  'id': 1414,\n",
       "  'message': 0.0053,\n",
       "  'country': 'GB',\n",
       "  'sunrise': 1550387416,\n",
       "  'sunset': 1550423972},\n",
       " 'id': 2643743,\n",
       " 'name': 'London',\n",
       " 'cod': 200}"
      ]
     },
     "execution_count": 23,
     "metadata": {},
     "output_type": "execute_result"
    }
   ],
   "source": [
    "# response.content: Non-json\n",
    "json.loads(response.content)"
   ]
  },
  {
   "cell_type": "markdown",
   "metadata": {},
   "source": [
    "---"
   ]
  },
  {
   "cell_type": "code",
   "execution_count": null,
   "metadata": {},
   "outputs": [],
   "source": [
    "#2 post\n",
    "## .html: <form action=\"/\" method=\"POST\">\n",
    "## .py: request.form.get\n",
    "import feedparser\n",
    "from flask import Flask, render_template, request\n",
    "\n",
    "app = Flask(__name__)\n",
    "\n",
    "RSS_FEEDS = {'bbc': 'http://feeds.bbci.co.uk/news/rss.xml',\n",
    "             'cnn': 'http://rss.cnn.com/rss/edition.rss',\n",
    "             'fox': 'http://feeds.foxnews.com/foxnews/latest',\n",
    "             'iol': 'http://www.iol.co.za/cmlink/1.640'}\n",
    "\n",
    "@app.route(\"/\", methods=[\"GET\", \"POST\"])\n",
    "def get_news():\n",
    "    query = request.form.get(\"publication\")\n",
    "    if not query or query.lower() not in RSS_FEEDS:\n",
    "        publication = \"bbc\"\n",
    "    else:\n",
    "        publication = query.lower()\n",
    "        \n",
    "    feed = feedparser.parse(RSS_FEEDS[publication])\n",
    "    return render_template(\"index.html\",\n",
    "                           articles=feed['entries'])\n",
    "\n",
    "if __name__ == '__main__':\n",
    "    app.run(port=5000, debug=True)"
   ]
  },
  {
   "cell_type": "code",
   "execution_count": null,
   "metadata": {},
   "outputs": [],
   "source": [
    "#1\n",
    "## .html:<form> element에서 get 방식으로 요청하는 것을 활용 eg. /?query(key)=value (key=query:\"publication\")\n",
    "## .py: falsk_request는 가장 최신의 reqeust_dict(key & value)를 args로 저장함(request.args.get(key))\n",
    "import feedparser\n",
    "from flask import Flask, render_template, request\n",
    "\n",
    "app = Flask(__name__)\n",
    "\n",
    "RSS_FEEDS = {'bbc': 'http://feeds.bbci.co.uk/news/rss.xml',\n",
    "             'cnn': 'http://rss.cnn.com/rss/edition.rss',\n",
    "             'fox': 'http://feeds.foxnews.com/foxnews/latest',\n",
    "             'iol': 'http://www.iol.co.za/cmlink/1.640'}\n",
    "\n",
    "@app.route(\"/\")\n",
    "def get_news():\n",
    "    query = request.args.get(\"publication\")\n",
    "    if not query or query.lower() not in RSS_FEEDS:\n",
    "        publication = \"bbc\"\n",
    "    else:\n",
    "        publication = query.lower()\n",
    "        \n",
    "    feed = feedparser.parse(RSS_FEEDS[publication])\n",
    "    return render_template(\"index.html\",\n",
    "                           articles=feed['entries'])\n",
    "\n",
    "if __name__ == '__main__':\n",
    "    app.run(port=5000, debug=True)"
   ]
  },
  {
   "cell_type": "code",
   "execution_count": null,
   "metadata": {},
   "outputs": [],
   "source": [
    "import feedparser\n",
    "bbc_url = \"http://feeds.bbci.co.uk/news/rss.xml\"\n",
    "feed = feedparser.parse(bbc_url)\n",
    "feed.keys()"
   ]
  }
 ],
 "metadata": {
  "kernelspec": {
   "display_name": "Python 3",
   "language": "python",
   "name": "python3"
  },
  "language_info": {
   "codemirror_mode": {
    "name": "ipython",
    "version": 3
   },
   "file_extension": ".py",
   "mimetype": "text/x-python",
   "name": "python",
   "nbconvert_exporter": "python",
   "pygments_lexer": "ipython3",
   "version": "3.6.7"
  }
 },
 "nbformat": 4,
 "nbformat_minor": 2
}
