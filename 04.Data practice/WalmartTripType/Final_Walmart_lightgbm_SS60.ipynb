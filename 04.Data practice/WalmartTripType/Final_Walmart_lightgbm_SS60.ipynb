{
 "cells": [
  {
   "cell_type": "markdown",
   "metadata": {
    "slideshow": {
     "slide_type": "slide"
    }
   },
   "source": [
    "# <center> 분류 프로젝트 발표 - SS60</center>\n",
    "## <center>Walmart Triptype Classification\n",
    "## <center> 노승환, 백형렬, 이수정"
   ]
  },
  {
   "cell_type": "markdown",
   "metadata": {
    "slideshow": {
     "slide_type": "slide"
    }
   },
   "source": [
    "# <center> 프로세스 </center>\n",
    "# 0. 환경설정\n",
    "# 1. 모델의 성능\n",
    "# 2. 변수설명\n",
    "# 3. 전처리 및 EDA\n",
    "# 4. lightgbm을 사용한 분류\n",
    "# 5. kaggle에 제출\n",
    "# 6. 한계점 및 보완방향"
   ]
  },
  {
   "cell_type": "markdown",
   "metadata": {
    "slideshow": {
     "slide_type": "skip"
    }
   },
   "source": [
    "# <center>0.환경설정</center>"
   ]
  },
  {
   "cell_type": "code",
   "execution_count": 1,
   "metadata": {
    "slideshow": {
     "slide_type": "skip"
    }
   },
   "outputs": [
    {
     "name": "stderr",
     "output_type": "stream",
     "text": [
      "/usr/local/lib/python3.7/site-packages/lightgbm/__init__.py:46: UserWarning: Starting from version 2.2.1, the library file in distribution wheels for macOS is built by the Apple Clang (Xcode_8.3.1) compiler.\n",
      "This means that in case of installing LightGBM from PyPI via the ``pip install lightgbm`` command, you don't need to install the gcc compiler anymore.\n",
      "Instead of that, you need to install the OpenMP library, which is required for running LightGBM on the system with the Apple Clang compiler.\n",
      "You can install the OpenMP library by the following command: ``brew install libomp``.\n",
      "  \"You can install the OpenMP library by the following command: ``brew install libomp``.\", UserWarning)\n"
     ]
    }
   ],
   "source": [
    "from sklearn.preprocessing import LabelEncoder\n",
    "from sklearn.model_selection import train_test_split\n",
    "from sklearn.metrics import classification_report\n",
    "from sklearn.metrics import confusion_matrix\n",
    "from scipy.sparse import csr_matrix\n",
    "import lightgbm\n",
    "import warnings\n",
    "import numpy as np\n",
    "import pandas as pd\n",
    "from IPython.display import Markdown\n",
    "import matplotlib.pyplot as plt\n",
    "import seaborn as sns\n",
    "\n",
    "%matplotlib inline\n",
    "\n",
    "warnings.filterwarnings('ignore')"
   ]
  },
  {
   "cell_type": "code",
   "execution_count": 2,
   "metadata": {
    "scrolled": true,
    "slideshow": {
     "slide_type": "skip"
    }
   },
   "outputs": [],
   "source": [
    "train = pd.read_csv(\"train.csv\")\n",
    "test = pd.read_csv(\"test.csv\")"
   ]
  },
  {
   "cell_type": "markdown",
   "metadata": {
    "slideshow": {
     "slide_type": "slide"
    }
   },
   "source": [
    "# <center> 1. 모델의 성능</center>"
   ]
  },
  {
   "cell_type": "markdown",
   "metadata": {
    "slideshow": {
     "slide_type": "slide"
    }
   },
   "source": [
    "## 1-1. Accuracy"
   ]
  },
  {
   "cell_type": "code",
   "execution_count": 142,
   "metadata": {
    "slideshow": {
     "slide_type": "fragment"
    }
   },
   "outputs": [
    {
     "name": "stdout",
     "output_type": "stream",
     "text": [
      "TripType Accuracy = 77.40%\n"
     ]
    }
   ],
   "source": [
    "# 성능을 저장해놓고 보여주기 위한 코드입니다. 코드를 실행할 땐 전처리 과정을 모두 실행해줘야만 코드가 돌아갑니다.\n",
    "accuracy = 100 * (1 - (sum(int(y_pred[i]) != y_test[i]\n",
    "                           for i in range(len(y_test))) / float(len(y_test))))\n",
    "print(\"TripType Accuracy = %.2f%%\" % accuracy)"
   ]
  },
  {
   "cell_type": "markdown",
   "metadata": {
    "slideshow": {
     "slide_type": "slide"
    }
   },
   "source": [
    "## 1-2. Classification_report"
   ]
  },
  {
   "cell_type": "code",
   "execution_count": 143,
   "metadata": {
    "slideshow": {
     "slide_type": "fragment"
    }
   },
   "outputs": [
    {
     "name": "stdout",
     "output_type": "stream",
     "text": [
      "              precision    recall  f1-score   support\n",
      "\n",
      "           3       0.94      0.98      0.96       931\n",
      "           4       0.80      0.66      0.72        87\n",
      "           5       0.85      0.87      0.86      1167\n",
      "           6       0.82      0.84      0.83       309\n",
      "           7       0.80      0.80      0.80      1494\n",
      "           8       0.88      0.91      0.89      3017\n",
      "           9       0.78      0.86      0.82      2307\n",
      "          12       0.64      0.34      0.44        62\n",
      "          14       0.00      0.00      0.00         2\n",
      "          15       0.65      0.58      0.61       237\n",
      "          18       0.58      0.49      0.53       131\n",
      "          19       0.74      0.62      0.68        80\n",
      "          20       0.76      0.63      0.69       173\n",
      "          21       0.73      0.67      0.70       158\n",
      "          22       0.66      0.70      0.68       207\n",
      "          23       0.74      0.60      0.67        43\n",
      "          24       0.71      0.70      0.71       652\n",
      "          25       0.75      0.81      0.78       945\n",
      "          26       0.70      0.49      0.58       144\n",
      "          27       0.67      0.68      0.68       193\n",
      "          28       0.77      0.65      0.71       135\n",
      "          29       0.75      0.56      0.64        98\n",
      "          30       0.65      0.57      0.61       265\n",
      "          31       0.82      0.81      0.82       153\n",
      "          32       0.77      0.82      0.79       485\n",
      "          33       0.69      0.60      0.64       318\n",
      "          34       0.71      0.60      0.65       188\n",
      "          35       0.71      0.65      0.68       510\n",
      "          36       0.71      0.69      0.70       758\n",
      "          37       0.74      0.64      0.69       714\n",
      "          38       0.71      0.59      0.65       730\n",
      "          39       0.62      0.74      0.67      2507\n",
      "          40       0.81      0.92      0.86      1534\n",
      "          41       0.33      0.10      0.16       144\n",
      "          42       0.46      0.40      0.43       458\n",
      "          43       0.19      0.06      0.09       188\n",
      "          44       0.43      0.24      0.31       295\n",
      "         999       0.96      0.88      0.92      2100\n",
      "\n",
      "   micro avg       0.77      0.77      0.77     23919\n",
      "   macro avg       0.69      0.63      0.65     23919\n",
      "weighted avg       0.77      0.77      0.77     23919\n",
      "\n"
     ]
    }
   ],
   "source": [
    "# 성능을 저장해놓고 보여주기 위한 코드입니다. 코드를 실행할 땐 전처리 과정을 모두 실행해줘야만 코드가 돌아갑니다.\n",
    "print(classification_report(label_enc.inverse_transform(y_test), label_enc.inverse_transform(y_pred)))"
   ]
  },
  {
   "cell_type": "markdown",
   "metadata": {},
   "source": [
    "## 하위 4개의 class를 제외하고 precision과 recall이 60퍼센트 이상임을 확인할 수 있습니다."
   ]
  },
  {
   "cell_type": "markdown",
   "metadata": {
    "slideshow": {
     "slide_type": "slide"
    }
   },
   "source": [
    "# <center>2.데이터 및 변수 설명</center>"
   ]
  },
  {
   "cell_type": "markdown",
   "metadata": {},
   "source": [
    "![score](walmart.png)"
   ]
  },
  {
   "cell_type": "markdown",
   "metadata": {},
   "source": [
    "## walmart triptype classification : [walmart triptype classification](https://www.kaggle.com/c/walmart-recruiting-trip-type-classification)"
   ]
  },
  {
   "cell_type": "markdown",
   "metadata": {},
   "source": [
    "# 약 3년전 종료된 kaggle competition으로, 월마트측에서 자체적으로 분류한 38가지의 고객 특성을 고객이 구매한 전산 데이터만을 사용해 고객 특성을 분류해보는것이 목적입니다.\n",
    "\n",
    "## - 평가방식 : Multi-class log \n",
    "\n",
    "## <center>$-\\frac{1}{N}\\sum_{i=1}^N\\sum_{j=1}^My_{ij}\\log(p_{ij}),$</center>\n",
    "\n",
    "## - 분류할 타겟 : 고객의 특성 (38종류)"
   ]
  },
  {
   "cell_type": "code",
   "execution_count": 5,
   "metadata": {
    "scrolled": false,
    "slideshow": {
     "slide_type": "slide"
    }
   },
   "outputs": [
    {
     "data": {
      "text/plain": [
       "((647054, 7), (653646, 6))"
      ]
     },
     "execution_count": 5,
     "metadata": {},
     "output_type": "execute_result"
    }
   ],
   "source": [
    "train.shape, test.shape"
   ]
  },
  {
   "cell_type": "code",
   "execution_count": 6,
   "metadata": {},
   "outputs": [
    {
     "data": {
      "text/html": [
       "<div>\n",
       "<style scoped>\n",
       "    .dataframe tbody tr th:only-of-type {\n",
       "        vertical-align: middle;\n",
       "    }\n",
       "\n",
       "    .dataframe tbody tr th {\n",
       "        vertical-align: top;\n",
       "    }\n",
       "\n",
       "    .dataframe thead th {\n",
       "        text-align: right;\n",
       "    }\n",
       "</style>\n",
       "<table border=\"1\" class=\"dataframe\">\n",
       "  <thead>\n",
       "    <tr style=\"text-align: right;\">\n",
       "      <th></th>\n",
       "      <th>TripType</th>\n",
       "      <th>VisitNumber</th>\n",
       "      <th>Weekday</th>\n",
       "      <th>Upc</th>\n",
       "      <th>ScanCount</th>\n",
       "      <th>DepartmentDescription</th>\n",
       "      <th>FinelineNumber</th>\n",
       "    </tr>\n",
       "  </thead>\n",
       "  <tbody>\n",
       "    <tr>\n",
       "      <th>0</th>\n",
       "      <td>999</td>\n",
       "      <td>5</td>\n",
       "      <td>Friday</td>\n",
       "      <td>6.811315e+10</td>\n",
       "      <td>-1</td>\n",
       "      <td>FINANCIAL SERVICES</td>\n",
       "      <td>1000.0</td>\n",
       "    </tr>\n",
       "    <tr>\n",
       "      <th>1</th>\n",
       "      <td>30</td>\n",
       "      <td>7</td>\n",
       "      <td>Friday</td>\n",
       "      <td>6.053882e+10</td>\n",
       "      <td>1</td>\n",
       "      <td>SHOES</td>\n",
       "      <td>8931.0</td>\n",
       "    </tr>\n",
       "    <tr>\n",
       "      <th>2</th>\n",
       "      <td>30</td>\n",
       "      <td>7</td>\n",
       "      <td>Friday</td>\n",
       "      <td>7.410811e+09</td>\n",
       "      <td>1</td>\n",
       "      <td>PERSONAL CARE</td>\n",
       "      <td>4504.0</td>\n",
       "    </tr>\n",
       "    <tr>\n",
       "      <th>3</th>\n",
       "      <td>26</td>\n",
       "      <td>8</td>\n",
       "      <td>Friday</td>\n",
       "      <td>2.238404e+09</td>\n",
       "      <td>2</td>\n",
       "      <td>PAINT AND ACCESSORIES</td>\n",
       "      <td>3565.0</td>\n",
       "    </tr>\n",
       "    <tr>\n",
       "      <th>4</th>\n",
       "      <td>26</td>\n",
       "      <td>8</td>\n",
       "      <td>Friday</td>\n",
       "      <td>2.006614e+09</td>\n",
       "      <td>2</td>\n",
       "      <td>PAINT AND ACCESSORIES</td>\n",
       "      <td>1017.0</td>\n",
       "    </tr>\n",
       "  </tbody>\n",
       "</table>\n",
       "</div>"
      ],
      "text/plain": [
       "   TripType  VisitNumber Weekday           Upc  ScanCount  \\\n",
       "0       999            5  Friday  6.811315e+10         -1   \n",
       "1        30            7  Friday  6.053882e+10          1   \n",
       "2        30            7  Friday  7.410811e+09          1   \n",
       "3        26            8  Friday  2.238404e+09          2   \n",
       "4        26            8  Friday  2.006614e+09          2   \n",
       "\n",
       "   DepartmentDescription  FinelineNumber  \n",
       "0     FINANCIAL SERVICES          1000.0  \n",
       "1                  SHOES          8931.0  \n",
       "2          PERSONAL CARE          4504.0  \n",
       "3  PAINT AND ACCESSORIES          3565.0  \n",
       "4  PAINT AND ACCESSORIES          1017.0  "
      ]
     },
     "execution_count": 6,
     "metadata": {},
     "output_type": "execute_result"
    }
   ],
   "source": [
    "train.head()"
   ]
  },
  {
   "cell_type": "markdown",
   "metadata": {
    "slideshow": {
     "slide_type": "slide"
    }
   },
   "source": [
    "# 2-1. `TripType`  [target]\n",
    "- 이번 분석에서의 Target값\n",
    "\n",
    "- 고객의 구매 활동을 나타내는 카테고리컬 식별값입니다. \n",
    "- 다른 변수들을 분석해 38가지 중에 하나로 분류해야 합니다. \n",
    "- TripType '999' 는 총 구매한 아이템의 수가 음수, 즉 최종 구매 활동이 반환 인 구매자를 의미합니다."
   ]
  },
  {
   "cell_type": "code",
   "execution_count": 22,
   "metadata": {
    "scrolled": true,
    "slideshow": {
     "slide_type": "fragment"
    }
   },
   "outputs": [
    {
     "name": "stdout",
     "output_type": "stream",
     "text": [
      "[999  30  26   8  35  41  21   6  42   7   9  39  25  38  15  36  20  37\n",
      "  32  40   5   3   4  24  33  43  31  27  34  18  29  44  19  23  22  28\n",
      "  14  12]\n",
      "38가지 ID가 있습니다.\n"
     ]
    }
   ],
   "source": [
    "print(train.TripType.unique())\n",
    "print(\"{}가지 ID가 있습니다.\".format(len(train.TripType.unique())))"
   ]
  },
  {
   "cell_type": "markdown",
   "metadata": {
    "slideshow": {
     "slide_type": "slide"
    }
   },
   "source": [
    "## TripType별 카운트는 다음과 같습니다."
   ]
  },
  {
   "cell_type": "code",
   "execution_count": 7,
   "metadata": {
    "scrolled": true,
    "slideshow": {
     "slide_type": "fragment"
    }
   },
   "outputs": [
    {
     "data": {
      "image/png": "[encoded data removed]",
      "text/plain": [
       "<Figure size 1152x288 with 1 Axes>"
      ]
     },
     "metadata": {
      "image/png": {
       "height": 282,
       "width": 975
      },
      "needs_background": "light"
     },
     "output_type": "display_data"
    }
   ],
   "source": [
    "plt.figure(figsize=(16, 4))\n",
    "sns.countplot(x=\"TripType\", data=train)\n",
    "plt.title(\"Trip Type별 카운트 \")\n",
    "plt.show()"
   ]
  },
  {
   "cell_type": "markdown",
   "metadata": {
    "slideshow": {
     "slide_type": "slide"
    }
   },
   "source": [
    "## TripType 999는 반품하러 온 사람들을 의미합니다."
   ]
  },
  {
   "cell_type": "code",
   "execution_count": 9,
   "metadata": {
    "slideshow": {
     "slide_type": "fragment"
    }
   },
   "outputs": [
    {
     "data": {
      "image/png": "[encoded data removed]",
      "text/plain": [
       "<Figure size 2160x720 with 1 Axes>"
      ]
     },
     "metadata": {
      "image/png": {
       "height": 607,
       "width": 1747
      },
      "needs_background": "light"
     },
     "output_type": "display_data"
    }
   ],
   "source": [
    "train_tt_sc = train.groupby('TripType',as_index=False)['ScanCount'].sum()\n",
    "\n",
    "plt.figure(figsize=(30,10))\n",
    "sns.barplot(train_tt_sc['TripType'].astype('int') , train_tt_sc['ScanCount'])\n",
    "plt.ylim(-2500,8000)\n",
    "plt.title(\"TripType 999\")\n",
    "plt.show()"
   ]
  },
  {
   "cell_type": "markdown",
   "metadata": {
    "slideshow": {
     "slide_type": "slide"
    }
   },
   "source": [
    "# 2.2 `VisitNumber`\n",
    "- 단일 고객의 단일 구매 활동을 나타내는 값\n",
    "- 95674가지 값을 가집니다."
   ]
  },
  {
   "cell_type": "code",
   "execution_count": 12,
   "metadata": {
    "scrolled": true,
    "slideshow": {
     "slide_type": "fragment"
    }
   },
   "outputs": [
    {
     "data": {
      "text/plain": [
       "95674"
      ]
     },
     "execution_count": 12,
     "metadata": {},
     "output_type": "execute_result"
    }
   ],
   "source": [
    "len(train.VisitNumber.unique())"
   ]
  },
  {
   "cell_type": "code",
   "execution_count": 13,
   "metadata": {
    "scrolled": false,
    "slideshow": {
     "slide_type": "fragment"
    }
   },
   "outputs": [
    {
     "data": {
      "text/html": [
       "<div>\n",
       "<style scoped>\n",
       "    .dataframe tbody tr th:only-of-type {\n",
       "        vertical-align: middle;\n",
       "    }\n",
       "\n",
       "    .dataframe tbody tr th {\n",
       "        vertical-align: top;\n",
       "    }\n",
       "\n",
       "    .dataframe thead th {\n",
       "        text-align: right;\n",
       "    }\n",
       "</style>\n",
       "<table border=\"1\" class=\"dataframe\">\n",
       "  <thead>\n",
       "    <tr style=\"text-align: right;\">\n",
       "      <th></th>\n",
       "      <th>TripType</th>\n",
       "      <th>VisitNumber</th>\n",
       "      <th>Weekday</th>\n",
       "      <th>Upc</th>\n",
       "      <th>ScanCount</th>\n",
       "      <th>DepartmentDescription</th>\n",
       "      <th>FinelineNumber</th>\n",
       "    </tr>\n",
       "  </thead>\n",
       "  <tbody>\n",
       "    <tr>\n",
       "      <th>0</th>\n",
       "      <td>999</td>\n",
       "      <td>5</td>\n",
       "      <td>Friday</td>\n",
       "      <td>6.811315e+10</td>\n",
       "      <td>-1</td>\n",
       "      <td>FINANCIAL SERVICES</td>\n",
       "      <td>1000.0</td>\n",
       "    </tr>\n",
       "    <tr>\n",
       "      <th>1</th>\n",
       "      <td>30</td>\n",
       "      <td>7</td>\n",
       "      <td>Friday</td>\n",
       "      <td>6.053882e+10</td>\n",
       "      <td>1</td>\n",
       "      <td>SHOES</td>\n",
       "      <td>8931.0</td>\n",
       "    </tr>\n",
       "    <tr>\n",
       "      <th>2</th>\n",
       "      <td>30</td>\n",
       "      <td>7</td>\n",
       "      <td>Friday</td>\n",
       "      <td>7.410811e+09</td>\n",
       "      <td>1</td>\n",
       "      <td>PERSONAL CARE</td>\n",
       "      <td>4504.0</td>\n",
       "    </tr>\n",
       "    <tr>\n",
       "      <th>3</th>\n",
       "      <td>26</td>\n",
       "      <td>8</td>\n",
       "      <td>Friday</td>\n",
       "      <td>2.238404e+09</td>\n",
       "      <td>2</td>\n",
       "      <td>PAINT AND ACCESSORIES</td>\n",
       "      <td>3565.0</td>\n",
       "    </tr>\n",
       "    <tr>\n",
       "      <th>4</th>\n",
       "      <td>26</td>\n",
       "      <td>8</td>\n",
       "      <td>Friday</td>\n",
       "      <td>2.006614e+09</td>\n",
       "      <td>2</td>\n",
       "      <td>PAINT AND ACCESSORIES</td>\n",
       "      <td>1017.0</td>\n",
       "    </tr>\n",
       "  </tbody>\n",
       "</table>\n",
       "</div>"
      ],
      "text/plain": [
       "   TripType  VisitNumber Weekday           Upc  ScanCount  \\\n",
       "0       999            5  Friday  6.811315e+10         -1   \n",
       "1        30            7  Friday  6.053882e+10          1   \n",
       "2        30            7  Friday  7.410811e+09          1   \n",
       "3        26            8  Friday  2.238404e+09          2   \n",
       "4        26            8  Friday  2.006614e+09          2   \n",
       "\n",
       "   DepartmentDescription  FinelineNumber  \n",
       "0     FINANCIAL SERVICES          1000.0  \n",
       "1                  SHOES          8931.0  \n",
       "2          PERSONAL CARE          4504.0  \n",
       "3  PAINT AND ACCESSORIES          3565.0  \n",
       "4  PAINT AND ACCESSORIES          1017.0  "
      ]
     },
     "execution_count": 13,
     "metadata": {},
     "output_type": "execute_result"
    }
   ],
   "source": [
    "train.head()"
   ]
  },
  {
   "cell_type": "markdown",
   "metadata": {},
   "source": [
    "### 최종적으로 예측할 TripType은 VisitNumber별로 예측합니다. 같은 VisitNumber(손님)은 같은 TripType을 가짐을 알 수 있습니다."
   ]
  },
  {
   "cell_type": "markdown",
   "metadata": {
    "slideshow": {
     "slide_type": "fragment"
    }
   },
   "source": [
    "## 7번 고객은 각각 다른 물품을 하나씩, 총 2개씩 구매했습니다."
   ]
  },
  {
   "cell_type": "markdown",
   "metadata": {
    "slideshow": {
     "slide_type": "slide"
    }
   },
   "source": [
    "# 2.3 `Weekday` \n",
    "- 거래가 일어난 요일을 나타냅니다."
   ]
  },
  {
   "cell_type": "code",
   "execution_count": 14,
   "metadata": {
    "slideshow": {
     "slide_type": "fragment"
    }
   },
   "outputs": [
    {
     "name": "stdout",
     "output_type": "stream",
     "text": [
      "['Friday' 'Saturday' 'Sunday' 'Monday' 'Tuesday' 'Wednesday' 'Thursday']\n"
     ]
    }
   ],
   "source": [
    "print(train.Weekday.unique())"
   ]
  },
  {
   "cell_type": "markdown",
   "metadata": {
    "slideshow": {
     "slide_type": "slide"
    }
   },
   "source": [
    "# 2.4 `ScanCount`\n",
    "- 해당 상품을 한번에 몇 개 샀는지를 나타냅니다.\n",
    "- 반품했을 경우 음수값으로 표시합니다."
   ]
  },
  {
   "cell_type": "code",
   "execution_count": 16,
   "metadata": {
    "slideshow": {
     "slide_type": "fragment"
    }
   },
   "outputs": [
    {
     "name": "stdout",
     "output_type": "stream",
     "text": [
      "[ -1   1   2   3   5   6   4  14  -2   9   7  10   8  -3  -5  11  16  -4\n",
      "  13  15  30  -6  12  20 -12  19  46  23  -7  22  25  24  31  -9  51  17\n",
      "  18  71 -10]\n",
      "count    647054.000000\n",
      "mean          1.108878\n",
      "std           0.700776\n",
      "min         -12.000000\n",
      "25%           1.000000\n",
      "50%           1.000000\n",
      "75%           1.000000\n",
      "max          71.000000\n",
      "Name: ScanCount, dtype: float64\n"
     ]
    }
   ],
   "source": [
    "print(train.ScanCount.unique())\n",
    "print(train.ScanCount.describe())"
   ]
  },
  {
   "cell_type": "markdown",
   "metadata": {
    "slideshow": {
     "slide_type": "slide"
    }
   },
   "source": [
    "# 2.5 `DepartmentDescription` \n",
    "- 상품 대분류\n",
    "- 이 기준에 따르면 상품들은 68가지로 분류됩니다."
   ]
  },
  {
   "cell_type": "code",
   "execution_count": 17,
   "metadata": {
    "slideshow": {
     "slide_type": "fragment"
    }
   },
   "outputs": [],
   "source": [
    "len(train[\"DepartmentDescription\"].unique().tolist())\n",
    "train = train.replace('MENSWEAR', 'MENS WEAR')\n",
    "test = test.replace('MENSWEAR', 'MENS WEAR')"
   ]
  },
  {
   "cell_type": "code",
   "execution_count": 18,
   "metadata": {
    "slideshow": {
     "slide_type": "fragment"
    }
   },
   "outputs": [
    {
     "name": "stdout",
     "output_type": "stream",
     "text": [
      "68\n",
      "['FINANCIAL SERVICES' 'SHOES' 'PERSONAL CARE' 'PAINT AND ACCESSORIES'\n",
      " 'DSD GROCERY' 'MEAT - FRESH & FROZEN' 'DAIRY' 'PETS AND SUPPLIES'\n",
      " 'HOUSEHOLD CHEMICALS/SUPP' nan 'IMPULSE MERCHANDISE' 'PRODUCE'\n",
      " 'CANDY, TOBACCO, COOKIES' 'GROCERY DRY GOODS' 'BOYS WEAR'\n",
      " 'FABRICS AND CRAFTS' 'JEWELRY AND SUNGLASSES' 'MENS WEAR' 'ACCESSORIES'\n",
      " 'HOME MANAGEMENT' 'FROZEN FOODS' 'SERVICE DELI'\n",
      " 'INFANT CONSUMABLE HARDLINES' 'PRE PACKED DELI' 'COOK AND DINE'\n",
      " 'PHARMACY OTC' 'LADIESWEAR' 'COMM BREAD' 'BAKERY' 'HOUSEHOLD PAPER GOODS'\n",
      " 'CELEBRATION' 'HARDWARE' 'BEAUTY' 'AUTOMOTIVE' 'BOOKS AND MAGAZINES'\n",
      " 'SEAFOOD' 'OFFICE SUPPLIES' 'LAWN AND GARDEN' 'SHEER HOSIERY' 'WIRELESS'\n",
      " 'BEDDING' 'BATH AND SHOWER' 'HORTICULTURE AND ACCESS' 'HOME DECOR' 'TOYS'\n",
      " 'INFANT APPAREL' 'LADIES SOCKS' 'PLUS AND MATERNITY' 'ELECTRONICS'\n",
      " 'GIRLS WEAR, 4-6X  AND 7-14' 'BRAS & SHAPEWEAR' 'LIQUOR,WINE,BEER'\n",
      " 'SLEEPWEAR/FOUNDATIONS' 'CAMERAS AND SUPPLIES' 'SPORTING GOODS'\n",
      " 'PLAYERS AND ELECTRONICS' 'PHARMACY RX' 'OPTICAL - FRAMES'\n",
      " 'SWIMWEAR/OUTERWEAR' 'OTHER DEPARTMENTS' 'MEDIA AND GAMING' 'FURNITURE'\n",
      " 'OPTICAL - LENSES' 'SEASONAL' 'LARGE HOUSEHOLD GOODS' '1-HR PHOTO'\n",
      " 'CONCEPT STORES' 'HEALTH AND BEAUTY AIDS']\n"
     ]
    }
   ],
   "source": [
    "print(len(train.DepartmentDescription.unique()))\n",
    "print(train.DepartmentDescription.unique())"
   ]
  },
  {
   "cell_type": "code",
   "execution_count": 6,
   "metadata": {
    "slideshow": {
     "slide_type": "subslide"
    }
   },
   "outputs": [
    {
     "data": {
      "text/plain": [
       "TripType                 6099\n",
       "VisitNumber              6099\n",
       "Weekday                  6099\n",
       "Upc                      6099\n",
       "ScanCount                6099\n",
       "DepartmentDescription    6099\n",
       "FinelineNumber           6099\n",
       "dtype: int64"
      ]
     },
     "execution_count": 6,
     "metadata": {},
     "output_type": "execute_result"
    }
   ],
   "source": [
    "train[train.DepartmentDescription == 'SHOES'].count()"
   ]
  },
  {
   "cell_type": "markdown",
   "metadata": {
    "slideshow": {
     "slide_type": "slide"
    }
   },
   "source": [
    "# 2.6 `FinelineNumber` \n",
    "- 월마트가 자체적으로 사용하는 세분화된 상품 분류 코드\n",
    "- 이 기준에 따르면 상품들은 5196가지로 분류됩니다."
   ]
  },
  {
   "cell_type": "code",
   "execution_count": 19,
   "metadata": {
    "slideshow": {
     "slide_type": "fragment"
    }
   },
   "outputs": [
    {
     "name": "stdout",
     "output_type": "stream",
     "text": [
      "5196\n",
      "[1000. 8931. 4504. ... 8257. 4314. 7130.]\n"
     ]
    }
   ],
   "source": [
    "print(len(train.FinelineNumber.unique()))\n",
    "print(train.FinelineNumber.unique())"
   ]
  },
  {
   "cell_type": "markdown",
   "metadata": {
    "slideshow": {
     "slide_type": "slide"
    }
   },
   "source": [
    "# 2.7 `Upc`\n",
    "- Universal Product Code. 구매한 제품의 고유값\n",
    "- 97715개 상품이 팔렸습니다."
   ]
  },
  {
   "cell_type": "markdown",
   "metadata": {},
   "source": [
    "## UPC란 우리가 흔히 알고있는 바코드를 의미합니다. full UPC는 12자리입니다.\n",
    "\n",
    "\n",
    "## train 데이터셋에서 UPC의 길이가 다 다름을 알 수 있습니다. UPC의 앞 6자리는 제품을 생산한 회사를 의미하므로, 길이가 6 미만인 것들은 월마트에서 자체생산한 상품임을 알 수 있습니다.(치킨 등 음식류) "
   ]
  },
  {
   "cell_type": "code",
   "execution_count": 15,
   "metadata": {
    "scrolled": true,
    "slideshow": {
     "slide_type": "fragment"
    }
   },
   "outputs": [
    {
     "data": {
      "text/plain": [
       "97715"
      ]
     },
     "execution_count": 15,
     "metadata": {},
     "output_type": "execute_result"
    }
   ],
   "source": [
    "len(train.Upc.unique())"
   ]
  },
  {
   "cell_type": "markdown",
   "metadata": {
    "slideshow": {
     "slide_type": "slide"
    }
   },
   "source": [
    "# <center>3.전처리 및 EDA</center>"
   ]
  },
  {
   "cell_type": "markdown",
   "metadata": {
    "slideshow": {
     "slide_type": "slide"
    }
   },
   "source": [
    "# 3-1. `TripType` 별 많이 나오는 상품 분류\n",
    "- 타입별로 어떤 물건을 사러 온 손님인지 뚜렷하게 구분이 되는 경우가 많습니다."
   ]
  },
  {
   "cell_type": "code",
   "execution_count": 42,
   "metadata": {
    "slideshow": {
     "slide_type": "skip"
    }
   },
   "outputs": [],
   "source": [
    "description = {\n",
    "    0: \"타입3은 Financial Services가 주를 이룹니다.\",\n",
    "    1: \"타입4는 Pharmacy OTC가 가장 많이 나옵니다.\",\n",
    "    2: \"타입5도 Pharmacy OTC가 가장 많이 나오는데 좀 더 살펴볼 필요가 있습니다.\",\n",
    "    3: \"타입6은 음주자 타입인듯 합니다. 주류가 가장 많고, 안주꺼리인 캔디, 쿠키, 담배 등도 있습니다.\",\n",
    "    4: \"타입7은 '배고픈 사람' 타입인듯 합니다. 조리 식품, 식료품, 냉동식품 등이 있습니다.\",\n",
    "    5: \"타입8은 일반 가정에서 필요한 물건을 ('장보러') 사러 온 타입인듯 합니다. 식료품이 가장 많이 나타나고, Personal Care가 뒤를 잇습니다.\",\n",
    "    6: \"타입9은 남성 고객군인듯 합니다. 남성복과 자동차용품, 사무용품 등을 많이 구매했습니다.\",\n",
    "    7: \"타입12는 뚜렷한 특성을 찾기 어렵습니다.\",\n",
    "    8: \"타입14는 소소한 취미 타입인듯 합니다. 직물, 수공예품, 애완용품, 게임 등을 구매했습니다.\",\n",
    "    9: \"타입15는 파티 타입인듯 합니다. Celebration이 주를 이룹니다.\",\n",
    "    10: \"타입18은 장난감 타입입니다. Toys가 가장 많이 보입니다\",\n",
    "    11: \"타입19는 전자기기를 사러 온 고객인듯 합니다. Electronics가 가장 많고 나머지는 미미합니다.\",\n",
    "    12: \"타입20은 자동차용품을 사러 온 고객인듯 합니다. Automotive가 가장 많고 나머지는 미미합니다.\",\n",
    "    13: \"타입21은 잘 알아차리기 어렵습니다. Fabrics and Crafts와 사무용품이 비슷하게 많습니다.\",\n",
    "    14: \"타입22는 게이머 고객인듯 합니다. Electronics가 가장 많고 Media and Gaming도 많습니다.\",\n",
    "    15: \"타입23은 Players and Electronics와 Media and Gaming 순으로 많습니다. 타입 22와 비교해 볼 필요가 있습니다.\",\n",
    "    16: \"타입24는 집순이형 타입입니다. 요리, 집안 관리, 세면용품, 홈 데코 등이 있습니다.\", \n",
    "    17: \"타입25는 가족들 옷을 사러온 타입입니다. 남성복, 여성복, 아이들 옷 등이 주를 이룹니다.\",\n",
    "    18: \"타입26은 철물점 타입입니다. Hardware가 가장 많고 페인트와 장식품 등이 있습니다.\",\n",
    "    19: \"타입27은 정원관리형 타입입니다. Lawn and Garden과 Horticulture and Access가 많습니다.\",\n",
    "    20: \"타입28은 스포츠 타입입니다. 스포츠용품 구매가 가장 많습니다.\", \n",
    "    21: \"타입29는 장난감 타입입니다. Toys, Sporting Goods 순으로 많습니다.\",\n",
    "    22: \"타입30은 신발 사러 온 사람들입니다. Shoes가 가장 많습니다.\",\n",
    "    23: \"타입31은 통신 관련 소비자군입니다. Wireless가 대부분입니다.\",\n",
    "    24: \"타입32는 아기용품을 구매하는 타입입니다.\", \n",
    "    25: \"타입33은 집관리형입니다. Household Chemical Supply가 많습니다.\",\n",
    "    26: \"타입34는 애완용품형입니다. Pets and supplies가 많습니다.\",\n",
    "    27: \"타입35는 DSD 타입입니다. DSD(Direct Store delivery)란 점포 직접 납품의 약자로, 공급업체가 상품을 유통업체의 물류센터를 경유하지 않고 점포로 직접 납품하는 형태를 말합니다.\",\n",
    "    28: \"타입36은 피부 미용 타입입니다. Personal Care, Beauty가 많습니다.\",\n",
    "    29: \"타입37은 채소 등 농산물 타입입니다. Produce가 가장 많습니다.\",\n",
    "    30: \"타입38은 유제품 타입입니다. Dairy가 가장 많습니다.\", \n",
    "    31: \"타입39는 DSD Grocery, Grocery Dry Goods가 가장 많습니다.\",\n",
    "    32: \"타입40은 곡류 타입입니다. Grocery Dry Goods 위주입니다.\", \n",
    "    33: \"타입41은 뚜렷한 특징을 찾기 어렵습니다.\", \n",
    "    34: \"타입42는 충동구매 타입인듯 합니다. Impulse Merchandise 구매가 가장 많습니다.\", \n",
    "    35: \"타입43도 뚜렷한 특징을 찾기 어렵습니다. Personal Care, DSD Grocery 등이 낮은 빈도로 있습니다\", \n",
    "    36: \"타입44는 Personal Care가 가장 많습니다.\", \n",
    "    37: \"타입999는 Financial Service가 주류를 이룹니다. 위에서 봤듯 반품을 위한 방문이며, 반품의 경우 Financial Service로 분류되는듯 합니다. 반품을 하면서도 이것저것 구매한다고 추측해볼 수 있습니다.\"\n",
    "}"
   ]
  },
  {
   "cell_type": "code",
   "execution_count": 43,
   "metadata": {
    "slideshow": {
     "slide_type": "slide"
    }
   },
   "outputs": [
    {
     "data": {
      "image/png": "[encoded data removed]",
      "text/plain": [
       "<Figure size 1080x144 with 1 Axes>"
      ]
     },
     "metadata": {
      "image/png": {
       "height": 190,
       "width": 890
      },
      "needs_background": "light"
     },
     "output_type": "display_data"
    },
    {
     "name": "stdout",
     "output_type": "stream",
     "text": [
      "타입9은 남성 고객군인듯 합니다. 남성복과 자동차용품, 사무용품 등을 많이 구매했습니다.\n",
      " \n"
     ]
    }
   ],
   "source": [
    "triptypelist = sorted(list(train['TripType'].unique()))\n",
    "\n",
    "type_6 = train[train.TripType == triptypelist[6]]\n",
    "type_6_items = type_6[[\"TripType\",\"DepartmentDescription\"]]\n",
    "plt.figure(figsize=(15,2))\n",
    "type_6_items.DepartmentDescription.value_counts().head(10).plot(kind=\"bar\", rot=15, title=\"TripType {}\".format(triptypelist[6]), color=\"orange\")\n",
    "plt.show()\n",
    "print(list(description.values())[6])\n",
    "print(\" \")"
   ]
  },
  {
   "cell_type": "code",
   "execution_count": 44,
   "metadata": {
    "slideshow": {
     "slide_type": "fragment"
    }
   },
   "outputs": [
    {
     "data": {
      "image/png": "[encoded data removed]",
      "text/plain": [
       "<Figure size 1080x144 with 1 Axes>"
      ]
     },
     "metadata": {
      "image/png": {
       "height": 203,
       "width": 900
      },
      "needs_background": "light"
     },
     "output_type": "display_data"
    },
    {
     "name": "stdout",
     "output_type": "stream",
     "text": [
      "타입32는 아기용품을 구매하는 타입입니다.\n",
      " \n"
     ]
    }
   ],
   "source": [
    "triptypelist = sorted(list(train['TripType'].unique()))\n",
    "\n",
    "type_24 = train[train.TripType == triptypelist[24]]\n",
    "type_24_items = type_24[[\"TripType\",\"DepartmentDescription\"]]\n",
    "plt.figure(figsize=(15,2))\n",
    "type_24_items.DepartmentDescription.value_counts().head(10).plot(kind=\"bar\", rot=15, title=\"TripType {}\".format(triptypelist[24]), color=\"orange\")\n",
    "plt.show()\n",
    "print(list(description.values())[24])\n",
    "print(\" \")"
   ]
  },
  {
   "cell_type": "markdown",
   "metadata": {
    "slideshow": {
     "slide_type": "slide"
    }
   },
   "source": [
    "# 3-2.  `MENSWEAR` 와 `MENS WEAR`는 같은 값이므로 `MENSWEAR`로 합쳐줍니다."
   ]
  },
  {
   "cell_type": "code",
   "execution_count": 27,
   "metadata": {
    "slideshow": {
     "slide_type": "skip"
    }
   },
   "outputs": [
    {
     "data": {
      "text/plain": [
       "68"
      ]
     },
     "execution_count": 27,
     "metadata": {},
     "output_type": "execute_result"
    }
   ],
   "source": [
    "# len(train[\"DepartmentDescription\"].unique().tolist())\n",
    "# train = train.replace('MENSWEAR', 'MENS WEAR')\n",
    "# test = test.replace('MENSWEAR', 'MENS WEAR')"
   ]
  },
  {
   "cell_type": "markdown",
   "metadata": {
    "slideshow": {
     "slide_type": "slide"
    }
   },
   "source": [
    "# 3-3. `TripType` 별 `DepartmentDescription` 분포"
   ]
  },
  {
   "cell_type": "code",
   "execution_count": 28,
   "metadata": {
    "slideshow": {
     "slide_type": "slide"
    }
   },
   "outputs": [
    {
     "data": {
      "image/png": "[encoded data removed]",
      "text/plain": [
       "<Figure size 1152x576 with 2 Axes>"
      ]
     },
     "metadata": {
      "image/png": {
       "height": 670,
       "width": 872
      },
      "needs_background": "light"
     },
     "output_type": "display_data"
    }
   ],
   "source": [
    "triptype_desc = pd.crosstab(train[\"TripType\"], \n",
    "                        train[\"DepartmentDescription\"], \n",
    "                        values=train[\"ScanCount\"], \n",
    "                        aggfunc=\"count\", \n",
    "                        normalize=\"index\")\n",
    "\n",
    "plt.figure(figsize=(16, 8))\n",
    "sns.heatmap(triptype_desc, linecolor=\"lightgrey\", linewidths=0.02, cmap=\"pink\", alpha=1)\n",
    "plt.title(\"TripType별로 살펴본 Department 분포\", fontsize=15)\n",
    "plt.show()"
   ]
  },
  {
   "cell_type": "markdown",
   "metadata": {
    "slideshow": {
     "slide_type": "fragment"
    }
   },
   "source": [
    "## 한 고객 특성에서 하나의 물품 종류만을 구매하는것이 아니라는걸 확인할 수 있습니다."
   ]
  },
  {
   "cell_type": "markdown",
   "metadata": {
    "slideshow": {
     "slide_type": "slide"
    }
   },
   "source": [
    "# 3-4. `DepartmentDescription`, `FinelineNumber`의 관계"
   ]
  },
  {
   "cell_type": "markdown",
   "metadata": {
    "slideshow": {
     "slide_type": "fragment"
    }
   },
   "source": [
    "###  `FinelineNumber`이 nan일 경우, `Upc`가 함께 nan이며 `DepartmentDescription`는 nan 혹은 `PHARMACY RX`입니다."
   ]
  },
  {
   "cell_type": "code",
   "execution_count": 29,
   "metadata": {
    "scrolled": true,
    "slideshow": {
     "slide_type": "fragment"
    }
   },
   "outputs": [
    {
     "data": {
      "text/plain": [
       "TripType                    0\n",
       "VisitNumber                 0\n",
       "Weekday                     0\n",
       "Upc                      4129\n",
       "ScanCount                   0\n",
       "DepartmentDescription    1361\n",
       "FinelineNumber           4129\n",
       "dtype: int64"
      ]
     },
     "execution_count": 29,
     "metadata": {},
     "output_type": "execute_result"
    }
   ],
   "source": [
    "train.isna().sum()"
   ]
  },
  {
   "cell_type": "markdown",
   "metadata": {
    "slideshow": {
     "slide_type": "slide"
    }
   },
   "source": [
    "# 3-4. pos_sum, neg_sum, return 컬럼 생성"
   ]
  },
  {
   "cell_type": "code",
   "execution_count": 30,
   "metadata": {
    "slideshow": {
     "slide_type": "fragment"
    }
   },
   "outputs": [],
   "source": [
    "train.loc[train[\"ScanCount\"] < 0, \"Return\"] = 1\n",
    "train.loc[train[\"Return\"] != 1, \"Return\"] = 0\n",
    "\n",
    "test.loc[test[\"ScanCount\"] < 0, \"Return\"] = 1\n",
    "test.loc[test[\"Return\"] != 1, \"Return\"] = 0"
   ]
  },
  {
   "cell_type": "code",
   "execution_count": 31,
   "metadata": {
    "slideshow": {
     "slide_type": "fragment"
    }
   },
   "outputs": [],
   "source": [
    "train[\"Pos_Sum\"] = train[\"ScanCount\"]\n",
    "test[\"Pos_Sum\"] = test[\"ScanCount\"]\n",
    "\n",
    "train.loc[train[\"Pos_Sum\"] < 0, \"Pos_Sum\"] = 0\n",
    "test.loc[test[\"Pos_Sum\"] < 0, \"Pos_Sum\"] = 0"
   ]
  },
  {
   "cell_type": "code",
   "execution_count": 32,
   "metadata": {
    "slideshow": {
     "slide_type": "fragment"
    }
   },
   "outputs": [],
   "source": [
    "train[\"Neg_Sum\"] = train[\"ScanCount\"]\n",
    "test[\"Neg_Sum\"] = test[\"ScanCount\"]\n",
    "\n",
    "train.loc[train[\"Neg_Sum\"] > 0, \"Neg_Sum\"] = 0\n",
    "test.loc[test[\"Neg_Sum\"] > 0, \"Neg_Sum\"] = 0"
   ]
  },
  {
   "cell_type": "code",
   "execution_count": 33,
   "metadata": {
    "slideshow": {
     "slide_type": "fragment"
    }
   },
   "outputs": [
    {
     "data": {
      "text/html": [
       "<div>\n",
       "<style scoped>\n",
       "    .dataframe tbody tr th:only-of-type {\n",
       "        vertical-align: middle;\n",
       "    }\n",
       "\n",
       "    .dataframe tbody tr th {\n",
       "        vertical-align: top;\n",
       "    }\n",
       "\n",
       "    .dataframe thead th {\n",
       "        text-align: right;\n",
       "    }\n",
       "</style>\n",
       "<table border=\"1\" class=\"dataframe\">\n",
       "  <thead>\n",
       "    <tr style=\"text-align: right;\">\n",
       "      <th></th>\n",
       "      <th>TripType</th>\n",
       "      <th>VisitNumber</th>\n",
       "      <th>Weekday</th>\n",
       "      <th>Upc</th>\n",
       "      <th>ScanCount</th>\n",
       "      <th>DepartmentDescription</th>\n",
       "      <th>FinelineNumber</th>\n",
       "      <th>Return</th>\n",
       "      <th>Pos_Sum</th>\n",
       "      <th>Neg_Sum</th>\n",
       "    </tr>\n",
       "  </thead>\n",
       "  <tbody>\n",
       "    <tr>\n",
       "      <th>0</th>\n",
       "      <td>999</td>\n",
       "      <td>5</td>\n",
       "      <td>Friday</td>\n",
       "      <td>6.811315e+10</td>\n",
       "      <td>-1</td>\n",
       "      <td>FINANCIAL SERVICES</td>\n",
       "      <td>1000.0</td>\n",
       "      <td>1.0</td>\n",
       "      <td>0</td>\n",
       "      <td>-1</td>\n",
       "    </tr>\n",
       "    <tr>\n",
       "      <th>1</th>\n",
       "      <td>30</td>\n",
       "      <td>7</td>\n",
       "      <td>Friday</td>\n",
       "      <td>6.053882e+10</td>\n",
       "      <td>1</td>\n",
       "      <td>SHOES</td>\n",
       "      <td>8931.0</td>\n",
       "      <td>0.0</td>\n",
       "      <td>1</td>\n",
       "      <td>0</td>\n",
       "    </tr>\n",
       "    <tr>\n",
       "      <th>2</th>\n",
       "      <td>30</td>\n",
       "      <td>7</td>\n",
       "      <td>Friday</td>\n",
       "      <td>7.410811e+09</td>\n",
       "      <td>1</td>\n",
       "      <td>PERSONAL CARE</td>\n",
       "      <td>4504.0</td>\n",
       "      <td>0.0</td>\n",
       "      <td>1</td>\n",
       "      <td>0</td>\n",
       "    </tr>\n",
       "    <tr>\n",
       "      <th>3</th>\n",
       "      <td>26</td>\n",
       "      <td>8</td>\n",
       "      <td>Friday</td>\n",
       "      <td>2.238404e+09</td>\n",
       "      <td>2</td>\n",
       "      <td>PAINT AND ACCESSORIES</td>\n",
       "      <td>3565.0</td>\n",
       "      <td>0.0</td>\n",
       "      <td>2</td>\n",
       "      <td>0</td>\n",
       "    </tr>\n",
       "    <tr>\n",
       "      <th>4</th>\n",
       "      <td>26</td>\n",
       "      <td>8</td>\n",
       "      <td>Friday</td>\n",
       "      <td>2.006614e+09</td>\n",
       "      <td>2</td>\n",
       "      <td>PAINT AND ACCESSORIES</td>\n",
       "      <td>1017.0</td>\n",
       "      <td>0.0</td>\n",
       "      <td>2</td>\n",
       "      <td>0</td>\n",
       "    </tr>\n",
       "  </tbody>\n",
       "</table>\n",
       "</div>"
      ],
      "text/plain": [
       "   TripType  VisitNumber Weekday           Upc  ScanCount  \\\n",
       "0       999            5  Friday  6.811315e+10         -1   \n",
       "1        30            7  Friday  6.053882e+10          1   \n",
       "2        30            7  Friday  7.410811e+09          1   \n",
       "3        26            8  Friday  2.238404e+09          2   \n",
       "4        26            8  Friday  2.006614e+09          2   \n",
       "\n",
       "   DepartmentDescription  FinelineNumber  Return  Pos_Sum  Neg_Sum  \n",
       "0     FINANCIAL SERVICES          1000.0     1.0        0       -1  \n",
       "1                  SHOES          8931.0     0.0        1        0  \n",
       "2          PERSONAL CARE          4504.0     0.0        1        0  \n",
       "3  PAINT AND ACCESSORIES          3565.0     0.0        2        0  \n",
       "4  PAINT AND ACCESSORIES          1017.0     0.0        2        0  "
      ]
     },
     "execution_count": 33,
     "metadata": {},
     "output_type": "execute_result"
    }
   ],
   "source": [
    "train.head()"
   ]
  },
  {
   "cell_type": "markdown",
   "metadata": {
    "slideshow": {
     "slide_type": "slide"
    }
   },
   "source": [
    "# 3-5. UPC와 관련한 특징을 만듭니다."
   ]
  },
  {
   "cell_type": "code",
   "execution_count": 34,
   "metadata": {
    "slideshow": {
     "slide_type": "skip"
    }
   },
   "outputs": [],
   "source": [
    "def float_to_str(obj):\n",
    "    \"\"\"\n",
    "    Convert Upc code from float to string\n",
    "    Use this function by applying lambda\n",
    "    :param obj: \"Upc\" column of DataFrame\n",
    "    :return: string converted Upc removing dot.\n",
    "    \"\"\"\n",
    "    while obj != \"nan\":\n",
    "        obj = str(obj).split(\".\")[0]\n",
    "        return obj"
   ]
  },
  {
   "cell_type": "code",
   "execution_count": 35,
   "metadata": {
    "slideshow": {
     "slide_type": "skip"
    }
   },
   "outputs": [],
   "source": [
    "\n",
    "def company(x):\n",
    "    \"\"\"\n",
    "    Return company code from given Upc code.\n",
    "    :param x: \"Upc\" column of DataFrame\n",
    "    :return: company code\n",
    "    \"\"\"\n",
    "    try:\n",
    "        p = x[:6]\n",
    "        if p == \"000000\":\n",
    "            return x[-5]\n",
    "        return p\n",
    "    except:\n",
    "        return -9999"
   ]
  },
  {
   "cell_type": "code",
   "execution_count": 36,
   "metadata": {
    "slideshow": {
     "slide_type": "slide"
    }
   },
   "outputs": [],
   "source": [
    "train[\"Upc\"] = train.Upc.apply(float_to_str)\n",
    "test[\"Upc\"] = test.Upc.apply(float_to_str)\n",
    "\n",
    "train[\"company\"] = train.Upc.apply(company) \n",
    "test[\"company\"] = test.Upc.apply(company)"
   ]
  },
  {
   "cell_type": "markdown",
   "metadata": {},
   "source": [
    "Upc에 포함되어있는 회사정보를 추출합니다."
   ]
  },
  {
   "cell_type": "code",
   "execution_count": 38,
   "metadata": {
    "scrolled": false,
    "slideshow": {
     "slide_type": "fragment"
    }
   },
   "outputs": [
    {
     "data": {
      "text/html": [
       "<div>\n",
       "<style scoped>\n",
       "    .dataframe tbody tr th:only-of-type {\n",
       "        vertical-align: middle;\n",
       "    }\n",
       "\n",
       "    .dataframe tbody tr th {\n",
       "        vertical-align: top;\n",
       "    }\n",
       "\n",
       "    .dataframe thead th {\n",
       "        text-align: right;\n",
       "    }\n",
       "</style>\n",
       "<table border=\"1\" class=\"dataframe\">\n",
       "  <thead>\n",
       "    <tr style=\"text-align: right;\">\n",
       "      <th></th>\n",
       "      <th>TripType</th>\n",
       "      <th>VisitNumber</th>\n",
       "      <th>Weekday</th>\n",
       "      <th>Upc</th>\n",
       "      <th>ScanCount</th>\n",
       "      <th>DepartmentDescription</th>\n",
       "      <th>FinelineNumber</th>\n",
       "      <th>Return</th>\n",
       "      <th>Pos_Sum</th>\n",
       "      <th>Neg_Sum</th>\n",
       "      <th>company</th>\n",
       "    </tr>\n",
       "  </thead>\n",
       "  <tbody>\n",
       "    <tr>\n",
       "      <th>647049</th>\n",
       "      <td>39</td>\n",
       "      <td>191346</td>\n",
       "      <td>Sunday</td>\n",
       "      <td>32390001778</td>\n",
       "      <td>1</td>\n",
       "      <td>PHARMACY OTC</td>\n",
       "      <td>1118.0</td>\n",
       "      <td>0.0</td>\n",
       "      <td>1</td>\n",
       "      <td>0</td>\n",
       "      <td>323900</td>\n",
       "    </tr>\n",
       "    <tr>\n",
       "      <th>647050</th>\n",
       "      <td>39</td>\n",
       "      <td>191346</td>\n",
       "      <td>Sunday</td>\n",
       "      <td>7874205336</td>\n",
       "      <td>1</td>\n",
       "      <td>FROZEN FOODS</td>\n",
       "      <td>1752.0</td>\n",
       "      <td>0.0</td>\n",
       "      <td>1</td>\n",
       "      <td>0</td>\n",
       "      <td>787420</td>\n",
       "    </tr>\n",
       "    <tr>\n",
       "      <th>647051</th>\n",
       "      <td>39</td>\n",
       "      <td>191346</td>\n",
       "      <td>Sunday</td>\n",
       "      <td>4072</td>\n",
       "      <td>1</td>\n",
       "      <td>PRODUCE</td>\n",
       "      <td>4170.0</td>\n",
       "      <td>0.0</td>\n",
       "      <td>1</td>\n",
       "      <td>0</td>\n",
       "      <td>4072</td>\n",
       "    </tr>\n",
       "    <tr>\n",
       "      <th>647052</th>\n",
       "      <td>8</td>\n",
       "      <td>191347</td>\n",
       "      <td>Sunday</td>\n",
       "      <td>4190007664</td>\n",
       "      <td>1</td>\n",
       "      <td>DAIRY</td>\n",
       "      <td>1512.0</td>\n",
       "      <td>0.0</td>\n",
       "      <td>1</td>\n",
       "      <td>0</td>\n",
       "      <td>419000</td>\n",
       "    </tr>\n",
       "    <tr>\n",
       "      <th>647053</th>\n",
       "      <td>8</td>\n",
       "      <td>191347</td>\n",
       "      <td>Sunday</td>\n",
       "      <td>3800059655</td>\n",
       "      <td>1</td>\n",
       "      <td>GROCERY DRY GOODS</td>\n",
       "      <td>3600.0</td>\n",
       "      <td>0.0</td>\n",
       "      <td>1</td>\n",
       "      <td>0</td>\n",
       "      <td>380005</td>\n",
       "    </tr>\n",
       "  </tbody>\n",
       "</table>\n",
       "</div>"
      ],
      "text/plain": [
       "        TripType  VisitNumber Weekday          Upc  ScanCount  \\\n",
       "647049        39       191346  Sunday  32390001778          1   \n",
       "647050        39       191346  Sunday   7874205336          1   \n",
       "647051        39       191346  Sunday         4072          1   \n",
       "647052         8       191347  Sunday   4190007664          1   \n",
       "647053         8       191347  Sunday   3800059655          1   \n",
       "\n",
       "       DepartmentDescription  FinelineNumber  Return  Pos_Sum  Neg_Sum company  \n",
       "647049          PHARMACY OTC          1118.0     0.0        1        0  323900  \n",
       "647050          FROZEN FOODS          1752.0     0.0        1        0  787420  \n",
       "647051               PRODUCE          4170.0     0.0        1        0    4072  \n",
       "647052                 DAIRY          1512.0     0.0        1        0  419000  \n",
       "647053     GROCERY DRY GOODS          3600.0     0.0        1        0  380005  "
      ]
     },
     "execution_count": 38,
     "metadata": {},
     "output_type": "execute_result"
    }
   ],
   "source": [
    "train.tail()"
   ]
  },
  {
   "cell_type": "code",
   "execution_count": 46,
   "metadata": {},
   "outputs": [
    {
     "data": {
      "text/html": [
       "<div>\n",
       "<style scoped>\n",
       "    .dataframe tbody tr th:only-of-type {\n",
       "        vertical-align: middle;\n",
       "    }\n",
       "\n",
       "    .dataframe tbody tr th {\n",
       "        vertical-align: top;\n",
       "    }\n",
       "\n",
       "    .dataframe thead th {\n",
       "        text-align: right;\n",
       "    }\n",
       "</style>\n",
       "<table border=\"1\" class=\"dataframe\">\n",
       "  <thead>\n",
       "    <tr style=\"text-align: right;\">\n",
       "      <th>company</th>\n",
       "      <th>100866</th>\n",
       "      <th>101644</th>\n",
       "      <th>101645</th>\n",
       "      <th>101810</th>\n",
       "      <th>101811</th>\n",
       "      <th>101990</th>\n",
       "      <th>101991</th>\n",
       "      <th>102735</th>\n",
       "      <th>102791</th>\n",
       "      <th>102797</th>\n",
       "      <th>...</th>\n",
       "      <th>9899</th>\n",
       "      <th>993389</th>\n",
       "      <th>995000</th>\n",
       "      <th>995550</th>\n",
       "      <th>995551</th>\n",
       "      <th>996062</th>\n",
       "      <th>998000</th>\n",
       "      <th>999239</th>\n",
       "      <th>999880</th>\n",
       "      <th>None</th>\n",
       "    </tr>\n",
       "    <tr>\n",
       "      <th>VisitNumber</th>\n",
       "      <th></th>\n",
       "      <th></th>\n",
       "      <th></th>\n",
       "      <th></th>\n",
       "      <th></th>\n",
       "      <th></th>\n",
       "      <th></th>\n",
       "      <th></th>\n",
       "      <th></th>\n",
       "      <th></th>\n",
       "      <th></th>\n",
       "      <th></th>\n",
       "      <th></th>\n",
       "      <th></th>\n",
       "      <th></th>\n",
       "      <th></th>\n",
       "      <th></th>\n",
       "      <th></th>\n",
       "      <th></th>\n",
       "      <th></th>\n",
       "      <th></th>\n",
       "    </tr>\n",
       "  </thead>\n",
       "  <tbody>\n",
       "    <tr>\n",
       "      <th>191343</th>\n",
       "      <td>False</td>\n",
       "      <td>False</td>\n",
       "      <td>False</td>\n",
       "      <td>False</td>\n",
       "      <td>False</td>\n",
       "      <td>False</td>\n",
       "      <td>False</td>\n",
       "      <td>False</td>\n",
       "      <td>False</td>\n",
       "      <td>False</td>\n",
       "      <td>...</td>\n",
       "      <td>False</td>\n",
       "      <td>False</td>\n",
       "      <td>False</td>\n",
       "      <td>False</td>\n",
       "      <td>False</td>\n",
       "      <td>False</td>\n",
       "      <td>False</td>\n",
       "      <td>False</td>\n",
       "      <td>False</td>\n",
       "      <td>False</td>\n",
       "    </tr>\n",
       "    <tr>\n",
       "      <th>191344</th>\n",
       "      <td>False</td>\n",
       "      <td>False</td>\n",
       "      <td>False</td>\n",
       "      <td>False</td>\n",
       "      <td>False</td>\n",
       "      <td>False</td>\n",
       "      <td>False</td>\n",
       "      <td>False</td>\n",
       "      <td>False</td>\n",
       "      <td>False</td>\n",
       "      <td>...</td>\n",
       "      <td>False</td>\n",
       "      <td>False</td>\n",
       "      <td>False</td>\n",
       "      <td>False</td>\n",
       "      <td>False</td>\n",
       "      <td>False</td>\n",
       "      <td>False</td>\n",
       "      <td>False</td>\n",
       "      <td>False</td>\n",
       "      <td>False</td>\n",
       "    </tr>\n",
       "    <tr>\n",
       "      <th>191345</th>\n",
       "      <td>False</td>\n",
       "      <td>False</td>\n",
       "      <td>False</td>\n",
       "      <td>False</td>\n",
       "      <td>False</td>\n",
       "      <td>False</td>\n",
       "      <td>False</td>\n",
       "      <td>False</td>\n",
       "      <td>False</td>\n",
       "      <td>False</td>\n",
       "      <td>...</td>\n",
       "      <td>False</td>\n",
       "      <td>False</td>\n",
       "      <td>False</td>\n",
       "      <td>False</td>\n",
       "      <td>False</td>\n",
       "      <td>False</td>\n",
       "      <td>False</td>\n",
       "      <td>False</td>\n",
       "      <td>False</td>\n",
       "      <td>False</td>\n",
       "    </tr>\n",
       "    <tr>\n",
       "      <th>191346</th>\n",
       "      <td>False</td>\n",
       "      <td>False</td>\n",
       "      <td>False</td>\n",
       "      <td>False</td>\n",
       "      <td>False</td>\n",
       "      <td>False</td>\n",
       "      <td>False</td>\n",
       "      <td>False</td>\n",
       "      <td>False</td>\n",
       "      <td>False</td>\n",
       "      <td>...</td>\n",
       "      <td>False</td>\n",
       "      <td>False</td>\n",
       "      <td>False</td>\n",
       "      <td>False</td>\n",
       "      <td>False</td>\n",
       "      <td>False</td>\n",
       "      <td>False</td>\n",
       "      <td>False</td>\n",
       "      <td>False</td>\n",
       "      <td>False</td>\n",
       "    </tr>\n",
       "    <tr>\n",
       "      <th>191347</th>\n",
       "      <td>False</td>\n",
       "      <td>False</td>\n",
       "      <td>False</td>\n",
       "      <td>False</td>\n",
       "      <td>False</td>\n",
       "      <td>False</td>\n",
       "      <td>False</td>\n",
       "      <td>False</td>\n",
       "      <td>False</td>\n",
       "      <td>False</td>\n",
       "      <td>...</td>\n",
       "      <td>False</td>\n",
       "      <td>False</td>\n",
       "      <td>False</td>\n",
       "      <td>False</td>\n",
       "      <td>False</td>\n",
       "      <td>False</td>\n",
       "      <td>False</td>\n",
       "      <td>False</td>\n",
       "      <td>False</td>\n",
       "      <td>False</td>\n",
       "    </tr>\n",
       "  </tbody>\n",
       "</table>\n",
       "<p>5 rows × 9097 columns</p>\n",
       "</div>"
      ],
      "text/plain": [
       "company      100866  101644  101645  101810  101811  101990  101991  102735  \\\n",
       "VisitNumber                                                                   \n",
       "191343        False   False   False   False   False   False   False   False   \n",
       "191344        False   False   False   False   False   False   False   False   \n",
       "191345        False   False   False   False   False   False   False   False   \n",
       "191346        False   False   False   False   False   False   False   False   \n",
       "191347        False   False   False   False   False   False   False   False   \n",
       "\n",
       "company      102791  102797  ...     9899  993389  995000  995550  995551  \\\n",
       "VisitNumber                  ...                                            \n",
       "191343        False   False  ...    False   False   False   False   False   \n",
       "191344        False   False  ...    False   False   False   False   False   \n",
       "191345        False   False  ...    False   False   False   False   False   \n",
       "191346        False   False  ...    False   False   False   False   False   \n",
       "191347        False   False  ...    False   False   False   False   False   \n",
       "\n",
       "company      996062  998000  999239  999880   None  \n",
       "VisitNumber                                         \n",
       "191343        False   False   False   False  False  \n",
       "191344        False   False   False   False  False  \n",
       "191345        False   False   False   False  False  \n",
       "191346        False   False   False   False  False  \n",
       "191347        False   False   False   False  False  \n",
       "\n",
       "[5 rows x 9097 columns]"
      ]
     },
     "execution_count": 46,
     "metadata": {},
     "output_type": "execute_result"
    }
   ],
   "source": [
    "train[\"Upc\"] = train.Upc.apply(float_to_str)\n",
    "train[\"company\"] = train.Upc.apply(company) \n",
    "train_com = train.loc[:, ['VisitNumber', 'company']].drop_duplicates()\n",
    "train_com['val'] = True\n",
    "train_company = train_com.pivot('VisitNumber', 'company', 'val').fillna(False)\n",
    "train_company.tail()"
   ]
  },
  {
   "cell_type": "code",
   "execution_count": 47,
   "metadata": {},
   "outputs": [],
   "source": [
    "\n",
    "test[\"Upc\"] = test.Upc.apply(float_to_str)\n",
    "test[\"company\"] = test.Upc.apply(company)\n",
    "\n",
    "test_com = test.loc[:, ['VisitNumber', 'company']].drop_duplicates()\n",
    "test_com['val'] = True\n",
    "test_company = test_com.pivot('VisitNumber', 'company', 'val').fillna(False)\n"
   ]
  },
  {
   "cell_type": "code",
   "execution_count": 48,
   "metadata": {
    "slideshow": {
     "slide_type": "fragment"
    }
   },
   "outputs": [],
   "source": [
    "train_upc_fine = train[[\"VisitNumber\", \"Upc\"]]\n",
    "test_upc_fine = test[[\"VisitNumber\", \"Upc\"]]\n",
    "\n",
    "train_upc_fine[\"Upc\"] = train_upc_fine.Upc.apply(float_to_str)\n",
    "test_upc_fine[\"Upc\"] = test_upc_fine.Upc.apply(float_to_str)\n",
    "\n",
    "train_upc_fine[\"len_of_UPC\"] = train_upc_fine[\"Upc\"].apply(lambda x: len(x))\n",
    "test_upc_fine[\"len_of_UPC\"] = test_upc_fine[\"Upc\"].apply(lambda x: len(x))\n",
    "\n",
    "train_UPC = pd.get_dummies(train_upc_fine[\"len_of_UPC\"])\n",
    "train_UPC = pd.concat([train[[\"VisitNumber\"]], train_UPC], axis=1)\n",
    "train_UPC = train_UPC.groupby(\"VisitNumber\", as_index=False).sum()\n",
    "\n",
    "test_UPC = pd.get_dummies(test_upc_fine[\"len_of_UPC\"])\n",
    "test_UPC = pd.concat([test[[\"VisitNumber\"]], test_UPC], axis=1)\n",
    "test_UPC = test_UPC.groupby(\"VisitNumber\", as_index=False).sum()"
   ]
  },
  {
   "cell_type": "code",
   "execution_count": 49,
   "metadata": {},
   "outputs": [
    {
     "data": {
      "text/html": [
       "<div>\n",
       "<style scoped>\n",
       "    .dataframe tbody tr th:only-of-type {\n",
       "        vertical-align: middle;\n",
       "    }\n",
       "\n",
       "    .dataframe tbody tr th {\n",
       "        vertical-align: top;\n",
       "    }\n",
       "\n",
       "    .dataframe thead th {\n",
       "        text-align: right;\n",
       "    }\n",
       "</style>\n",
       "<table border=\"1\" class=\"dataframe\">\n",
       "  <thead>\n",
       "    <tr style=\"text-align: right;\">\n",
       "      <th></th>\n",
       "      <th>VisitNumber</th>\n",
       "      <th>Upc</th>\n",
       "      <th>len_of_UPC</th>\n",
       "    </tr>\n",
       "  </thead>\n",
       "  <tbody>\n",
       "    <tr>\n",
       "      <th>647049</th>\n",
       "      <td>191346</td>\n",
       "      <td>32390001778</td>\n",
       "      <td>11</td>\n",
       "    </tr>\n",
       "    <tr>\n",
       "      <th>647050</th>\n",
       "      <td>191346</td>\n",
       "      <td>7874205336</td>\n",
       "      <td>10</td>\n",
       "    </tr>\n",
       "    <tr>\n",
       "      <th>647051</th>\n",
       "      <td>191346</td>\n",
       "      <td>4072</td>\n",
       "      <td>4</td>\n",
       "    </tr>\n",
       "    <tr>\n",
       "      <th>647052</th>\n",
       "      <td>191347</td>\n",
       "      <td>4190007664</td>\n",
       "      <td>10</td>\n",
       "    </tr>\n",
       "    <tr>\n",
       "      <th>647053</th>\n",
       "      <td>191347</td>\n",
       "      <td>3800059655</td>\n",
       "      <td>10</td>\n",
       "    </tr>\n",
       "  </tbody>\n",
       "</table>\n",
       "</div>"
      ],
      "text/plain": [
       "        VisitNumber          Upc  len_of_UPC\n",
       "647049       191346  32390001778          11\n",
       "647050       191346   7874205336          10\n",
       "647051       191346         4072           4\n",
       "647052       191347   4190007664          10\n",
       "647053       191347   3800059655          10"
      ]
     },
     "execution_count": 49,
     "metadata": {},
     "output_type": "execute_result"
    }
   ],
   "source": [
    "train_upc_fine.tail()"
   ]
  },
  {
   "cell_type": "code",
   "execution_count": 50,
   "metadata": {
    "slideshow": {
     "slide_type": "fragment"
    }
   },
   "outputs": [
    {
     "data": {
      "text/html": [
       "<div>\n",
       "<style scoped>\n",
       "    .dataframe tbody tr th:only-of-type {\n",
       "        vertical-align: middle;\n",
       "    }\n",
       "\n",
       "    .dataframe tbody tr th {\n",
       "        vertical-align: top;\n",
       "    }\n",
       "\n",
       "    .dataframe thead th {\n",
       "        text-align: right;\n",
       "    }\n",
       "</style>\n",
       "<table border=\"1\" class=\"dataframe\">\n",
       "  <thead>\n",
       "    <tr style=\"text-align: right;\">\n",
       "      <th></th>\n",
       "      <th>VisitNumber</th>\n",
       "      <th>3</th>\n",
       "      <th>4</th>\n",
       "      <th>5</th>\n",
       "      <th>7</th>\n",
       "      <th>8</th>\n",
       "      <th>9</th>\n",
       "      <th>10</th>\n",
       "      <th>11</th>\n",
       "      <th>12</th>\n",
       "    </tr>\n",
       "  </thead>\n",
       "  <tbody>\n",
       "    <tr>\n",
       "      <th>95669</th>\n",
       "      <td>191343</td>\n",
       "      <td>0</td>\n",
       "      <td>0</td>\n",
       "      <td>0</td>\n",
       "      <td>0</td>\n",
       "      <td>0</td>\n",
       "      <td>0</td>\n",
       "      <td>2</td>\n",
       "      <td>5</td>\n",
       "      <td>0</td>\n",
       "    </tr>\n",
       "    <tr>\n",
       "      <th>95670</th>\n",
       "      <td>191344</td>\n",
       "      <td>0</td>\n",
       "      <td>0</td>\n",
       "      <td>0</td>\n",
       "      <td>0</td>\n",
       "      <td>0</td>\n",
       "      <td>0</td>\n",
       "      <td>3</td>\n",
       "      <td>2</td>\n",
       "      <td>0</td>\n",
       "    </tr>\n",
       "    <tr>\n",
       "      <th>95671</th>\n",
       "      <td>191345</td>\n",
       "      <td>0</td>\n",
       "      <td>0</td>\n",
       "      <td>0</td>\n",
       "      <td>0</td>\n",
       "      <td>0</td>\n",
       "      <td>0</td>\n",
       "      <td>11</td>\n",
       "      <td>2</td>\n",
       "      <td>0</td>\n",
       "    </tr>\n",
       "    <tr>\n",
       "      <th>95672</th>\n",
       "      <td>191346</td>\n",
       "      <td>0</td>\n",
       "      <td>1</td>\n",
       "      <td>0</td>\n",
       "      <td>0</td>\n",
       "      <td>0</td>\n",
       "      <td>0</td>\n",
       "      <td>15</td>\n",
       "      <td>1</td>\n",
       "      <td>0</td>\n",
       "    </tr>\n",
       "    <tr>\n",
       "      <th>95673</th>\n",
       "      <td>191347</td>\n",
       "      <td>0</td>\n",
       "      <td>0</td>\n",
       "      <td>0</td>\n",
       "      <td>0</td>\n",
       "      <td>0</td>\n",
       "      <td>0</td>\n",
       "      <td>2</td>\n",
       "      <td>0</td>\n",
       "      <td>0</td>\n",
       "    </tr>\n",
       "  </tbody>\n",
       "</table>\n",
       "</div>"
      ],
      "text/plain": [
       "       VisitNumber  3  4  5  7  8  9  10  11  12\n",
       "95669       191343  0  0  0  0  0  0   2   5   0\n",
       "95670       191344  0  0  0  0  0  0   3   2   0\n",
       "95671       191345  0  0  0  0  0  0  11   2   0\n",
       "95672       191346  0  1  0  0  0  0  15   1   0\n",
       "95673       191347  0  0  0  0  0  0   2   0   0"
      ]
     },
     "execution_count": 50,
     "metadata": {},
     "output_type": "execute_result"
    }
   ],
   "source": [
    "train_UPC.tail()"
   ]
  },
  {
   "cell_type": "markdown",
   "metadata": {
    "slideshow": {
     "slide_type": "slide"
    }
   },
   "source": [
    "# 3-6. Fineline을 모두 쪼개준다."
   ]
  },
  {
   "cell_type": "code",
   "execution_count": 51,
   "metadata": {
    "slideshow": {
     "slide_type": "fragment"
    }
   },
   "outputs": [],
   "source": [
    "train_FL = pd.get_dummies(train[\"FinelineNumber\"])\n",
    "test_FL = pd.get_dummies(test[\"FinelineNumber\"])\n",
    "\n",
    "train_FL = pd.concat([train[[\"VisitNumber\"]], train_FL], axis=1)\n",
    "test_FL = pd.concat([test[[\"VisitNumber\"]], test_FL], axis=1)"
   ]
  },
  {
   "cell_type": "code",
   "execution_count": 52,
   "metadata": {
    "scrolled": true,
    "slideshow": {
     "slide_type": "fragment"
    }
   },
   "outputs": [
    {
     "data": {
      "text/html": [
       "<div>\n",
       "<style scoped>\n",
       "    .dataframe tbody tr th:only-of-type {\n",
       "        vertical-align: middle;\n",
       "    }\n",
       "\n",
       "    .dataframe tbody tr th {\n",
       "        vertical-align: top;\n",
       "    }\n",
       "\n",
       "    .dataframe thead th {\n",
       "        text-align: right;\n",
       "    }\n",
       "</style>\n",
       "<table border=\"1\" class=\"dataframe\">\n",
       "  <thead>\n",
       "    <tr style=\"text-align: right;\">\n",
       "      <th></th>\n",
       "      <th>VisitNumber</th>\n",
       "      <th>0.0</th>\n",
       "      <th>1.0</th>\n",
       "      <th>2.0</th>\n",
       "      <th>3.0</th>\n",
       "      <th>4.0</th>\n",
       "      <th>5.0</th>\n",
       "      <th>6.0</th>\n",
       "      <th>7.0</th>\n",
       "      <th>8.0</th>\n",
       "      <th>...</th>\n",
       "      <th>9964.0</th>\n",
       "      <th>9966.0</th>\n",
       "      <th>9967.0</th>\n",
       "      <th>9970.0</th>\n",
       "      <th>9971.0</th>\n",
       "      <th>9974.0</th>\n",
       "      <th>9975.0</th>\n",
       "      <th>9991.0</th>\n",
       "      <th>9997.0</th>\n",
       "      <th>9998.0</th>\n",
       "    </tr>\n",
       "  </thead>\n",
       "  <tbody>\n",
       "    <tr>\n",
       "      <th>95669</th>\n",
       "      <td>191343</td>\n",
       "      <td>0</td>\n",
       "      <td>0</td>\n",
       "      <td>0</td>\n",
       "      <td>0</td>\n",
       "      <td>0</td>\n",
       "      <td>0</td>\n",
       "      <td>0</td>\n",
       "      <td>0</td>\n",
       "      <td>0</td>\n",
       "      <td>...</td>\n",
       "      <td>0</td>\n",
       "      <td>0</td>\n",
       "      <td>0</td>\n",
       "      <td>0</td>\n",
       "      <td>0</td>\n",
       "      <td>0</td>\n",
       "      <td>0</td>\n",
       "      <td>0</td>\n",
       "      <td>0</td>\n",
       "      <td>0</td>\n",
       "    </tr>\n",
       "    <tr>\n",
       "      <th>95670</th>\n",
       "      <td>191344</td>\n",
       "      <td>0</td>\n",
       "      <td>0</td>\n",
       "      <td>0</td>\n",
       "      <td>0</td>\n",
       "      <td>0</td>\n",
       "      <td>0</td>\n",
       "      <td>0</td>\n",
       "      <td>0</td>\n",
       "      <td>0</td>\n",
       "      <td>...</td>\n",
       "      <td>0</td>\n",
       "      <td>0</td>\n",
       "      <td>0</td>\n",
       "      <td>0</td>\n",
       "      <td>0</td>\n",
       "      <td>0</td>\n",
       "      <td>0</td>\n",
       "      <td>0</td>\n",
       "      <td>0</td>\n",
       "      <td>0</td>\n",
       "    </tr>\n",
       "    <tr>\n",
       "      <th>95671</th>\n",
       "      <td>191345</td>\n",
       "      <td>0</td>\n",
       "      <td>0</td>\n",
       "      <td>0</td>\n",
       "      <td>0</td>\n",
       "      <td>0</td>\n",
       "      <td>0</td>\n",
       "      <td>0</td>\n",
       "      <td>0</td>\n",
       "      <td>0</td>\n",
       "      <td>...</td>\n",
       "      <td>0</td>\n",
       "      <td>0</td>\n",
       "      <td>0</td>\n",
       "      <td>0</td>\n",
       "      <td>0</td>\n",
       "      <td>0</td>\n",
       "      <td>0</td>\n",
       "      <td>0</td>\n",
       "      <td>0</td>\n",
       "      <td>0</td>\n",
       "    </tr>\n",
       "    <tr>\n",
       "      <th>95672</th>\n",
       "      <td>191346</td>\n",
       "      <td>0</td>\n",
       "      <td>0</td>\n",
       "      <td>0</td>\n",
       "      <td>0</td>\n",
       "      <td>0</td>\n",
       "      <td>0</td>\n",
       "      <td>0</td>\n",
       "      <td>0</td>\n",
       "      <td>0</td>\n",
       "      <td>...</td>\n",
       "      <td>0</td>\n",
       "      <td>0</td>\n",
       "      <td>0</td>\n",
       "      <td>0</td>\n",
       "      <td>0</td>\n",
       "      <td>0</td>\n",
       "      <td>0</td>\n",
       "      <td>0</td>\n",
       "      <td>0</td>\n",
       "      <td>0</td>\n",
       "    </tr>\n",
       "    <tr>\n",
       "      <th>95673</th>\n",
       "      <td>191347</td>\n",
       "      <td>0</td>\n",
       "      <td>0</td>\n",
       "      <td>0</td>\n",
       "      <td>0</td>\n",
       "      <td>0</td>\n",
       "      <td>0</td>\n",
       "      <td>0</td>\n",
       "      <td>0</td>\n",
       "      <td>0</td>\n",
       "      <td>...</td>\n",
       "      <td>0</td>\n",
       "      <td>0</td>\n",
       "      <td>0</td>\n",
       "      <td>0</td>\n",
       "      <td>0</td>\n",
       "      <td>0</td>\n",
       "      <td>0</td>\n",
       "      <td>0</td>\n",
       "      <td>0</td>\n",
       "      <td>0</td>\n",
       "    </tr>\n",
       "  </tbody>\n",
       "</table>\n",
       "<p>5 rows × 5196 columns</p>\n",
       "</div>"
      ],
      "text/plain": [
       "       VisitNumber  0.0  1.0  2.0  3.0  4.0  5.0  6.0  7.0  8.0   ...    \\\n",
       "95669       191343    0    0    0    0    0    0    0    0    0   ...     \n",
       "95670       191344    0    0    0    0    0    0    0    0    0   ...     \n",
       "95671       191345    0    0    0    0    0    0    0    0    0   ...     \n",
       "95672       191346    0    0    0    0    0    0    0    0    0   ...     \n",
       "95673       191347    0    0    0    0    0    0    0    0    0   ...     \n",
       "\n",
       "       9964.0  9966.0  9967.0  9970.0  9971.0  9974.0  9975.0  9991.0  9997.0  \\\n",
       "95669       0       0       0       0       0       0       0       0       0   \n",
       "95670       0       0       0       0       0       0       0       0       0   \n",
       "95671       0       0       0       0       0       0       0       0       0   \n",
       "95672       0       0       0       0       0       0       0       0       0   \n",
       "95673       0       0       0       0       0       0       0       0       0   \n",
       "\n",
       "       9998.0  \n",
       "95669       0  \n",
       "95670       0  \n",
       "95671       0  \n",
       "95672       0  \n",
       "95673       0  \n",
       "\n",
       "[5 rows x 5196 columns]"
      ]
     },
     "execution_count": 52,
     "metadata": {},
     "output_type": "execute_result"
    }
   ],
   "source": [
    "train_FL = train_FL.groupby(\"VisitNumber\", as_index=False).sum()\n",
    "test_FL = test_FL.groupby(\"VisitNumber\", as_index=False).sum()\n",
    "train_FL.tail()"
   ]
  },
  {
   "cell_type": "markdown",
   "metadata": {
    "slideshow": {
     "slide_type": "slide"
    }
   },
   "source": [
    "# 3-7. Department Description과 관련한 특징을 만든다."
   ]
  },
  {
   "cell_type": "code",
   "execution_count": 53,
   "metadata": {
    "scrolled": true,
    "slideshow": {
     "slide_type": "fragment"
    }
   },
   "outputs": [],
   "source": [
    "ttls = train[\"TripType\"].unique().tolist()"
   ]
  },
  {
   "cell_type": "code",
   "execution_count": 54,
   "metadata": {
    "slideshow": {
     "slide_type": "fragment"
    }
   },
   "outputs": [],
   "source": [
    "train_38 = train[train['TripType'] == 38]\n",
    "train_38_groupby = train_38.groupby('DepartmentDescription', as_index=False)[\n",
    "    'ScanCount'].count()\n",
    "train_38_groupby = train_38_groupby.sort_values('ScanCount', ascending=False)\n",
    "train_39 = train[train['TripType'] == 39]\n",
    "train_39_groupby = train_39.groupby('DepartmentDescription', as_index=False)[\n",
    "    'ScanCount'].count()\n",
    "train_39_groupby = train_39_groupby.sort_values('ScanCount', ascending=False)"
   ]
  },
  {
   "cell_type": "code",
   "execution_count": 55,
   "metadata": {
    "slideshow": {
     "slide_type": "slide"
    }
   },
   "outputs": [
    {
     "data": {
      "text/plain": [
       "Text(0.5, 1.0, 'Distribution of DD at TripType = 38')"
      ]
     },
     "execution_count": 55,
     "metadata": {},
     "output_type": "execute_result"
    },
    {
     "data": {
      "image/png": "[encoded data removed]",
      "text/plain": [
       "<Figure size 432x288 with 1 Axes>"
      ]
     },
     "metadata": {
      "image/png": {
       "height": 266,
       "width": 482
      },
      "needs_background": "light"
     },
     "output_type": "display_data"
    }
   ],
   "source": [
    "plt.barh((train_38_groupby['DepartmentDescription']\n",
    "          [:5]), (train_38_groupby['ScanCount'][:5]))\n",
    "plt.title('Distribution of DD at TripType = 38')"
   ]
  },
  {
   "cell_type": "code",
   "execution_count": 56,
   "metadata": {
    "slideshow": {
     "slide_type": "fragment"
    }
   },
   "outputs": [
    {
     "data": {
      "text/plain": [
       "Text(0.5, 1.0, 'Distribution of DD at TripType = 39')"
      ]
     },
     "execution_count": 56,
     "metadata": {},
     "output_type": "execute_result"
    },
    {
     "data": {
      "image/png": "[encoded data removed]",
      "text/plain": [
       "<Figure size 432x288 with 1 Axes>"
      ]
     },
     "metadata": {
      "image/png": {
       "height": 266,
       "width": 482
      },
      "needs_background": "light"
     },
     "output_type": "display_data"
    }
   ],
   "source": [
    "plt.barh((train_39_groupby['DepartmentDescription']\n",
    "          [:5]), (train_39_groupby['ScanCount'][:5]))\n",
    "plt.title('Distribution of DD at TripType = 39')"
   ]
  },
  {
   "cell_type": "code",
   "execution_count": 57,
   "metadata": {
    "slideshow": {
     "slide_type": "slide"
    }
   },
   "outputs": [
    {
     "data": {
      "text/html": [
       "<div>\n",
       "<style scoped>\n",
       "    .dataframe tbody tr th:only-of-type {\n",
       "        vertical-align: middle;\n",
       "    }\n",
       "\n",
       "    .dataframe tbody tr th {\n",
       "        vertical-align: top;\n",
       "    }\n",
       "\n",
       "    .dataframe thead th {\n",
       "        text-align: right;\n",
       "    }\n",
       "</style>\n",
       "<table border=\"1\" class=\"dataframe\">\n",
       "  <thead>\n",
       "    <tr style=\"text-align: right;\">\n",
       "      <th></th>\n",
       "      <th>VisitNumber</th>\n",
       "      <th>1-HR PHOTO</th>\n",
       "      <th>ACCESSORIES</th>\n",
       "      <th>AUTOMOTIVE</th>\n",
       "      <th>BAKERY</th>\n",
       "      <th>BATH AND SHOWER</th>\n",
       "      <th>BEAUTY</th>\n",
       "      <th>BEDDING</th>\n",
       "      <th>BOOKS AND MAGAZINES</th>\n",
       "      <th>BOYS WEAR</th>\n",
       "      <th>...</th>\n",
       "      <th>SEAFOOD</th>\n",
       "      <th>SEASONAL</th>\n",
       "      <th>SERVICE DELI</th>\n",
       "      <th>SHEER HOSIERY</th>\n",
       "      <th>SHOES</th>\n",
       "      <th>SLEEPWEAR/FOUNDATIONS</th>\n",
       "      <th>SPORTING GOODS</th>\n",
       "      <th>SWIMWEAR/OUTERWEAR</th>\n",
       "      <th>TOYS</th>\n",
       "      <th>WIRELESS</th>\n",
       "    </tr>\n",
       "  </thead>\n",
       "  <tbody>\n",
       "    <tr>\n",
       "      <th>95669</th>\n",
       "      <td>191343</td>\n",
       "      <td>0</td>\n",
       "      <td>0</td>\n",
       "      <td>0</td>\n",
       "      <td>0</td>\n",
       "      <td>0</td>\n",
       "      <td>0</td>\n",
       "      <td>0</td>\n",
       "      <td>0</td>\n",
       "      <td>0</td>\n",
       "      <td>...</td>\n",
       "      <td>0</td>\n",
       "      <td>0</td>\n",
       "      <td>0</td>\n",
       "      <td>0</td>\n",
       "      <td>0</td>\n",
       "      <td>0</td>\n",
       "      <td>0</td>\n",
       "      <td>0</td>\n",
       "      <td>0</td>\n",
       "      <td>0</td>\n",
       "    </tr>\n",
       "    <tr>\n",
       "      <th>95670</th>\n",
       "      <td>191344</td>\n",
       "      <td>0</td>\n",
       "      <td>0</td>\n",
       "      <td>0</td>\n",
       "      <td>0</td>\n",
       "      <td>0</td>\n",
       "      <td>4</td>\n",
       "      <td>0</td>\n",
       "      <td>0</td>\n",
       "      <td>0</td>\n",
       "      <td>...</td>\n",
       "      <td>0</td>\n",
       "      <td>0</td>\n",
       "      <td>0</td>\n",
       "      <td>0</td>\n",
       "      <td>0</td>\n",
       "      <td>0</td>\n",
       "      <td>0</td>\n",
       "      <td>0</td>\n",
       "      <td>0</td>\n",
       "      <td>1</td>\n",
       "    </tr>\n",
       "    <tr>\n",
       "      <th>95671</th>\n",
       "      <td>191345</td>\n",
       "      <td>0</td>\n",
       "      <td>0</td>\n",
       "      <td>0</td>\n",
       "      <td>0</td>\n",
       "      <td>0</td>\n",
       "      <td>1</td>\n",
       "      <td>0</td>\n",
       "      <td>0</td>\n",
       "      <td>0</td>\n",
       "      <td>...</td>\n",
       "      <td>0</td>\n",
       "      <td>0</td>\n",
       "      <td>0</td>\n",
       "      <td>0</td>\n",
       "      <td>0</td>\n",
       "      <td>0</td>\n",
       "      <td>0</td>\n",
       "      <td>0</td>\n",
       "      <td>0</td>\n",
       "      <td>0</td>\n",
       "    </tr>\n",
       "    <tr>\n",
       "      <th>95672</th>\n",
       "      <td>191346</td>\n",
       "      <td>0</td>\n",
       "      <td>0</td>\n",
       "      <td>0</td>\n",
       "      <td>0</td>\n",
       "      <td>0</td>\n",
       "      <td>0</td>\n",
       "      <td>0</td>\n",
       "      <td>0</td>\n",
       "      <td>0</td>\n",
       "      <td>...</td>\n",
       "      <td>0</td>\n",
       "      <td>0</td>\n",
       "      <td>0</td>\n",
       "      <td>0</td>\n",
       "      <td>0</td>\n",
       "      <td>0</td>\n",
       "      <td>0</td>\n",
       "      <td>0</td>\n",
       "      <td>0</td>\n",
       "      <td>0</td>\n",
       "    </tr>\n",
       "    <tr>\n",
       "      <th>95673</th>\n",
       "      <td>191347</td>\n",
       "      <td>0</td>\n",
       "      <td>0</td>\n",
       "      <td>0</td>\n",
       "      <td>0</td>\n",
       "      <td>0</td>\n",
       "      <td>0</td>\n",
       "      <td>0</td>\n",
       "      <td>0</td>\n",
       "      <td>0</td>\n",
       "      <td>...</td>\n",
       "      <td>0</td>\n",
       "      <td>0</td>\n",
       "      <td>0</td>\n",
       "      <td>0</td>\n",
       "      <td>0</td>\n",
       "      <td>0</td>\n",
       "      <td>0</td>\n",
       "      <td>0</td>\n",
       "      <td>0</td>\n",
       "      <td>0</td>\n",
       "    </tr>\n",
       "  </tbody>\n",
       "</table>\n",
       "<p>5 rows × 68 columns</p>\n",
       "</div>"
      ],
      "text/plain": [
       "       VisitNumber  1-HR PHOTO  ACCESSORIES  AUTOMOTIVE  BAKERY  \\\n",
       "95669       191343           0            0           0       0   \n",
       "95670       191344           0            0           0       0   \n",
       "95671       191345           0            0           0       0   \n",
       "95672       191346           0            0           0       0   \n",
       "95673       191347           0            0           0       0   \n",
       "\n",
       "       BATH AND SHOWER  BEAUTY  BEDDING  BOOKS AND MAGAZINES  BOYS WEAR  \\\n",
       "95669                0       0        0                    0          0   \n",
       "95670                0       4        0                    0          0   \n",
       "95671                0       1        0                    0          0   \n",
       "95672                0       0        0                    0          0   \n",
       "95673                0       0        0                    0          0   \n",
       "\n",
       "         ...     SEAFOOD  SEASONAL  SERVICE DELI  SHEER HOSIERY  SHOES  \\\n",
       "95669    ...           0         0             0              0      0   \n",
       "95670    ...           0         0             0              0      0   \n",
       "95671    ...           0         0             0              0      0   \n",
       "95672    ...           0         0             0              0      0   \n",
       "95673    ...           0         0             0              0      0   \n",
       "\n",
       "       SLEEPWEAR/FOUNDATIONS  SPORTING GOODS  SWIMWEAR/OUTERWEAR  TOYS  \\\n",
       "95669                      0               0                   0     0   \n",
       "95670                      0               0                   0     0   \n",
       "95671                      0               0                   0     0   \n",
       "95672                      0               0                   0     0   \n",
       "95673                      0               0                   0     0   \n",
       "\n",
       "       WIRELESS  \n",
       "95669         0  \n",
       "95670         1  \n",
       "95671         0  \n",
       "95672         0  \n",
       "95673         0  \n",
       "\n",
       "[5 rows x 68 columns]"
      ]
     },
     "execution_count": 57,
     "metadata": {},
     "output_type": "execute_result"
    }
   ],
   "source": [
    "train_dd = pd.get_dummies(train[\"DepartmentDescription\"])\n",
    "test_dd = pd.get_dummies(test[\"DepartmentDescription\"])\n",
    "\n",
    "train_dd = pd.concat([train[[\"VisitNumber\"]], train_dd], axis=1)\n",
    "test_dd = pd.concat([test[[\"VisitNumber\"]], test_dd], axis=1)\n",
    "\n",
    "train_dd = train_dd.groupby(\"VisitNumber\", as_index=False).sum()  # sum을 함\n",
    "test_dd = test_dd.groupby(\"VisitNumber\", as_index=False).sum()\n",
    "train_dd.tail()"
   ]
  },
  {
   "cell_type": "code",
   "execution_count": 58,
   "metadata": {
    "slideshow": {
     "slide_type": "slide"
    }
   },
   "outputs": [
    {
     "data": {
      "text/plain": [
       "['SHOES',\n",
       " 'BOYS WEAR',\n",
       " 'MENS WEAR',\n",
       " 'LADIESWEAR',\n",
       " 'LADIES SOCKS',\n",
       " 'PLUS AND MATERNITY',\n",
       " 'GIRLS WEAR, 4-6X  AND 7-14',\n",
       " 'BRAS & SHAPEWEAR',\n",
       " 'SLEEPWEAR/FOUNDATIONS',\n",
       " 'SWIMWEAR/OUTERWEAR']"
      ]
     },
     "execution_count": 58,
     "metadata": {},
     "output_type": "execute_result"
    }
   ],
   "source": [
    "traincolumn = list(train[\"DepartmentDescription\"].unique())\n",
    "WEARls = [x for x in traincolumn if 'WEAR' in str(x) or 'SOCKS' in str(x) or 'SHOES' in str(x)\n",
    "          or 'MATERNITY' in str(x)]\n",
    "FOODls = [x for x in traincolumn if 'FOOD' in str(x) or 'MEAT' in str(x) or 'DAIRY' in str(x) or 'GROCERY' in str(x)\n",
    "          or 'PRODUCE' in str(x) or \"BREAD\" in str(x) or 'BAKERY' in str(x) or 'WINE' in str(x) or \"DELI\" in str(x)\n",
    "          or 'COOKIE' in str(x) or 'COOK' in str(x)]\n",
    "ACCls = [x for x in traincolumn if 'SUNGLASS' in str(x) or 'OPTICAL' in str(x)]\n",
    "ELECls = [x for x in traincolumn if 'ELECTRONICS' in str(x) or 'CAMERAS' in str(x) or 'MEDIA' in str(x)\n",
    "          or 'WIRELESS' in str(x) or 'HARDWARE' in str(x)]\n",
    "COSls = [x for x in traincolumn if 'PERSONAL' in str(x) or 'BEAUTY' in str(x) or 'PHARMACY' in str(x)\n",
    "         or 'BATH' in str(x)]\n",
    "HOUSEls = [x for x in traincolumn if 'PAPER' in str(x) or 'HOME' in str(x) or \"BEDDING\" in str(x)\n",
    "           or 'HOUSE' in str(x) or 'CELE' in str(x) or 'OFFICE' in str(x)]\n",
    "GARDENls = [x for x in traincolumn if 'GARDEN' in str(x) or 'HORTI' in str(x)]\n",
    "INFANls = [x for x in traincolumn if 'INFANT' in str(x)]\n",
    "WEARls"
   ]
  },
  {
   "cell_type": "code",
   "execution_count": 59,
   "metadata": {
    "slideshow": {
     "slide_type": "subslide"
    }
   },
   "outputs": [],
   "source": [
    "traindf = train.copy()\n",
    "testdf = test.copy()\n",
    "traindf.loc[traindf['DepartmentDescription'].isin(INFANls), \"DD_big\"] = \"INFAN\"\n",
    "traindf.loc[traindf['DepartmentDescription'].isin(\n",
    "    GARDENls), \"DD_big\"] = \"GARDEN\"\n",
    "traindf.loc[traindf['DepartmentDescription'].isin(HOUSEls), \"DD_big\"] = \"HOUSE\"\n",
    "traindf.loc[traindf['DepartmentDescription'].isin(COSls), \"DD_big\"] = \"COS\"\n",
    "traindf.loc[traindf['DepartmentDescription'].isin(ELECls), \"DD_big\"] = \"ELEC\"\n",
    "traindf.loc[traindf['DepartmentDescription'].isin(ACCls), \"DD_big\"] = \"ACC\"\n",
    "traindf.loc[traindf['DepartmentDescription'].isin(FOODls), \"DD_big\"] = \"FOOD\"\n",
    "traindf.loc[traindf['DepartmentDescription'].isin(WEARls), \"DD_big\"] = \"WEAR\"\n",
    "\n",
    "testdf.loc[testdf['DepartmentDescription'].isin(INFANls), \"DD_big\"] = \"INFAN\"\n",
    "testdf.loc[testdf['DepartmentDescription'].isin(GARDENls), \"DD_big\"] = \"GARDEN\"\n",
    "testdf.loc[testdf['DepartmentDescription'].isin(HOUSEls), \"DD_big\"] = \"HOUSE\"\n",
    "testdf.loc[testdf['DepartmentDescription'].isin(COSls), \"DD_big\"] = \"COS\"\n",
    "testdf.loc[testdf['DepartmentDescription'].isin(ELECls), \"DD_big\"] = \"ELEC\"\n",
    "testdf.loc[testdf['DepartmentDescription'].isin(ACCls), \"DD_big\"] = \"ACC\"\n",
    "testdf.loc[testdf['DepartmentDescription'].isin(FOODls), \"DD_big\"] = \"FOOD\"\n",
    "testdf.loc[testdf['DepartmentDescription'].isin(WEARls), \"DD_big\"] = \"WEAR\""
   ]
  },
  {
   "cell_type": "code",
   "execution_count": 60,
   "metadata": {
    "slideshow": {
     "slide_type": "fragment"
    }
   },
   "outputs": [
    {
     "data": {
      "text/html": [
       "<div>\n",
       "<style scoped>\n",
       "    .dataframe tbody tr th:only-of-type {\n",
       "        vertical-align: middle;\n",
       "    }\n",
       "\n",
       "    .dataframe tbody tr th {\n",
       "        vertical-align: top;\n",
       "    }\n",
       "\n",
       "    .dataframe thead th {\n",
       "        text-align: right;\n",
       "    }\n",
       "</style>\n",
       "<table border=\"1\" class=\"dataframe\">\n",
       "  <thead>\n",
       "    <tr style=\"text-align: right;\">\n",
       "      <th></th>\n",
       "      <th>VisitNumber</th>\n",
       "      <th>ACC</th>\n",
       "      <th>COS</th>\n",
       "      <th>ELEC</th>\n",
       "      <th>FOOD</th>\n",
       "      <th>GARDEN</th>\n",
       "      <th>HOUSE</th>\n",
       "      <th>INFAN</th>\n",
       "      <th>WEAR</th>\n",
       "    </tr>\n",
       "  </thead>\n",
       "  <tbody>\n",
       "    <tr>\n",
       "      <th>95669</th>\n",
       "      <td>191338</td>\n",
       "      <td>0</td>\n",
       "      <td>0</td>\n",
       "      <td>0</td>\n",
       "      <td>3</td>\n",
       "      <td>0</td>\n",
       "      <td>4</td>\n",
       "      <td>0</td>\n",
       "      <td>0</td>\n",
       "    </tr>\n",
       "    <tr>\n",
       "      <th>95670</th>\n",
       "      <td>191339</td>\n",
       "      <td>0</td>\n",
       "      <td>0</td>\n",
       "      <td>0</td>\n",
       "      <td>0</td>\n",
       "      <td>0</td>\n",
       "      <td>0</td>\n",
       "      <td>0</td>\n",
       "      <td>0</td>\n",
       "    </tr>\n",
       "    <tr>\n",
       "      <th>95671</th>\n",
       "      <td>191340</td>\n",
       "      <td>0</td>\n",
       "      <td>0</td>\n",
       "      <td>0</td>\n",
       "      <td>0</td>\n",
       "      <td>0</td>\n",
       "      <td>0</td>\n",
       "      <td>0</td>\n",
       "      <td>0</td>\n",
       "    </tr>\n",
       "    <tr>\n",
       "      <th>95672</th>\n",
       "      <td>191341</td>\n",
       "      <td>0</td>\n",
       "      <td>0</td>\n",
       "      <td>0</td>\n",
       "      <td>0</td>\n",
       "      <td>0</td>\n",
       "      <td>4</td>\n",
       "      <td>6</td>\n",
       "      <td>0</td>\n",
       "    </tr>\n",
       "    <tr>\n",
       "      <th>95673</th>\n",
       "      <td>191348</td>\n",
       "      <td>0</td>\n",
       "      <td>2</td>\n",
       "      <td>0</td>\n",
       "      <td>0</td>\n",
       "      <td>0</td>\n",
       "      <td>0</td>\n",
       "      <td>0</td>\n",
       "      <td>5</td>\n",
       "    </tr>\n",
       "  </tbody>\n",
       "</table>\n",
       "</div>"
      ],
      "text/plain": [
       "       VisitNumber  ACC  COS  ELEC  FOOD  GARDEN  HOUSE  INFAN  WEAR\n",
       "95669       191338    0    0     0     3       0      4      0     0\n",
       "95670       191339    0    0     0     0       0      0      0     0\n",
       "95671       191340    0    0     0     0       0      0      0     0\n",
       "95672       191341    0    0     0     0       0      4      6     0\n",
       "95673       191348    0    2     0     0       0      0      0     5"
      ]
     },
     "execution_count": 60,
     "metadata": {},
     "output_type": "execute_result"
    }
   ],
   "source": [
    "train_dd_big = pd.get_dummies(traindf[\"DD_big\"])\n",
    "test_dd_big = pd.get_dummies(testdf[\"DD_big\"])\n",
    "\n",
    "train_dd_big = pd.concat([traindf[[\"VisitNumber\"]], train_dd_big], axis=1)\n",
    "test_dd_big = pd.concat([testdf[[\"VisitNumber\"]], test_dd_big], axis=1)\n",
    "\n",
    "train_dd_big = train_dd_big.groupby(\"VisitNumber\", as_index=False).sum()\n",
    "test_dd_big = test_dd_big.groupby(\"VisitNumber\", as_index=False).sum()\n",
    "test_dd_big.tail()"
   ]
  },
  {
   "cell_type": "markdown",
   "metadata": {
    "slideshow": {
     "slide_type": "slide"
    }
   },
   "source": [
    "# 3-8. 요일과 관련된 더미변수를 만든다."
   ]
  },
  {
   "cell_type": "markdown",
   "metadata": {
    "slideshow": {
     "slide_type": "fragment"
    }
   },
   "source": [
    "## TripType 14와 같이 요일이 큰 영향을 주는 경우가 있습니다."
   ]
  },
  {
   "cell_type": "code",
   "execution_count": 61,
   "metadata": {
    "slideshow": {
     "slide_type": "skip"
    }
   },
   "outputs": [],
   "source": [
    "weekday = {\"Monday\": 0,\n",
    "           \"Tuesday\": 1,\n",
    "           \"Wednesday\": 2,\n",
    "           \"Thursday\": 3,\n",
    "           \"Friday\": 4,\n",
    "           \"Saturday\": 5,\n",
    "           \"Sunday\": 6}\n",
    "train_weekday = train[[\"Weekday\", \"VisitNumber\", \"TripType\"]]\n",
    "train_weekday[\"Weekday\"] = train_weekday[\"Weekday\"].apply(lambda x: weekday[x])"
   ]
  },
  {
   "cell_type": "code",
   "execution_count": 62,
   "metadata": {
    "slideshow": {
     "slide_type": "fragment"
    }
   },
   "outputs": [
    {
     "data": {
      "image/png": "[encoded data removed]",
      "text/plain": [
       "<Figure size 864x216 with 2 Axes>"
      ]
     },
     "metadata": {
      "image/png": {
       "height": 238,
       "width": 708
      },
      "needs_background": "light"
     },
     "output_type": "display_data"
    }
   ],
   "source": [
    "plt.figure(figsize=(12, 3))\n",
    "sns.heatmap(data=pd.crosstab(train_weekday[\"Weekday\"],\n",
    "                             train_weekday[\"TripType\"],\n",
    "                             values=train_weekday[\"VisitNumber\"],\n",
    "                             aggfunc='count',\n",
    "                             normalize=\"columns\"), cmap=\"cool\")\n",
    "plt.yticks(range(0, 7), list(weekday.keys()), rotation=\"horizontal\")\n",
    "plt.title(\"요일별 Triptype 분포\", fontsize=13)\n",
    "plt.show()"
   ]
  },
  {
   "cell_type": "code",
   "execution_count": 63,
   "metadata": {
    "slideshow": {
     "slide_type": "slide"
    }
   },
   "outputs": [
    {
     "data": {
      "text/html": [
       "<div>\n",
       "<style scoped>\n",
       "    .dataframe tbody tr th:only-of-type {\n",
       "        vertical-align: middle;\n",
       "    }\n",
       "\n",
       "    .dataframe tbody tr th {\n",
       "        vertical-align: top;\n",
       "    }\n",
       "\n",
       "    .dataframe thead th {\n",
       "        text-align: right;\n",
       "    }\n",
       "</style>\n",
       "<table border=\"1\" class=\"dataframe\">\n",
       "  <thead>\n",
       "    <tr style=\"text-align: right;\">\n",
       "      <th></th>\n",
       "      <th>VisitNumber</th>\n",
       "      <th>Friday</th>\n",
       "      <th>Monday</th>\n",
       "      <th>Saturday</th>\n",
       "      <th>Sunday</th>\n",
       "      <th>Thursday</th>\n",
       "      <th>Tuesday</th>\n",
       "      <th>Wednesday</th>\n",
       "    </tr>\n",
       "  </thead>\n",
       "  <tbody>\n",
       "    <tr>\n",
       "      <th>95669</th>\n",
       "      <td>191343</td>\n",
       "      <td>0</td>\n",
       "      <td>0</td>\n",
       "      <td>0</td>\n",
       "      <td>7</td>\n",
       "      <td>0</td>\n",
       "      <td>0</td>\n",
       "      <td>0</td>\n",
       "    </tr>\n",
       "    <tr>\n",
       "      <th>95670</th>\n",
       "      <td>191344</td>\n",
       "      <td>0</td>\n",
       "      <td>0</td>\n",
       "      <td>0</td>\n",
       "      <td>5</td>\n",
       "      <td>0</td>\n",
       "      <td>0</td>\n",
       "      <td>0</td>\n",
       "    </tr>\n",
       "    <tr>\n",
       "      <th>95671</th>\n",
       "      <td>191345</td>\n",
       "      <td>0</td>\n",
       "      <td>0</td>\n",
       "      <td>0</td>\n",
       "      <td>13</td>\n",
       "      <td>0</td>\n",
       "      <td>0</td>\n",
       "      <td>0</td>\n",
       "    </tr>\n",
       "    <tr>\n",
       "      <th>95672</th>\n",
       "      <td>191346</td>\n",
       "      <td>0</td>\n",
       "      <td>0</td>\n",
       "      <td>0</td>\n",
       "      <td>17</td>\n",
       "      <td>0</td>\n",
       "      <td>0</td>\n",
       "      <td>0</td>\n",
       "    </tr>\n",
       "    <tr>\n",
       "      <th>95673</th>\n",
       "      <td>191347</td>\n",
       "      <td>0</td>\n",
       "      <td>0</td>\n",
       "      <td>0</td>\n",
       "      <td>2</td>\n",
       "      <td>0</td>\n",
       "      <td>0</td>\n",
       "      <td>0</td>\n",
       "    </tr>\n",
       "  </tbody>\n",
       "</table>\n",
       "</div>"
      ],
      "text/plain": [
       "       VisitNumber  Friday  Monday  Saturday  Sunday  Thursday  Tuesday  \\\n",
       "95669       191343       0       0         0       7         0        0   \n",
       "95670       191344       0       0         0       5         0        0   \n",
       "95671       191345       0       0         0      13         0        0   \n",
       "95672       191346       0       0         0      17         0        0   \n",
       "95673       191347       0       0         0       2         0        0   \n",
       "\n",
       "       Wednesday  \n",
       "95669          0  \n",
       "95670          0  \n",
       "95671          0  \n",
       "95672          0  \n",
       "95673          0  "
      ]
     },
     "execution_count": 63,
     "metadata": {},
     "output_type": "execute_result"
    }
   ],
   "source": [
    "train_weekday = pd.get_dummies(train[\"Weekday\"])\n",
    "test_weekday = pd.get_dummies(testdf[\"Weekday\"])\n",
    "\n",
    "train_weekday = pd.concat([train[[\"VisitNumber\"]], train_weekday], axis=1)\n",
    "test_weekday = pd.concat([test[[\"VisitNumber\"]], test_weekday], axis=1)\n",
    "\n",
    "train_weekday = train_weekday.groupby(\"VisitNumber\", as_index=False).sum()\n",
    "test_weekday = test_weekday.groupby(\"VisitNumber\", as_index=False).sum()\n",
    "train_weekday.tail()"
   ]
  },
  {
   "cell_type": "markdown",
   "metadata": {
    "slideshow": {
     "slide_type": "slide"
    }
   },
   "source": [
    "# 3-7. 만들어준 데이터 프레임을 합쳐준다."
   ]
  },
  {
   "cell_type": "code",
   "execution_count": 64,
   "metadata": {
    "slideshow": {
     "slide_type": "fragment"
    }
   },
   "outputs": [],
   "source": [
    "train_by_sum = train[[\"VisitNumber\", \"ScanCount\", \"Pos_Sum\", \"Neg_Sum\"]]\n",
    "test_by_sum = test[[\"VisitNumber\", \"ScanCount\", \"Pos_Sum\", \"Neg_Sum\"]]\n",
    "\n",
    "train_by_sum = train_by_sum.groupby(\"VisitNumber\", as_index=False).sum()\n",
    "test_by_sum = test_by_sum.groupby(\"VisitNumber\", as_index=False).sum()\n",
    "\n",
    "train = train_by_sum.merge(train_dd, on=[\"VisitNumber\"])\n",
    "train = train.merge(train_UPC, on=[\"VisitNumber\"])\n",
    "train = train.merge(train_dd_big, on=[\"VisitNumber\"])\n",
    "train = train.merge(train_FL, on=[\"VisitNumber\"])\n",
    "train = train.merge(train_weekday, on=[\"VisitNumber\"])\n",
    "\n",
    "test = test_by_sum.merge(test_dd, on=[\"VisitNumber\"])\n",
    "test = test.merge(test_UPC, on=[\"VisitNumber\"])\n",
    "test = test.merge(test_dd_big, on=[\"VisitNumber\"])\n",
    "test = test.merge(test_FL, on=[\"VisitNumber\"])\n",
    "test = test.merge(test_weekday, on=[\"VisitNumber\"])"
   ]
  },
  {
   "cell_type": "code",
   "execution_count": 65,
   "metadata": {},
   "outputs": [],
   "source": [
    "train = pd.merge(train, train_company, on='VisitNumber')\n",
    "test = pd.merge(test, test_company, on='VisitNumber')"
   ]
  },
  {
   "cell_type": "code",
   "execution_count": 124,
   "metadata": {
    "scrolled": true,
    "slideshow": {
     "slide_type": "skip"
    }
   },
   "outputs": [],
   "source": [
    "y = traindf[[\"TripType\", 'VisitNumber']]\n",
    "y.drop_duplicates(inplace=True)\n",
    "y = y[\"TripType\"]"
   ]
  },
  {
   "cell_type": "markdown",
   "metadata": {
    "slideshow": {
     "slide_type": "slide"
    }
   },
   "source": [
    "# 3-8. test와 train 데이터의 shape을 맞춰준다."
   ]
  },
  {
   "cell_type": "code",
   "execution_count": 68,
   "metadata": {
    "slideshow": {
     "slide_type": "fragment"
    }
   },
   "outputs": [],
   "source": [
    "not_in_train = [i for i in test.columns if i not in train.columns]\n",
    "not_in_test = [i for i in train.columns if i not in test.columns]"
   ]
  },
  {
   "cell_type": "code",
   "execution_count": 69,
   "metadata": {
    "slideshow": {
     "slide_type": "fragment"
    }
   },
   "outputs": [],
   "source": [
    "total_train = train.drop(columns=not_in_test)"
   ]
  },
  {
   "cell_type": "code",
   "execution_count": 70,
   "metadata": {
    "slideshow": {
     "slide_type": "fragment"
    }
   },
   "outputs": [],
   "source": [
    "total_test = test.drop(columns=not_in_train)"
   ]
  },
  {
   "cell_type": "markdown",
   "metadata": {
    "slideshow": {
     "slide_type": "slide"
    }
   },
   "source": [
    "# <center>4. lightgbm을 사용한 분류</center>"
   ]
  },
  {
   "cell_type": "code",
   "execution_count": 125,
   "metadata": {
    "scrolled": true,
    "slideshow": {
     "slide_type": "fragment"
    }
   },
   "outputs": [],
   "source": [
    "label_enc = LabelEncoder()\n",
    "y_labeled = label_enc.fit_transform(y)"
   ]
  },
  {
   "cell_type": "code",
   "execution_count": 126,
   "metadata": {
    "slideshow": {
     "slide_type": "fragment"
    }
   },
   "outputs": [],
   "source": [
    "X_train, X_test, y_train, y_test = train_test_split(\n",
    "    total_train, y_labeled, random_state=0)"
   ]
  },
  {
   "cell_type": "code",
   "execution_count": 75,
   "metadata": {
    "slideshow": {
     "slide_type": "fragment"
    }
   },
   "outputs": [],
   "source": [
    "dtrain = lightgbm.Dataset(X_train, label=y_train)\n",
    "dtest = lightgbm.Dataset(X_test, label=y_test)\n",
    "\n",
    "num_boost_round = 1500\n",
    "learning_rate = 0.02\n",
    "\n",
    "params = {'objective': 'multiclass',\n",
    "          'boosting_type': 'gbdt',\n",
    "          'max_depth': -1,\n",
    "          'nthread': 4,\n",
    "          'metric': 'multi_logloss',\n",
    "          'num_class': 38,\n",
    "          'learning_rate': learning_rate,\n",
    "          }"
   ]
  },
  {
   "cell_type": "code",
   "execution_count": 76,
   "metadata": {
    "scrolled": false,
    "slideshow": {
     "slide_type": "slide"
    }
   },
   "outputs": [
    {
     "name": "stdout",
     "output_type": "stream",
     "text": [
      "[1]\ttraining's multi_logloss: 2.91321\tvalid_1's multi_logloss: 2.92197\n",
      "Training until validation scores don't improve for 10 rounds.\n",
      "[2]\ttraining's multi_logloss: 2.80431\tvalid_1's multi_logloss: 2.81888\n",
      "[3]\ttraining's multi_logloss: 2.71457\tvalid_1's multi_logloss: 2.73322\n",
      "[4]\ttraining's multi_logloss: 2.63614\tvalid_1's multi_logloss: 2.65851\n",
      "[5]\ttraining's multi_logloss: 2.56589\tvalid_1's multi_logloss: 2.59135\n",
      "[6]\ttraining's multi_logloss: 2.50194\tvalid_1's multi_logloss: 2.53006\n",
      "[7]\ttraining's multi_logloss: 2.44326\tvalid_1's multi_logloss: 2.47374\n",
      "[8]\ttraining's multi_logloss: 2.38897\tvalid_1's multi_logloss: 2.42169\n",
      "[9]\ttraining's multi_logloss: 2.33823\tvalid_1's multi_logloss: 2.37312\n",
      "[10]\ttraining's multi_logloss: 2.29075\tvalid_1's multi_logloss: 2.32774\n",
      "[11]\ttraining's multi_logloss: 2.24598\tvalid_1's multi_logloss: 2.28491\n",
      "[12]\ttraining's multi_logloss: 2.20369\tvalid_1's multi_logloss: 2.24442\n",
      "[13]\ttraining's multi_logloss: 2.16361\tvalid_1's multi_logloss: 2.20609\n",
      "[14]\ttraining's multi_logloss: 2.12551\tvalid_1's multi_logloss: 2.16976\n",
      "[15]\ttraining's multi_logloss: 2.08916\tvalid_1's multi_logloss: 2.13508\n",
      "[16]\ttraining's multi_logloss: 2.05455\tvalid_1's multi_logloss: 2.1021\n",
      "[17]\ttraining's multi_logloss: 2.02149\tvalid_1's multi_logloss: 2.07057\n",
      "[18]\ttraining's multi_logloss: 1.98979\tvalid_1's multi_logloss: 2.04023\n",
      "[19]\ttraining's multi_logloss: 1.95934\tvalid_1's multi_logloss: 2.01119\n",
      "[20]\ttraining's multi_logloss: 1.93014\tvalid_1's multi_logloss: 1.98335\n",
      "[21]\ttraining's multi_logloss: 1.90193\tvalid_1's multi_logloss: 1.95641\n",
      "[22]\ttraining's multi_logloss: 1.8746\tvalid_1's multi_logloss: 1.93036\n",
      "[23]\ttraining's multi_logloss: 1.84823\tvalid_1's multi_logloss: 1.9053\n",
      "[24]\ttraining's multi_logloss: 1.82279\tvalid_1's multi_logloss: 1.88111\n",
      "[25]\ttraining's multi_logloss: 1.79824\tvalid_1's multi_logloss: 1.8577\n",
      "[26]\ttraining's multi_logloss: 1.77441\tvalid_1's multi_logloss: 1.83502\n",
      "[27]\ttraining's multi_logloss: 1.75145\tvalid_1's multi_logloss: 1.81318\n",
      "[28]\ttraining's multi_logloss: 1.72911\tvalid_1's multi_logloss: 1.7919\n",
      "[29]\ttraining's multi_logloss: 1.70745\tvalid_1's multi_logloss: 1.7713\n",
      "[30]\ttraining's multi_logloss: 1.68642\tvalid_1's multi_logloss: 1.75134\n",
      "[31]\ttraining's multi_logloss: 1.66601\tvalid_1's multi_logloss: 1.73197\n",
      "[32]\ttraining's multi_logloss: 1.64621\tvalid_1's multi_logloss: 1.71325\n",
      "[33]\ttraining's multi_logloss: 1.62688\tvalid_1's multi_logloss: 1.69488\n",
      "[34]\ttraining's multi_logloss: 1.6082\tvalid_1's multi_logloss: 1.67721\n",
      "[35]\ttraining's multi_logloss: 1.58986\tvalid_1's multi_logloss: 1.65988\n",
      "[36]\ttraining's multi_logloss: 1.57203\tvalid_1's multi_logloss: 1.64308\n",
      "[37]\ttraining's multi_logloss: 1.55467\tvalid_1's multi_logloss: 1.62667\n",
      "[38]\ttraining's multi_logloss: 1.53783\tvalid_1's multi_logloss: 1.61073\n",
      "[39]\ttraining's multi_logloss: 1.5214\tvalid_1's multi_logloss: 1.59527\n",
      "[40]\ttraining's multi_logloss: 1.50534\tvalid_1's multi_logloss: 1.58014\n",
      "[41]\ttraining's multi_logloss: 1.48971\tvalid_1's multi_logloss: 1.56533\n",
      "[42]\ttraining's multi_logloss: 1.47443\tvalid_1's multi_logloss: 1.55089\n",
      "[43]\ttraining's multi_logloss: 1.45958\tvalid_1's multi_logloss: 1.53683\n",
      "[44]\ttraining's multi_logloss: 1.44505\tvalid_1's multi_logloss: 1.52313\n",
      "[45]\ttraining's multi_logloss: 1.43086\tvalid_1's multi_logloss: 1.50974\n",
      "[46]\ttraining's multi_logloss: 1.41698\tvalid_1's multi_logloss: 1.49662\n",
      "[47]\ttraining's multi_logloss: 1.40342\tvalid_1's multi_logloss: 1.48394\n",
      "[48]\ttraining's multi_logloss: 1.39018\tvalid_1's multi_logloss: 1.47151\n",
      "[49]\ttraining's multi_logloss: 1.37726\tvalid_1's multi_logloss: 1.45944\n",
      "[50]\ttraining's multi_logloss: 1.3646\tvalid_1's multi_logloss: 1.44756\n",
      "[51]\ttraining's multi_logloss: 1.3522\tvalid_1's multi_logloss: 1.43596\n",
      "[52]\ttraining's multi_logloss: 1.34005\tvalid_1's multi_logloss: 1.42458\n",
      "[53]\ttraining's multi_logloss: 1.32819\tvalid_1's multi_logloss: 1.41346\n",
      "[54]\ttraining's multi_logloss: 1.31664\tvalid_1's multi_logloss: 1.40267\n",
      "[55]\ttraining's multi_logloss: 1.30532\tvalid_1's multi_logloss: 1.39209\n",
      "[56]\ttraining's multi_logloss: 1.29421\tvalid_1's multi_logloss: 1.38174\n",
      "[57]\ttraining's multi_logloss: 1.2833\tvalid_1's multi_logloss: 1.3716\n",
      "[58]\ttraining's multi_logloss: 1.27265\tvalid_1's multi_logloss: 1.36177\n",
      "[59]\ttraining's multi_logloss: 1.26221\tvalid_1's multi_logloss: 1.35205\n",
      "[60]\ttraining's multi_logloss: 1.25198\tvalid_1's multi_logloss: 1.34255\n",
      "[61]\ttraining's multi_logloss: 1.24195\tvalid_1's multi_logloss: 1.33322\n",
      "[62]\ttraining's multi_logloss: 1.23214\tvalid_1's multi_logloss: 1.32409\n",
      "[63]\ttraining's multi_logloss: 1.22241\tvalid_1's multi_logloss: 1.31513\n",
      "[64]\ttraining's multi_logloss: 1.21295\tvalid_1's multi_logloss: 1.30639\n",
      "[65]\ttraining's multi_logloss: 1.20364\tvalid_1's multi_logloss: 1.29781\n",
      "[66]\ttraining's multi_logloss: 1.19451\tvalid_1's multi_logloss: 1.28931\n",
      "[67]\ttraining's multi_logloss: 1.18552\tvalid_1's multi_logloss: 1.28098\n",
      "[68]\ttraining's multi_logloss: 1.17672\tvalid_1's multi_logloss: 1.27284\n",
      "[69]\ttraining's multi_logloss: 1.16803\tvalid_1's multi_logloss: 1.26479\n",
      "[70]\ttraining's multi_logloss: 1.1595\tvalid_1's multi_logloss: 1.25689\n",
      "[71]\ttraining's multi_logloss: 1.15116\tvalid_1's multi_logloss: 1.24928\n",
      "[72]\ttraining's multi_logloss: 1.14292\tvalid_1's multi_logloss: 1.24169\n",
      "[73]\ttraining's multi_logloss: 1.13489\tvalid_1's multi_logloss: 1.2343\n",
      "[74]\ttraining's multi_logloss: 1.12698\tvalid_1's multi_logloss: 1.22702\n",
      "[75]\ttraining's multi_logloss: 1.11915\tvalid_1's multi_logloss: 1.21978\n",
      "[76]\ttraining's multi_logloss: 1.11149\tvalid_1's multi_logloss: 1.21278\n",
      "[77]\ttraining's multi_logloss: 1.10391\tvalid_1's multi_logloss: 1.20582\n",
      "[78]\ttraining's multi_logloss: 1.09649\tvalid_1's multi_logloss: 1.19899\n",
      "[79]\ttraining's multi_logloss: 1.08916\tvalid_1's multi_logloss: 1.19224\n",
      "[80]\ttraining's multi_logloss: 1.08193\tvalid_1's multi_logloss: 1.18565\n",
      "[81]\ttraining's multi_logloss: 1.07479\tvalid_1's multi_logloss: 1.17915\n",
      "[82]\ttraining's multi_logloss: 1.06784\tvalid_1's multi_logloss: 1.17279\n",
      "[83]\ttraining's multi_logloss: 1.06098\tvalid_1's multi_logloss: 1.16651\n",
      "[84]\ttraining's multi_logloss: 1.0542\tvalid_1's multi_logloss: 1.16027\n",
      "[85]\ttraining's multi_logloss: 1.04759\tvalid_1's multi_logloss: 1.15428\n",
      "[86]\ttraining's multi_logloss: 1.04103\tvalid_1's multi_logloss: 1.14833\n",
      "[87]\ttraining's multi_logloss: 1.03462\tvalid_1's multi_logloss: 1.14253\n",
      "[88]\ttraining's multi_logloss: 1.02827\tvalid_1's multi_logloss: 1.13673\n",
      "[89]\ttraining's multi_logloss: 1.02209\tvalid_1's multi_logloss: 1.13111\n",
      "[90]\ttraining's multi_logloss: 1.01602\tvalid_1's multi_logloss: 1.12562\n",
      "[91]\ttraining's multi_logloss: 1.00998\tvalid_1's multi_logloss: 1.12016\n",
      "[92]\ttraining's multi_logloss: 1.00408\tvalid_1's multi_logloss: 1.11485\n",
      "[93]\ttraining's multi_logloss: 0.998232\tvalid_1's multi_logloss: 1.10959\n",
      "[94]\ttraining's multi_logloss: 0.992471\tvalid_1's multi_logloss: 1.10445\n",
      "[95]\ttraining's multi_logloss: 0.986786\tvalid_1's multi_logloss: 1.09934\n",
      "[96]\ttraining's multi_logloss: 0.981157\tvalid_1's multi_logloss: 1.09428\n",
      "[97]\ttraining's multi_logloss: 0.975654\tvalid_1's multi_logloss: 1.08935\n",
      "[98]\ttraining's multi_logloss: 0.970215\tvalid_1's multi_logloss: 1.08451\n",
      "[99]\ttraining's multi_logloss: 0.964862\tvalid_1's multi_logloss: 1.07972\n",
      "[100]\ttraining's multi_logloss: 0.959576\tvalid_1's multi_logloss: 1.07496\n",
      "[101]\ttraining's multi_logloss: 0.954376\tvalid_1's multi_logloss: 1.07033\n",
      "[102]\ttraining's multi_logloss: 0.949258\tvalid_1's multi_logloss: 1.06585\n",
      "[103]\ttraining's multi_logloss: 0.944223\tvalid_1's multi_logloss: 1.06132\n",
      "[104]\ttraining's multi_logloss: 0.939242\tvalid_1's multi_logloss: 1.05691\n",
      "[105]\ttraining's multi_logloss: 0.934343\tvalid_1's multi_logloss: 1.05259\n",
      "[106]\ttraining's multi_logloss: 0.929498\tvalid_1's multi_logloss: 1.04832\n",
      "[107]\ttraining's multi_logloss: 0.924809\tvalid_1's multi_logloss: 1.04416\n",
      "[108]\ttraining's multi_logloss: 0.920101\tvalid_1's multi_logloss: 1.04002\n",
      "[109]\ttraining's multi_logloss: 0.915517\tvalid_1's multi_logloss: 1.03599\n",
      "[110]\ttraining's multi_logloss: 0.910972\tvalid_1's multi_logloss: 1.032\n",
      "[111]\ttraining's multi_logloss: 0.906472\tvalid_1's multi_logloss: 1.02804\n",
      "[112]\ttraining's multi_logloss: 0.902097\tvalid_1's multi_logloss: 1.02419\n",
      "[113]\ttraining's multi_logloss: 0.89776\tvalid_1's multi_logloss: 1.02042\n"
     ]
    },
    {
     "name": "stdout",
     "output_type": "stream",
     "text": [
      "[114]\ttraining's multi_logloss: 0.893488\tvalid_1's multi_logloss: 1.01672\n",
      "[115]\ttraining's multi_logloss: 0.88925\tvalid_1's multi_logloss: 1.01301\n",
      "[116]\ttraining's multi_logloss: 0.885051\tvalid_1's multi_logloss: 1.00937\n",
      "[117]\ttraining's multi_logloss: 0.880935\tvalid_1's multi_logloss: 1.00574\n",
      "[118]\ttraining's multi_logloss: 0.87686\tvalid_1's multi_logloss: 1.00218\n",
      "[119]\ttraining's multi_logloss: 0.872827\tvalid_1's multi_logloss: 0.998687\n",
      "[120]\ttraining's multi_logloss: 0.868812\tvalid_1's multi_logloss: 0.995197\n",
      "[121]\ttraining's multi_logloss: 0.864885\tvalid_1's multi_logloss: 0.991816\n",
      "[122]\ttraining's multi_logloss: 0.860994\tvalid_1's multi_logloss: 0.988457\n",
      "[123]\ttraining's multi_logloss: 0.85716\tvalid_1's multi_logloss: 0.985189\n",
      "[124]\ttraining's multi_logloss: 0.853376\tvalid_1's multi_logloss: 0.981919\n",
      "[125]\ttraining's multi_logloss: 0.849632\tvalid_1's multi_logloss: 0.978686\n",
      "[126]\ttraining's multi_logloss: 0.845968\tvalid_1's multi_logloss: 0.97556\n",
      "[127]\ttraining's multi_logloss: 0.842314\tvalid_1's multi_logloss: 0.972446\n",
      "[128]\ttraining's multi_logloss: 0.838734\tvalid_1's multi_logloss: 0.96937\n",
      "[129]\ttraining's multi_logloss: 0.835184\tvalid_1's multi_logloss: 0.966343\n",
      "[130]\ttraining's multi_logloss: 0.831694\tvalid_1's multi_logloss: 0.963383\n",
      "[131]\ttraining's multi_logloss: 0.828212\tvalid_1's multi_logloss: 0.960417\n",
      "[132]\ttraining's multi_logloss: 0.824778\tvalid_1's multi_logloss: 0.957489\n",
      "[133]\ttraining's multi_logloss: 0.821401\tvalid_1's multi_logloss: 0.954629\n",
      "[134]\ttraining's multi_logloss: 0.818045\tvalid_1's multi_logloss: 0.951755\n",
      "[135]\ttraining's multi_logloss: 0.814783\tvalid_1's multi_logloss: 0.949019\n",
      "[136]\ttraining's multi_logloss: 0.811488\tvalid_1's multi_logloss: 0.946218\n",
      "[137]\ttraining's multi_logloss: 0.808251\tvalid_1's multi_logloss: 0.943485\n",
      "[138]\ttraining's multi_logloss: 0.805064\tvalid_1's multi_logloss: 0.940815\n",
      "[139]\ttraining's multi_logloss: 0.801901\tvalid_1's multi_logloss: 0.938163\n",
      "[140]\ttraining's multi_logloss: 0.798786\tvalid_1's multi_logloss: 0.935586\n",
      "[141]\ttraining's multi_logloss: 0.795685\tvalid_1's multi_logloss: 0.932952\n",
      "[142]\ttraining's multi_logloss: 0.792648\tvalid_1's multi_logloss: 0.930381\n",
      "[143]\ttraining's multi_logloss: 0.789619\tvalid_1's multi_logloss: 0.927837\n",
      "[144]\ttraining's multi_logloss: 0.786684\tvalid_1's multi_logloss: 0.925389\n",
      "[145]\ttraining's multi_logloss: 0.783723\tvalid_1's multi_logloss: 0.922908\n",
      "[146]\ttraining's multi_logloss: 0.780763\tvalid_1's multi_logloss: 0.92044\n",
      "[147]\ttraining's multi_logloss: 0.777874\tvalid_1's multi_logloss: 0.918044\n",
      "[148]\ttraining's multi_logloss: 0.775001\tvalid_1's multi_logloss: 0.915627\n",
      "[149]\ttraining's multi_logloss: 0.772136\tvalid_1's multi_logloss: 0.913214\n",
      "[150]\ttraining's multi_logloss: 0.769325\tvalid_1's multi_logloss: 0.910872\n",
      "[151]\ttraining's multi_logloss: 0.766536\tvalid_1's multi_logloss: 0.908504\n",
      "[152]\ttraining's multi_logloss: 0.763774\tvalid_1's multi_logloss: 0.906208\n",
      "[153]\ttraining's multi_logloss: 0.761062\tvalid_1's multi_logloss: 0.90397\n",
      "[154]\ttraining's multi_logloss: 0.758408\tvalid_1's multi_logloss: 0.901791\n",
      "[155]\ttraining's multi_logloss: 0.755742\tvalid_1's multi_logloss: 0.899581\n",
      "[156]\ttraining's multi_logloss: 0.753104\tvalid_1's multi_logloss: 0.897456\n",
      "[157]\ttraining's multi_logloss: 0.750551\tvalid_1's multi_logloss: 0.895328\n",
      "[158]\ttraining's multi_logloss: 0.747987\tvalid_1's multi_logloss: 0.89318\n",
      "[159]\ttraining's multi_logloss: 0.745476\tvalid_1's multi_logloss: 0.891181\n",
      "[160]\ttraining's multi_logloss: 0.742955\tvalid_1's multi_logloss: 0.889149\n",
      "[161]\ttraining's multi_logloss: 0.740485\tvalid_1's multi_logloss: 0.887164\n",
      "[162]\ttraining's multi_logloss: 0.738048\tvalid_1's multi_logloss: 0.885181\n",
      "[163]\ttraining's multi_logloss: 0.735613\tvalid_1's multi_logloss: 0.883235\n",
      "[164]\ttraining's multi_logloss: 0.733207\tvalid_1's multi_logloss: 0.881293\n",
      "[165]\ttraining's multi_logloss: 0.730857\tvalid_1's multi_logloss: 0.879423\n",
      "[166]\ttraining's multi_logloss: 0.728476\tvalid_1's multi_logloss: 0.877493\n",
      "[167]\ttraining's multi_logloss: 0.72614\tvalid_1's multi_logloss: 0.875632\n",
      "[168]\ttraining's multi_logloss: 0.723862\tvalid_1's multi_logloss: 0.873809\n",
      "[169]\ttraining's multi_logloss: 0.721574\tvalid_1's multi_logloss: 0.872013\n",
      "[170]\ttraining's multi_logloss: 0.719317\tvalid_1's multi_logloss: 0.870273\n",
      "[171]\ttraining's multi_logloss: 0.717064\tvalid_1's multi_logloss: 0.868483\n",
      "[172]\ttraining's multi_logloss: 0.714843\tvalid_1's multi_logloss: 0.866744\n",
      "[173]\ttraining's multi_logloss: 0.712639\tvalid_1's multi_logloss: 0.864997\n",
      "[174]\ttraining's multi_logloss: 0.710466\tvalid_1's multi_logloss: 0.863309\n",
      "[175]\ttraining's multi_logloss: 0.708317\tvalid_1's multi_logloss: 0.861653\n",
      "[176]\ttraining's multi_logloss: 0.706198\tvalid_1's multi_logloss: 0.860027\n",
      "[177]\ttraining's multi_logloss: 0.704091\tvalid_1's multi_logloss: 0.858424\n",
      "[178]\ttraining's multi_logloss: 0.701995\tvalid_1's multi_logloss: 0.856819\n",
      "[179]\ttraining's multi_logloss: 0.69991\tvalid_1's multi_logloss: 0.855248\n",
      "[180]\ttraining's multi_logloss: 0.697857\tvalid_1's multi_logloss: 0.853636\n",
      "[181]\ttraining's multi_logloss: 0.695799\tvalid_1's multi_logloss: 0.852036\n",
      "[182]\ttraining's multi_logloss: 0.693781\tvalid_1's multi_logloss: 0.850483\n",
      "[183]\ttraining's multi_logloss: 0.69177\tvalid_1's multi_logloss: 0.848957\n",
      "[184]\ttraining's multi_logloss: 0.689768\tvalid_1's multi_logloss: 0.847404\n",
      "[185]\ttraining's multi_logloss: 0.687808\tvalid_1's multi_logloss: 0.845902\n",
      "[186]\ttraining's multi_logloss: 0.685834\tvalid_1's multi_logloss: 0.844421\n",
      "[187]\ttraining's multi_logloss: 0.683917\tvalid_1's multi_logloss: 0.842952\n",
      "[188]\ttraining's multi_logloss: 0.68199\tvalid_1's multi_logloss: 0.841496\n",
      "[189]\ttraining's multi_logloss: 0.680088\tvalid_1's multi_logloss: 0.840064\n",
      "[190]\ttraining's multi_logloss: 0.678228\tvalid_1's multi_logloss: 0.838659\n",
      "[191]\ttraining's multi_logloss: 0.676373\tvalid_1's multi_logloss: 0.837255\n",
      "[192]\ttraining's multi_logloss: 0.674486\tvalid_1's multi_logloss: 0.835833\n",
      "[193]\ttraining's multi_logloss: 0.672634\tvalid_1's multi_logloss: 0.834426\n",
      "[194]\ttraining's multi_logloss: 0.670818\tvalid_1's multi_logloss: 0.833033\n",
      "[195]\ttraining's multi_logloss: 0.668983\tvalid_1's multi_logloss: 0.831655\n",
      "[196]\ttraining's multi_logloss: 0.667193\tvalid_1's multi_logloss: 0.830349\n",
      "[197]\ttraining's multi_logloss: 0.665343\tvalid_1's multi_logloss: 0.828982\n",
      "[198]\ttraining's multi_logloss: 0.663513\tvalid_1's multi_logloss: 0.827594\n",
      "[199]\ttraining's multi_logloss: 0.66171\tvalid_1's multi_logloss: 0.826282\n",
      "[200]\ttraining's multi_logloss: 0.659944\tvalid_1's multi_logloss: 0.82499\n",
      "[201]\ttraining's multi_logloss: 0.658189\tvalid_1's multi_logloss: 0.823682\n",
      "[202]\ttraining's multi_logloss: 0.65644\tvalid_1's multi_logloss: 0.822411\n",
      "[203]\ttraining's multi_logloss: 0.654718\tvalid_1's multi_logloss: 0.821169\n",
      "[204]\ttraining's multi_logloss: 0.653006\tvalid_1's multi_logloss: 0.81989\n",
      "[205]\ttraining's multi_logloss: 0.651318\tvalid_1's multi_logloss: 0.818686\n",
      "[206]\ttraining's multi_logloss: 0.649637\tvalid_1's multi_logloss: 0.817441\n",
      "[207]\ttraining's multi_logloss: 0.647983\tvalid_1's multi_logloss: 0.816257\n",
      "[208]\ttraining's multi_logloss: 0.64631\tvalid_1's multi_logloss: 0.815041\n",
      "[209]\ttraining's multi_logloss: 0.64469\tvalid_1's multi_logloss: 0.813893\n",
      "[210]\ttraining's multi_logloss: 0.643055\tvalid_1's multi_logloss: 0.812696\n",
      "[211]\ttraining's multi_logloss: 0.641405\tvalid_1's multi_logloss: 0.811558\n",
      "[212]\ttraining's multi_logloss: 0.639821\tvalid_1's multi_logloss: 0.810426\n",
      "[213]\ttraining's multi_logloss: 0.638215\tvalid_1's multi_logloss: 0.809265\n",
      "[214]\ttraining's multi_logloss: 0.636644\tvalid_1's multi_logloss: 0.80819\n",
      "[215]\ttraining's multi_logloss: 0.635088\tvalid_1's multi_logloss: 0.807098\n",
      "[216]\ttraining's multi_logloss: 0.633537\tvalid_1's multi_logloss: 0.805987\n",
      "[217]\ttraining's multi_logloss: 0.632024\tvalid_1's multi_logloss: 0.804963\n",
      "[218]\ttraining's multi_logloss: 0.630535\tvalid_1's multi_logloss: 0.803936\n",
      "[219]\ttraining's multi_logloss: 0.629\tvalid_1's multi_logloss: 0.802884\n",
      "[220]\ttraining's multi_logloss: 0.627483\tvalid_1's multi_logloss: 0.801818\n",
      "[221]\ttraining's multi_logloss: 0.625986\tvalid_1's multi_logloss: 0.800781\n",
      "[222]\ttraining's multi_logloss: 0.624503\tvalid_1's multi_logloss: 0.799792\n",
      "[223]\ttraining's multi_logloss: 0.623024\tvalid_1's multi_logloss: 0.798823\n"
     ]
    },
    {
     "name": "stdout",
     "output_type": "stream",
     "text": [
      "[224]\ttraining's multi_logloss: 0.621556\tvalid_1's multi_logloss: 0.797798\n",
      "[225]\ttraining's multi_logloss: 0.620117\tvalid_1's multi_logloss: 0.796847\n",
      "[226]\ttraining's multi_logloss: 0.618669\tvalid_1's multi_logloss: 0.795886\n",
      "[227]\ttraining's multi_logloss: 0.617239\tvalid_1's multi_logloss: 0.794912\n",
      "[228]\ttraining's multi_logloss: 0.615827\tvalid_1's multi_logloss: 0.793946\n",
      "[229]\ttraining's multi_logloss: 0.614397\tvalid_1's multi_logloss: 0.792986\n",
      "[230]\ttraining's multi_logloss: 0.612994\tvalid_1's multi_logloss: 0.792045\n",
      "[231]\ttraining's multi_logloss: 0.611605\tvalid_1's multi_logloss: 0.791089\n",
      "[232]\ttraining's multi_logloss: 0.610226\tvalid_1's multi_logloss: 0.790173\n",
      "[233]\ttraining's multi_logloss: 0.608839\tvalid_1's multi_logloss: 0.789243\n",
      "[234]\ttraining's multi_logloss: 0.607458\tvalid_1's multi_logloss: 0.788335\n",
      "[235]\ttraining's multi_logloss: 0.606079\tvalid_1's multi_logloss: 0.787443\n",
      "[236]\ttraining's multi_logloss: 0.604737\tvalid_1's multi_logloss: 0.786565\n",
      "[237]\ttraining's multi_logloss: 0.60339\tvalid_1's multi_logloss: 0.785644\n",
      "[238]\ttraining's multi_logloss: 0.602053\tvalid_1's multi_logloss: 0.78475\n",
      "[239]\ttraining's multi_logloss: 0.600708\tvalid_1's multi_logloss: 0.783842\n",
      "[240]\ttraining's multi_logloss: 0.599363\tvalid_1's multi_logloss: 0.782908\n",
      "[241]\ttraining's multi_logloss: 0.598056\tvalid_1's multi_logloss: 0.782099\n",
      "[242]\ttraining's multi_logloss: 0.596765\tvalid_1's multi_logloss: 0.781248\n",
      "[243]\ttraining's multi_logloss: 0.595474\tvalid_1's multi_logloss: 0.780358\n",
      "[244]\ttraining's multi_logloss: 0.594188\tvalid_1's multi_logloss: 0.779533\n",
      "[245]\ttraining's multi_logloss: 0.592916\tvalid_1's multi_logloss: 0.77867\n",
      "[246]\ttraining's multi_logloss: 0.59163\tvalid_1's multi_logloss: 0.777803\n",
      "[247]\ttraining's multi_logloss: 0.590393\tvalid_1's multi_logloss: 0.77702\n",
      "[248]\ttraining's multi_logloss: 0.589099\tvalid_1's multi_logloss: 0.776207\n",
      "[249]\ttraining's multi_logloss: 0.587875\tvalid_1's multi_logloss: 0.775373\n",
      "[250]\ttraining's multi_logloss: 0.586638\tvalid_1's multi_logloss: 0.774574\n",
      "[251]\ttraining's multi_logloss: 0.585423\tvalid_1's multi_logloss: 0.773812\n",
      "[252]\ttraining's multi_logloss: 0.584171\tvalid_1's multi_logloss: 0.772981\n",
      "[253]\ttraining's multi_logloss: 0.582956\tvalid_1's multi_logloss: 0.772189\n",
      "[254]\ttraining's multi_logloss: 0.581719\tvalid_1's multi_logloss: 0.771413\n",
      "[255]\ttraining's multi_logloss: 0.580464\tvalid_1's multi_logloss: 0.770629\n",
      "[256]\ttraining's multi_logloss: 0.579273\tvalid_1's multi_logloss: 0.769888\n",
      "[257]\ttraining's multi_logloss: 0.578063\tvalid_1's multi_logloss: 0.769113\n",
      "[258]\ttraining's multi_logloss: 0.57688\tvalid_1's multi_logloss: 0.768365\n",
      "[259]\ttraining's multi_logloss: 0.575708\tvalid_1's multi_logloss: 0.767642\n",
      "[260]\ttraining's multi_logloss: 0.574534\tvalid_1's multi_logloss: 0.766901\n",
      "[261]\ttraining's multi_logloss: 0.573335\tvalid_1's multi_logloss: 0.766141\n",
      "[262]\ttraining's multi_logloss: 0.572202\tvalid_1's multi_logloss: 0.765473\n",
      "[263]\ttraining's multi_logloss: 0.571041\tvalid_1's multi_logloss: 0.764728\n",
      "[264]\ttraining's multi_logloss: 0.569873\tvalid_1's multi_logloss: 0.763975\n",
      "[265]\ttraining's multi_logloss: 0.568771\tvalid_1's multi_logloss: 0.763302\n",
      "[266]\ttraining's multi_logloss: 0.567649\tvalid_1's multi_logloss: 0.762634\n",
      "[267]\ttraining's multi_logloss: 0.566508\tvalid_1's multi_logloss: 0.761944\n",
      "[268]\ttraining's multi_logloss: 0.565362\tvalid_1's multi_logloss: 0.761245\n",
      "[269]\ttraining's multi_logloss: 0.564279\tvalid_1's multi_logloss: 0.76061\n",
      "[270]\ttraining's multi_logloss: 0.563165\tvalid_1's multi_logloss: 0.75996\n",
      "[271]\ttraining's multi_logloss: 0.56206\tvalid_1's multi_logloss: 0.759267\n",
      "[272]\ttraining's multi_logloss: 0.560964\tvalid_1's multi_logloss: 0.758605\n",
      "[273]\ttraining's multi_logloss: 0.559875\tvalid_1's multi_logloss: 0.75793\n",
      "[274]\ttraining's multi_logloss: 0.558804\tvalid_1's multi_logloss: 0.757329\n",
      "[275]\ttraining's multi_logloss: 0.557751\tvalid_1's multi_logloss: 0.756679\n",
      "[276]\ttraining's multi_logloss: 0.556701\tvalid_1's multi_logloss: 0.756057\n",
      "[277]\ttraining's multi_logloss: 0.555619\tvalid_1's multi_logloss: 0.755407\n",
      "[278]\ttraining's multi_logloss: 0.554535\tvalid_1's multi_logloss: 0.754743\n",
      "[279]\ttraining's multi_logloss: 0.553488\tvalid_1's multi_logloss: 0.754111\n",
      "[280]\ttraining's multi_logloss: 0.552449\tvalid_1's multi_logloss: 0.753482\n",
      "[281]\ttraining's multi_logloss: 0.551426\tvalid_1's multi_logloss: 0.752927\n",
      "[282]\ttraining's multi_logloss: 0.55037\tvalid_1's multi_logloss: 0.752291\n",
      "[283]\ttraining's multi_logloss: 0.549339\tvalid_1's multi_logloss: 0.751746\n",
      "[284]\ttraining's multi_logloss: 0.54832\tvalid_1's multi_logloss: 0.751153\n",
      "[285]\ttraining's multi_logloss: 0.547315\tvalid_1's multi_logloss: 0.750589\n",
      "[286]\ttraining's multi_logloss: 0.546304\tvalid_1's multi_logloss: 0.750018\n",
      "[287]\ttraining's multi_logloss: 0.545279\tvalid_1's multi_logloss: 0.749446\n",
      "[288]\ttraining's multi_logloss: 0.544261\tvalid_1's multi_logloss: 0.748858\n",
      "[289]\ttraining's multi_logloss: 0.54326\tvalid_1's multi_logloss: 0.748274\n",
      "[290]\ttraining's multi_logloss: 0.542265\tvalid_1's multi_logloss: 0.747742\n",
      "[291]\ttraining's multi_logloss: 0.541281\tvalid_1's multi_logloss: 0.747169\n",
      "[292]\ttraining's multi_logloss: 0.540269\tvalid_1's multi_logloss: 0.746579\n",
      "[293]\ttraining's multi_logloss: 0.539313\tvalid_1's multi_logloss: 0.746038\n",
      "[294]\ttraining's multi_logloss: 0.53833\tvalid_1's multi_logloss: 0.745538\n",
      "[295]\ttraining's multi_logloss: 0.537374\tvalid_1's multi_logloss: 0.745032\n",
      "[296]\ttraining's multi_logloss: 0.536408\tvalid_1's multi_logloss: 0.744479\n",
      "[297]\ttraining's multi_logloss: 0.53545\tvalid_1's multi_logloss: 0.743967\n",
      "[298]\ttraining's multi_logloss: 0.534502\tvalid_1's multi_logloss: 0.743438\n",
      "[299]\ttraining's multi_logloss: 0.533534\tvalid_1's multi_logloss: 0.742929\n",
      "[300]\ttraining's multi_logloss: 0.532611\tvalid_1's multi_logloss: 0.742427\n",
      "[301]\ttraining's multi_logloss: 0.531641\tvalid_1's multi_logloss: 0.741862\n",
      "[302]\ttraining's multi_logloss: 0.530695\tvalid_1's multi_logloss: 0.741332\n",
      "[303]\ttraining's multi_logloss: 0.52978\tvalid_1's multi_logloss: 0.740838\n",
      "[304]\ttraining's multi_logloss: 0.528844\tvalid_1's multi_logloss: 0.740363\n",
      "[305]\ttraining's multi_logloss: 0.527917\tvalid_1's multi_logloss: 0.739826\n",
      "[306]\ttraining's multi_logloss: 0.527012\tvalid_1's multi_logloss: 0.739367\n",
      "[307]\ttraining's multi_logloss: 0.526081\tvalid_1's multi_logloss: 0.738823\n",
      "[308]\ttraining's multi_logloss: 0.52516\tvalid_1's multi_logloss: 0.73835\n",
      "[309]\ttraining's multi_logloss: 0.524236\tvalid_1's multi_logloss: 0.737857\n",
      "[310]\ttraining's multi_logloss: 0.523333\tvalid_1's multi_logloss: 0.737387\n",
      "[311]\ttraining's multi_logloss: 0.522442\tvalid_1's multi_logloss: 0.73688\n",
      "[312]\ttraining's multi_logloss: 0.521536\tvalid_1's multi_logloss: 0.736352\n",
      "[313]\ttraining's multi_logloss: 0.52064\tvalid_1's multi_logloss: 0.73587\n",
      "[314]\ttraining's multi_logloss: 0.51973\tvalid_1's multi_logloss: 0.73537\n",
      "[315]\ttraining's multi_logloss: 0.518847\tvalid_1's multi_logloss: 0.734889\n",
      "[316]\ttraining's multi_logloss: 0.517981\tvalid_1's multi_logloss: 0.734442\n",
      "[317]\ttraining's multi_logloss: 0.517086\tvalid_1's multi_logloss: 0.733935\n",
      "[318]\ttraining's multi_logloss: 0.51621\tvalid_1's multi_logloss: 0.733496\n",
      "[319]\ttraining's multi_logloss: 0.515353\tvalid_1's multi_logloss: 0.73306\n",
      "[320]\ttraining's multi_logloss: 0.514509\tvalid_1's multi_logloss: 0.732585\n",
      "[321]\ttraining's multi_logloss: 0.513644\tvalid_1's multi_logloss: 0.732154\n",
      "[322]\ttraining's multi_logloss: 0.512807\tvalid_1's multi_logloss: 0.731731\n",
      "[323]\ttraining's multi_logloss: 0.511941\tvalid_1's multi_logloss: 0.731272\n",
      "[324]\ttraining's multi_logloss: 0.51112\tvalid_1's multi_logloss: 0.730848\n",
      "[325]\ttraining's multi_logloss: 0.510275\tvalid_1's multi_logloss: 0.73043\n",
      "[326]\ttraining's multi_logloss: 0.509418\tvalid_1's multi_logloss: 0.729972\n",
      "[327]\ttraining's multi_logloss: 0.508575\tvalid_1's multi_logloss: 0.729521\n",
      "[328]\ttraining's multi_logloss: 0.507739\tvalid_1's multi_logloss: 0.729103\n",
      "[329]\ttraining's multi_logloss: 0.506904\tvalid_1's multi_logloss: 0.728652\n",
      "[330]\ttraining's multi_logloss: 0.50608\tvalid_1's multi_logloss: 0.728222\n",
      "[331]\ttraining's multi_logloss: 0.505273\tvalid_1's multi_logloss: 0.72782\n",
      "[332]\ttraining's multi_logloss: 0.50446\tvalid_1's multi_logloss: 0.727381\n",
      "[333]\ttraining's multi_logloss: 0.503644\tvalid_1's multi_logloss: 0.726943\n"
     ]
    },
    {
     "name": "stdout",
     "output_type": "stream",
     "text": [
      "[334]\ttraining's multi_logloss: 0.502832\tvalid_1's multi_logloss: 0.726538\n",
      "[335]\ttraining's multi_logloss: 0.502026\tvalid_1's multi_logloss: 0.726094\n",
      "[336]\ttraining's multi_logloss: 0.501227\tvalid_1's multi_logloss: 0.725684\n",
      "[337]\ttraining's multi_logloss: 0.500423\tvalid_1's multi_logloss: 0.725261\n",
      "[338]\ttraining's multi_logloss: 0.499622\tvalid_1's multi_logloss: 0.724883\n",
      "[339]\ttraining's multi_logloss: 0.498818\tvalid_1's multi_logloss: 0.724482\n",
      "[340]\ttraining's multi_logloss: 0.498028\tvalid_1's multi_logloss: 0.72409\n",
      "[341]\ttraining's multi_logloss: 0.497244\tvalid_1's multi_logloss: 0.723672\n",
      "[342]\ttraining's multi_logloss: 0.496457\tvalid_1's multi_logloss: 0.723275\n",
      "[343]\ttraining's multi_logloss: 0.495654\tvalid_1's multi_logloss: 0.722866\n",
      "[344]\ttraining's multi_logloss: 0.494864\tvalid_1's multi_logloss: 0.722506\n",
      "[345]\ttraining's multi_logloss: 0.494109\tvalid_1's multi_logloss: 0.72209\n",
      "[346]\ttraining's multi_logloss: 0.493289\tvalid_1's multi_logloss: 0.721673\n",
      "[347]\ttraining's multi_logloss: 0.492523\tvalid_1's multi_logloss: 0.72129\n",
      "[348]\ttraining's multi_logloss: 0.491737\tvalid_1's multi_logloss: 0.720896\n",
      "[349]\ttraining's multi_logloss: 0.490981\tvalid_1's multi_logloss: 0.720543\n",
      "[350]\ttraining's multi_logloss: 0.490227\tvalid_1's multi_logloss: 0.72016\n",
      "[351]\ttraining's multi_logloss: 0.489463\tvalid_1's multi_logloss: 0.719802\n",
      "[352]\ttraining's multi_logloss: 0.488715\tvalid_1's multi_logloss: 0.719459\n",
      "[353]\ttraining's multi_logloss: 0.487951\tvalid_1's multi_logloss: 0.71909\n",
      "[354]\ttraining's multi_logloss: 0.487205\tvalid_1's multi_logloss: 0.71874\n",
      "[355]\ttraining's multi_logloss: 0.486445\tvalid_1's multi_logloss: 0.718368\n",
      "[356]\ttraining's multi_logloss: 0.485691\tvalid_1's multi_logloss: 0.717994\n",
      "[357]\ttraining's multi_logloss: 0.484947\tvalid_1's multi_logloss: 0.717639\n",
      "[358]\ttraining's multi_logloss: 0.484166\tvalid_1's multi_logloss: 0.717257\n",
      "[359]\ttraining's multi_logloss: 0.48344\tvalid_1's multi_logloss: 0.716928\n",
      "[360]\ttraining's multi_logloss: 0.482714\tvalid_1's multi_logloss: 0.716562\n",
      "[361]\ttraining's multi_logloss: 0.482003\tvalid_1's multi_logloss: 0.716237\n",
      "[362]\ttraining's multi_logloss: 0.48126\tvalid_1's multi_logloss: 0.715876\n",
      "[363]\ttraining's multi_logloss: 0.480535\tvalid_1's multi_logloss: 0.715543\n",
      "[364]\ttraining's multi_logloss: 0.479813\tvalid_1's multi_logloss: 0.715216\n",
      "[365]\ttraining's multi_logloss: 0.479082\tvalid_1's multi_logloss: 0.714845\n",
      "[366]\ttraining's multi_logloss: 0.478383\tvalid_1's multi_logloss: 0.714541\n",
      "[367]\ttraining's multi_logloss: 0.477689\tvalid_1's multi_logloss: 0.714226\n",
      "[368]\ttraining's multi_logloss: 0.476966\tvalid_1's multi_logloss: 0.713936\n",
      "[369]\ttraining's multi_logloss: 0.476253\tvalid_1's multi_logloss: 0.713618\n",
      "[370]\ttraining's multi_logloss: 0.475557\tvalid_1's multi_logloss: 0.713282\n",
      "[371]\ttraining's multi_logloss: 0.47487\tvalid_1's multi_logloss: 0.712962\n",
      "[372]\ttraining's multi_logloss: 0.47417\tvalid_1's multi_logloss: 0.712658\n",
      "[373]\ttraining's multi_logloss: 0.473463\tvalid_1's multi_logloss: 0.712349\n",
      "[374]\ttraining's multi_logloss: 0.472775\tvalid_1's multi_logloss: 0.712062\n",
      "[375]\ttraining's multi_logloss: 0.472071\tvalid_1's multi_logloss: 0.711733\n",
      "[376]\ttraining's multi_logloss: 0.471386\tvalid_1's multi_logloss: 0.711424\n",
      "[377]\ttraining's multi_logloss: 0.470693\tvalid_1's multi_logloss: 0.711081\n",
      "[378]\ttraining's multi_logloss: 0.470024\tvalid_1's multi_logloss: 0.710791\n",
      "[379]\ttraining's multi_logloss: 0.469354\tvalid_1's multi_logloss: 0.71051\n",
      "[380]\ttraining's multi_logloss: 0.468669\tvalid_1's multi_logloss: 0.710212\n",
      "[381]\ttraining's multi_logloss: 0.467999\tvalid_1's multi_logloss: 0.709941\n",
      "[382]\ttraining's multi_logloss: 0.46733\tvalid_1's multi_logloss: 0.709656\n",
      "[383]\ttraining's multi_logloss: 0.466668\tvalid_1's multi_logloss: 0.709362\n",
      "[384]\ttraining's multi_logloss: 0.465991\tvalid_1's multi_logloss: 0.70907\n",
      "[385]\ttraining's multi_logloss: 0.46533\tvalid_1's multi_logloss: 0.708799\n",
      "[386]\ttraining's multi_logloss: 0.464663\tvalid_1's multi_logloss: 0.708485\n",
      "[387]\ttraining's multi_logloss: 0.464\tvalid_1's multi_logloss: 0.708169\n",
      "[388]\ttraining's multi_logloss: 0.463339\tvalid_1's multi_logloss: 0.707848\n",
      "[389]\ttraining's multi_logloss: 0.462693\tvalid_1's multi_logloss: 0.707572\n",
      "[390]\ttraining's multi_logloss: 0.462049\tvalid_1's multi_logloss: 0.707288\n",
      "[391]\ttraining's multi_logloss: 0.4614\tvalid_1's multi_logloss: 0.707009\n",
      "[392]\ttraining's multi_logloss: 0.460757\tvalid_1's multi_logloss: 0.706724\n",
      "[393]\ttraining's multi_logloss: 0.460115\tvalid_1's multi_logloss: 0.706455\n",
      "[394]\ttraining's multi_logloss: 0.459476\tvalid_1's multi_logloss: 0.706174\n",
      "[395]\ttraining's multi_logloss: 0.458832\tvalid_1's multi_logloss: 0.705892\n",
      "[396]\ttraining's multi_logloss: 0.458201\tvalid_1's multi_logloss: 0.705624\n",
      "[397]\ttraining's multi_logloss: 0.457554\tvalid_1's multi_logloss: 0.705368\n",
      "[398]\ttraining's multi_logloss: 0.456917\tvalid_1's multi_logloss: 0.705108\n",
      "[399]\ttraining's multi_logloss: 0.45628\tvalid_1's multi_logloss: 0.704849\n",
      "[400]\ttraining's multi_logloss: 0.455635\tvalid_1's multi_logloss: 0.704614\n",
      "[401]\ttraining's multi_logloss: 0.455\tvalid_1's multi_logloss: 0.704352\n",
      "[402]\ttraining's multi_logloss: 0.454366\tvalid_1's multi_logloss: 0.704078\n",
      "[403]\ttraining's multi_logloss: 0.453748\tvalid_1's multi_logloss: 0.703854\n",
      "[404]\ttraining's multi_logloss: 0.453118\tvalid_1's multi_logloss: 0.703584\n",
      "[405]\ttraining's multi_logloss: 0.452505\tvalid_1's multi_logloss: 0.703318\n",
      "[406]\ttraining's multi_logloss: 0.45186\tvalid_1's multi_logloss: 0.703057\n",
      "[407]\ttraining's multi_logloss: 0.451239\tvalid_1's multi_logloss: 0.702805\n",
      "[408]\ttraining's multi_logloss: 0.450613\tvalid_1's multi_logloss: 0.702514\n",
      "[409]\ttraining's multi_logloss: 0.450005\tvalid_1's multi_logloss: 0.702268\n",
      "[410]\ttraining's multi_logloss: 0.449394\tvalid_1's multi_logloss: 0.702045\n",
      "[411]\ttraining's multi_logloss: 0.448776\tvalid_1's multi_logloss: 0.701784\n",
      "[412]\ttraining's multi_logloss: 0.448148\tvalid_1's multi_logloss: 0.701521\n",
      "[413]\ttraining's multi_logloss: 0.447549\tvalid_1's multi_logloss: 0.701313\n",
      "[414]\ttraining's multi_logloss: 0.446943\tvalid_1's multi_logloss: 0.701102\n",
      "[415]\ttraining's multi_logloss: 0.446341\tvalid_1's multi_logloss: 0.700863\n",
      "[416]\ttraining's multi_logloss: 0.445733\tvalid_1's multi_logloss: 0.700613\n",
      "[417]\ttraining's multi_logloss: 0.445137\tvalid_1's multi_logloss: 0.700382\n",
      "[418]\ttraining's multi_logloss: 0.44454\tvalid_1's multi_logloss: 0.700157\n",
      "[419]\ttraining's multi_logloss: 0.443943\tvalid_1's multi_logloss: 0.699916\n",
      "[420]\ttraining's multi_logloss: 0.44334\tvalid_1's multi_logloss: 0.699684\n",
      "[421]\ttraining's multi_logloss: 0.44276\tvalid_1's multi_logloss: 0.699485\n",
      "[422]\ttraining's multi_logloss: 0.442173\tvalid_1's multi_logloss: 0.699288\n",
      "[423]\ttraining's multi_logloss: 0.44159\tvalid_1's multi_logloss: 0.699058\n",
      "[424]\ttraining's multi_logloss: 0.441003\tvalid_1's multi_logloss: 0.698823\n",
      "[425]\ttraining's multi_logloss: 0.440407\tvalid_1's multi_logloss: 0.698579\n",
      "[426]\ttraining's multi_logloss: 0.439829\tvalid_1's multi_logloss: 0.69833\n",
      "[427]\ttraining's multi_logloss: 0.439258\tvalid_1's multi_logloss: 0.698146\n",
      "[428]\ttraining's multi_logloss: 0.438665\tvalid_1's multi_logloss: 0.697923\n",
      "[429]\ttraining's multi_logloss: 0.43808\tvalid_1's multi_logloss: 0.697702\n",
      "[430]\ttraining's multi_logloss: 0.437487\tvalid_1's multi_logloss: 0.69747\n",
      "[431]\ttraining's multi_logloss: 0.436929\tvalid_1's multi_logloss: 0.697256\n",
      "[432]\ttraining's multi_logloss: 0.436347\tvalid_1's multi_logloss: 0.69705\n",
      "[433]\ttraining's multi_logloss: 0.435763\tvalid_1's multi_logloss: 0.696848\n",
      "[434]\ttraining's multi_logloss: 0.435171\tvalid_1's multi_logloss: 0.696591\n",
      "[435]\ttraining's multi_logloss: 0.434607\tvalid_1's multi_logloss: 0.696375\n",
      "[436]\ttraining's multi_logloss: 0.434033\tvalid_1's multi_logloss: 0.696135\n",
      "[437]\ttraining's multi_logloss: 0.433465\tvalid_1's multi_logloss: 0.695916\n",
      "[438]\ttraining's multi_logloss: 0.432911\tvalid_1's multi_logloss: 0.6957\n",
      "[439]\ttraining's multi_logloss: 0.432361\tvalid_1's multi_logloss: 0.695452\n",
      "[440]\ttraining's multi_logloss: 0.431801\tvalid_1's multi_logloss: 0.695276\n",
      "[441]\ttraining's multi_logloss: 0.431238\tvalid_1's multi_logloss: 0.695058\n",
      "[442]\ttraining's multi_logloss: 0.430682\tvalid_1's multi_logloss: 0.694865\n",
      "[443]\ttraining's multi_logloss: 0.43014\tvalid_1's multi_logloss: 0.694684\n"
     ]
    },
    {
     "name": "stdout",
     "output_type": "stream",
     "text": [
      "[444]\ttraining's multi_logloss: 0.429576\tvalid_1's multi_logloss: 0.694499\n",
      "[445]\ttraining's multi_logloss: 0.429019\tvalid_1's multi_logloss: 0.694301\n",
      "[446]\ttraining's multi_logloss: 0.428465\tvalid_1's multi_logloss: 0.694098\n",
      "[447]\ttraining's multi_logloss: 0.427908\tvalid_1's multi_logloss: 0.693875\n",
      "[448]\ttraining's multi_logloss: 0.42736\tvalid_1's multi_logloss: 0.69367\n",
      "[449]\ttraining's multi_logloss: 0.426816\tvalid_1's multi_logloss: 0.693446\n",
      "[450]\ttraining's multi_logloss: 0.426277\tvalid_1's multi_logloss: 0.693252\n",
      "[451]\ttraining's multi_logloss: 0.425731\tvalid_1's multi_logloss: 0.693043\n",
      "[452]\ttraining's multi_logloss: 0.425173\tvalid_1's multi_logloss: 0.692838\n",
      "[453]\ttraining's multi_logloss: 0.42462\tvalid_1's multi_logloss: 0.692629\n",
      "[454]\ttraining's multi_logloss: 0.424081\tvalid_1's multi_logloss: 0.692413\n",
      "[455]\ttraining's multi_logloss: 0.423544\tvalid_1's multi_logloss: 0.6922\n",
      "[456]\ttraining's multi_logloss: 0.422997\tvalid_1's multi_logloss: 0.691996\n",
      "[457]\ttraining's multi_logloss: 0.42246\tvalid_1's multi_logloss: 0.691798\n",
      "[458]\ttraining's multi_logloss: 0.421931\tvalid_1's multi_logloss: 0.691574\n",
      "[459]\ttraining's multi_logloss: 0.421402\tvalid_1's multi_logloss: 0.691414\n",
      "[460]\ttraining's multi_logloss: 0.420874\tvalid_1's multi_logloss: 0.691228\n",
      "[461]\ttraining's multi_logloss: 0.420361\tvalid_1's multi_logloss: 0.691076\n",
      "[462]\ttraining's multi_logloss: 0.419828\tvalid_1's multi_logloss: 0.690883\n",
      "[463]\ttraining's multi_logloss: 0.419278\tvalid_1's multi_logloss: 0.690701\n",
      "[464]\ttraining's multi_logloss: 0.41875\tvalid_1's multi_logloss: 0.690522\n",
      "[465]\ttraining's multi_logloss: 0.418237\tvalid_1's multi_logloss: 0.690363\n",
      "[466]\ttraining's multi_logloss: 0.417714\tvalid_1's multi_logloss: 0.690142\n",
      "[467]\ttraining's multi_logloss: 0.417205\tvalid_1's multi_logloss: 0.689943\n",
      "[468]\ttraining's multi_logloss: 0.416684\tvalid_1's multi_logloss: 0.689751\n",
      "[469]\ttraining's multi_logloss: 0.416173\tvalid_1's multi_logloss: 0.689553\n",
      "[470]\ttraining's multi_logloss: 0.41565\tvalid_1's multi_logloss: 0.689372\n",
      "[471]\ttraining's multi_logloss: 0.415127\tvalid_1's multi_logloss: 0.689212\n",
      "[472]\ttraining's multi_logloss: 0.414636\tvalid_1's multi_logloss: 0.689049\n",
      "[473]\ttraining's multi_logloss: 0.414128\tvalid_1's multi_logloss: 0.688852\n",
      "[474]\ttraining's multi_logloss: 0.413603\tvalid_1's multi_logloss: 0.688699\n",
      "[475]\ttraining's multi_logloss: 0.413096\tvalid_1's multi_logloss: 0.688516\n",
      "[476]\ttraining's multi_logloss: 0.412588\tvalid_1's multi_logloss: 0.688348\n",
      "[477]\ttraining's multi_logloss: 0.412077\tvalid_1's multi_logloss: 0.688174\n",
      "[478]\ttraining's multi_logloss: 0.411581\tvalid_1's multi_logloss: 0.688025\n",
      "[479]\ttraining's multi_logloss: 0.411066\tvalid_1's multi_logloss: 0.687847\n",
      "[480]\ttraining's multi_logloss: 0.410567\tvalid_1's multi_logloss: 0.687665\n",
      "[481]\ttraining's multi_logloss: 0.410074\tvalid_1's multi_logloss: 0.687521\n",
      "[482]\ttraining's multi_logloss: 0.409561\tvalid_1's multi_logloss: 0.687319\n",
      "[483]\ttraining's multi_logloss: 0.409076\tvalid_1's multi_logloss: 0.687172\n",
      "[484]\ttraining's multi_logloss: 0.408578\tvalid_1's multi_logloss: 0.687038\n",
      "[485]\ttraining's multi_logloss: 0.408076\tvalid_1's multi_logloss: 0.686878\n",
      "[486]\ttraining's multi_logloss: 0.407592\tvalid_1's multi_logloss: 0.686696\n",
      "[487]\ttraining's multi_logloss: 0.407098\tvalid_1's multi_logloss: 0.68654\n",
      "[488]\ttraining's multi_logloss: 0.40661\tvalid_1's multi_logloss: 0.686367\n",
      "[489]\ttraining's multi_logloss: 0.406111\tvalid_1's multi_logloss: 0.686188\n",
      "[490]\ttraining's multi_logloss: 0.405629\tvalid_1's multi_logloss: 0.686023\n",
      "[491]\ttraining's multi_logloss: 0.405123\tvalid_1's multi_logloss: 0.685819\n",
      "[492]\ttraining's multi_logloss: 0.404617\tvalid_1's multi_logloss: 0.685651\n",
      "[493]\ttraining's multi_logloss: 0.404133\tvalid_1's multi_logloss: 0.685476\n",
      "[494]\ttraining's multi_logloss: 0.403658\tvalid_1's multi_logloss: 0.685328\n",
      "[495]\ttraining's multi_logloss: 0.403166\tvalid_1's multi_logloss: 0.685156\n",
      "[496]\ttraining's multi_logloss: 0.40268\tvalid_1's multi_logloss: 0.685011\n",
      "[497]\ttraining's multi_logloss: 0.402196\tvalid_1's multi_logloss: 0.684849\n",
      "[498]\ttraining's multi_logloss: 0.401708\tvalid_1's multi_logloss: 0.684736\n",
      "[499]\ttraining's multi_logloss: 0.401226\tvalid_1's multi_logloss: 0.684561\n",
      "[500]\ttraining's multi_logloss: 0.400754\tvalid_1's multi_logloss: 0.6844\n",
      "[501]\ttraining's multi_logloss: 0.400266\tvalid_1's multi_logloss: 0.684225\n",
      "[502]\ttraining's multi_logloss: 0.399787\tvalid_1's multi_logloss: 0.684074\n",
      "[503]\ttraining's multi_logloss: 0.399316\tvalid_1's multi_logloss: 0.683909\n",
      "[504]\ttraining's multi_logloss: 0.398846\tvalid_1's multi_logloss: 0.683796\n",
      "[505]\ttraining's multi_logloss: 0.398368\tvalid_1's multi_logloss: 0.683661\n",
      "[506]\ttraining's multi_logloss: 0.397897\tvalid_1's multi_logloss: 0.683518\n",
      "[507]\ttraining's multi_logloss: 0.397427\tvalid_1's multi_logloss: 0.683386\n",
      "[508]\ttraining's multi_logloss: 0.396955\tvalid_1's multi_logloss: 0.683232\n",
      "[509]\ttraining's multi_logloss: 0.39648\tvalid_1's multi_logloss: 0.683075\n",
      "[510]\ttraining's multi_logloss: 0.396033\tvalid_1's multi_logloss: 0.682951\n",
      "[511]\ttraining's multi_logloss: 0.39556\tvalid_1's multi_logloss: 0.682804\n",
      "[512]\ttraining's multi_logloss: 0.395089\tvalid_1's multi_logloss: 0.682643\n",
      "[513]\ttraining's multi_logloss: 0.394619\tvalid_1's multi_logloss: 0.682501\n",
      "[514]\ttraining's multi_logloss: 0.394162\tvalid_1's multi_logloss: 0.682361\n",
      "[515]\ttraining's multi_logloss: 0.393702\tvalid_1's multi_logloss: 0.682221\n",
      "[516]\ttraining's multi_logloss: 0.393246\tvalid_1's multi_logloss: 0.682055\n",
      "[517]\ttraining's multi_logloss: 0.392785\tvalid_1's multi_logloss: 0.68189\n",
      "[518]\ttraining's multi_logloss: 0.392336\tvalid_1's multi_logloss: 0.681749\n",
      "[519]\ttraining's multi_logloss: 0.391891\tvalid_1's multi_logloss: 0.681647\n",
      "[520]\ttraining's multi_logloss: 0.391427\tvalid_1's multi_logloss: 0.681482\n",
      "[521]\ttraining's multi_logloss: 0.390963\tvalid_1's multi_logloss: 0.681344\n",
      "[522]\ttraining's multi_logloss: 0.390495\tvalid_1's multi_logloss: 0.6812\n",
      "[523]\ttraining's multi_logloss: 0.390045\tvalid_1's multi_logloss: 0.681068\n",
      "[524]\ttraining's multi_logloss: 0.389608\tvalid_1's multi_logloss: 0.680936\n",
      "[525]\ttraining's multi_logloss: 0.389152\tvalid_1's multi_logloss: 0.680796\n",
      "[526]\ttraining's multi_logloss: 0.388705\tvalid_1's multi_logloss: 0.68064\n",
      "[527]\ttraining's multi_logloss: 0.388246\tvalid_1's multi_logloss: 0.680533\n",
      "[528]\ttraining's multi_logloss: 0.3878\tvalid_1's multi_logloss: 0.680399\n",
      "[529]\ttraining's multi_logloss: 0.38736\tvalid_1's multi_logloss: 0.68026\n",
      "[530]\ttraining's multi_logloss: 0.386911\tvalid_1's multi_logloss: 0.680124\n",
      "[531]\ttraining's multi_logloss: 0.386452\tvalid_1's multi_logloss: 0.679983\n",
      "[532]\ttraining's multi_logloss: 0.386017\tvalid_1's multi_logloss: 0.679854\n",
      "[533]\ttraining's multi_logloss: 0.385571\tvalid_1's multi_logloss: 0.679729\n",
      "[534]\ttraining's multi_logloss: 0.385128\tvalid_1's multi_logloss: 0.679596\n",
      "[535]\ttraining's multi_logloss: 0.384693\tvalid_1's multi_logloss: 0.679471\n",
      "[536]\ttraining's multi_logloss: 0.38425\tvalid_1's multi_logloss: 0.679345\n",
      "[537]\ttraining's multi_logloss: 0.38381\tvalid_1's multi_logloss: 0.679216\n",
      "[538]\ttraining's multi_logloss: 0.383376\tvalid_1's multi_logloss: 0.679106\n",
      "[539]\ttraining's multi_logloss: 0.382937\tvalid_1's multi_logloss: 0.678978\n",
      "[540]\ttraining's multi_logloss: 0.382499\tvalid_1's multi_logloss: 0.678853\n",
      "[541]\ttraining's multi_logloss: 0.382052\tvalid_1's multi_logloss: 0.678724\n",
      "[542]\ttraining's multi_logloss: 0.381621\tvalid_1's multi_logloss: 0.67858\n",
      "[543]\ttraining's multi_logloss: 0.38116\tvalid_1's multi_logloss: 0.678485\n",
      "[544]\ttraining's multi_logloss: 0.380724\tvalid_1's multi_logloss: 0.678351\n",
      "[545]\ttraining's multi_logloss: 0.380283\tvalid_1's multi_logloss: 0.678239\n",
      "[546]\ttraining's multi_logloss: 0.379831\tvalid_1's multi_logloss: 0.678126\n",
      "[547]\ttraining's multi_logloss: 0.379404\tvalid_1's multi_logloss: 0.67799\n",
      "[548]\ttraining's multi_logloss: 0.378966\tvalid_1's multi_logloss: 0.677843\n",
      "[549]\ttraining's multi_logloss: 0.378546\tvalid_1's multi_logloss: 0.677736\n",
      "[550]\ttraining's multi_logloss: 0.378115\tvalid_1's multi_logloss: 0.677655\n",
      "[551]\ttraining's multi_logloss: 0.377701\tvalid_1's multi_logloss: 0.677534\n",
      "[552]\ttraining's multi_logloss: 0.377283\tvalid_1's multi_logloss: 0.677431\n",
      "[553]\ttraining's multi_logloss: 0.376861\tvalid_1's multi_logloss: 0.677337\n"
     ]
    },
    {
     "name": "stdout",
     "output_type": "stream",
     "text": [
      "[554]\ttraining's multi_logloss: 0.376433\tvalid_1's multi_logloss: 0.677203\n",
      "[555]\ttraining's multi_logloss: 0.376005\tvalid_1's multi_logloss: 0.677077\n",
      "[556]\ttraining's multi_logloss: 0.375584\tvalid_1's multi_logloss: 0.676948\n",
      "[557]\ttraining's multi_logloss: 0.375172\tvalid_1's multi_logloss: 0.676826\n",
      "[558]\ttraining's multi_logloss: 0.374743\tvalid_1's multi_logloss: 0.676734\n",
      "[559]\ttraining's multi_logloss: 0.374329\tvalid_1's multi_logloss: 0.676628\n",
      "[560]\ttraining's multi_logloss: 0.373907\tvalid_1's multi_logloss: 0.676534\n",
      "[561]\ttraining's multi_logloss: 0.373488\tvalid_1's multi_logloss: 0.676422\n",
      "[562]\ttraining's multi_logloss: 0.373059\tvalid_1's multi_logloss: 0.676303\n",
      "[563]\ttraining's multi_logloss: 0.372643\tvalid_1's multi_logloss: 0.676193\n",
      "[564]\ttraining's multi_logloss: 0.37223\tvalid_1's multi_logloss: 0.676053\n",
      "[565]\ttraining's multi_logloss: 0.371822\tvalid_1's multi_logloss: 0.675959\n",
      "[566]\ttraining's multi_logloss: 0.371397\tvalid_1's multi_logloss: 0.675787\n",
      "[567]\ttraining's multi_logloss: 0.370995\tvalid_1's multi_logloss: 0.675666\n",
      "[568]\ttraining's multi_logloss: 0.37059\tvalid_1's multi_logloss: 0.675559\n",
      "[569]\ttraining's multi_logloss: 0.370183\tvalid_1's multi_logloss: 0.675449\n",
      "[570]\ttraining's multi_logloss: 0.369752\tvalid_1's multi_logloss: 0.675339\n",
      "[571]\ttraining's multi_logloss: 0.369347\tvalid_1's multi_logloss: 0.675262\n",
      "[572]\ttraining's multi_logloss: 0.368944\tvalid_1's multi_logloss: 0.675167\n",
      "[573]\ttraining's multi_logloss: 0.368554\tvalid_1's multi_logloss: 0.675054\n",
      "[574]\ttraining's multi_logloss: 0.368162\tvalid_1's multi_logloss: 0.674967\n",
      "[575]\ttraining's multi_logloss: 0.367753\tvalid_1's multi_logloss: 0.67488\n",
      "[576]\ttraining's multi_logloss: 0.367352\tvalid_1's multi_logloss: 0.674783\n",
      "[577]\ttraining's multi_logloss: 0.366952\tvalid_1's multi_logloss: 0.674694\n",
      "[578]\ttraining's multi_logloss: 0.366556\tvalid_1's multi_logloss: 0.674615\n",
      "[579]\ttraining's multi_logloss: 0.366152\tvalid_1's multi_logloss: 0.674505\n",
      "[580]\ttraining's multi_logloss: 0.365753\tvalid_1's multi_logloss: 0.674405\n",
      "[581]\ttraining's multi_logloss: 0.365366\tvalid_1's multi_logloss: 0.674282\n",
      "[582]\ttraining's multi_logloss: 0.364966\tvalid_1's multi_logloss: 0.67419\n",
      "[583]\ttraining's multi_logloss: 0.364573\tvalid_1's multi_logloss: 0.674086\n",
      "[584]\ttraining's multi_logloss: 0.364178\tvalid_1's multi_logloss: 0.673954\n",
      "[585]\ttraining's multi_logloss: 0.363783\tvalid_1's multi_logloss: 0.673841\n",
      "[586]\ttraining's multi_logloss: 0.363397\tvalid_1's multi_logloss: 0.673738\n",
      "[587]\ttraining's multi_logloss: 0.363009\tvalid_1's multi_logloss: 0.673613\n",
      "[588]\ttraining's multi_logloss: 0.362621\tvalid_1's multi_logloss: 0.673514\n",
      "[589]\ttraining's multi_logloss: 0.362239\tvalid_1's multi_logloss: 0.67342\n",
      "[590]\ttraining's multi_logloss: 0.361855\tvalid_1's multi_logloss: 0.673326\n",
      "[591]\ttraining's multi_logloss: 0.361453\tvalid_1's multi_logloss: 0.673226\n",
      "[592]\ttraining's multi_logloss: 0.361076\tvalid_1's multi_logloss: 0.673152\n",
      "[593]\ttraining's multi_logloss: 0.360687\tvalid_1's multi_logloss: 0.673073\n",
      "[594]\ttraining's multi_logloss: 0.360308\tvalid_1's multi_logloss: 0.672976\n",
      "[595]\ttraining's multi_logloss: 0.359918\tvalid_1's multi_logloss: 0.672881\n",
      "[596]\ttraining's multi_logloss: 0.359541\tvalid_1's multi_logloss: 0.67278\n",
      "[597]\ttraining's multi_logloss: 0.359167\tvalid_1's multi_logloss: 0.672681\n",
      "[598]\ttraining's multi_logloss: 0.358792\tvalid_1's multi_logloss: 0.67259\n",
      "[599]\ttraining's multi_logloss: 0.358413\tvalid_1's multi_logloss: 0.6725\n",
      "[600]\ttraining's multi_logloss: 0.358047\tvalid_1's multi_logloss: 0.672438\n",
      "[601]\ttraining's multi_logloss: 0.357655\tvalid_1's multi_logloss: 0.672374\n",
      "[602]\ttraining's multi_logloss: 0.357263\tvalid_1's multi_logloss: 0.672256\n",
      "[603]\ttraining's multi_logloss: 0.356881\tvalid_1's multi_logloss: 0.67216\n",
      "[604]\ttraining's multi_logloss: 0.356499\tvalid_1's multi_logloss: 0.67206\n",
      "[605]\ttraining's multi_logloss: 0.356108\tvalid_1's multi_logloss: 0.671979\n",
      "[606]\ttraining's multi_logloss: 0.35574\tvalid_1's multi_logloss: 0.671891\n",
      "[607]\ttraining's multi_logloss: 0.355361\tvalid_1's multi_logloss: 0.671789\n",
      "[608]\ttraining's multi_logloss: 0.354991\tvalid_1's multi_logloss: 0.671697\n",
      "[609]\ttraining's multi_logloss: 0.354603\tvalid_1's multi_logloss: 0.671589\n",
      "[610]\ttraining's multi_logloss: 0.354232\tvalid_1's multi_logloss: 0.671482\n",
      "[611]\ttraining's multi_logloss: 0.353855\tvalid_1's multi_logloss: 0.671375\n",
      "[612]\ttraining's multi_logloss: 0.353474\tvalid_1's multi_logloss: 0.67129\n",
      "[613]\ttraining's multi_logloss: 0.353093\tvalid_1's multi_logloss: 0.671202\n",
      "[614]\ttraining's multi_logloss: 0.352724\tvalid_1's multi_logloss: 0.671104\n",
      "[615]\ttraining's multi_logloss: 0.352361\tvalid_1's multi_logloss: 0.671031\n",
      "[616]\ttraining's multi_logloss: 0.351999\tvalid_1's multi_logloss: 0.670941\n",
      "[617]\ttraining's multi_logloss: 0.351634\tvalid_1's multi_logloss: 0.67086\n",
      "[618]\ttraining's multi_logloss: 0.351265\tvalid_1's multi_logloss: 0.670741\n",
      "[619]\ttraining's multi_logloss: 0.350894\tvalid_1's multi_logloss: 0.670668\n",
      "[620]\ttraining's multi_logloss: 0.350505\tvalid_1's multi_logloss: 0.670551\n",
      "[621]\ttraining's multi_logloss: 0.350139\tvalid_1's multi_logloss: 0.670457\n",
      "[622]\ttraining's multi_logloss: 0.349776\tvalid_1's multi_logloss: 0.67036\n",
      "[623]\ttraining's multi_logloss: 0.349417\tvalid_1's multi_logloss: 0.670291\n",
      "[624]\ttraining's multi_logloss: 0.34905\tvalid_1's multi_logloss: 0.670227\n",
      "[625]\ttraining's multi_logloss: 0.348693\tvalid_1's multi_logloss: 0.670143\n",
      "[626]\ttraining's multi_logloss: 0.348322\tvalid_1's multi_logloss: 0.670014\n",
      "[627]\ttraining's multi_logloss: 0.347971\tvalid_1's multi_logloss: 0.669946\n",
      "[628]\ttraining's multi_logloss: 0.347611\tvalid_1's multi_logloss: 0.669858\n",
      "[629]\ttraining's multi_logloss: 0.347254\tvalid_1's multi_logloss: 0.669752\n",
      "[630]\ttraining's multi_logloss: 0.346896\tvalid_1's multi_logloss: 0.669659\n",
      "[631]\ttraining's multi_logloss: 0.346532\tvalid_1's multi_logloss: 0.669592\n",
      "[632]\ttraining's multi_logloss: 0.346183\tvalid_1's multi_logloss: 0.66951\n",
      "[633]\ttraining's multi_logloss: 0.345821\tvalid_1's multi_logloss: 0.669437\n",
      "[634]\ttraining's multi_logloss: 0.345454\tvalid_1's multi_logloss: 0.669336\n",
      "[635]\ttraining's multi_logloss: 0.345098\tvalid_1's multi_logloss: 0.669256\n",
      "[636]\ttraining's multi_logloss: 0.344747\tvalid_1's multi_logloss: 0.669188\n",
      "[637]\ttraining's multi_logloss: 0.344382\tvalid_1's multi_logloss: 0.66913\n",
      "[638]\ttraining's multi_logloss: 0.344019\tvalid_1's multi_logloss: 0.669022\n",
      "[639]\ttraining's multi_logloss: 0.343664\tvalid_1's multi_logloss: 0.668952\n",
      "[640]\ttraining's multi_logloss: 0.343308\tvalid_1's multi_logloss: 0.668848\n",
      "[641]\ttraining's multi_logloss: 0.34296\tvalid_1's multi_logloss: 0.668759\n",
      "[642]\ttraining's multi_logloss: 0.342616\tvalid_1's multi_logloss: 0.668693\n",
      "[643]\ttraining's multi_logloss: 0.34227\tvalid_1's multi_logloss: 0.668614\n",
      "[644]\ttraining's multi_logloss: 0.341912\tvalid_1's multi_logloss: 0.668525\n",
      "[645]\ttraining's multi_logloss: 0.341561\tvalid_1's multi_logloss: 0.668472\n",
      "[646]\ttraining's multi_logloss: 0.341212\tvalid_1's multi_logloss: 0.668395\n",
      "[647]\ttraining's multi_logloss: 0.34087\tvalid_1's multi_logloss: 0.668321\n",
      "[648]\ttraining's multi_logloss: 0.34053\tvalid_1's multi_logloss: 0.66825\n",
      "[649]\ttraining's multi_logloss: 0.340193\tvalid_1's multi_logloss: 0.668204\n",
      "[650]\ttraining's multi_logloss: 0.339841\tvalid_1's multi_logloss: 0.668151\n",
      "[651]\ttraining's multi_logloss: 0.339494\tvalid_1's multi_logloss: 0.668097\n",
      "[652]\ttraining's multi_logloss: 0.339144\tvalid_1's multi_logloss: 0.667984\n",
      "[653]\ttraining's multi_logloss: 0.338811\tvalid_1's multi_logloss: 0.667901\n",
      "[654]\ttraining's multi_logloss: 0.33847\tvalid_1's multi_logloss: 0.667818\n",
      "[655]\ttraining's multi_logloss: 0.33813\tvalid_1's multi_logloss: 0.667754\n",
      "[656]\ttraining's multi_logloss: 0.337795\tvalid_1's multi_logloss: 0.667681\n",
      "[657]\ttraining's multi_logloss: 0.337462\tvalid_1's multi_logloss: 0.667606\n",
      "[658]\ttraining's multi_logloss: 0.337123\tvalid_1's multi_logloss: 0.667532\n",
      "[659]\ttraining's multi_logloss: 0.33678\tvalid_1's multi_logloss: 0.667445\n",
      "[660]\ttraining's multi_logloss: 0.336453\tvalid_1's multi_logloss: 0.667374\n",
      "[661]\ttraining's multi_logloss: 0.336113\tvalid_1's multi_logloss: 0.667283\n",
      "[662]\ttraining's multi_logloss: 0.335779\tvalid_1's multi_logloss: 0.667214\n",
      "[663]\ttraining's multi_logloss: 0.33544\tvalid_1's multi_logloss: 0.667132\n"
     ]
    },
    {
     "name": "stdout",
     "output_type": "stream",
     "text": [
      "[664]\ttraining's multi_logloss: 0.335111\tvalid_1's multi_logloss: 0.667092\n",
      "[665]\ttraining's multi_logloss: 0.334783\tvalid_1's multi_logloss: 0.667055\n",
      "[666]\ttraining's multi_logloss: 0.334442\tvalid_1's multi_logloss: 0.667002\n",
      "[667]\ttraining's multi_logloss: 0.334121\tvalid_1's multi_logloss: 0.666913\n",
      "[668]\ttraining's multi_logloss: 0.333789\tvalid_1's multi_logloss: 0.666849\n",
      "[669]\ttraining's multi_logloss: 0.333461\tvalid_1's multi_logloss: 0.666797\n",
      "[670]\ttraining's multi_logloss: 0.333127\tvalid_1's multi_logloss: 0.666709\n",
      "[671]\ttraining's multi_logloss: 0.332778\tvalid_1's multi_logloss: 0.666635\n",
      "[672]\ttraining's multi_logloss: 0.332459\tvalid_1's multi_logloss: 0.666572\n",
      "[673]\ttraining's multi_logloss: 0.332123\tvalid_1's multi_logloss: 0.666496\n",
      "[674]\ttraining's multi_logloss: 0.3318\tvalid_1's multi_logloss: 0.666433\n",
      "[675]\ttraining's multi_logloss: 0.331471\tvalid_1's multi_logloss: 0.666364\n",
      "[676]\ttraining's multi_logloss: 0.331127\tvalid_1's multi_logloss: 0.666269\n",
      "[677]\ttraining's multi_logloss: 0.330801\tvalid_1's multi_logloss: 0.66622\n",
      "[678]\ttraining's multi_logloss: 0.330466\tvalid_1's multi_logloss: 0.666129\n",
      "[679]\ttraining's multi_logloss: 0.330121\tvalid_1's multi_logloss: 0.666047\n",
      "[680]\ttraining's multi_logloss: 0.3298\tvalid_1's multi_logloss: 0.665996\n",
      "[681]\ttraining's multi_logloss: 0.329486\tvalid_1's multi_logloss: 0.665928\n",
      "[682]\ttraining's multi_logloss: 0.329151\tvalid_1's multi_logloss: 0.665855\n",
      "[683]\ttraining's multi_logloss: 0.328837\tvalid_1's multi_logloss: 0.665804\n",
      "[684]\ttraining's multi_logloss: 0.328521\tvalid_1's multi_logloss: 0.665747\n",
      "[685]\ttraining's multi_logloss: 0.328199\tvalid_1's multi_logloss: 0.665683\n",
      "[686]\ttraining's multi_logloss: 0.327872\tvalid_1's multi_logloss: 0.665594\n",
      "[687]\ttraining's multi_logloss: 0.327553\tvalid_1's multi_logloss: 0.665527\n",
      "[688]\ttraining's multi_logloss: 0.327228\tvalid_1's multi_logloss: 0.665441\n",
      "[689]\ttraining's multi_logloss: 0.326907\tvalid_1's multi_logloss: 0.665378\n",
      "[690]\ttraining's multi_logloss: 0.326584\tvalid_1's multi_logloss: 0.665324\n",
      "[691]\ttraining's multi_logloss: 0.326261\tvalid_1's multi_logloss: 0.665243\n",
      "[692]\ttraining's multi_logloss: 0.325929\tvalid_1's multi_logloss: 0.665159\n",
      "[693]\ttraining's multi_logloss: 0.325598\tvalid_1's multi_logloss: 0.665101\n",
      "[694]\ttraining's multi_logloss: 0.325289\tvalid_1's multi_logloss: 0.66504\n",
      "[695]\ttraining's multi_logloss: 0.324958\tvalid_1's multi_logloss: 0.66496\n",
      "[696]\ttraining's multi_logloss: 0.324645\tvalid_1's multi_logloss: 0.664893\n",
      "[697]\ttraining's multi_logloss: 0.324335\tvalid_1's multi_logloss: 0.664834\n",
      "[698]\ttraining's multi_logloss: 0.324025\tvalid_1's multi_logloss: 0.664786\n",
      "[699]\ttraining's multi_logloss: 0.323699\tvalid_1's multi_logloss: 0.66472\n",
      "[700]\ttraining's multi_logloss: 0.323389\tvalid_1's multi_logloss: 0.664662\n",
      "[701]\ttraining's multi_logloss: 0.323074\tvalid_1's multi_logloss: 0.664593\n",
      "[702]\ttraining's multi_logloss: 0.322763\tvalid_1's multi_logloss: 0.664523\n",
      "[703]\ttraining's multi_logloss: 0.322449\tvalid_1's multi_logloss: 0.664451\n",
      "[704]\ttraining's multi_logloss: 0.322137\tvalid_1's multi_logloss: 0.664398\n",
      "[705]\ttraining's multi_logloss: 0.321825\tvalid_1's multi_logloss: 0.66433\n",
      "[706]\ttraining's multi_logloss: 0.32151\tvalid_1's multi_logloss: 0.664295\n",
      "[707]\ttraining's multi_logloss: 0.321199\tvalid_1's multi_logloss: 0.664234\n",
      "[708]\ttraining's multi_logloss: 0.320899\tvalid_1's multi_logloss: 0.664169\n",
      "[709]\ttraining's multi_logloss: 0.320596\tvalid_1's multi_logloss: 0.664103\n",
      "[710]\ttraining's multi_logloss: 0.320281\tvalid_1's multi_logloss: 0.664043\n",
      "[711]\ttraining's multi_logloss: 0.319981\tvalid_1's multi_logloss: 0.664001\n",
      "[712]\ttraining's multi_logloss: 0.319679\tvalid_1's multi_logloss: 0.66393\n",
      "[713]\ttraining's multi_logloss: 0.319372\tvalid_1's multi_logloss: 0.663889\n",
      "[714]\ttraining's multi_logloss: 0.319061\tvalid_1's multi_logloss: 0.663842\n",
      "[715]\ttraining's multi_logloss: 0.318735\tvalid_1's multi_logloss: 0.663776\n",
      "[716]\ttraining's multi_logloss: 0.318436\tvalid_1's multi_logloss: 0.66373\n",
      "[717]\ttraining's multi_logloss: 0.318135\tvalid_1's multi_logloss: 0.663667\n",
      "[718]\ttraining's multi_logloss: 0.317836\tvalid_1's multi_logloss: 0.663618\n",
      "[719]\ttraining's multi_logloss: 0.317524\tvalid_1's multi_logloss: 0.663546\n",
      "[720]\ttraining's multi_logloss: 0.317222\tvalid_1's multi_logloss: 0.663495\n",
      "[721]\ttraining's multi_logloss: 0.316914\tvalid_1's multi_logloss: 0.663438\n",
      "[722]\ttraining's multi_logloss: 0.316609\tvalid_1's multi_logloss: 0.663352\n",
      "[723]\ttraining's multi_logloss: 0.316314\tvalid_1's multi_logloss: 0.663302\n",
      "[724]\ttraining's multi_logloss: 0.316007\tvalid_1's multi_logloss: 0.66325\n",
      "[725]\ttraining's multi_logloss: 0.315716\tvalid_1's multi_logloss: 0.663221\n",
      "[726]\ttraining's multi_logloss: 0.315421\tvalid_1's multi_logloss: 0.663169\n",
      "[727]\ttraining's multi_logloss: 0.315124\tvalid_1's multi_logloss: 0.663123\n",
      "[728]\ttraining's multi_logloss: 0.314827\tvalid_1's multi_logloss: 0.663053\n",
      "[729]\ttraining's multi_logloss: 0.314526\tvalid_1's multi_logloss: 0.66299\n",
      "[730]\ttraining's multi_logloss: 0.314226\tvalid_1's multi_logloss: 0.662914\n",
      "[731]\ttraining's multi_logloss: 0.313924\tvalid_1's multi_logloss: 0.662856\n",
      "[732]\ttraining's multi_logloss: 0.313622\tvalid_1's multi_logloss: 0.662797\n",
      "[733]\ttraining's multi_logloss: 0.313323\tvalid_1's multi_logloss: 0.662732\n",
      "[734]\ttraining's multi_logloss: 0.313032\tvalid_1's multi_logloss: 0.662709\n",
      "[735]\ttraining's multi_logloss: 0.312742\tvalid_1's multi_logloss: 0.662666\n",
      "[736]\ttraining's multi_logloss: 0.31245\tvalid_1's multi_logloss: 0.662628\n",
      "[737]\ttraining's multi_logloss: 0.312147\tvalid_1's multi_logloss: 0.662567\n",
      "[738]\ttraining's multi_logloss: 0.311857\tvalid_1's multi_logloss: 0.662507\n",
      "[739]\ttraining's multi_logloss: 0.311564\tvalid_1's multi_logloss: 0.662482\n",
      "[740]\ttraining's multi_logloss: 0.311272\tvalid_1's multi_logloss: 0.662422\n",
      "[741]\ttraining's multi_logloss: 0.310982\tvalid_1's multi_logloss: 0.662393\n",
      "[742]\ttraining's multi_logloss: 0.310696\tvalid_1's multi_logloss: 0.662325\n",
      "[743]\ttraining's multi_logloss: 0.310408\tvalid_1's multi_logloss: 0.66227\n",
      "[744]\ttraining's multi_logloss: 0.310126\tvalid_1's multi_logloss: 0.662224\n",
      "[745]\ttraining's multi_logloss: 0.309831\tvalid_1's multi_logloss: 0.662135\n",
      "[746]\ttraining's multi_logloss: 0.309533\tvalid_1's multi_logloss: 0.662049\n",
      "[747]\ttraining's multi_logloss: 0.309244\tvalid_1's multi_logloss: 0.662012\n",
      "[748]\ttraining's multi_logloss: 0.308954\tvalid_1's multi_logloss: 0.661961\n",
      "[749]\ttraining's multi_logloss: 0.308665\tvalid_1's multi_logloss: 0.661939\n",
      "[750]\ttraining's multi_logloss: 0.308366\tvalid_1's multi_logloss: 0.661871\n",
      "[751]\ttraining's multi_logloss: 0.308094\tvalid_1's multi_logloss: 0.661846\n",
      "[752]\ttraining's multi_logloss: 0.307802\tvalid_1's multi_logloss: 0.66176\n",
      "[753]\ttraining's multi_logloss: 0.307508\tvalid_1's multi_logloss: 0.661697\n",
      "[754]\ttraining's multi_logloss: 0.307226\tvalid_1's multi_logloss: 0.661672\n",
      "[755]\ttraining's multi_logloss: 0.306932\tvalid_1's multi_logloss: 0.661623\n",
      "[756]\ttraining's multi_logloss: 0.306653\tvalid_1's multi_logloss: 0.661595\n",
      "[757]\ttraining's multi_logloss: 0.306375\tvalid_1's multi_logloss: 0.661554\n",
      "[758]\ttraining's multi_logloss: 0.306099\tvalid_1's multi_logloss: 0.661525\n",
      "[759]\ttraining's multi_logloss: 0.305817\tvalid_1's multi_logloss: 0.661466\n",
      "[760]\ttraining's multi_logloss: 0.305534\tvalid_1's multi_logloss: 0.66142\n",
      "[761]\ttraining's multi_logloss: 0.305262\tvalid_1's multi_logloss: 0.661385\n",
      "[762]\ttraining's multi_logloss: 0.304979\tvalid_1's multi_logloss: 0.661338\n",
      "[763]\ttraining's multi_logloss: 0.304702\tvalid_1's multi_logloss: 0.66129\n",
      "[764]\ttraining's multi_logloss: 0.304423\tvalid_1's multi_logloss: 0.661247\n",
      "[765]\ttraining's multi_logloss: 0.304145\tvalid_1's multi_logloss: 0.661201\n",
      "[766]\ttraining's multi_logloss: 0.303869\tvalid_1's multi_logloss: 0.66117\n",
      "[767]\ttraining's multi_logloss: 0.303598\tvalid_1's multi_logloss: 0.661122\n",
      "[768]\ttraining's multi_logloss: 0.30333\tvalid_1's multi_logloss: 0.661068\n",
      "[769]\ttraining's multi_logloss: 0.303053\tvalid_1's multi_logloss: 0.661023\n",
      "[770]\ttraining's multi_logloss: 0.302765\tvalid_1's multi_logloss: 0.660943\n",
      "[771]\ttraining's multi_logloss: 0.302482\tvalid_1's multi_logloss: 0.66088\n",
      "[772]\ttraining's multi_logloss: 0.302212\tvalid_1's multi_logloss: 0.660844\n",
      "[773]\ttraining's multi_logloss: 0.301939\tvalid_1's multi_logloss: 0.660824\n"
     ]
    },
    {
     "name": "stdout",
     "output_type": "stream",
     "text": [
      "[774]\ttraining's multi_logloss: 0.301666\tvalid_1's multi_logloss: 0.660779\n",
      "[775]\ttraining's multi_logloss: 0.301391\tvalid_1's multi_logloss: 0.660717\n",
      "[776]\ttraining's multi_logloss: 0.301125\tvalid_1's multi_logloss: 0.660666\n",
      "[777]\ttraining's multi_logloss: 0.300859\tvalid_1's multi_logloss: 0.660638\n",
      "[778]\ttraining's multi_logloss: 0.300578\tvalid_1's multi_logloss: 0.660575\n",
      "[779]\ttraining's multi_logloss: 0.300306\tvalid_1's multi_logloss: 0.660532\n",
      "[780]\ttraining's multi_logloss: 0.300041\tvalid_1's multi_logloss: 0.660483\n",
      "[781]\ttraining's multi_logloss: 0.299772\tvalid_1's multi_logloss: 0.660426\n",
      "[782]\ttraining's multi_logloss: 0.2995\tvalid_1's multi_logloss: 0.660372\n",
      "[783]\ttraining's multi_logloss: 0.29923\tvalid_1's multi_logloss: 0.660326\n",
      "[784]\ttraining's multi_logloss: 0.298954\tvalid_1's multi_logloss: 0.660281\n",
      "[785]\ttraining's multi_logloss: 0.298682\tvalid_1's multi_logloss: 0.660223\n",
      "[786]\ttraining's multi_logloss: 0.298416\tvalid_1's multi_logloss: 0.660187\n",
      "[787]\ttraining's multi_logloss: 0.298137\tvalid_1's multi_logloss: 0.660159\n",
      "[788]\ttraining's multi_logloss: 0.297866\tvalid_1's multi_logloss: 0.660137\n",
      "[789]\ttraining's multi_logloss: 0.297598\tvalid_1's multi_logloss: 0.660093\n",
      "[790]\ttraining's multi_logloss: 0.297321\tvalid_1's multi_logloss: 0.660038\n",
      "[791]\ttraining's multi_logloss: 0.297058\tvalid_1's multi_logloss: 0.659987\n",
      "[792]\ttraining's multi_logloss: 0.296793\tvalid_1's multi_logloss: 0.659939\n",
      "[793]\ttraining's multi_logloss: 0.296529\tvalid_1's multi_logloss: 0.659903\n",
      "[794]\ttraining's multi_logloss: 0.296263\tvalid_1's multi_logloss: 0.65988\n",
      "[795]\ttraining's multi_logloss: 0.295986\tvalid_1's multi_logloss: 0.659841\n",
      "[796]\ttraining's multi_logloss: 0.295718\tvalid_1's multi_logloss: 0.659798\n",
      "[797]\ttraining's multi_logloss: 0.295439\tvalid_1's multi_logloss: 0.659739\n",
      "[798]\ttraining's multi_logloss: 0.295177\tvalid_1's multi_logloss: 0.659693\n",
      "[799]\ttraining's multi_logloss: 0.294903\tvalid_1's multi_logloss: 0.659652\n",
      "[800]\ttraining's multi_logloss: 0.294634\tvalid_1's multi_logloss: 0.659589\n",
      "[801]\ttraining's multi_logloss: 0.29437\tvalid_1's multi_logloss: 0.659551\n",
      "[802]\ttraining's multi_logloss: 0.294119\tvalid_1's multi_logloss: 0.659518\n",
      "[803]\ttraining's multi_logloss: 0.293858\tvalid_1's multi_logloss: 0.65948\n",
      "[804]\ttraining's multi_logloss: 0.293596\tvalid_1's multi_logloss: 0.659441\n",
      "[805]\ttraining's multi_logloss: 0.293329\tvalid_1's multi_logloss: 0.659402\n",
      "[806]\ttraining's multi_logloss: 0.293064\tvalid_1's multi_logloss: 0.659368\n",
      "[807]\ttraining's multi_logloss: 0.292807\tvalid_1's multi_logloss: 0.65933\n",
      "[808]\ttraining's multi_logloss: 0.292551\tvalid_1's multi_logloss: 0.659298\n",
      "[809]\ttraining's multi_logloss: 0.292291\tvalid_1's multi_logloss: 0.659275\n",
      "[810]\ttraining's multi_logloss: 0.29202\tvalid_1's multi_logloss: 0.659232\n",
      "[811]\ttraining's multi_logloss: 0.291762\tvalid_1's multi_logloss: 0.659203\n",
      "[812]\ttraining's multi_logloss: 0.291506\tvalid_1's multi_logloss: 0.659184\n",
      "[813]\ttraining's multi_logloss: 0.291253\tvalid_1's multi_logloss: 0.659179\n",
      "[814]\ttraining's multi_logloss: 0.29099\tvalid_1's multi_logloss: 0.659155\n",
      "[815]\ttraining's multi_logloss: 0.290734\tvalid_1's multi_logloss: 0.659119\n",
      "[816]\ttraining's multi_logloss: 0.29048\tvalid_1's multi_logloss: 0.659085\n",
      "[817]\ttraining's multi_logloss: 0.290212\tvalid_1's multi_logloss: 0.659042\n",
      "[818]\ttraining's multi_logloss: 0.289954\tvalid_1's multi_logloss: 0.659022\n",
      "[819]\ttraining's multi_logloss: 0.289688\tvalid_1's multi_logloss: 0.658987\n",
      "[820]\ttraining's multi_logloss: 0.289432\tvalid_1's multi_logloss: 0.658975\n",
      "[821]\ttraining's multi_logloss: 0.289171\tvalid_1's multi_logloss: 0.658922\n",
      "[822]\ttraining's multi_logloss: 0.288913\tvalid_1's multi_logloss: 0.658874\n",
      "[823]\ttraining's multi_logloss: 0.288652\tvalid_1's multi_logloss: 0.658845\n",
      "[824]\ttraining's multi_logloss: 0.288403\tvalid_1's multi_logloss: 0.658798\n",
      "[825]\ttraining's multi_logloss: 0.288146\tvalid_1's multi_logloss: 0.658771\n",
      "[826]\ttraining's multi_logloss: 0.287898\tvalid_1's multi_logloss: 0.658735\n",
      "[827]\ttraining's multi_logloss: 0.287638\tvalid_1's multi_logloss: 0.6587\n",
      "[828]\ttraining's multi_logloss: 0.287385\tvalid_1's multi_logloss: 0.658675\n",
      "[829]\ttraining's multi_logloss: 0.287133\tvalid_1's multi_logloss: 0.658677\n",
      "[830]\ttraining's multi_logloss: 0.286887\tvalid_1's multi_logloss: 0.658621\n",
      "[831]\ttraining's multi_logloss: 0.286619\tvalid_1's multi_logloss: 0.658589\n",
      "[832]\ttraining's multi_logloss: 0.28636\tvalid_1's multi_logloss: 0.658577\n",
      "[833]\ttraining's multi_logloss: 0.286104\tvalid_1's multi_logloss: 0.658538\n",
      "[834]\ttraining's multi_logloss: 0.285859\tvalid_1's multi_logloss: 0.658507\n",
      "[835]\ttraining's multi_logloss: 0.285613\tvalid_1's multi_logloss: 0.658498\n",
      "[836]\ttraining's multi_logloss: 0.285355\tvalid_1's multi_logloss: 0.658473\n",
      "[837]\ttraining's multi_logloss: 0.2851\tvalid_1's multi_logloss: 0.658428\n",
      "[838]\ttraining's multi_logloss: 0.284845\tvalid_1's multi_logloss: 0.658385\n",
      "[839]\ttraining's multi_logloss: 0.284602\tvalid_1's multi_logloss: 0.658385\n",
      "[840]\ttraining's multi_logloss: 0.284348\tvalid_1's multi_logloss: 0.658371\n",
      "[841]\ttraining's multi_logloss: 0.284107\tvalid_1's multi_logloss: 0.658362\n",
      "[842]\ttraining's multi_logloss: 0.283861\tvalid_1's multi_logloss: 0.658334\n",
      "[843]\ttraining's multi_logloss: 0.283613\tvalid_1's multi_logloss: 0.658301\n",
      "[844]\ttraining's multi_logloss: 0.283362\tvalid_1's multi_logloss: 0.658276\n",
      "[845]\ttraining's multi_logloss: 0.283111\tvalid_1's multi_logloss: 0.658237\n",
      "[846]\ttraining's multi_logloss: 0.28286\tvalid_1's multi_logloss: 0.658198\n",
      "[847]\ttraining's multi_logloss: 0.282607\tvalid_1's multi_logloss: 0.658185\n",
      "[848]\ttraining's multi_logloss: 0.282352\tvalid_1's multi_logloss: 0.658151\n",
      "[849]\ttraining's multi_logloss: 0.282096\tvalid_1's multi_logloss: 0.658108\n",
      "[850]\ttraining's multi_logloss: 0.281858\tvalid_1's multi_logloss: 0.658088\n",
      "[851]\ttraining's multi_logloss: 0.281605\tvalid_1's multi_logloss: 0.658035\n",
      "[852]\ttraining's multi_logloss: 0.28136\tvalid_1's multi_logloss: 0.658011\n",
      "[853]\ttraining's multi_logloss: 0.281113\tvalid_1's multi_logloss: 0.657975\n",
      "[854]\ttraining's multi_logloss: 0.280863\tvalid_1's multi_logloss: 0.65795\n",
      "[855]\ttraining's multi_logloss: 0.280617\tvalid_1's multi_logloss: 0.657929\n",
      "[856]\ttraining's multi_logloss: 0.280366\tvalid_1's multi_logloss: 0.65789\n",
      "[857]\ttraining's multi_logloss: 0.28012\tvalid_1's multi_logloss: 0.657862\n",
      "[858]\ttraining's multi_logloss: 0.27988\tvalid_1's multi_logloss: 0.657829\n",
      "[859]\ttraining's multi_logloss: 0.279639\tvalid_1's multi_logloss: 0.657802\n",
      "[860]\ttraining's multi_logloss: 0.279395\tvalid_1's multi_logloss: 0.657783\n",
      "[861]\ttraining's multi_logloss: 0.279151\tvalid_1's multi_logloss: 0.657778\n",
      "[862]\ttraining's multi_logloss: 0.278903\tvalid_1's multi_logloss: 0.657757\n",
      "[863]\ttraining's multi_logloss: 0.278668\tvalid_1's multi_logloss: 0.657729\n",
      "[864]\ttraining's multi_logloss: 0.278434\tvalid_1's multi_logloss: 0.657717\n",
      "[865]\ttraining's multi_logloss: 0.278199\tvalid_1's multi_logloss: 0.657718\n",
      "[866]\ttraining's multi_logloss: 0.27796\tvalid_1's multi_logloss: 0.657717\n",
      "[867]\ttraining's multi_logloss: 0.277724\tvalid_1's multi_logloss: 0.657653\n",
      "[868]\ttraining's multi_logloss: 0.277486\tvalid_1's multi_logloss: 0.657628\n",
      "[869]\ttraining's multi_logloss: 0.277256\tvalid_1's multi_logloss: 0.657603\n",
      "[870]\ttraining's multi_logloss: 0.277019\tvalid_1's multi_logloss: 0.657593\n",
      "[871]\ttraining's multi_logloss: 0.276782\tvalid_1's multi_logloss: 0.657569\n",
      "[872]\ttraining's multi_logloss: 0.276548\tvalid_1's multi_logloss: 0.657574\n",
      "[873]\ttraining's multi_logloss: 0.276312\tvalid_1's multi_logloss: 0.657551\n",
      "[874]\ttraining's multi_logloss: 0.276076\tvalid_1's multi_logloss: 0.657524\n",
      "[875]\ttraining's multi_logloss: 0.275833\tvalid_1's multi_logloss: 0.657496\n",
      "[876]\ttraining's multi_logloss: 0.275592\tvalid_1's multi_logloss: 0.657466\n",
      "[877]\ttraining's multi_logloss: 0.275366\tvalid_1's multi_logloss: 0.657424\n",
      "[878]\ttraining's multi_logloss: 0.275126\tvalid_1's multi_logloss: 0.657379\n",
      "[879]\ttraining's multi_logloss: 0.274895\tvalid_1's multi_logloss: 0.657369\n",
      "[880]\ttraining's multi_logloss: 0.274666\tvalid_1's multi_logloss: 0.657356\n",
      "[881]\ttraining's multi_logloss: 0.274433\tvalid_1's multi_logloss: 0.65731\n",
      "[882]\ttraining's multi_logloss: 0.274198\tvalid_1's multi_logloss: 0.65729\n",
      "[883]\ttraining's multi_logloss: 0.273961\tvalid_1's multi_logloss: 0.657262\n"
     ]
    },
    {
     "name": "stdout",
     "output_type": "stream",
     "text": [
      "[884]\ttraining's multi_logloss: 0.273735\tvalid_1's multi_logloss: 0.657224\n",
      "[885]\ttraining's multi_logloss: 0.273494\tvalid_1's multi_logloss: 0.657169\n",
      "[886]\ttraining's multi_logloss: 0.273254\tvalid_1's multi_logloss: 0.657163\n",
      "[887]\ttraining's multi_logloss: 0.273026\tvalid_1's multi_logloss: 0.657145\n",
      "[888]\ttraining's multi_logloss: 0.27279\tvalid_1's multi_logloss: 0.657147\n",
      "[889]\ttraining's multi_logloss: 0.272554\tvalid_1's multi_logloss: 0.657127\n",
      "[890]\ttraining's multi_logloss: 0.272331\tvalid_1's multi_logloss: 0.657122\n",
      "[891]\ttraining's multi_logloss: 0.272102\tvalid_1's multi_logloss: 0.657124\n",
      "[892]\ttraining's multi_logloss: 0.271864\tvalid_1's multi_logloss: 0.657108\n",
      "[893]\ttraining's multi_logloss: 0.271633\tvalid_1's multi_logloss: 0.657085\n",
      "[894]\ttraining's multi_logloss: 0.271402\tvalid_1's multi_logloss: 0.657082\n",
      "[895]\ttraining's multi_logloss: 0.271173\tvalid_1's multi_logloss: 0.657059\n",
      "[896]\ttraining's multi_logloss: 0.270951\tvalid_1's multi_logloss: 0.657028\n",
      "[897]\ttraining's multi_logloss: 0.270722\tvalid_1's multi_logloss: 0.657011\n",
      "[898]\ttraining's multi_logloss: 0.2705\tvalid_1's multi_logloss: 0.657014\n",
      "[899]\ttraining's multi_logloss: 0.27026\tvalid_1's multi_logloss: 0.657\n",
      "[900]\ttraining's multi_logloss: 0.27004\tvalid_1's multi_logloss: 0.656964\n",
      "[901]\ttraining's multi_logloss: 0.269811\tvalid_1's multi_logloss: 0.65694\n",
      "[902]\ttraining's multi_logloss: 0.269574\tvalid_1's multi_logloss: 0.656897\n",
      "[903]\ttraining's multi_logloss: 0.269344\tvalid_1's multi_logloss: 0.656884\n",
      "[904]\ttraining's multi_logloss: 0.269117\tvalid_1's multi_logloss: 0.656856\n",
      "[905]\ttraining's multi_logloss: 0.268887\tvalid_1's multi_logloss: 0.656852\n",
      "[906]\ttraining's multi_logloss: 0.268659\tvalid_1's multi_logloss: 0.656814\n",
      "[907]\ttraining's multi_logloss: 0.268437\tvalid_1's multi_logloss: 0.656783\n",
      "[908]\ttraining's multi_logloss: 0.268213\tvalid_1's multi_logloss: 0.65674\n",
      "[909]\ttraining's multi_logloss: 0.267984\tvalid_1's multi_logloss: 0.656705\n",
      "[910]\ttraining's multi_logloss: 0.267764\tvalid_1's multi_logloss: 0.656653\n",
      "[911]\ttraining's multi_logloss: 0.267542\tvalid_1's multi_logloss: 0.656608\n",
      "[912]\ttraining's multi_logloss: 0.267311\tvalid_1's multi_logloss: 0.656585\n",
      "[913]\ttraining's multi_logloss: 0.267082\tvalid_1's multi_logloss: 0.656561\n",
      "[914]\ttraining's multi_logloss: 0.266863\tvalid_1's multi_logloss: 0.656555\n",
      "[915]\ttraining's multi_logloss: 0.266643\tvalid_1's multi_logloss: 0.656518\n",
      "[916]\ttraining's multi_logloss: 0.266429\tvalid_1's multi_logloss: 0.656493\n",
      "[917]\ttraining's multi_logloss: 0.266209\tvalid_1's multi_logloss: 0.656477\n",
      "[918]\ttraining's multi_logloss: 0.265989\tvalid_1's multi_logloss: 0.656445\n",
      "[919]\ttraining's multi_logloss: 0.265765\tvalid_1's multi_logloss: 0.656424\n",
      "[920]\ttraining's multi_logloss: 0.265541\tvalid_1's multi_logloss: 0.656431\n",
      "[921]\ttraining's multi_logloss: 0.26531\tvalid_1's multi_logloss: 0.656414\n",
      "[922]\ttraining's multi_logloss: 0.265086\tvalid_1's multi_logloss: 0.656414\n",
      "[923]\ttraining's multi_logloss: 0.264861\tvalid_1's multi_logloss: 0.65642\n",
      "[924]\ttraining's multi_logloss: 0.264647\tvalid_1's multi_logloss: 0.656412\n",
      "[925]\ttraining's multi_logloss: 0.264421\tvalid_1's multi_logloss: 0.6564\n",
      "[926]\ttraining's multi_logloss: 0.264207\tvalid_1's multi_logloss: 0.656391\n",
      "[927]\ttraining's multi_logloss: 0.263994\tvalid_1's multi_logloss: 0.65637\n",
      "[928]\ttraining's multi_logloss: 0.263777\tvalid_1's multi_logloss: 0.656359\n",
      "[929]\ttraining's multi_logloss: 0.263559\tvalid_1's multi_logloss: 0.656367\n",
      "[930]\ttraining's multi_logloss: 0.26333\tvalid_1's multi_logloss: 0.656347\n",
      "[931]\ttraining's multi_logloss: 0.263112\tvalid_1's multi_logloss: 0.656321\n",
      "[932]\ttraining's multi_logloss: 0.262886\tvalid_1's multi_logloss: 0.656296\n",
      "[933]\ttraining's multi_logloss: 0.26267\tvalid_1's multi_logloss: 0.65627\n",
      "[934]\ttraining's multi_logloss: 0.262446\tvalid_1's multi_logloss: 0.656275\n",
      "[935]\ttraining's multi_logloss: 0.262228\tvalid_1's multi_logloss: 0.656251\n",
      "[936]\ttraining's multi_logloss: 0.26201\tvalid_1's multi_logloss: 0.656229\n",
      "[937]\ttraining's multi_logloss: 0.261792\tvalid_1's multi_logloss: 0.656239\n",
      "[938]\ttraining's multi_logloss: 0.261586\tvalid_1's multi_logloss: 0.656234\n",
      "[939]\ttraining's multi_logloss: 0.261374\tvalid_1's multi_logloss: 0.65622\n",
      "[940]\ttraining's multi_logloss: 0.261155\tvalid_1's multi_logloss: 0.656193\n",
      "[941]\ttraining's multi_logloss: 0.260938\tvalid_1's multi_logloss: 0.656173\n",
      "[942]\ttraining's multi_logloss: 0.260716\tvalid_1's multi_logloss: 0.656152\n",
      "[943]\ttraining's multi_logloss: 0.260488\tvalid_1's multi_logloss: 0.656128\n",
      "[944]\ttraining's multi_logloss: 0.260271\tvalid_1's multi_logloss: 0.656087\n",
      "[945]\ttraining's multi_logloss: 0.260057\tvalid_1's multi_logloss: 0.656093\n",
      "[946]\ttraining's multi_logloss: 0.259848\tvalid_1's multi_logloss: 0.656077\n",
      "[947]\ttraining's multi_logloss: 0.259626\tvalid_1's multi_logloss: 0.656055\n",
      "[948]\ttraining's multi_logloss: 0.259418\tvalid_1's multi_logloss: 0.656034\n",
      "[949]\ttraining's multi_logloss: 0.2592\tvalid_1's multi_logloss: 0.656049\n",
      "[950]\ttraining's multi_logloss: 0.258994\tvalid_1's multi_logloss: 0.656044\n",
      "[951]\ttraining's multi_logloss: 0.258783\tvalid_1's multi_logloss: 0.656027\n",
      "[952]\ttraining's multi_logloss: 0.258573\tvalid_1's multi_logloss: 0.656029\n",
      "[953]\ttraining's multi_logloss: 0.258351\tvalid_1's multi_logloss: 0.656031\n",
      "[954]\ttraining's multi_logloss: 0.258138\tvalid_1's multi_logloss: 0.656012\n",
      "[955]\ttraining's multi_logloss: 0.257925\tvalid_1's multi_logloss: 0.655994\n",
      "[956]\ttraining's multi_logloss: 0.257711\tvalid_1's multi_logloss: 0.655978\n",
      "[957]\ttraining's multi_logloss: 0.257491\tvalid_1's multi_logloss: 0.655945\n",
      "[958]\ttraining's multi_logloss: 0.257275\tvalid_1's multi_logloss: 0.655932\n",
      "[959]\ttraining's multi_logloss: 0.257067\tvalid_1's multi_logloss: 0.655927\n",
      "[960]\ttraining's multi_logloss: 0.256862\tvalid_1's multi_logloss: 0.655896\n",
      "[961]\ttraining's multi_logloss: 0.256649\tvalid_1's multi_logloss: 0.655893\n",
      "[962]\ttraining's multi_logloss: 0.256433\tvalid_1's multi_logloss: 0.655891\n",
      "[963]\ttraining's multi_logloss: 0.256224\tvalid_1's multi_logloss: 0.655885\n",
      "[964]\ttraining's multi_logloss: 0.256022\tvalid_1's multi_logloss: 0.655868\n",
      "[965]\ttraining's multi_logloss: 0.255814\tvalid_1's multi_logloss: 0.655879\n",
      "[966]\ttraining's multi_logloss: 0.255607\tvalid_1's multi_logloss: 0.655868\n",
      "[967]\ttraining's multi_logloss: 0.255396\tvalid_1's multi_logloss: 0.655842\n",
      "[968]\ttraining's multi_logloss: 0.255183\tvalid_1's multi_logloss: 0.655829\n",
      "[969]\ttraining's multi_logloss: 0.254971\tvalid_1's multi_logloss: 0.655804\n",
      "[970]\ttraining's multi_logloss: 0.254763\tvalid_1's multi_logloss: 0.655803\n",
      "[971]\ttraining's multi_logloss: 0.254556\tvalid_1's multi_logloss: 0.655795\n",
      "[972]\ttraining's multi_logloss: 0.254342\tvalid_1's multi_logloss: 0.655781\n",
      "[973]\ttraining's multi_logloss: 0.254134\tvalid_1's multi_logloss: 0.655797\n",
      "[974]\ttraining's multi_logloss: 0.253925\tvalid_1's multi_logloss: 0.655784\n",
      "[975]\ttraining's multi_logloss: 0.253723\tvalid_1's multi_logloss: 0.655772\n",
      "[976]\ttraining's multi_logloss: 0.253524\tvalid_1's multi_logloss: 0.65577\n",
      "[977]\ttraining's multi_logloss: 0.253317\tvalid_1's multi_logloss: 0.655751\n",
      "[978]\ttraining's multi_logloss: 0.253106\tvalid_1's multi_logloss: 0.655745\n",
      "[979]\ttraining's multi_logloss: 0.252893\tvalid_1's multi_logloss: 0.655749\n",
      "[980]\ttraining's multi_logloss: 0.252689\tvalid_1's multi_logloss: 0.65577\n",
      "[981]\ttraining's multi_logloss: 0.252482\tvalid_1's multi_logloss: 0.655746\n",
      "[982]\ttraining's multi_logloss: 0.252277\tvalid_1's multi_logloss: 0.655747\n",
      "[983]\ttraining's multi_logloss: 0.25207\tvalid_1's multi_logloss: 0.655748\n",
      "[984]\ttraining's multi_logloss: 0.251859\tvalid_1's multi_logloss: 0.655747\n",
      "[985]\ttraining's multi_logloss: 0.251644\tvalid_1's multi_logloss: 0.655725\n",
      "[986]\ttraining's multi_logloss: 0.251439\tvalid_1's multi_logloss: 0.655728\n",
      "[987]\ttraining's multi_logloss: 0.251237\tvalid_1's multi_logloss: 0.655696\n",
      "[988]\ttraining's multi_logloss: 0.251026\tvalid_1's multi_logloss: 0.655688\n",
      "[989]\ttraining's multi_logloss: 0.250826\tvalid_1's multi_logloss: 0.655684\n",
      "[990]\ttraining's multi_logloss: 0.25061\tvalid_1's multi_logloss: 0.655673\n",
      "[991]\ttraining's multi_logloss: 0.250405\tvalid_1's multi_logloss: 0.655661\n",
      "[992]\ttraining's multi_logloss: 0.250198\tvalid_1's multi_logloss: 0.655664\n",
      "[993]\ttraining's multi_logloss: 0.249992\tvalid_1's multi_logloss: 0.655622\n"
     ]
    },
    {
     "name": "stdout",
     "output_type": "stream",
     "text": [
      "[994]\ttraining's multi_logloss: 0.249791\tvalid_1's multi_logloss: 0.655602\n",
      "[995]\ttraining's multi_logloss: 0.249586\tvalid_1's multi_logloss: 0.655604\n",
      "[996]\ttraining's multi_logloss: 0.249383\tvalid_1's multi_logloss: 0.655596\n",
      "[997]\ttraining's multi_logloss: 0.249184\tvalid_1's multi_logloss: 0.655604\n",
      "[998]\ttraining's multi_logloss: 0.248983\tvalid_1's multi_logloss: 0.655571\n",
      "[999]\ttraining's multi_logloss: 0.248785\tvalid_1's multi_logloss: 0.655553\n",
      "[1000]\ttraining's multi_logloss: 0.248581\tvalid_1's multi_logloss: 0.655542\n",
      "[1001]\ttraining's multi_logloss: 0.248382\tvalid_1's multi_logloss: 0.655521\n",
      "[1002]\ttraining's multi_logloss: 0.248176\tvalid_1's multi_logloss: 0.655517\n",
      "[1003]\ttraining's multi_logloss: 0.247974\tvalid_1's multi_logloss: 0.655509\n",
      "[1004]\ttraining's multi_logloss: 0.247775\tvalid_1's multi_logloss: 0.655495\n",
      "[1005]\ttraining's multi_logloss: 0.247567\tvalid_1's multi_logloss: 0.655488\n",
      "[1006]\ttraining's multi_logloss: 0.247351\tvalid_1's multi_logloss: 0.655446\n",
      "[1007]\ttraining's multi_logloss: 0.247156\tvalid_1's multi_logloss: 0.655444\n",
      "[1008]\ttraining's multi_logloss: 0.246963\tvalid_1's multi_logloss: 0.655439\n",
      "[1009]\ttraining's multi_logloss: 0.246762\tvalid_1's multi_logloss: 0.655454\n",
      "[1010]\ttraining's multi_logloss: 0.246565\tvalid_1's multi_logloss: 0.655441\n",
      "[1011]\ttraining's multi_logloss: 0.246351\tvalid_1's multi_logloss: 0.65544\n",
      "[1012]\ttraining's multi_logloss: 0.246151\tvalid_1's multi_logloss: 0.65544\n",
      "[1013]\ttraining's multi_logloss: 0.245954\tvalid_1's multi_logloss: 0.655451\n",
      "[1014]\ttraining's multi_logloss: 0.24576\tvalid_1's multi_logloss: 0.655454\n",
      "[1015]\ttraining's multi_logloss: 0.245561\tvalid_1's multi_logloss: 0.655453\n",
      "[1016]\ttraining's multi_logloss: 0.24536\tvalid_1's multi_logloss: 0.655446\n",
      "[1017]\ttraining's multi_logloss: 0.245167\tvalid_1's multi_logloss: 0.65543\n",
      "[1018]\ttraining's multi_logloss: 0.244976\tvalid_1's multi_logloss: 0.655406\n",
      "[1019]\ttraining's multi_logloss: 0.244782\tvalid_1's multi_logloss: 0.655408\n",
      "[1020]\ttraining's multi_logloss: 0.244584\tvalid_1's multi_logloss: 0.655411\n",
      "[1021]\ttraining's multi_logloss: 0.244384\tvalid_1's multi_logloss: 0.655395\n",
      "[1022]\ttraining's multi_logloss: 0.244191\tvalid_1's multi_logloss: 0.655393\n",
      "[1023]\ttraining's multi_logloss: 0.243997\tvalid_1's multi_logloss: 0.655384\n",
      "[1024]\ttraining's multi_logloss: 0.243802\tvalid_1's multi_logloss: 0.655387\n",
      "[1025]\ttraining's multi_logloss: 0.243606\tvalid_1's multi_logloss: 0.655383\n",
      "[1026]\ttraining's multi_logloss: 0.243408\tvalid_1's multi_logloss: 0.65537\n",
      "[1027]\ttraining's multi_logloss: 0.243207\tvalid_1's multi_logloss: 0.655366\n",
      "[1028]\ttraining's multi_logloss: 0.243011\tvalid_1's multi_logloss: 0.655367\n",
      "[1029]\ttraining's multi_logloss: 0.242816\tvalid_1's multi_logloss: 0.655365\n",
      "[1030]\ttraining's multi_logloss: 0.242622\tvalid_1's multi_logloss: 0.655368\n",
      "[1031]\ttraining's multi_logloss: 0.242426\tvalid_1's multi_logloss: 0.655341\n",
      "[1032]\ttraining's multi_logloss: 0.242229\tvalid_1's multi_logloss: 0.655318\n",
      "[1033]\ttraining's multi_logloss: 0.242032\tvalid_1's multi_logloss: 0.655316\n",
      "[1034]\ttraining's multi_logloss: 0.241829\tvalid_1's multi_logloss: 0.655311\n",
      "[1035]\ttraining's multi_logloss: 0.241638\tvalid_1's multi_logloss: 0.655305\n",
      "[1036]\ttraining's multi_logloss: 0.241445\tvalid_1's multi_logloss: 0.655297\n",
      "[1037]\ttraining's multi_logloss: 0.241251\tvalid_1's multi_logloss: 0.655282\n",
      "[1038]\ttraining's multi_logloss: 0.241062\tvalid_1's multi_logloss: 0.655269\n",
      "[1039]\ttraining's multi_logloss: 0.240872\tvalid_1's multi_logloss: 0.655261\n",
      "[1040]\ttraining's multi_logloss: 0.240685\tvalid_1's multi_logloss: 0.655262\n",
      "[1041]\ttraining's multi_logloss: 0.240492\tvalid_1's multi_logloss: 0.655262\n",
      "[1042]\ttraining's multi_logloss: 0.240299\tvalid_1's multi_logloss: 0.65525\n",
      "[1043]\ttraining's multi_logloss: 0.240102\tvalid_1's multi_logloss: 0.655236\n",
      "[1044]\ttraining's multi_logloss: 0.239917\tvalid_1's multi_logloss: 0.65525\n",
      "[1045]\ttraining's multi_logloss: 0.239731\tvalid_1's multi_logloss: 0.655252\n",
      "[1046]\ttraining's multi_logloss: 0.239538\tvalid_1's multi_logloss: 0.655244\n",
      "[1047]\ttraining's multi_logloss: 0.239345\tvalid_1's multi_logloss: 0.655215\n",
      "[1048]\ttraining's multi_logloss: 0.239156\tvalid_1's multi_logloss: 0.655218\n",
      "[1049]\ttraining's multi_logloss: 0.238969\tvalid_1's multi_logloss: 0.65522\n",
      "[1050]\ttraining's multi_logloss: 0.238783\tvalid_1's multi_logloss: 0.655227\n",
      "[1051]\ttraining's multi_logloss: 0.238597\tvalid_1's multi_logloss: 0.655243\n",
      "[1052]\ttraining's multi_logloss: 0.23841\tvalid_1's multi_logloss: 0.655217\n",
      "[1053]\ttraining's multi_logloss: 0.238223\tvalid_1's multi_logloss: 0.655212\n",
      "[1054]\ttraining's multi_logloss: 0.238035\tvalid_1's multi_logloss: 0.655221\n",
      "[1055]\ttraining's multi_logloss: 0.237846\tvalid_1's multi_logloss: 0.655208\n",
      "[1056]\ttraining's multi_logloss: 0.237663\tvalid_1's multi_logloss: 0.655191\n",
      "[1057]\ttraining's multi_logloss: 0.237469\tvalid_1's multi_logloss: 0.655169\n",
      "[1058]\ttraining's multi_logloss: 0.237281\tvalid_1's multi_logloss: 0.655157\n",
      "[1059]\ttraining's multi_logloss: 0.23709\tvalid_1's multi_logloss: 0.655143\n",
      "[1060]\ttraining's multi_logloss: 0.236908\tvalid_1's multi_logloss: 0.655157\n",
      "[1061]\ttraining's multi_logloss: 0.236716\tvalid_1's multi_logloss: 0.655156\n",
      "[1062]\ttraining's multi_logloss: 0.236531\tvalid_1's multi_logloss: 0.655164\n",
      "[1063]\ttraining's multi_logloss: 0.236348\tvalid_1's multi_logloss: 0.655162\n",
      "[1064]\ttraining's multi_logloss: 0.236158\tvalid_1's multi_logloss: 0.65516\n",
      "[1065]\ttraining's multi_logloss: 0.235969\tvalid_1's multi_logloss: 0.655166\n",
      "[1066]\ttraining's multi_logloss: 0.235783\tvalid_1's multi_logloss: 0.65514\n",
      "[1067]\ttraining's multi_logloss: 0.235599\tvalid_1's multi_logloss: 0.655114\n",
      "[1068]\ttraining's multi_logloss: 0.235413\tvalid_1's multi_logloss: 0.655129\n",
      "[1069]\ttraining's multi_logloss: 0.235222\tvalid_1's multi_logloss: 0.655124\n",
      "[1070]\ttraining's multi_logloss: 0.235012\tvalid_1's multi_logloss: 0.655097\n",
      "[1071]\ttraining's multi_logloss: 0.234819\tvalid_1's multi_logloss: 0.655093\n",
      "[1072]\ttraining's multi_logloss: 0.23464\tvalid_1's multi_logloss: 0.655084\n",
      "[1073]\ttraining's multi_logloss: 0.234451\tvalid_1's multi_logloss: 0.655092\n",
      "[1074]\ttraining's multi_logloss: 0.234274\tvalid_1's multi_logloss: 0.655091\n",
      "[1075]\ttraining's multi_logloss: 0.234092\tvalid_1's multi_logloss: 0.655093\n",
      "[1076]\ttraining's multi_logloss: 0.233911\tvalid_1's multi_logloss: 0.655094\n",
      "[1077]\ttraining's multi_logloss: 0.233722\tvalid_1's multi_logloss: 0.655096\n",
      "[1078]\ttraining's multi_logloss: 0.233531\tvalid_1's multi_logloss: 0.65511\n",
      "[1079]\ttraining's multi_logloss: 0.233353\tvalid_1's multi_logloss: 0.655114\n",
      "[1080]\ttraining's multi_logloss: 0.233157\tvalid_1's multi_logloss: 0.655109\n",
      "[1081]\ttraining's multi_logloss: 0.232968\tvalid_1's multi_logloss: 0.655115\n",
      "[1082]\ttraining's multi_logloss: 0.232789\tvalid_1's multi_logloss: 0.6551\n",
      "Early stopping, best iteration is:\n",
      "[1072]\ttraining's multi_logloss: 0.23464\tvalid_1's multi_logloss: 0.655084\n"
     ]
    }
   ],
   "source": [
    "lightgbm_model = lightgbm.train(params=params,\n",
    "                                train_set=dtrain,\n",
    "                                valid_sets=[dtrain, dtest],\n",
    "                                num_boost_round=num_boost_round,\n",
    "                                early_stopping_rounds=10)"
   ]
  },
  {
   "cell_type": "code",
   "execution_count": 127,
   "metadata": {},
   "outputs": [],
   "source": [
    "y_pred_proba = lightgbm_model.predict(X_test)"
   ]
  },
  {
   "cell_type": "code",
   "execution_count": 128,
   "metadata": {
    "slideshow": {
     "slide_type": "fragment"
    }
   },
   "outputs": [],
   "source": [
    "y_pred = [np.argmax(line) for line in y_pred_proba]"
   ]
  },
  {
   "cell_type": "code",
   "execution_count": 136,
   "metadata": {
    "slideshow": {
     "slide_type": "fragment"
    }
   },
   "outputs": [
    {
     "name": "stdout",
     "output_type": "stream",
     "text": [
      "TripType Accuracy = 77.40%\n"
     ]
    }
   ],
   "source": [
    "accuracy = 100 * (1 - (sum(int(y_pred[i]) != y_test[i]\n",
    "                           for i in range(len(y_test))) / float(len(y_test))))\n",
    "print(\"TripType Accuracy = %.2f%%\" % accuracy)"
   ]
  },
  {
   "cell_type": "code",
   "execution_count": 135,
   "metadata": {
    "scrolled": false,
    "slideshow": {
     "slide_type": "slide"
    }
   },
   "outputs": [
    {
     "name": "stdout",
     "output_type": "stream",
     "text": [
      "              precision    recall  f1-score   support\n",
      "\n",
      "           3       0.94      0.98      0.96       931\n",
      "           4       0.80      0.66      0.72        87\n",
      "           5       0.85      0.87      0.86      1167\n",
      "           6       0.82      0.84      0.83       309\n",
      "           7       0.80      0.80      0.80      1494\n",
      "           8       0.88      0.91      0.89      3017\n",
      "           9       0.78      0.86      0.82      2307\n",
      "          12       0.64      0.34      0.44        62\n",
      "          14       0.00      0.00      0.00         2\n",
      "          15       0.65      0.58      0.61       237\n",
      "          18       0.58      0.49      0.53       131\n",
      "          19       0.74      0.62      0.68        80\n",
      "          20       0.76      0.63      0.69       173\n",
      "          21       0.73      0.67      0.70       158\n",
      "          22       0.66      0.70      0.68       207\n",
      "          23       0.74      0.60      0.67        43\n",
      "          24       0.71      0.70      0.71       652\n",
      "          25       0.75      0.81      0.78       945\n",
      "          26       0.70      0.49      0.58       144\n",
      "          27       0.67      0.68      0.68       193\n",
      "          28       0.77      0.65      0.71       135\n",
      "          29       0.75      0.56      0.64        98\n",
      "          30       0.65      0.57      0.61       265\n",
      "          31       0.82      0.81      0.82       153\n",
      "          32       0.77      0.82      0.79       485\n",
      "          33       0.69      0.60      0.64       318\n",
      "          34       0.71      0.60      0.65       188\n",
      "          35       0.71      0.65      0.68       510\n",
      "          36       0.71      0.69      0.70       758\n",
      "          37       0.74      0.64      0.69       714\n",
      "          38       0.71      0.59      0.65       730\n",
      "          39       0.62      0.74      0.67      2507\n",
      "          40       0.81      0.92      0.86      1534\n",
      "          41       0.33      0.10      0.16       144\n",
      "          42       0.46      0.40      0.43       458\n",
      "          43       0.19      0.06      0.09       188\n",
      "          44       0.43      0.24      0.31       295\n",
      "         999       0.96      0.88      0.92      2100\n",
      "\n",
      "   micro avg       0.77      0.77      0.77     23919\n",
      "   macro avg       0.69      0.63      0.65     23919\n",
      "weighted avg       0.77      0.77      0.77     23919\n",
      "\n"
     ]
    }
   ],
   "source": [
    "print(classification_report(label_enc.inverse_transform(y_test), label_enc.inverse_transform(y_pred)))"
   ]
  },
  {
   "cell_type": "code",
   "execution_count": 137,
   "metadata": {
    "scrolled": false,
    "slideshow": {
     "slide_type": "fragment"
    }
   },
   "outputs": [
    {
     "data": {
      "text/plain": [
       "defaultdict(dict,\n",
       "            {'training': {'multi_logloss': 0.23463997904897246},\n",
       "             'valid_1': {'multi_logloss': 0.6550835926478913}})"
      ]
     },
     "execution_count": 137,
     "metadata": {},
     "output_type": "execute_result"
    }
   ],
   "source": [
    "lightgbm_model.best_score"
   ]
  },
  {
   "cell_type": "code",
   "execution_count": 138,
   "metadata": {},
   "outputs": [],
   "source": [
    "import numpy as np\n",
    "np.set_printoptions(threshold=np.nan)"
   ]
  },
  {
   "cell_type": "code",
   "execution_count": 139,
   "metadata": {},
   "outputs": [],
   "source": [
    "# import seaborn as sn\n",
    "# import pandas as pd\n",
    "# import matplotlib.pyplot as plt\n",
    "# array = confusion_matrix(y_labeled, y_pred)\n",
    "# df_cm = pd.DataFrame(array, index = [i for i in range(38)],\n",
    "#                   columns = [i for i in range(38)])\n",
    "# plt.figure(figsize = (20,20))\n",
    "# sn.heatmap(df_cm, annot=True)"
   ]
  },
  {
   "cell_type": "code",
   "execution_count": 141,
   "metadata": {},
   "outputs": [
    {
     "data": {
      "image/png": "[encoded data removed]",
      "text/plain": [
       "<Figure size 1440x1440 with 1 Axes>"
      ]
     },
     "metadata": {
      "image/png": {
       "height": 1152,
       "width": 1156
      },
      "needs_background": "light"
     },
     "output_type": "display_data"
    }
   ],
   "source": [
    "conf_mx = confusion_matrix(label_enc.inverse_transform(y_test), label_enc.inverse_transform(y_pred))\n",
    "row_sums = conf_mx.sum(axis=1, keepdims=True)\n",
    "norm_conf_mx = conf_mx / row_sums\n",
    "np.fill_diagonal(norm_conf_mx, 0)\n",
    "plt.figure(figsize = (20,20))\n",
    "plt.matshow(norm_conf_mx, cmap=plt.cm.gray, fignum=1)\n",
    "plt.grid(False)\n",
    "plt.show()\n"
   ]
  },
  {
   "cell_type": "markdown",
   "metadata": {
    "slideshow": {
     "slide_type": "fragment"
    }
   },
   "source": [
    "# TripType 41, 42, 43, 44를 잘 예측하지 못함을 알 수 있습니다."
   ]
  },
  {
   "cell_type": "markdown",
   "metadata": {
    "slideshow": {
     "slide_type": "slide"
    }
   },
   "source": [
    "# <center>5. kaggle 제출</center>"
   ]
  },
  {
   "cell_type": "code",
   "execution_count": 116,
   "metadata": {
    "slideshow": {
     "slide_type": "fragment"
    }
   },
   "outputs": [
    {
     "data": {
      "text/html": [
       "<div>\n",
       "<style scoped>\n",
       "    .dataframe tbody tr th:only-of-type {\n",
       "        vertical-align: middle;\n",
       "    }\n",
       "\n",
       "    .dataframe tbody tr th {\n",
       "        vertical-align: top;\n",
       "    }\n",
       "\n",
       "    .dataframe thead th {\n",
       "        text-align: right;\n",
       "    }\n",
       "</style>\n",
       "<table border=\"1\" class=\"dataframe\">\n",
       "  <thead>\n",
       "    <tr style=\"text-align: right;\">\n",
       "      <th></th>\n",
       "      <th>TripType_3</th>\n",
       "      <th>TripType_4</th>\n",
       "      <th>TripType_5</th>\n",
       "      <th>TripType_6</th>\n",
       "      <th>TripType_7</th>\n",
       "      <th>TripType_8</th>\n",
       "      <th>TripType_9</th>\n",
       "      <th>TripType_12</th>\n",
       "      <th>TripType_14</th>\n",
       "      <th>TripType_15</th>\n",
       "      <th>...</th>\n",
       "      <th>TripType_36</th>\n",
       "      <th>TripType_37</th>\n",
       "      <th>TripType_38</th>\n",
       "      <th>TripType_39</th>\n",
       "      <th>TripType_40</th>\n",
       "      <th>TripType_41</th>\n",
       "      <th>TripType_42</th>\n",
       "      <th>TripType_43</th>\n",
       "      <th>TripType_44</th>\n",
       "      <th>TripType_999</th>\n",
       "    </tr>\n",
       "    <tr>\n",
       "      <th>VisitNumber</th>\n",
       "      <th></th>\n",
       "      <th></th>\n",
       "      <th></th>\n",
       "      <th></th>\n",
       "      <th></th>\n",
       "      <th></th>\n",
       "      <th></th>\n",
       "      <th></th>\n",
       "      <th></th>\n",
       "      <th></th>\n",
       "      <th></th>\n",
       "      <th></th>\n",
       "      <th></th>\n",
       "      <th></th>\n",
       "      <th></th>\n",
       "      <th></th>\n",
       "      <th></th>\n",
       "      <th></th>\n",
       "      <th></th>\n",
       "      <th></th>\n",
       "      <th></th>\n",
       "    </tr>\n",
       "  </thead>\n",
       "  <tbody>\n",
       "    <tr>\n",
       "      <th>191338</th>\n",
       "      <td>2.862781e-06</td>\n",
       "      <td>1.451621e-06</td>\n",
       "      <td>0.000043</td>\n",
       "      <td>3.768169e-05</td>\n",
       "      <td>0.001896</td>\n",
       "      <td>0.000149</td>\n",
       "      <td>0.000062</td>\n",
       "      <td>0.000041</td>\n",
       "      <td>9.458412e-10</td>\n",
       "      <td>0.000279</td>\n",
       "      <td>...</td>\n",
       "      <td>0.000105</td>\n",
       "      <td>0.000287</td>\n",
       "      <td>0.003784</td>\n",
       "      <td>0.436052</td>\n",
       "      <td>0.001654</td>\n",
       "      <td>0.000083</td>\n",
       "      <td>0.000168</td>\n",
       "      <td>0.004567</td>\n",
       "      <td>0.000993</td>\n",
       "      <td>0.000377</td>\n",
       "    </tr>\n",
       "    <tr>\n",
       "      <th>191339</th>\n",
       "      <td>5.852757e-06</td>\n",
       "      <td>3.447954e-06</td>\n",
       "      <td>0.000060</td>\n",
       "      <td>1.788518e-04</td>\n",
       "      <td>0.000115</td>\n",
       "      <td>0.001029</td>\n",
       "      <td>0.001098</td>\n",
       "      <td>0.000032</td>\n",
       "      <td>1.346267e-09</td>\n",
       "      <td>0.000546</td>\n",
       "      <td>...</td>\n",
       "      <td>0.000152</td>\n",
       "      <td>0.000152</td>\n",
       "      <td>0.000282</td>\n",
       "      <td>0.007208</td>\n",
       "      <td>0.000115</td>\n",
       "      <td>0.006345</td>\n",
       "      <td>0.166792</td>\n",
       "      <td>0.011542</td>\n",
       "      <td>0.001899</td>\n",
       "      <td>0.001453</td>\n",
       "    </tr>\n",
       "    <tr>\n",
       "      <th>191340</th>\n",
       "      <td>8.130384e-06</td>\n",
       "      <td>4.844288e-06</td>\n",
       "      <td>0.000179</td>\n",
       "      <td>3.631581e-04</td>\n",
       "      <td>0.000239</td>\n",
       "      <td>0.699389</td>\n",
       "      <td>0.273420</td>\n",
       "      <td>0.000016</td>\n",
       "      <td>1.474135e-09</td>\n",
       "      <td>0.000684</td>\n",
       "      <td>...</td>\n",
       "      <td>0.000222</td>\n",
       "      <td>0.000126</td>\n",
       "      <td>0.000125</td>\n",
       "      <td>0.000577</td>\n",
       "      <td>0.000082</td>\n",
       "      <td>0.000046</td>\n",
       "      <td>0.000964</td>\n",
       "      <td>0.000054</td>\n",
       "      <td>0.000044</td>\n",
       "      <td>0.014435</td>\n",
       "    </tr>\n",
       "    <tr>\n",
       "      <th>191341</th>\n",
       "      <td>6.417323e-07</td>\n",
       "      <td>9.311249e-08</td>\n",
       "      <td>0.000003</td>\n",
       "      <td>4.955121e-07</td>\n",
       "      <td>0.000004</td>\n",
       "      <td>0.000024</td>\n",
       "      <td>0.000050</td>\n",
       "      <td>0.000014</td>\n",
       "      <td>8.843453e-11</td>\n",
       "      <td>0.000016</td>\n",
       "      <td>...</td>\n",
       "      <td>0.000049</td>\n",
       "      <td>0.000006</td>\n",
       "      <td>0.000004</td>\n",
       "      <td>0.003519</td>\n",
       "      <td>0.000097</td>\n",
       "      <td>0.000196</td>\n",
       "      <td>0.000766</td>\n",
       "      <td>0.002450</td>\n",
       "      <td>0.004816</td>\n",
       "      <td>0.000084</td>\n",
       "    </tr>\n",
       "    <tr>\n",
       "      <th>191348</th>\n",
       "      <td>7.457745e-07</td>\n",
       "      <td>1.516122e-07</td>\n",
       "      <td>0.000019</td>\n",
       "      <td>1.437137e-06</td>\n",
       "      <td>0.000008</td>\n",
       "      <td>0.000180</td>\n",
       "      <td>0.000049</td>\n",
       "      <td>0.000002</td>\n",
       "      <td>1.026608e-10</td>\n",
       "      <td>0.000008</td>\n",
       "      <td>...</td>\n",
       "      <td>0.000280</td>\n",
       "      <td>0.000018</td>\n",
       "      <td>0.000007</td>\n",
       "      <td>0.000209</td>\n",
       "      <td>0.000012</td>\n",
       "      <td>0.015805</td>\n",
       "      <td>0.004471</td>\n",
       "      <td>0.001096</td>\n",
       "      <td>0.000875</td>\n",
       "      <td>0.000472</td>\n",
       "    </tr>\n",
       "  </tbody>\n",
       "</table>\n",
       "<p>5 rows × 38 columns</p>\n",
       "</div>"
      ],
      "text/plain": [
       "               TripType_3    TripType_4  TripType_5    TripType_6  TripType_7  \\\n",
       "VisitNumber                                                                     \n",
       "191338       2.862781e-06  1.451621e-06    0.000043  3.768169e-05    0.001896   \n",
       "191339       5.852757e-06  3.447954e-06    0.000060  1.788518e-04    0.000115   \n",
       "191340       8.130384e-06  4.844288e-06    0.000179  3.631581e-04    0.000239   \n",
       "191341       6.417323e-07  9.311249e-08    0.000003  4.955121e-07    0.000004   \n",
       "191348       7.457745e-07  1.516122e-07    0.000019  1.437137e-06    0.000008   \n",
       "\n",
       "             TripType_8  TripType_9  TripType_12   TripType_14  TripType_15  \\\n",
       "VisitNumber                                                                   \n",
       "191338         0.000149    0.000062     0.000041  9.458412e-10     0.000279   \n",
       "191339         0.001029    0.001098     0.000032  1.346267e-09     0.000546   \n",
       "191340         0.699389    0.273420     0.000016  1.474135e-09     0.000684   \n",
       "191341         0.000024    0.000050     0.000014  8.843453e-11     0.000016   \n",
       "191348         0.000180    0.000049     0.000002  1.026608e-10     0.000008   \n",
       "\n",
       "                 ...       TripType_36  TripType_37  TripType_38  TripType_39  \\\n",
       "VisitNumber      ...                                                            \n",
       "191338           ...          0.000105     0.000287     0.003784     0.436052   \n",
       "191339           ...          0.000152     0.000152     0.000282     0.007208   \n",
       "191340           ...          0.000222     0.000126     0.000125     0.000577   \n",
       "191341           ...          0.000049     0.000006     0.000004     0.003519   \n",
       "191348           ...          0.000280     0.000018     0.000007     0.000209   \n",
       "\n",
       "             TripType_40  TripType_41  TripType_42  TripType_43  TripType_44  \\\n",
       "VisitNumber                                                                    \n",
       "191338          0.001654     0.000083     0.000168     0.004567     0.000993   \n",
       "191339          0.000115     0.006345     0.166792     0.011542     0.001899   \n",
       "191340          0.000082     0.000046     0.000964     0.000054     0.000044   \n",
       "191341          0.000097     0.000196     0.000766     0.002450     0.004816   \n",
       "191348          0.000012     0.015805     0.004471     0.001096     0.000875   \n",
       "\n",
       "             TripType_999  \n",
       "VisitNumber                \n",
       "191338           0.000377  \n",
       "191339           0.001453  \n",
       "191340           0.014435  \n",
       "191341           0.000084  \n",
       "191348           0.000472  \n",
       "\n",
       "[5 rows x 38 columns]"
      ]
     },
     "execution_count": 116,
     "metadata": {},
     "output_type": "execute_result"
    }
   ],
   "source": [
    "result = lightgbm_model.predict(total_test)\n",
    "samplesub = pd.read_csv('sample_submission.csv')\n",
    "subform_df_columns = samplesub.columns[1:]\n",
    "result_df = pd.DataFrame(result)\n",
    "result_df.columns = subform_df_columns\n",
    "subform_df = pd.concat([test.reset_index()['VisitNumber'], result_df], axis=1)\n",
    "subform_df.set_index('VisitNumber', inplace=True)\n",
    "subform_df.tail()"
   ]
  },
  {
   "cell_type": "code",
   "execution_count": 104,
   "metadata": {
    "slideshow": {
     "slide_type": "fragment"
    }
   },
   "outputs": [],
   "source": [
    "subform_df.to_csv('lightgbm_submission_1.csv')"
   ]
  },
  {
   "cell_type": "markdown",
   "metadata": {
    "slideshow": {
     "slide_type": "slide"
    }
   },
   "source": [
    "# 170/1047"
   ]
  },
  {
   "cell_type": "markdown",
   "metadata": {},
   "source": [
    "# <center>6. 모델의 한계"
   ]
  },
  {
   "cell_type": "code",
   "execution_count": 116,
   "metadata": {},
   "outputs": [],
   "source": [
    "traindf = pd.read_csv(\"train.csv\")"
   ]
  },
  {
   "cell_type": "code",
   "execution_count": 117,
   "metadata": {
    "slideshow": {
     "slide_type": "skip"
    }
   },
   "outputs": [],
   "source": [
    "ttls = traindf[\"TripType\"].unique().tolist()"
   ]
  },
  {
   "cell_type": "code",
   "execution_count": 118,
   "metadata": {
    "slideshow": {
     "slide_type": "skip"
    }
   },
   "outputs": [],
   "source": [
    "train_41 = traindf[traindf['TripType'] == 41]\n",
    "train_41_groupby = train_41.groupby('DepartmentDescription', as_index=False)[\n",
    "    'ScanCount'].count()\n",
    "train_41_groupby = train_41_groupby.sort_values('ScanCount', ascending=False)\n",
    "\n",
    "\n",
    "train_42 = traindf[traindf['TripType'] == 42]\n",
    "train_42_groupby = train_42.groupby('DepartmentDescription', as_index=False)[\n",
    "    'ScanCount'].count()\n",
    "train_42_groupby = train_42_groupby.sort_values('ScanCount', ascending=False)\n",
    "\n",
    "\n",
    "train_43 = traindf[traindf['TripType'] == 43]\n",
    "train_43_groupby = train_43.groupby('DepartmentDescription', as_index=False)[\n",
    "    'ScanCount'].count()\n",
    "train_43_groupby = train_43_groupby.sort_values('ScanCount', ascending=False)\n",
    "\n",
    "\n",
    "train_44 = traindf[traindf['TripType'] == 44]\n",
    "train_44_groupby = train_44.groupby('DepartmentDescription', as_index=False)[\n",
    "    'ScanCount'].count()\n",
    "train_44_groupby = train_44_groupby.sort_values('ScanCount', ascending=False)"
   ]
  },
  {
   "cell_type": "code",
   "execution_count": 119,
   "metadata": {
    "slideshow": {
     "slide_type": "slide"
    }
   },
   "outputs": [
    {
     "data": {
      "text/plain": [
       "Text(0.5, 1.0, 'Distribution of DD at TripType = 41')"
      ]
     },
     "execution_count": 119,
     "metadata": {},
     "output_type": "execute_result"
    },
    {
     "data": {
      "image/png": "[encoded data removed]",
      "text/plain": [
       "<Figure size 432x288 with 1 Axes>"
      ]
     },
     "metadata": {
      "image/png": {
       "height": 266,
       "width": 488
      },
      "needs_background": "light"
     },
     "output_type": "display_data"
    }
   ],
   "source": [
    "plt.barh((train_41_groupby['DepartmentDescription']\n",
    "          [:5]), (train_41_groupby['ScanCount'][:5]))\n",
    "plt.title('Distribution of DD at TripType = 41')"
   ]
  },
  {
   "cell_type": "code",
   "execution_count": 120,
   "metadata": {
    "slideshow": {
     "slide_type": "fragment"
    }
   },
   "outputs": [
    {
     "data": {
      "text/plain": [
       "Text(0.5, 1.0, 'Distribution of DD at TripType = 42')"
      ]
     },
     "execution_count": 120,
     "metadata": {},
     "output_type": "execute_result"
    },
    {
     "data": {
      "image/png": "[encoded data removed]",
      "text/plain": [
       "<Figure size 432x288 with 1 Axes>"
      ]
     },
     "metadata": {
      "image/png": {
       "height": 266,
       "width": 488
      },
      "needs_background": "light"
     },
     "output_type": "display_data"
    }
   ],
   "source": [
    "plt.barh((train_42_groupby['DepartmentDescription']\n",
    "          [:5]), (train_42_groupby['ScanCount'][:5]))\n",
    "plt.title('Distribution of DD at TripType = 42')"
   ]
  },
  {
   "cell_type": "code",
   "execution_count": 121,
   "metadata": {
    "slideshow": {
     "slide_type": "slide"
    }
   },
   "outputs": [
    {
     "data": {
      "text/plain": [
       "Text(0.5, 1.0, 'Distribution of DD at TripType = 43')"
      ]
     },
     "execution_count": 121,
     "metadata": {},
     "output_type": "execute_result"
    },
    {
     "data": {
      "image/png": "[encoded data removed]",
      "text/plain": [
       "<Figure size 432x288 with 1 Axes>"
      ]
     },
     "metadata": {
      "image/png": {
       "height": 266,
       "width": 488
      },
      "needs_background": "light"
     },
     "output_type": "display_data"
    }
   ],
   "source": [
    "plt.barh((train_43_groupby['DepartmentDescription']\n",
    "          [:5]), (train_43_groupby['ScanCount'][:5]))\n",
    "plt.title('Distribution of DD at TripType = 43')"
   ]
  },
  {
   "cell_type": "code",
   "execution_count": 122,
   "metadata": {
    "scrolled": true,
    "slideshow": {
     "slide_type": "fragment"
    }
   },
   "outputs": [
    {
     "data": {
      "text/plain": [
       "Text(0.5, 1.0, 'Distribution of DD at TripType = 44')"
      ]
     },
     "execution_count": 122,
     "metadata": {},
     "output_type": "execute_result"
    },
    {
     "data": {
      "image/png": "[encoded data removed]",
      "text/plain": [
       "<Figure size 432x288 with 1 Axes>"
      ]
     },
     "metadata": {
      "image/png": {
       "height": 266,
       "width": 524
      },
      "needs_background": "light"
     },
     "output_type": "display_data"
    }
   ],
   "source": [
    "plt.barh((train_44_groupby['DepartmentDescription']\n",
    "          [:5]), (train_44_groupby['ScanCount'][:5]))\n",
    "plt.title('Distribution of DD at TripType = 44')"
   ]
  }
 ],
 "metadata": {
  "celltoolbar": "Slideshow",
  "kernelspec": {
   "display_name": "Python 3",
   "language": "python",
   "name": "python3"
  },
  "language_info": {
   "codemirror_mode": {
    "name": "ipython",
    "version": 3
   },
   "file_extension": ".py",
   "mimetype": "text/x-python",
   "name": "python",
   "nbconvert_exporter": "python",
   "pygments_lexer": "ipython3",
   "version": "3.6.7"
  }
 },
 "nbformat": 4,
 "nbformat_minor": 2
}
